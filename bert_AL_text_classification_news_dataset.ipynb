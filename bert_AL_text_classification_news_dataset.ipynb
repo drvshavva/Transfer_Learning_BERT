{
  "nbformat": 4,
  "nbformat_minor": 0,
  "metadata": {
    "accelerator": "GPU",
    "colab": {
      "name": "bert_AL_text_classification_news_dataset.ipynb",
      "provenance": [],
      "collapsed_sections": [],
      "mount_file_id": "10jpgl2_288PGHT5OBB0s6y2GLJu_kOec",
      "authorship_tag": "ABX9TyPa+u1dX/5rwnp+M0d/Dc9w",
      "include_colab_link": true
    },
    "kernelspec": {
      "display_name": "Python 3",
      "name": "python3"
    },
    "language_info": {
      "name": "python"
    },
    "widgets": {
      "application/vnd.jupyter.widget-state+json": {
        "c27b12f46e4243e8b771e344d962577f": {
          "model_module": "@jupyter-widgets/controls",
          "model_name": "HBoxModel",
          "state": {
            "_view_name": "HBoxView",
            "_dom_classes": [],
            "_model_name": "HBoxModel",
            "_view_module": "@jupyter-widgets/controls",
            "_model_module_version": "1.5.0",
            "_view_count": null,
            "_view_module_version": "1.5.0",
            "box_style": "",
            "layout": "IPY_MODEL_8ac4a3ad2604427ab59828773d448c8b",
            "_model_module": "@jupyter-widgets/controls",
            "children": [
              "IPY_MODEL_d5bd9e6cfc26434190e387d060b18675",
              "IPY_MODEL_a018354abbca4d1cb1bae3cfb46dff59"
            ]
          }
        },
        "8ac4a3ad2604427ab59828773d448c8b": {
          "model_module": "@jupyter-widgets/base",
          "model_name": "LayoutModel",
          "state": {
            "_view_name": "LayoutView",
            "grid_template_rows": null,
            "right": null,
            "justify_content": null,
            "_view_module": "@jupyter-widgets/base",
            "overflow": null,
            "_model_module_version": "1.2.0",
            "_view_count": null,
            "flex_flow": null,
            "width": null,
            "min_width": null,
            "border": null,
            "align_items": null,
            "bottom": null,
            "_model_module": "@jupyter-widgets/base",
            "top": null,
            "grid_column": null,
            "overflow_y": null,
            "overflow_x": null,
            "grid_auto_flow": null,
            "grid_area": null,
            "grid_template_columns": null,
            "flex": null,
            "_model_name": "LayoutModel",
            "justify_items": null,
            "grid_row": null,
            "max_height": null,
            "align_content": null,
            "visibility": null,
            "align_self": null,
            "height": null,
            "min_height": null,
            "padding": null,
            "grid_auto_rows": null,
            "grid_gap": null,
            "max_width": null,
            "order": null,
            "_view_module_version": "1.2.0",
            "grid_template_areas": null,
            "object_position": null,
            "object_fit": null,
            "grid_auto_columns": null,
            "margin": null,
            "display": null,
            "left": null
          }
        },
        "d5bd9e6cfc26434190e387d060b18675": {
          "model_module": "@jupyter-widgets/controls",
          "model_name": "FloatProgressModel",
          "state": {
            "_view_name": "ProgressView",
            "style": "IPY_MODEL_5088034d0df946eda62758bd873f41e1",
            "_dom_classes": [],
            "description": "Downloading: 100%",
            "_model_name": "FloatProgressModel",
            "bar_style": "success",
            "max": 1233088,
            "_view_module": "@jupyter-widgets/controls",
            "_model_module_version": "1.5.0",
            "value": 1233088,
            "_view_count": null,
            "_view_module_version": "1.5.0",
            "orientation": "horizontal",
            "min": 0,
            "description_tooltip": null,
            "_model_module": "@jupyter-widgets/controls",
            "layout": "IPY_MODEL_fde353403d694b58bff94c503b6f0bd1"
          }
        },
        "a018354abbca4d1cb1bae3cfb46dff59": {
          "model_module": "@jupyter-widgets/controls",
          "model_name": "HTMLModel",
          "state": {
            "_view_name": "HTMLView",
            "style": "IPY_MODEL_0acae5bd46234cb786df2b212d43e444",
            "_dom_classes": [],
            "description": "",
            "_model_name": "HTMLModel",
            "placeholder": "​",
            "_view_module": "@jupyter-widgets/controls",
            "_model_module_version": "1.5.0",
            "value": " 1.23M/1.23M [00:02&lt;00:00, 614kB/s]",
            "_view_count": null,
            "_view_module_version": "1.5.0",
            "description_tooltip": null,
            "_model_module": "@jupyter-widgets/controls",
            "layout": "IPY_MODEL_adfc92a832e14526ad6a386105325721"
          }
        },
        "5088034d0df946eda62758bd873f41e1": {
          "model_module": "@jupyter-widgets/controls",
          "model_name": "ProgressStyleModel",
          "state": {
            "_view_name": "StyleView",
            "_model_name": "ProgressStyleModel",
            "description_width": "initial",
            "_view_module": "@jupyter-widgets/base",
            "_model_module_version": "1.5.0",
            "_view_count": null,
            "_view_module_version": "1.2.0",
            "bar_color": null,
            "_model_module": "@jupyter-widgets/controls"
          }
        },
        "fde353403d694b58bff94c503b6f0bd1": {
          "model_module": "@jupyter-widgets/base",
          "model_name": "LayoutModel",
          "state": {
            "_view_name": "LayoutView",
            "grid_template_rows": null,
            "right": null,
            "justify_content": null,
            "_view_module": "@jupyter-widgets/base",
            "overflow": null,
            "_model_module_version": "1.2.0",
            "_view_count": null,
            "flex_flow": null,
            "width": null,
            "min_width": null,
            "border": null,
            "align_items": null,
            "bottom": null,
            "_model_module": "@jupyter-widgets/base",
            "top": null,
            "grid_column": null,
            "overflow_y": null,
            "overflow_x": null,
            "grid_auto_flow": null,
            "grid_area": null,
            "grid_template_columns": null,
            "flex": null,
            "_model_name": "LayoutModel",
            "justify_items": null,
            "grid_row": null,
            "max_height": null,
            "align_content": null,
            "visibility": null,
            "align_self": null,
            "height": null,
            "min_height": null,
            "padding": null,
            "grid_auto_rows": null,
            "grid_gap": null,
            "max_width": null,
            "order": null,
            "_view_module_version": "1.2.0",
            "grid_template_areas": null,
            "object_position": null,
            "object_fit": null,
            "grid_auto_columns": null,
            "margin": null,
            "display": null,
            "left": null
          }
        },
        "0acae5bd46234cb786df2b212d43e444": {
          "model_module": "@jupyter-widgets/controls",
          "model_name": "DescriptionStyleModel",
          "state": {
            "_view_name": "StyleView",
            "_model_name": "DescriptionStyleModel",
            "description_width": "",
            "_view_module": "@jupyter-widgets/base",
            "_model_module_version": "1.5.0",
            "_view_count": null,
            "_view_module_version": "1.2.0",
            "_model_module": "@jupyter-widgets/controls"
          }
        },
        "adfc92a832e14526ad6a386105325721": {
          "model_module": "@jupyter-widgets/base",
          "model_name": "LayoutModel",
          "state": {
            "_view_name": "LayoutView",
            "grid_template_rows": null,
            "right": null,
            "justify_content": null,
            "_view_module": "@jupyter-widgets/base",
            "overflow": null,
            "_model_module_version": "1.2.0",
            "_view_count": null,
            "flex_flow": null,
            "width": null,
            "min_width": null,
            "border": null,
            "align_items": null,
            "bottom": null,
            "_model_module": "@jupyter-widgets/base",
            "top": null,
            "grid_column": null,
            "overflow_y": null,
            "overflow_x": null,
            "grid_auto_flow": null,
            "grid_area": null,
            "grid_template_columns": null,
            "flex": null,
            "_model_name": "LayoutModel",
            "justify_items": null,
            "grid_row": null,
            "max_height": null,
            "align_content": null,
            "visibility": null,
            "align_self": null,
            "height": null,
            "min_height": null,
            "padding": null,
            "grid_auto_rows": null,
            "grid_gap": null,
            "max_width": null,
            "order": null,
            "_view_module_version": "1.2.0",
            "grid_template_areas": null,
            "object_position": null,
            "object_fit": null,
            "grid_auto_columns": null,
            "margin": null,
            "display": null,
            "left": null
          }
        },
        "f24eb24acc8d4d9c8c42ff3d22b0bbf8": {
          "model_module": "@jupyter-widgets/controls",
          "model_name": "HBoxModel",
          "state": {
            "_view_name": "HBoxView",
            "_dom_classes": [],
            "_model_name": "HBoxModel",
            "_view_module": "@jupyter-widgets/controls",
            "_model_module_version": "1.5.0",
            "_view_count": null,
            "_view_module_version": "1.5.0",
            "box_style": "",
            "layout": "IPY_MODEL_8345e89bf4a24337be9f3b3cbd58081d",
            "_model_module": "@jupyter-widgets/controls",
            "children": [
              "IPY_MODEL_b947429660b84c85a731540037572979",
              "IPY_MODEL_fe0c6aaee2134f6b975e7fb5e49ebcf3"
            ]
          }
        },
        "8345e89bf4a24337be9f3b3cbd58081d": {
          "model_module": "@jupyter-widgets/base",
          "model_name": "LayoutModel",
          "state": {
            "_view_name": "LayoutView",
            "grid_template_rows": null,
            "right": null,
            "justify_content": null,
            "_view_module": "@jupyter-widgets/base",
            "overflow": null,
            "_model_module_version": "1.2.0",
            "_view_count": null,
            "flex_flow": null,
            "width": null,
            "min_width": null,
            "border": null,
            "align_items": null,
            "bottom": null,
            "_model_module": "@jupyter-widgets/base",
            "top": null,
            "grid_column": null,
            "overflow_y": null,
            "overflow_x": null,
            "grid_auto_flow": null,
            "grid_area": null,
            "grid_template_columns": null,
            "flex": null,
            "_model_name": "LayoutModel",
            "justify_items": null,
            "grid_row": null,
            "max_height": null,
            "align_content": null,
            "visibility": null,
            "align_self": null,
            "height": null,
            "min_height": null,
            "padding": null,
            "grid_auto_rows": null,
            "grid_gap": null,
            "max_width": null,
            "order": null,
            "_view_module_version": "1.2.0",
            "grid_template_areas": null,
            "object_position": null,
            "object_fit": null,
            "grid_auto_columns": null,
            "margin": null,
            "display": null,
            "left": null
          }
        },
        "b947429660b84c85a731540037572979": {
          "model_module": "@jupyter-widgets/controls",
          "model_name": "FloatProgressModel",
          "state": {
            "_view_name": "ProgressView",
            "style": "IPY_MODEL_ea280467de374562a2e805a2d7f3f946",
            "_dom_classes": [],
            "description": "Downloading: 100%",
            "_model_name": "FloatProgressModel",
            "bar_style": "success",
            "max": 59,
            "_view_module": "@jupyter-widgets/controls",
            "_model_module_version": "1.5.0",
            "value": 59,
            "_view_count": null,
            "_view_module_version": "1.5.0",
            "orientation": "horizontal",
            "min": 0,
            "description_tooltip": null,
            "_model_module": "@jupyter-widgets/controls",
            "layout": "IPY_MODEL_3084caa667b04e4c988893e486e8b5f1"
          }
        },
        "fe0c6aaee2134f6b975e7fb5e49ebcf3": {
          "model_module": "@jupyter-widgets/controls",
          "model_name": "HTMLModel",
          "state": {
            "_view_name": "HTMLView",
            "style": "IPY_MODEL_9db2be7e420f459aacc3c3cf3e1ad1c6",
            "_dom_classes": [],
            "description": "",
            "_model_name": "HTMLModel",
            "placeholder": "​",
            "_view_module": "@jupyter-widgets/controls",
            "_model_module_version": "1.5.0",
            "value": " 59.0/59.0 [00:00&lt;00:00, 148B/s]",
            "_view_count": null,
            "_view_module_version": "1.5.0",
            "description_tooltip": null,
            "_model_module": "@jupyter-widgets/controls",
            "layout": "IPY_MODEL_977fa8ebad6b422c9add7338f5c86e50"
          }
        },
        "ea280467de374562a2e805a2d7f3f946": {
          "model_module": "@jupyter-widgets/controls",
          "model_name": "ProgressStyleModel",
          "state": {
            "_view_name": "StyleView",
            "_model_name": "ProgressStyleModel",
            "description_width": "initial",
            "_view_module": "@jupyter-widgets/base",
            "_model_module_version": "1.5.0",
            "_view_count": null,
            "_view_module_version": "1.2.0",
            "bar_color": null,
            "_model_module": "@jupyter-widgets/controls"
          }
        },
        "3084caa667b04e4c988893e486e8b5f1": {
          "model_module": "@jupyter-widgets/base",
          "model_name": "LayoutModel",
          "state": {
            "_view_name": "LayoutView",
            "grid_template_rows": null,
            "right": null,
            "justify_content": null,
            "_view_module": "@jupyter-widgets/base",
            "overflow": null,
            "_model_module_version": "1.2.0",
            "_view_count": null,
            "flex_flow": null,
            "width": null,
            "min_width": null,
            "border": null,
            "align_items": null,
            "bottom": null,
            "_model_module": "@jupyter-widgets/base",
            "top": null,
            "grid_column": null,
            "overflow_y": null,
            "overflow_x": null,
            "grid_auto_flow": null,
            "grid_area": null,
            "grid_template_columns": null,
            "flex": null,
            "_model_name": "LayoutModel",
            "justify_items": null,
            "grid_row": null,
            "max_height": null,
            "align_content": null,
            "visibility": null,
            "align_self": null,
            "height": null,
            "min_height": null,
            "padding": null,
            "grid_auto_rows": null,
            "grid_gap": null,
            "max_width": null,
            "order": null,
            "_view_module_version": "1.2.0",
            "grid_template_areas": null,
            "object_position": null,
            "object_fit": null,
            "grid_auto_columns": null,
            "margin": null,
            "display": null,
            "left": null
          }
        },
        "9db2be7e420f459aacc3c3cf3e1ad1c6": {
          "model_module": "@jupyter-widgets/controls",
          "model_name": "DescriptionStyleModel",
          "state": {
            "_view_name": "StyleView",
            "_model_name": "DescriptionStyleModel",
            "description_width": "",
            "_view_module": "@jupyter-widgets/base",
            "_model_module_version": "1.5.0",
            "_view_count": null,
            "_view_module_version": "1.2.0",
            "_model_module": "@jupyter-widgets/controls"
          }
        },
        "977fa8ebad6b422c9add7338f5c86e50": {
          "model_module": "@jupyter-widgets/base",
          "model_name": "LayoutModel",
          "state": {
            "_view_name": "LayoutView",
            "grid_template_rows": null,
            "right": null,
            "justify_content": null,
            "_view_module": "@jupyter-widgets/base",
            "overflow": null,
            "_model_module_version": "1.2.0",
            "_view_count": null,
            "flex_flow": null,
            "width": null,
            "min_width": null,
            "border": null,
            "align_items": null,
            "bottom": null,
            "_model_module": "@jupyter-widgets/base",
            "top": null,
            "grid_column": null,
            "overflow_y": null,
            "overflow_x": null,
            "grid_auto_flow": null,
            "grid_area": null,
            "grid_template_columns": null,
            "flex": null,
            "_model_name": "LayoutModel",
            "justify_items": null,
            "grid_row": null,
            "max_height": null,
            "align_content": null,
            "visibility": null,
            "align_self": null,
            "height": null,
            "min_height": null,
            "padding": null,
            "grid_auto_rows": null,
            "grid_gap": null,
            "max_width": null,
            "order": null,
            "_view_module_version": "1.2.0",
            "grid_template_areas": null,
            "object_position": null,
            "object_fit": null,
            "grid_auto_columns": null,
            "margin": null,
            "display": null,
            "left": null
          }
        },
        "4d66ec2bf4ee4d2c8588efdcae137f63": {
          "model_module": "@jupyter-widgets/controls",
          "model_name": "HBoxModel",
          "state": {
            "_view_name": "HBoxView",
            "_dom_classes": [],
            "_model_name": "HBoxModel",
            "_view_module": "@jupyter-widgets/controls",
            "_model_module_version": "1.5.0",
            "_view_count": null,
            "_view_module_version": "1.5.0",
            "box_style": "",
            "layout": "IPY_MODEL_dc8bc3d6e6b9430ab5189775a5c5d2d0",
            "_model_module": "@jupyter-widgets/controls",
            "children": [
              "IPY_MODEL_8975fed3015c4309aaeeadc520a03103",
              "IPY_MODEL_309655e4e50d4317b3b0364b5e843c3e"
            ]
          }
        },
        "dc8bc3d6e6b9430ab5189775a5c5d2d0": {
          "model_module": "@jupyter-widgets/base",
          "model_name": "LayoutModel",
          "state": {
            "_view_name": "LayoutView",
            "grid_template_rows": null,
            "right": null,
            "justify_content": null,
            "_view_module": "@jupyter-widgets/base",
            "overflow": null,
            "_model_module_version": "1.2.0",
            "_view_count": null,
            "flex_flow": null,
            "width": null,
            "min_width": null,
            "border": null,
            "align_items": null,
            "bottom": null,
            "_model_module": "@jupyter-widgets/base",
            "top": null,
            "grid_column": null,
            "overflow_y": null,
            "overflow_x": null,
            "grid_auto_flow": null,
            "grid_area": null,
            "grid_template_columns": null,
            "flex": null,
            "_model_name": "LayoutModel",
            "justify_items": null,
            "grid_row": null,
            "max_height": null,
            "align_content": null,
            "visibility": null,
            "align_self": null,
            "height": null,
            "min_height": null,
            "padding": null,
            "grid_auto_rows": null,
            "grid_gap": null,
            "max_width": null,
            "order": null,
            "_view_module_version": "1.2.0",
            "grid_template_areas": null,
            "object_position": null,
            "object_fit": null,
            "grid_auto_columns": null,
            "margin": null,
            "display": null,
            "left": null
          }
        },
        "8975fed3015c4309aaeeadc520a03103": {
          "model_module": "@jupyter-widgets/controls",
          "model_name": "FloatProgressModel",
          "state": {
            "_view_name": "ProgressView",
            "style": "IPY_MODEL_db4187b2fcf847858c1642caa93f4753",
            "_dom_classes": [],
            "description": "Downloading: 100%",
            "_model_name": "FloatProgressModel",
            "bar_style": "success",
            "max": 386,
            "_view_module": "@jupyter-widgets/controls",
            "_model_module_version": "1.5.0",
            "value": 386,
            "_view_count": null,
            "_view_module_version": "1.5.0",
            "orientation": "horizontal",
            "min": 0,
            "description_tooltip": null,
            "_model_module": "@jupyter-widgets/controls",
            "layout": "IPY_MODEL_27b3ba0096104acaa9ace431ff6a8a89"
          }
        },
        "309655e4e50d4317b3b0364b5e843c3e": {
          "model_module": "@jupyter-widgets/controls",
          "model_name": "HTMLModel",
          "state": {
            "_view_name": "HTMLView",
            "style": "IPY_MODEL_6e691e1dd49b4ed28fa0f1880e548151",
            "_dom_classes": [],
            "description": "",
            "_model_name": "HTMLModel",
            "placeholder": "​",
            "_view_module": "@jupyter-widgets/controls",
            "_model_module_version": "1.5.0",
            "value": " 386/386 [00:00&lt;00:00, 1.02kB/s]",
            "_view_count": null,
            "_view_module_version": "1.5.0",
            "description_tooltip": null,
            "_model_module": "@jupyter-widgets/controls",
            "layout": "IPY_MODEL_01cc9816abb14e9a8f89a0c3774a4b6e"
          }
        },
        "db4187b2fcf847858c1642caa93f4753": {
          "model_module": "@jupyter-widgets/controls",
          "model_name": "ProgressStyleModel",
          "state": {
            "_view_name": "StyleView",
            "_model_name": "ProgressStyleModel",
            "description_width": "initial",
            "_view_module": "@jupyter-widgets/base",
            "_model_module_version": "1.5.0",
            "_view_count": null,
            "_view_module_version": "1.2.0",
            "bar_color": null,
            "_model_module": "@jupyter-widgets/controls"
          }
        },
        "27b3ba0096104acaa9ace431ff6a8a89": {
          "model_module": "@jupyter-widgets/base",
          "model_name": "LayoutModel",
          "state": {
            "_view_name": "LayoutView",
            "grid_template_rows": null,
            "right": null,
            "justify_content": null,
            "_view_module": "@jupyter-widgets/base",
            "overflow": null,
            "_model_module_version": "1.2.0",
            "_view_count": null,
            "flex_flow": null,
            "width": null,
            "min_width": null,
            "border": null,
            "align_items": null,
            "bottom": null,
            "_model_module": "@jupyter-widgets/base",
            "top": null,
            "grid_column": null,
            "overflow_y": null,
            "overflow_x": null,
            "grid_auto_flow": null,
            "grid_area": null,
            "grid_template_columns": null,
            "flex": null,
            "_model_name": "LayoutModel",
            "justify_items": null,
            "grid_row": null,
            "max_height": null,
            "align_content": null,
            "visibility": null,
            "align_self": null,
            "height": null,
            "min_height": null,
            "padding": null,
            "grid_auto_rows": null,
            "grid_gap": null,
            "max_width": null,
            "order": null,
            "_view_module_version": "1.2.0",
            "grid_template_areas": null,
            "object_position": null,
            "object_fit": null,
            "grid_auto_columns": null,
            "margin": null,
            "display": null,
            "left": null
          }
        },
        "6e691e1dd49b4ed28fa0f1880e548151": {
          "model_module": "@jupyter-widgets/controls",
          "model_name": "DescriptionStyleModel",
          "state": {
            "_view_name": "StyleView",
            "_model_name": "DescriptionStyleModel",
            "description_width": "",
            "_view_module": "@jupyter-widgets/base",
            "_model_module_version": "1.5.0",
            "_view_count": null,
            "_view_module_version": "1.2.0",
            "_model_module": "@jupyter-widgets/controls"
          }
        },
        "01cc9816abb14e9a8f89a0c3774a4b6e": {
          "model_module": "@jupyter-widgets/base",
          "model_name": "LayoutModel",
          "state": {
            "_view_name": "LayoutView",
            "grid_template_rows": null,
            "right": null,
            "justify_content": null,
            "_view_module": "@jupyter-widgets/base",
            "overflow": null,
            "_model_module_version": "1.2.0",
            "_view_count": null,
            "flex_flow": null,
            "width": null,
            "min_width": null,
            "border": null,
            "align_items": null,
            "bottom": null,
            "_model_module": "@jupyter-widgets/base",
            "top": null,
            "grid_column": null,
            "overflow_y": null,
            "overflow_x": null,
            "grid_auto_flow": null,
            "grid_area": null,
            "grid_template_columns": null,
            "flex": null,
            "_model_name": "LayoutModel",
            "justify_items": null,
            "grid_row": null,
            "max_height": null,
            "align_content": null,
            "visibility": null,
            "align_self": null,
            "height": null,
            "min_height": null,
            "padding": null,
            "grid_auto_rows": null,
            "grid_gap": null,
            "max_width": null,
            "order": null,
            "_view_module_version": "1.2.0",
            "grid_template_areas": null,
            "object_position": null,
            "object_fit": null,
            "grid_auto_columns": null,
            "margin": null,
            "display": null,
            "left": null
          }
        },
        "9776b9caee354197a2fd6497de46a62e": {
          "model_module": "@jupyter-widgets/controls",
          "model_name": "HBoxModel",
          "state": {
            "_view_name": "HBoxView",
            "_dom_classes": [],
            "_model_name": "HBoxModel",
            "_view_module": "@jupyter-widgets/controls",
            "_model_module_version": "1.5.0",
            "_view_count": null,
            "_view_module_version": "1.5.0",
            "box_style": "",
            "layout": "IPY_MODEL_6a6d888480284e719f1d796e4cfbc3ad",
            "_model_module": "@jupyter-widgets/controls",
            "children": [
              "IPY_MODEL_8b30952a5e65468bbf3a1009e0e47ede",
              "IPY_MODEL_1772d8faa87f4d21904e4ab8bf4cf944"
            ]
          }
        },
        "6a6d888480284e719f1d796e4cfbc3ad": {
          "model_module": "@jupyter-widgets/base",
          "model_name": "LayoutModel",
          "state": {
            "_view_name": "LayoutView",
            "grid_template_rows": null,
            "right": null,
            "justify_content": null,
            "_view_module": "@jupyter-widgets/base",
            "overflow": null,
            "_model_module_version": "1.2.0",
            "_view_count": null,
            "flex_flow": null,
            "width": null,
            "min_width": null,
            "border": null,
            "align_items": null,
            "bottom": null,
            "_model_module": "@jupyter-widgets/base",
            "top": null,
            "grid_column": null,
            "overflow_y": null,
            "overflow_x": null,
            "grid_auto_flow": null,
            "grid_area": null,
            "grid_template_columns": null,
            "flex": null,
            "_model_name": "LayoutModel",
            "justify_items": null,
            "grid_row": null,
            "max_height": null,
            "align_content": null,
            "visibility": null,
            "align_self": null,
            "height": null,
            "min_height": null,
            "padding": null,
            "grid_auto_rows": null,
            "grid_gap": null,
            "max_width": null,
            "order": null,
            "_view_module_version": "1.2.0",
            "grid_template_areas": null,
            "object_position": null,
            "object_fit": null,
            "grid_auto_columns": null,
            "margin": null,
            "display": null,
            "left": null
          }
        },
        "8b30952a5e65468bbf3a1009e0e47ede": {
          "model_module": "@jupyter-widgets/controls",
          "model_name": "FloatProgressModel",
          "state": {
            "_view_name": "ProgressView",
            "style": "IPY_MODEL_0e7f46167be74c37bd3fff97815c9c01",
            "_dom_classes": [],
            "description": "Downloading: 100%",
            "_model_name": "FloatProgressModel",
            "bar_style": "success",
            "max": 740314769,
            "_view_module": "@jupyter-widgets/controls",
            "_model_module_version": "1.5.0",
            "value": 740314769,
            "_view_count": null,
            "_view_module_version": "1.5.0",
            "orientation": "horizontal",
            "min": 0,
            "description_tooltip": null,
            "_model_module": "@jupyter-widgets/controls",
            "layout": "IPY_MODEL_69d91e89fc4041c6a015768e772899b5"
          }
        },
        "1772d8faa87f4d21904e4ab8bf4cf944": {
          "model_module": "@jupyter-widgets/controls",
          "model_name": "HTMLModel",
          "state": {
            "_view_name": "HTMLView",
            "style": "IPY_MODEL_004ae8ae0c61462599101e2de858c56f",
            "_dom_classes": [],
            "description": "",
            "_model_name": "HTMLModel",
            "placeholder": "​",
            "_view_module": "@jupyter-widgets/controls",
            "_model_module_version": "1.5.0",
            "value": " 740M/740M [00:27&lt;00:00, 26.5MB/s]",
            "_view_count": null,
            "_view_module_version": "1.5.0",
            "description_tooltip": null,
            "_model_module": "@jupyter-widgets/controls",
            "layout": "IPY_MODEL_1c925c97347e43a2baffa498171a1dfe"
          }
        },
        "0e7f46167be74c37bd3fff97815c9c01": {
          "model_module": "@jupyter-widgets/controls",
          "model_name": "ProgressStyleModel",
          "state": {
            "_view_name": "StyleView",
            "_model_name": "ProgressStyleModel",
            "description_width": "initial",
            "_view_module": "@jupyter-widgets/base",
            "_model_module_version": "1.5.0",
            "_view_count": null,
            "_view_module_version": "1.2.0",
            "bar_color": null,
            "_model_module": "@jupyter-widgets/controls"
          }
        },
        "69d91e89fc4041c6a015768e772899b5": {
          "model_module": "@jupyter-widgets/base",
          "model_name": "LayoutModel",
          "state": {
            "_view_name": "LayoutView",
            "grid_template_rows": null,
            "right": null,
            "justify_content": null,
            "_view_module": "@jupyter-widgets/base",
            "overflow": null,
            "_model_module_version": "1.2.0",
            "_view_count": null,
            "flex_flow": null,
            "width": null,
            "min_width": null,
            "border": null,
            "align_items": null,
            "bottom": null,
            "_model_module": "@jupyter-widgets/base",
            "top": null,
            "grid_column": null,
            "overflow_y": null,
            "overflow_x": null,
            "grid_auto_flow": null,
            "grid_area": null,
            "grid_template_columns": null,
            "flex": null,
            "_model_name": "LayoutModel",
            "justify_items": null,
            "grid_row": null,
            "max_height": null,
            "align_content": null,
            "visibility": null,
            "align_self": null,
            "height": null,
            "min_height": null,
            "padding": null,
            "grid_auto_rows": null,
            "grid_gap": null,
            "max_width": null,
            "order": null,
            "_view_module_version": "1.2.0",
            "grid_template_areas": null,
            "object_position": null,
            "object_fit": null,
            "grid_auto_columns": null,
            "margin": null,
            "display": null,
            "left": null
          }
        },
        "004ae8ae0c61462599101e2de858c56f": {
          "model_module": "@jupyter-widgets/controls",
          "model_name": "DescriptionStyleModel",
          "state": {
            "_view_name": "StyleView",
            "_model_name": "DescriptionStyleModel",
            "description_width": "",
            "_view_module": "@jupyter-widgets/base",
            "_model_module_version": "1.5.0",
            "_view_count": null,
            "_view_module_version": "1.2.0",
            "_model_module": "@jupyter-widgets/controls"
          }
        },
        "1c925c97347e43a2baffa498171a1dfe": {
          "model_module": "@jupyter-widgets/base",
          "model_name": "LayoutModel",
          "state": {
            "_view_name": "LayoutView",
            "grid_template_rows": null,
            "right": null,
            "justify_content": null,
            "_view_module": "@jupyter-widgets/base",
            "overflow": null,
            "_model_module_version": "1.2.0",
            "_view_count": null,
            "flex_flow": null,
            "width": null,
            "min_width": null,
            "border": null,
            "align_items": null,
            "bottom": null,
            "_model_module": "@jupyter-widgets/base",
            "top": null,
            "grid_column": null,
            "overflow_y": null,
            "overflow_x": null,
            "grid_auto_flow": null,
            "grid_area": null,
            "grid_template_columns": null,
            "flex": null,
            "_model_name": "LayoutModel",
            "justify_items": null,
            "grid_row": null,
            "max_height": null,
            "align_content": null,
            "visibility": null,
            "align_self": null,
            "height": null,
            "min_height": null,
            "padding": null,
            "grid_auto_rows": null,
            "grid_gap": null,
            "max_width": null,
            "order": null,
            "_view_module_version": "1.2.0",
            "grid_template_areas": null,
            "object_position": null,
            "object_fit": null,
            "grid_auto_columns": null,
            "margin": null,
            "display": null,
            "left": null
          }
        }
      }
    }
  },
  "cells": [
    {
      "cell_type": "markdown",
      "metadata": {
        "id": "view-in-github",
        "colab_type": "text"
      },
      "source": [
        "<a href=\"https://colab.research.google.com/github/drvshavva/Transfer_Learning_BERT/blob/main/bert_AL_text_classification_news_dataset.ipynb\" target=\"_parent\"><img src=\"https://colab.research.google.com/assets/colab-badge.svg\" alt=\"Open In Colab\"/></a>"
      ]
    },
    {
      "cell_type": "code",
      "metadata": {
        "colab": {
          "base_uri": "https://localhost:8080/"
        },
        "id": "iDzGVoD6TVwE",
        "outputId": "23466f3a-7c62-4d1f-8a56-f0c885700d51"
      },
      "source": [
        "import pandas as pd\n",
        "import tensorflow as tf\n",
        "import torch\n",
        "import numpy as np\n",
        "import time\n",
        "import json\n",
        "import datetime\n",
        "import random\n",
        "import scipy.spatial as sp\n",
        "from typing import List\n",
        "import tensorflow_hub as hub\n",
        "import seaborn as sns\n",
        "import matplotlib.pyplot as plt\n",
        "% matplotlib inline\n",
        "\n",
        "from google.colab import drive\n",
        "\n",
        "!pip install transformers\n",
        "import transformers\n",
        "from transformers import BertTokenizer\n",
        "from torch.utils.data import TensorDataset, random_split\n",
        "from torch.utils.data import DataLoader, RandomSampler, SequentialSampler\n",
        "from transformers import BertForSequenceClassification, AdamW, BertConfig\n",
        "from transformers import get_linear_schedule_with_warmup\n",
        "\n",
        "from sklearn.metrics import f1_score\n",
        "from sklearn.preprocessing import LabelEncoder\n",
        "from sklearn.preprocessing import MinMaxScaler"
      ],
      "execution_count": null,
      "outputs": [
        {
          "output_type": "stream",
          "text": [
            "Requirement already satisfied: transformers in /usr/local/lib/python3.7/dist-packages (4.5.1)\n",
            "Requirement already satisfied: packaging in /usr/local/lib/python3.7/dist-packages (from transformers) (20.9)\n",
            "Requirement already satisfied: filelock in /usr/local/lib/python3.7/dist-packages (from transformers) (3.0.12)\n",
            "Requirement already satisfied: tqdm>=4.27 in /usr/local/lib/python3.7/dist-packages (from transformers) (4.41.1)\n",
            "Requirement already satisfied: importlib-metadata; python_version < \"3.8\" in /usr/local/lib/python3.7/dist-packages (from transformers) (3.10.1)\n",
            "Requirement already satisfied: sacremoses in /usr/local/lib/python3.7/dist-packages (from transformers) (0.0.45)\n",
            "Requirement already satisfied: numpy>=1.17 in /usr/local/lib/python3.7/dist-packages (from transformers) (1.19.5)\n",
            "Requirement already satisfied: regex!=2019.12.17 in /usr/local/lib/python3.7/dist-packages (from transformers) (2019.12.20)\n",
            "Requirement already satisfied: requests in /usr/local/lib/python3.7/dist-packages (from transformers) (2.23.0)\n",
            "Requirement already satisfied: tokenizers<0.11,>=0.10.1 in /usr/local/lib/python3.7/dist-packages (from transformers) (0.10.2)\n",
            "Requirement already satisfied: pyparsing>=2.0.2 in /usr/local/lib/python3.7/dist-packages (from packaging->transformers) (2.4.7)\n",
            "Requirement already satisfied: zipp>=0.5 in /usr/local/lib/python3.7/dist-packages (from importlib-metadata; python_version < \"3.8\"->transformers) (3.4.1)\n",
            "Requirement already satisfied: typing-extensions>=3.6.4; python_version < \"3.8\" in /usr/local/lib/python3.7/dist-packages (from importlib-metadata; python_version < \"3.8\"->transformers) (3.7.4.3)\n",
            "Requirement already satisfied: click in /usr/local/lib/python3.7/dist-packages (from sacremoses->transformers) (7.1.2)\n",
            "Requirement already satisfied: joblib in /usr/local/lib/python3.7/dist-packages (from sacremoses->transformers) (1.0.1)\n",
            "Requirement already satisfied: six in /usr/local/lib/python3.7/dist-packages (from sacremoses->transformers) (1.15.0)\n",
            "Requirement already satisfied: urllib3!=1.25.0,!=1.25.1,<1.26,>=1.21.1 in /usr/local/lib/python3.7/dist-packages (from requests->transformers) (1.24.3)\n",
            "Requirement already satisfied: chardet<4,>=3.0.2 in /usr/local/lib/python3.7/dist-packages (from requests->transformers) (3.0.4)\n",
            "Requirement already satisfied: idna<3,>=2.5 in /usr/local/lib/python3.7/dist-packages (from requests->transformers) (2.10)\n",
            "Requirement already satisfied: certifi>=2017.4.17 in /usr/local/lib/python3.7/dist-packages (from requests->transformers) (2020.12.5)\n"
          ],
          "name": "stdout"
        }
      ]
    },
    {
      "cell_type": "code",
      "metadata": {
        "colab": {
          "base_uri": "https://localhost:8080/"
        },
        "id": "_PRMvEE9TzPy",
        "outputId": "f2c2316d-c103-4499-bc9c-cdb9fd6da31c"
      },
      "source": [
        "# check GPU\n",
        "device_name = tf.test.gpu_device_name()\n",
        "if device_name == '/device:GPU:0':\n",
        "    device = torch.device(\"cuda\")\n",
        "    print('GPU:', torch.cuda.get_device_name(0))\n",
        "else:\n",
        "    raise SystemError('GPU device not found')"
      ],
      "execution_count": null,
      "outputs": [
        {
          "output_type": "stream",
          "text": [
            "GPU: Tesla P100-PCIE-16GB\n"
          ],
          "name": "stdout"
        }
      ]
    },
    {
      "cell_type": "markdown",
      "metadata": {
        "id": "10RQvWuET6UX"
      },
      "source": [
        "**READ DATASET (DATASET -2)** Kaynak:"
      ]
    },
    {
      "cell_type": "code",
      "metadata": {
        "colab": {
          "base_uri": "https://localhost:8080/"
        },
        "id": "lwZv1maO2pz_",
        "outputId": "c08a1254-42fa-4a9c-f47b-1150b59f938d"
      },
      "source": [
        "!unzip /content/drive/MyDrive/hesaplamalı_ödev_3/7allV03.csv.zip"
      ],
      "execution_count": null,
      "outputs": [
        {
          "output_type": "stream",
          "text": [
            "Archive:  /content/drive/MyDrive/hesaplamalı_ödev_3/7allV03.csv.zip\n",
            "  inflating: 7allV03.csv             \n"
          ],
          "name": "stdout"
        }
      ]
    },
    {
      "cell_type": "code",
      "metadata": {
        "id": "gIOOsR_2T66x"
      },
      "source": [
        "df = pd.read_csv('/content/7allV03.csv')"
      ],
      "execution_count": null,
      "outputs": []
    },
    {
      "cell_type": "code",
      "metadata": {
        "colab": {
          "base_uri": "https://localhost:8080/"
        },
        "id": "KofoU6xBUIY8",
        "outputId": "c2a29ed7-5cb4-4a7d-da68-79377c394082"
      },
      "source": [
        "df.groupby('category').size()"
      ],
      "execution_count": null,
      "outputs": [
        {
          "output_type": "execute_result",
          "data": {
            "text/plain": [
              "category\n",
              "dunya         700\n",
              "ekonomi       700\n",
              "kultur        700\n",
              "saglik        700\n",
              "siyaset       700\n",
              "spor          700\n",
              "teknoloji     700\n",
              "dtype: int64"
            ]
          },
          "metadata": {
            "tags": []
          },
          "execution_count": 6
        }
      ]
    },
    {
      "cell_type": "code",
      "metadata": {
        "id": "NmtJmw9pUW71"
      },
      "source": [
        "df['encoded_categories'] = LabelEncoder().fit_transform(df['category'])"
      ],
      "execution_count": null,
      "outputs": []
    },
    {
      "cell_type": "code",
      "metadata": {
        "colab": {
          "base_uri": "https://localhost:8080/"
        },
        "id": "tnbAkaR2UX3b",
        "outputId": "03427ff0-e36f-4525-b5c4-89409f50f9af"
      },
      "source": [
        "df.groupby('encoded_categories').size()"
      ],
      "execution_count": null,
      "outputs": [
        {
          "output_type": "execute_result",
          "data": {
            "text/plain": [
              "encoded_categories\n",
              "0    700\n",
              "1    700\n",
              "2    700\n",
              "3    700\n",
              "4    700\n",
              "5    700\n",
              "6    700\n",
              "dtype: int64"
            ]
          },
          "metadata": {
            "tags": []
          },
          "execution_count": 8
        }
      ]
    },
    {
      "cell_type": "code",
      "metadata": {
        "id": "ut3SpaX8Hyf0"
      },
      "source": [
        "# divide train and test\n",
        "training = df.groupby('encoded_categories').apply(lambda x : x.sample(frac = 0.8))\n",
        "test = pd.concat([df,training]).drop_duplicates(keep=False)"
      ],
      "execution_count": null,
      "outputs": []
    },
    {
      "cell_type": "code",
      "metadata": {
        "id": "12lqLc0aUdvZ"
      },
      "source": [
        "training_texts = training.text.values\n",
        "training_labels = training.encoded_categories.values"
      ],
      "execution_count": null,
      "outputs": []
    },
    {
      "cell_type": "code",
      "metadata": {
        "id": "KykxuTdWUed9"
      },
      "source": [
        "test_texts = test.text.values\n",
        "test_labels = test.encoded_categories.values"
      ],
      "execution_count": null,
      "outputs": []
    },
    {
      "cell_type": "markdown",
      "metadata": {
        "id": "H8XLK0tiUgN1"
      },
      "source": [
        "**UTILITY FUNCTIONS**"
      ]
    },
    {
      "cell_type": "code",
      "metadata": {
        "id": "ddU9gNtrUmao"
      },
      "source": [
        "def plot_histogram(data, x_label, y_label):\n",
        "  BIGGER_SIZE: int = 16\n",
        "  plt.figure(figsize=(8,8))\n",
        "  plt.rc('font', size=BIGGER_SIZE)          # controls default text sizes\n",
        "  plt.rc('axes', titlesize=BIGGER_SIZE)     # fontsize of the axes title=\n",
        "  plt.rc('axes', labelsize=BIGGER_SIZE)    # fontsize of the x and y labels\n",
        "  plt.rc('xtick', labelsize=BIGGER_SIZE)    # fontsize of the tick labels\n",
        "  plt.rc('ytick', labelsize=BIGGER_SIZE)    # fontsize of the tick labels\n",
        "  plt.rc('legend', fontsize=BIGGER_SIZE)    # legend fontsize\n",
        "  plt.rc('figure', titlesize=BIGGER_SIZE)\n",
        "  sns.set_style(\"darkgrid\")\n",
        "  p = sns.barplot(x=x_label, y=y_label, data=data)"
      ],
      "execution_count": null,
      "outputs": []
    },
    {
      "cell_type": "markdown",
      "metadata": {
        "id": "zOVPJTJvUw3q"
      },
      "source": [
        "**BERT**"
      ]
    },
    {
      "cell_type": "code",
      "metadata": {
        "id": "JnBuRPxUVIgu"
      },
      "source": [
        "# HyperParameters\n",
        "class HyperParameters:\n",
        "  max_len = 250\n",
        "  batch_size = 32 # data loader batch size\n",
        "  number_of_class = 7\n",
        "  epochs = 4 # training epoch number\n",
        "  lr = 5e-5 # optimizer learning rate\n",
        "  eps = 1e-8 # optimizer eps\n",
        "  seed_val = 1903"
      ],
      "execution_count": null,
      "outputs": []
    },
    {
      "cell_type": "code",
      "metadata": {
        "colab": {
          "base_uri": "https://localhost:8080/",
          "height": 115,
          "referenced_widgets": [
            "c27b12f46e4243e8b771e344d962577f",
            "8ac4a3ad2604427ab59828773d448c8b",
            "d5bd9e6cfc26434190e387d060b18675",
            "a018354abbca4d1cb1bae3cfb46dff59",
            "5088034d0df946eda62758bd873f41e1",
            "fde353403d694b58bff94c503b6f0bd1",
            "0acae5bd46234cb786df2b212d43e444",
            "adfc92a832e14526ad6a386105325721",
            "f24eb24acc8d4d9c8c42ff3d22b0bbf8",
            "8345e89bf4a24337be9f3b3cbd58081d",
            "b947429660b84c85a731540037572979",
            "fe0c6aaee2134f6b975e7fb5e49ebcf3",
            "ea280467de374562a2e805a2d7f3f946",
            "3084caa667b04e4c988893e486e8b5f1",
            "9db2be7e420f459aacc3c3cf3e1ad1c6",
            "977fa8ebad6b422c9add7338f5c86e50"
          ]
        },
        "id": "NWcd-3TyUqsp",
        "outputId": "0ea1ecba-5575-422b-95ca-1363104d1985"
      },
      "source": [
        "tokenizer = BertTokenizer.from_pretrained('dbmdz/bert-base-turkish-128k-uncased', do_lower_case=True)"
      ],
      "execution_count": null,
      "outputs": [
        {
          "output_type": "display_data",
          "data": {
            "application/vnd.jupyter.widget-view+json": {
              "model_id": "c27b12f46e4243e8b771e344d962577f",
              "version_minor": 0,
              "version_major": 2
            },
            "text/plain": [
              "HBox(children=(FloatProgress(value=0.0, description='Downloading', max=1233088.0, style=ProgressStyle(descript…"
            ]
          },
          "metadata": {
            "tags": []
          }
        },
        {
          "output_type": "stream",
          "text": [
            "\n"
          ],
          "name": "stdout"
        },
        {
          "output_type": "display_data",
          "data": {
            "application/vnd.jupyter.widget-view+json": {
              "model_id": "f24eb24acc8d4d9c8c42ff3d22b0bbf8",
              "version_minor": 0,
              "version_major": 2
            },
            "text/plain": [
              "HBox(children=(FloatProgress(value=0.0, description='Downloading', max=59.0, style=ProgressStyle(description_w…"
            ]
          },
          "metadata": {
            "tags": []
          }
        },
        {
          "output_type": "stream",
          "text": [
            "\n"
          ],
          "name": "stdout"
        }
      ]
    },
    {
      "cell_type": "code",
      "metadata": {
        "colab": {
          "base_uri": "https://localhost:8080/",
          "height": 1000,
          "referenced_widgets": [
            "4d66ec2bf4ee4d2c8588efdcae137f63",
            "dc8bc3d6e6b9430ab5189775a5c5d2d0",
            "8975fed3015c4309aaeeadc520a03103",
            "309655e4e50d4317b3b0364b5e843c3e",
            "db4187b2fcf847858c1642caa93f4753",
            "27b3ba0096104acaa9ace431ff6a8a89",
            "6e691e1dd49b4ed28fa0f1880e548151",
            "01cc9816abb14e9a8f89a0c3774a4b6e",
            "9776b9caee354197a2fd6497de46a62e",
            "6a6d888480284e719f1d796e4cfbc3ad",
            "8b30952a5e65468bbf3a1009e0e47ede",
            "1772d8faa87f4d21904e4ab8bf4cf944",
            "0e7f46167be74c37bd3fff97815c9c01",
            "69d91e89fc4041c6a015768e772899b5",
            "004ae8ae0c61462599101e2de858c56f",
            "1c925c97347e43a2baffa498171a1dfe"
          ]
        },
        "id": "tgtYINEeVBGY",
        "outputId": "0d6ba732-6456-4e11-a38e-e661ff2f8411"
      },
      "source": [
        "model = BertForSequenceClassification.from_pretrained(\n",
        "    \"dbmdz/bert-base-turkish-128k-uncased\",\n",
        "    num_labels = HyperParameters.number_of_class, \n",
        "    output_attentions = False,\n",
        "    output_hidden_states = False,\n",
        ")\n",
        "\n",
        "model.cuda()"
      ],
      "execution_count": null,
      "outputs": [
        {
          "output_type": "display_data",
          "data": {
            "application/vnd.jupyter.widget-view+json": {
              "model_id": "4d66ec2bf4ee4d2c8588efdcae137f63",
              "version_minor": 0,
              "version_major": 2
            },
            "text/plain": [
              "HBox(children=(FloatProgress(value=0.0, description='Downloading', max=386.0, style=ProgressStyle(description_…"
            ]
          },
          "metadata": {
            "tags": []
          }
        },
        {
          "output_type": "stream",
          "text": [
            "\n"
          ],
          "name": "stdout"
        },
        {
          "output_type": "display_data",
          "data": {
            "application/vnd.jupyter.widget-view+json": {
              "model_id": "9776b9caee354197a2fd6497de46a62e",
              "version_minor": 0,
              "version_major": 2
            },
            "text/plain": [
              "HBox(children=(FloatProgress(value=0.0, description='Downloading', max=740314769.0, style=ProgressStyle(descri…"
            ]
          },
          "metadata": {
            "tags": []
          }
        },
        {
          "output_type": "stream",
          "text": [
            "\n"
          ],
          "name": "stdout"
        },
        {
          "output_type": "stream",
          "text": [
            "Some weights of the model checkpoint at dbmdz/bert-base-turkish-128k-uncased were not used when initializing BertForSequenceClassification: ['cls.predictions.bias', 'cls.predictions.transform.dense.weight', 'cls.predictions.transform.dense.bias', 'cls.predictions.transform.LayerNorm.weight', 'cls.predictions.transform.LayerNorm.bias', 'cls.predictions.decoder.weight', 'cls.predictions.decoder.bias', 'cls.seq_relationship.weight', 'cls.seq_relationship.bias']\n",
            "- This IS expected if you are initializing BertForSequenceClassification from the checkpoint of a model trained on another task or with another architecture (e.g. initializing a BertForSequenceClassification model from a BertForPreTraining model).\n",
            "- This IS NOT expected if you are initializing BertForSequenceClassification from the checkpoint of a model that you expect to be exactly identical (initializing a BertForSequenceClassification model from a BertForSequenceClassification model).\n",
            "Some weights of BertForSequenceClassification were not initialized from the model checkpoint at dbmdz/bert-base-turkish-128k-uncased and are newly initialized: ['classifier.weight', 'classifier.bias']\n",
            "You should probably TRAIN this model on a down-stream task to be able to use it for predictions and inference.\n"
          ],
          "name": "stderr"
        },
        {
          "output_type": "execute_result",
          "data": {
            "text/plain": [
              "BertForSequenceClassification(\n",
              "  (bert): BertModel(\n",
              "    (embeddings): BertEmbeddings(\n",
              "      (word_embeddings): Embedding(128000, 768, padding_idx=0)\n",
              "      (position_embeddings): Embedding(512, 768)\n",
              "      (token_type_embeddings): Embedding(2, 768)\n",
              "      (LayerNorm): LayerNorm((768,), eps=1e-12, elementwise_affine=True)\n",
              "      (dropout): Dropout(p=0.1, inplace=False)\n",
              "    )\n",
              "    (encoder): BertEncoder(\n",
              "      (layer): ModuleList(\n",
              "        (0): BertLayer(\n",
              "          (attention): BertAttention(\n",
              "            (self): BertSelfAttention(\n",
              "              (query): Linear(in_features=768, out_features=768, bias=True)\n",
              "              (key): Linear(in_features=768, out_features=768, bias=True)\n",
              "              (value): Linear(in_features=768, out_features=768, bias=True)\n",
              "              (dropout): Dropout(p=0.1, inplace=False)\n",
              "            )\n",
              "            (output): BertSelfOutput(\n",
              "              (dense): Linear(in_features=768, out_features=768, bias=True)\n",
              "              (LayerNorm): LayerNorm((768,), eps=1e-12, elementwise_affine=True)\n",
              "              (dropout): Dropout(p=0.1, inplace=False)\n",
              "            )\n",
              "          )\n",
              "          (intermediate): BertIntermediate(\n",
              "            (dense): Linear(in_features=768, out_features=3072, bias=True)\n",
              "          )\n",
              "          (output): BertOutput(\n",
              "            (dense): Linear(in_features=3072, out_features=768, bias=True)\n",
              "            (LayerNorm): LayerNorm((768,), eps=1e-12, elementwise_affine=True)\n",
              "            (dropout): Dropout(p=0.1, inplace=False)\n",
              "          )\n",
              "        )\n",
              "        (1): BertLayer(\n",
              "          (attention): BertAttention(\n",
              "            (self): BertSelfAttention(\n",
              "              (query): Linear(in_features=768, out_features=768, bias=True)\n",
              "              (key): Linear(in_features=768, out_features=768, bias=True)\n",
              "              (value): Linear(in_features=768, out_features=768, bias=True)\n",
              "              (dropout): Dropout(p=0.1, inplace=False)\n",
              "            )\n",
              "            (output): BertSelfOutput(\n",
              "              (dense): Linear(in_features=768, out_features=768, bias=True)\n",
              "              (LayerNorm): LayerNorm((768,), eps=1e-12, elementwise_affine=True)\n",
              "              (dropout): Dropout(p=0.1, inplace=False)\n",
              "            )\n",
              "          )\n",
              "          (intermediate): BertIntermediate(\n",
              "            (dense): Linear(in_features=768, out_features=3072, bias=True)\n",
              "          )\n",
              "          (output): BertOutput(\n",
              "            (dense): Linear(in_features=3072, out_features=768, bias=True)\n",
              "            (LayerNorm): LayerNorm((768,), eps=1e-12, elementwise_affine=True)\n",
              "            (dropout): Dropout(p=0.1, inplace=False)\n",
              "          )\n",
              "        )\n",
              "        (2): BertLayer(\n",
              "          (attention): BertAttention(\n",
              "            (self): BertSelfAttention(\n",
              "              (query): Linear(in_features=768, out_features=768, bias=True)\n",
              "              (key): Linear(in_features=768, out_features=768, bias=True)\n",
              "              (value): Linear(in_features=768, out_features=768, bias=True)\n",
              "              (dropout): Dropout(p=0.1, inplace=False)\n",
              "            )\n",
              "            (output): BertSelfOutput(\n",
              "              (dense): Linear(in_features=768, out_features=768, bias=True)\n",
              "              (LayerNorm): LayerNorm((768,), eps=1e-12, elementwise_affine=True)\n",
              "              (dropout): Dropout(p=0.1, inplace=False)\n",
              "            )\n",
              "          )\n",
              "          (intermediate): BertIntermediate(\n",
              "            (dense): Linear(in_features=768, out_features=3072, bias=True)\n",
              "          )\n",
              "          (output): BertOutput(\n",
              "            (dense): Linear(in_features=3072, out_features=768, bias=True)\n",
              "            (LayerNorm): LayerNorm((768,), eps=1e-12, elementwise_affine=True)\n",
              "            (dropout): Dropout(p=0.1, inplace=False)\n",
              "          )\n",
              "        )\n",
              "        (3): BertLayer(\n",
              "          (attention): BertAttention(\n",
              "            (self): BertSelfAttention(\n",
              "              (query): Linear(in_features=768, out_features=768, bias=True)\n",
              "              (key): Linear(in_features=768, out_features=768, bias=True)\n",
              "              (value): Linear(in_features=768, out_features=768, bias=True)\n",
              "              (dropout): Dropout(p=0.1, inplace=False)\n",
              "            )\n",
              "            (output): BertSelfOutput(\n",
              "              (dense): Linear(in_features=768, out_features=768, bias=True)\n",
              "              (LayerNorm): LayerNorm((768,), eps=1e-12, elementwise_affine=True)\n",
              "              (dropout): Dropout(p=0.1, inplace=False)\n",
              "            )\n",
              "          )\n",
              "          (intermediate): BertIntermediate(\n",
              "            (dense): Linear(in_features=768, out_features=3072, bias=True)\n",
              "          )\n",
              "          (output): BertOutput(\n",
              "            (dense): Linear(in_features=3072, out_features=768, bias=True)\n",
              "            (LayerNorm): LayerNorm((768,), eps=1e-12, elementwise_affine=True)\n",
              "            (dropout): Dropout(p=0.1, inplace=False)\n",
              "          )\n",
              "        )\n",
              "        (4): BertLayer(\n",
              "          (attention): BertAttention(\n",
              "            (self): BertSelfAttention(\n",
              "              (query): Linear(in_features=768, out_features=768, bias=True)\n",
              "              (key): Linear(in_features=768, out_features=768, bias=True)\n",
              "              (value): Linear(in_features=768, out_features=768, bias=True)\n",
              "              (dropout): Dropout(p=0.1, inplace=False)\n",
              "            )\n",
              "            (output): BertSelfOutput(\n",
              "              (dense): Linear(in_features=768, out_features=768, bias=True)\n",
              "              (LayerNorm): LayerNorm((768,), eps=1e-12, elementwise_affine=True)\n",
              "              (dropout): Dropout(p=0.1, inplace=False)\n",
              "            )\n",
              "          )\n",
              "          (intermediate): BertIntermediate(\n",
              "            (dense): Linear(in_features=768, out_features=3072, bias=True)\n",
              "          )\n",
              "          (output): BertOutput(\n",
              "            (dense): Linear(in_features=3072, out_features=768, bias=True)\n",
              "            (LayerNorm): LayerNorm((768,), eps=1e-12, elementwise_affine=True)\n",
              "            (dropout): Dropout(p=0.1, inplace=False)\n",
              "          )\n",
              "        )\n",
              "        (5): BertLayer(\n",
              "          (attention): BertAttention(\n",
              "            (self): BertSelfAttention(\n",
              "              (query): Linear(in_features=768, out_features=768, bias=True)\n",
              "              (key): Linear(in_features=768, out_features=768, bias=True)\n",
              "              (value): Linear(in_features=768, out_features=768, bias=True)\n",
              "              (dropout): Dropout(p=0.1, inplace=False)\n",
              "            )\n",
              "            (output): BertSelfOutput(\n",
              "              (dense): Linear(in_features=768, out_features=768, bias=True)\n",
              "              (LayerNorm): LayerNorm((768,), eps=1e-12, elementwise_affine=True)\n",
              "              (dropout): Dropout(p=0.1, inplace=False)\n",
              "            )\n",
              "          )\n",
              "          (intermediate): BertIntermediate(\n",
              "            (dense): Linear(in_features=768, out_features=3072, bias=True)\n",
              "          )\n",
              "          (output): BertOutput(\n",
              "            (dense): Linear(in_features=3072, out_features=768, bias=True)\n",
              "            (LayerNorm): LayerNorm((768,), eps=1e-12, elementwise_affine=True)\n",
              "            (dropout): Dropout(p=0.1, inplace=False)\n",
              "          )\n",
              "        )\n",
              "        (6): BertLayer(\n",
              "          (attention): BertAttention(\n",
              "            (self): BertSelfAttention(\n",
              "              (query): Linear(in_features=768, out_features=768, bias=True)\n",
              "              (key): Linear(in_features=768, out_features=768, bias=True)\n",
              "              (value): Linear(in_features=768, out_features=768, bias=True)\n",
              "              (dropout): Dropout(p=0.1, inplace=False)\n",
              "            )\n",
              "            (output): BertSelfOutput(\n",
              "              (dense): Linear(in_features=768, out_features=768, bias=True)\n",
              "              (LayerNorm): LayerNorm((768,), eps=1e-12, elementwise_affine=True)\n",
              "              (dropout): Dropout(p=0.1, inplace=False)\n",
              "            )\n",
              "          )\n",
              "          (intermediate): BertIntermediate(\n",
              "            (dense): Linear(in_features=768, out_features=3072, bias=True)\n",
              "          )\n",
              "          (output): BertOutput(\n",
              "            (dense): Linear(in_features=3072, out_features=768, bias=True)\n",
              "            (LayerNorm): LayerNorm((768,), eps=1e-12, elementwise_affine=True)\n",
              "            (dropout): Dropout(p=0.1, inplace=False)\n",
              "          )\n",
              "        )\n",
              "        (7): BertLayer(\n",
              "          (attention): BertAttention(\n",
              "            (self): BertSelfAttention(\n",
              "              (query): Linear(in_features=768, out_features=768, bias=True)\n",
              "              (key): Linear(in_features=768, out_features=768, bias=True)\n",
              "              (value): Linear(in_features=768, out_features=768, bias=True)\n",
              "              (dropout): Dropout(p=0.1, inplace=False)\n",
              "            )\n",
              "            (output): BertSelfOutput(\n",
              "              (dense): Linear(in_features=768, out_features=768, bias=True)\n",
              "              (LayerNorm): LayerNorm((768,), eps=1e-12, elementwise_affine=True)\n",
              "              (dropout): Dropout(p=0.1, inplace=False)\n",
              "            )\n",
              "          )\n",
              "          (intermediate): BertIntermediate(\n",
              "            (dense): Linear(in_features=768, out_features=3072, bias=True)\n",
              "          )\n",
              "          (output): BertOutput(\n",
              "            (dense): Linear(in_features=3072, out_features=768, bias=True)\n",
              "            (LayerNorm): LayerNorm((768,), eps=1e-12, elementwise_affine=True)\n",
              "            (dropout): Dropout(p=0.1, inplace=False)\n",
              "          )\n",
              "        )\n",
              "        (8): BertLayer(\n",
              "          (attention): BertAttention(\n",
              "            (self): BertSelfAttention(\n",
              "              (query): Linear(in_features=768, out_features=768, bias=True)\n",
              "              (key): Linear(in_features=768, out_features=768, bias=True)\n",
              "              (value): Linear(in_features=768, out_features=768, bias=True)\n",
              "              (dropout): Dropout(p=0.1, inplace=False)\n",
              "            )\n",
              "            (output): BertSelfOutput(\n",
              "              (dense): Linear(in_features=768, out_features=768, bias=True)\n",
              "              (LayerNorm): LayerNorm((768,), eps=1e-12, elementwise_affine=True)\n",
              "              (dropout): Dropout(p=0.1, inplace=False)\n",
              "            )\n",
              "          )\n",
              "          (intermediate): BertIntermediate(\n",
              "            (dense): Linear(in_features=768, out_features=3072, bias=True)\n",
              "          )\n",
              "          (output): BertOutput(\n",
              "            (dense): Linear(in_features=3072, out_features=768, bias=True)\n",
              "            (LayerNorm): LayerNorm((768,), eps=1e-12, elementwise_affine=True)\n",
              "            (dropout): Dropout(p=0.1, inplace=False)\n",
              "          )\n",
              "        )\n",
              "        (9): BertLayer(\n",
              "          (attention): BertAttention(\n",
              "            (self): BertSelfAttention(\n",
              "              (query): Linear(in_features=768, out_features=768, bias=True)\n",
              "              (key): Linear(in_features=768, out_features=768, bias=True)\n",
              "              (value): Linear(in_features=768, out_features=768, bias=True)\n",
              "              (dropout): Dropout(p=0.1, inplace=False)\n",
              "            )\n",
              "            (output): BertSelfOutput(\n",
              "              (dense): Linear(in_features=768, out_features=768, bias=True)\n",
              "              (LayerNorm): LayerNorm((768,), eps=1e-12, elementwise_affine=True)\n",
              "              (dropout): Dropout(p=0.1, inplace=False)\n",
              "            )\n",
              "          )\n",
              "          (intermediate): BertIntermediate(\n",
              "            (dense): Linear(in_features=768, out_features=3072, bias=True)\n",
              "          )\n",
              "          (output): BertOutput(\n",
              "            (dense): Linear(in_features=3072, out_features=768, bias=True)\n",
              "            (LayerNorm): LayerNorm((768,), eps=1e-12, elementwise_affine=True)\n",
              "            (dropout): Dropout(p=0.1, inplace=False)\n",
              "          )\n",
              "        )\n",
              "        (10): BertLayer(\n",
              "          (attention): BertAttention(\n",
              "            (self): BertSelfAttention(\n",
              "              (query): Linear(in_features=768, out_features=768, bias=True)\n",
              "              (key): Linear(in_features=768, out_features=768, bias=True)\n",
              "              (value): Linear(in_features=768, out_features=768, bias=True)\n",
              "              (dropout): Dropout(p=0.1, inplace=False)\n",
              "            )\n",
              "            (output): BertSelfOutput(\n",
              "              (dense): Linear(in_features=768, out_features=768, bias=True)\n",
              "              (LayerNorm): LayerNorm((768,), eps=1e-12, elementwise_affine=True)\n",
              "              (dropout): Dropout(p=0.1, inplace=False)\n",
              "            )\n",
              "          )\n",
              "          (intermediate): BertIntermediate(\n",
              "            (dense): Linear(in_features=768, out_features=3072, bias=True)\n",
              "          )\n",
              "          (output): BertOutput(\n",
              "            (dense): Linear(in_features=3072, out_features=768, bias=True)\n",
              "            (LayerNorm): LayerNorm((768,), eps=1e-12, elementwise_affine=True)\n",
              "            (dropout): Dropout(p=0.1, inplace=False)\n",
              "          )\n",
              "        )\n",
              "        (11): BertLayer(\n",
              "          (attention): BertAttention(\n",
              "            (self): BertSelfAttention(\n",
              "              (query): Linear(in_features=768, out_features=768, bias=True)\n",
              "              (key): Linear(in_features=768, out_features=768, bias=True)\n",
              "              (value): Linear(in_features=768, out_features=768, bias=True)\n",
              "              (dropout): Dropout(p=0.1, inplace=False)\n",
              "            )\n",
              "            (output): BertSelfOutput(\n",
              "              (dense): Linear(in_features=768, out_features=768, bias=True)\n",
              "              (LayerNorm): LayerNorm((768,), eps=1e-12, elementwise_affine=True)\n",
              "              (dropout): Dropout(p=0.1, inplace=False)\n",
              "            )\n",
              "          )\n",
              "          (intermediate): BertIntermediate(\n",
              "            (dense): Linear(in_features=768, out_features=3072, bias=True)\n",
              "          )\n",
              "          (output): BertOutput(\n",
              "            (dense): Linear(in_features=3072, out_features=768, bias=True)\n",
              "            (LayerNorm): LayerNorm((768,), eps=1e-12, elementwise_affine=True)\n",
              "            (dropout): Dropout(p=0.1, inplace=False)\n",
              "          )\n",
              "        )\n",
              "      )\n",
              "    )\n",
              "    (pooler): BertPooler(\n",
              "      (dense): Linear(in_features=768, out_features=768, bias=True)\n",
              "      (activation): Tanh()\n",
              "    )\n",
              "  )\n",
              "  (dropout): Dropout(p=0.1, inplace=False)\n",
              "  (classifier): Linear(in_features=768, out_features=7, bias=True)\n",
              ")"
            ]
          },
          "metadata": {
            "tags": []
          },
          "execution_count": 17
        }
      ]
    },
    {
      "cell_type": "code",
      "metadata": {
        "id": "_o5ZFmCUVMGb"
      },
      "source": [
        "def prepare_data_for_bert_classification(texts: List[str], labels: List[int]):\n",
        "  \"\"\"\n",
        "  This method creates input_ids, attention_masks and labels  for BERT\n",
        "\n",
        "  Parameters:\n",
        "      texts: list of strings to get input masks\n",
        "      labels: labels of the texts in type list of integers\n",
        "\n",
        "  Returns:\n",
        "      input_ids\n",
        "      attention_masks\n",
        "      labels\n",
        "  \"\"\"\n",
        "  input_ids = []\n",
        "  attention_masks = []\n",
        "  for text in texts:\n",
        "    encoded_dict = tokenizer.encode_plus(\n",
        "                        text,                     \n",
        "                        add_special_tokens = True,\n",
        "                        max_length = HyperParameters.max_len,      \n",
        "                        pad_to_max_length = True,\n",
        "                        return_attention_mask = True, \n",
        "                        return_tensors = 'pt',\n",
        "                   )\n",
        "    input_ids.append(encoded_dict['input_ids'])\n",
        "    attention_masks.append(encoded_dict['attention_mask'])\n",
        "  \n",
        "  input_ids = torch.cat(input_ids, dim=0)\n",
        "  attention_masks = torch.cat(attention_masks, dim=0)\n",
        "  labels = torch.tensor(labels)\n",
        "\n",
        "  return input_ids, attention_masks, labels"
      ],
      "execution_count": null,
      "outputs": []
    },
    {
      "cell_type": "code",
      "metadata": {
        "id": "h2jL0-9BVYzS"
      },
      "source": [
        "def get_data_loader(input_ids, attention_masks, labels):\n",
        "  dataset = TensorDataset(input_ids, attention_masks, labels)\n",
        "  dataloader = DataLoader(\n",
        "                          dataset,  \n",
        "                          sampler = RandomSampler(dataset), \n",
        "                          batch_size = HyperParameters.batch_size \n",
        "                          )\n",
        "  return dataloader\n"
      ],
      "execution_count": null,
      "outputs": []
    },
    {
      "cell_type": "code",
      "metadata": {
        "id": "ZCVLRlQkVjyG"
      },
      "source": [
        "def format_time(elapsed):\n",
        "    elapsed_rounded = int(round((elapsed)))\n",
        "    return str(datetime.timedelta(seconds=elapsed_rounded))"
      ],
      "execution_count": null,
      "outputs": []
    },
    {
      "cell_type": "code",
      "metadata": {
        "id": "MrCXTJjPV4Wa"
      },
      "source": [
        "def fine_tune_BERT_for_classification(train_dataloader, model):\n",
        "  # resource https://github.com/huggingface/transformers/blob/5bfcd0485ece086ebcbed2d008813037968a9e58/examples/run_glue.py#L128\n",
        "\n",
        "  epochs = HyperParameters.epochs\n",
        "\n",
        "  optimizer = AdamW(model.parameters(),\n",
        "                  lr = HyperParameters.lr,\n",
        "                  eps = HyperParameters.eps \n",
        "                )\n",
        "\n",
        "  total_steps = len(train_dataloader) * HyperParameters.epochs\n",
        "  scheduler = get_linear_schedule_with_warmup(optimizer, \n",
        "                                              num_warmup_steps = 0,\n",
        "                                              num_training_steps = total_steps)\n",
        "\n",
        "  seed_val = HyperParameters.seed_val\n",
        "\n",
        "  random.seed(seed_val)\n",
        "  np.random.seed(seed_val)\n",
        "  torch.manual_seed(seed_val)\n",
        "  torch.cuda.manual_seed_all(seed_val)\n",
        "\n",
        "  training_stats = []\n",
        "  total_t0 = time.time()\n",
        "\n",
        "  for epoch_i in range(0, epochs):\n",
        "    print('======== Epoch {:} / {:} ========'.format(epoch_i + 1, epochs))\n",
        "    t0 = time.time()\n",
        "    total_train_loss = 0\n",
        "    model.train()\n",
        "\n",
        "    for step, batch in enumerate(train_dataloader):\n",
        "        if step % 10 == 0 and not step == 0:\n",
        "            elapsed = format_time(time.time() - t0)\n",
        "\n",
        "        b_input_ids = batch[0].to(device)\n",
        "        b_input_mask = batch[1].to(device)\n",
        "        b_labels = batch[2].to(device)\n",
        "\n",
        "        model.zero_grad()  \n",
        "        SequenceClassifierOutput =  model(b_input_ids, \n",
        "                             token_type_ids=None, \n",
        "                             attention_mask=b_input_mask, \n",
        "                             labels=b_labels)      \n",
        "        loss, logits = SequenceClassifierOutput.loss, SequenceClassifierOutput.logits\n",
        "\n",
        "        total_train_loss += loss.item()\n",
        "        loss.backward()\n",
        "        torch.nn.utils.clip_grad_norm_(model.parameters(), 1.0)\n",
        "        optimizer.step()\n",
        "        scheduler.step()\n",
        "\n",
        "    avg_train_loss = total_train_loss / len(train_dataloader)            \n",
        "    training_time = format_time(time.time() - t0)\n",
        "\n",
        "    print(\"Average training loss: {0:.2f}\".format(avg_train_loss))\n",
        "    print(\"Training epoch took: {:}\".format(training_time))\n",
        "\n",
        "    training_stats.append(\n",
        "        {\n",
        "            'epoch': epoch_i + 1,\n",
        "            'Training Loss': avg_train_loss,\n",
        "            'Training Time': training_time,\n",
        "        }\n",
        "    )\n",
        "  \n",
        "  print(\"Training completed in {:} (h:mm:ss)\".format(format_time(time.time()-total_t0)))\n",
        "\n",
        "  return training_stats, model"
      ],
      "execution_count": null,
      "outputs": []
    },
    {
      "cell_type": "code",
      "metadata": {
        "id": "TVLMdUGaWIQ0"
      },
      "source": [
        "def get_predictions(test_texts, test_labels, model):\n",
        "  model.eval()\n",
        "\n",
        "  predictions , true_labels = [], []\n",
        "\n",
        "  input_ids, attention_masks, labels = prepare_data_for_bert_classification(test_texts, test_labels)\n",
        "  prediction_data = TensorDataset(input_ids, attention_masks, labels)\n",
        "  prediction_sampler = SequentialSampler(prediction_data)\n",
        "  prediction_dataloader = DataLoader(prediction_data, sampler=prediction_sampler, batch_size=HyperParameters.batch_size)\n",
        "\n",
        "  for batch in prediction_dataloader:\n",
        "    batch = tuple(t.to(device) for t in batch)\n",
        "    b_input_ids, b_input_mask, b_labels = batch\n",
        "\n",
        "    with torch.no_grad():\n",
        "        outputs = model(b_input_ids, token_type_ids=None, \n",
        "                        attention_mask=b_input_mask)\n",
        "\n",
        "    logits = outputs[0]\n",
        "    logits = logits.detach().cpu().numpy()\n",
        "    label_ids = b_labels.to('cpu').numpy()\n",
        "    \n",
        "    predictions.append(logits)\n",
        "    true_labels.append(label_ids)\n",
        "\n",
        "\n",
        "  return predictions, true_labels"
      ],
      "execution_count": null,
      "outputs": []
    },
    {
      "cell_type": "code",
      "metadata": {
        "id": "MVfwOhC_Wc6X"
      },
      "source": [
        "class BERT:\n",
        "  def __init__(self, model):\n",
        "    self.predictions = None\n",
        "    self.model = model\n",
        "\n",
        "  def train(self, x, y):\n",
        "     training_texts = x\n",
        "     training_labels = y\n",
        "     \n",
        "     input_ids, attention_masks, labels = prepare_data_for_bert_classification(texts= training_texts, \n",
        "                                                                               labels= training_labels)\n",
        "     train_dataloader = get_data_loader(input_ids=input_ids,\n",
        "                                        attention_masks= attention_masks,\n",
        "                                        labels= labels)\n",
        "     \n",
        "     training_stats, self.model = fine_tune_BERT_for_classification(train_dataloader=train_dataloader,\n",
        "                                                                    model=self.model)\n",
        "\n",
        "     return self\n",
        "\n",
        "  def predict(self, x, y):\n",
        "    self.predictions, true_labels = get_predictions(test_texts=test_texts,\n",
        "                                                    test_labels= test_labels,\n",
        "                                                    model=self.model)\n",
        "    \n",
        "    prediction_set = []\n",
        "    for i in range(len(true_labels)):\n",
        "      # here we get the index of max probability values for each sample in one batch\n",
        "      pred_labels_i = np.argmax(self.predictions[i], axis=1).flatten()\n",
        "      prediction_set.append(pred_labels_i)\n",
        "\n",
        "    # for 32 batch we combine the predictions in one list\n",
        "    prediction_scores = [item for sublist in prediction_set for item in sublist]\n",
        "    return prediction_scores\n",
        "\n",
        "  def predict_proba(self, x, y):\n",
        "    predictions, true_labels = get_predictions(test_texts=x,\n",
        "                                               test_labels= y,\n",
        "                                               model=self.model)\n",
        "    return np.array([item for sublist in predictions for item in sublist])"
      ],
      "execution_count": null,
      "outputs": []
    },
    {
      "cell_type": "markdown",
      "metadata": {
        "id": "DfIsHU7IXTjN"
      },
      "source": [
        "**TRAIN WITH ALL DATA**"
      ]
    },
    {
      "cell_type": "code",
      "metadata": {
        "id": "YOObhO3DWscB"
      },
      "source": [
        "bert = BERT(model=model)"
      ],
      "execution_count": null,
      "outputs": []
    },
    {
      "cell_type": "code",
      "metadata": {
        "id": "kGmhLpxEIR1E"
      },
      "source": [
        "scaler = MinMaxScaler() # initialize scaler to normalize probabilities"
      ],
      "execution_count": null,
      "outputs": []
    },
    {
      "cell_type": "code",
      "metadata": {
        "colab": {
          "base_uri": "https://localhost:8080/"
        },
        "id": "7jgcWkXoWt1b",
        "outputId": "08ee14eb-e09b-4098-87ed-f4a74be5cd65"
      },
      "source": [
        "bert.train(training_texts, training_labels)"
      ],
      "execution_count": null,
      "outputs": [
        {
          "output_type": "stream",
          "text": [
            "Truncation was not explicitly activated but `max_length` is provided a specific value, please use `truncation=True` to explicitly truncate examples to max length. Defaulting to 'longest_first' truncation strategy. If you encode pairs of sequences (GLUE-style) with the tokenizer you can select this strategy more precisely by providing a specific strategy to `truncation`.\n",
            "/usr/local/lib/python3.7/dist-packages/transformers/tokenization_utils_base.py:2079: FutureWarning: The `pad_to_max_length` argument is deprecated and will be removed in a future version, use `padding=True` or `padding='longest'` to pad to the longest sequence in the batch, or use `padding='max_length'` to pad to a max length. In this case, you can give a specific length with `max_length` (e.g. `max_length=45`) or leave max_length to None to pad to the maximal input size of the model (e.g. 512 for Bert).\n",
            "  FutureWarning,\n"
          ],
          "name": "stderr"
        },
        {
          "output_type": "stream",
          "text": [
            "======== Epoch 1 / 4 ========\n",
            "Average training loss: 0.56\n",
            "Training epoch took: 0:01:34\n",
            "======== Epoch 2 / 4 ========\n",
            "Average training loss: 0.16\n",
            "Training epoch took: 0:01:34\n",
            "======== Epoch 3 / 4 ========\n",
            "Average training loss: 0.06\n",
            "Training epoch took: 0:01:34\n",
            "======== Epoch 4 / 4 ========\n",
            "Average training loss: 0.02\n",
            "Training epoch took: 0:01:34\n",
            "Training completed in 0:06:15 (h:mm:ss)\n"
          ],
          "name": "stdout"
        },
        {
          "output_type": "execute_result",
          "data": {
            "text/plain": [
              "<__main__.BERT at 0x7f9ec42a3b10>"
            ]
          },
          "metadata": {
            "tags": []
          },
          "execution_count": 26
        }
      ]
    },
    {
      "cell_type": "code",
      "metadata": {
        "colab": {
          "base_uri": "https://localhost:8080/"
        },
        "id": "1Jkg3B0WWudS",
        "outputId": "d67a9710-3fe5-4f40-b394-1886ff8391d9"
      },
      "source": [
        "prediction_scores = bert.predict(training_texts, training_labels)"
      ],
      "execution_count": null,
      "outputs": [
        {
          "output_type": "stream",
          "text": [
            "/usr/local/lib/python3.7/dist-packages/transformers/tokenization_utils_base.py:2079: FutureWarning: The `pad_to_max_length` argument is deprecated and will be removed in a future version, use `padding=True` or `padding='longest'` to pad to the longest sequence in the batch, or use `padding='max_length'` to pad to a max length. In this case, you can give a specific length with `max_length` (e.g. `max_length=45`) or leave max_length to None to pad to the maximal input size of the model (e.g. 512 for Bert).\n",
            "  FutureWarning,\n"
          ],
          "name": "stderr"
        }
      ]
    },
    {
      "cell_type": "code",
      "metadata": {
        "colab": {
          "base_uri": "https://localhost:8080/"
        },
        "id": "2lTLXz0Ip3cR",
        "outputId": "dcba2130-39b0-461f-bd26-7059a6fc5ed7"
      },
      "source": [
        "f1_score(test_labels, prediction_scores, average=\"macro\")"
      ],
      "execution_count": null,
      "outputs": [
        {
          "output_type": "execute_result",
          "data": {
            "text/plain": [
              "0.9416038581302478"
            ]
          },
          "metadata": {
            "tags": []
          },
          "execution_count": 28
        }
      ]
    },
    {
      "cell_type": "code",
      "metadata": {
        "colab": {
          "base_uri": "https://localhost:8080/"
        },
        "id": "WA5xZwWuIU7h",
        "outputId": "900816a0-94b0-4e82-86ff-caefbdef87b5"
      },
      "source": [
        "all_data_probabilities = bert.predict_proba(test_texts, test_labels)"
      ],
      "execution_count": null,
      "outputs": [
        {
          "output_type": "stream",
          "text": [
            "/usr/local/lib/python3.7/dist-packages/transformers/tokenization_utils_base.py:2079: FutureWarning: The `pad_to_max_length` argument is deprecated and will be removed in a future version, use `padding=True` or `padding='longest'` to pad to the longest sequence in the batch, or use `padding='max_length'` to pad to a max length. In this case, you can give a specific length with `max_length` (e.g. `max_length=45`) or leave max_length to None to pad to the maximal input size of the model (e.g. 512 for Bert).\n",
            "  FutureWarning,\n"
          ],
          "name": "stderr"
        }
      ]
    },
    {
      "cell_type": "code",
      "metadata": {
        "colab": {
          "base_uri": "https://localhost:8080/"
        },
        "id": "h_wuHl0dIXT1",
        "outputId": "f32f0a50-9cc3-410f-da92-1d169e218bb2"
      },
      "source": [
        "scaler.fit(all_data_probabilities)"
      ],
      "execution_count": null,
      "outputs": [
        {
          "output_type": "execute_result",
          "data": {
            "text/plain": [
              "MinMaxScaler(copy=True, feature_range=(0, 1))"
            ]
          },
          "metadata": {
            "tags": []
          },
          "execution_count": 33
        }
      ]
    },
    {
      "cell_type": "markdown",
      "metadata": {
        "id": "cvl0OBSEYpKv"
      },
      "source": [
        "**ACTIVE LEARNING**"
      ]
    },
    {
      "cell_type": "code",
      "metadata": {
        "colab": {
          "base_uri": "https://localhost:8080/"
        },
        "id": "gwipA8K5XMeU",
        "outputId": "4ee762dc-49a8-4300-a948-2a22a5125287"
      },
      "source": [
        "training.info()\n",
        "training.reset_index(drop=True, inplace=True)"
      ],
      "execution_count": null,
      "outputs": [
        {
          "output_type": "stream",
          "text": [
            "<class 'pandas.core.frame.DataFrame'>\n",
            "MultiIndex: 3920 entries, (0, 1032) to (6, 4409)\n",
            "Data columns (total 3 columns):\n",
            " #   Column              Non-Null Count  Dtype \n",
            "---  ------              --------------  ----- \n",
            " 0   category            3920 non-null   object\n",
            " 1   text                3920 non-null   object\n",
            " 2   encoded_categories  3920 non-null   int64 \n",
            "dtypes: int64(1), object(2)\n",
            "memory usage: 294.4+ KB\n"
          ],
          "name": "stdout"
        }
      ]
    },
    {
      "cell_type": "code",
      "metadata": {
        "colab": {
          "base_uri": "https://localhost:8080/"
        },
        "id": "_hM5oijEo8NQ",
        "outputId": "2ef4d850-4bd0-4185-cd01-7d8b5fa00cc3"
      },
      "source": [
        "test.info()\n",
        "test.reset_index(drop=True, inplace=True)"
      ],
      "execution_count": null,
      "outputs": [
        {
          "output_type": "stream",
          "text": [
            "<class 'pandas.core.frame.DataFrame'>\n",
            "RangeIndex: 833 entries, 0 to 832\n",
            "Data columns (total 3 columns):\n",
            " #   Column              Non-Null Count  Dtype \n",
            "---  ------              --------------  ----- \n",
            " 0   category            833 non-null    object\n",
            " 1   text                833 non-null    object\n",
            " 2   encoded_categories  833 non-null    int64 \n",
            "dtypes: int64(1), object(2)\n",
            "memory usage: 19.6+ KB\n"
          ],
          "name": "stdout"
        }
      ]
    },
    {
      "cell_type": "code",
      "metadata": {
        "id": "kCGyXez9Yuok"
      },
      "source": [
        "label_counts = (training['category']\n",
        "                .value_counts(normalize=True)\n",
        "                .rename('percentage')\n",
        "                .mul(100)\n",
        "                .reset_index()\n",
        "                .rename(columns = {\"index\":\"label\"})\n",
        "                )"
      ],
      "execution_count": null,
      "outputs": []
    },
    {
      "cell_type": "code",
      "metadata": {
        "colab": {
          "base_uri": "https://localhost:8080/",
          "height": 507
        },
        "id": "kinDhPtaYwmC",
        "outputId": "01bee12a-e29b-46e3-c50d-c97f93a1e08f"
      },
      "source": [
        "plot_histogram(label_counts, \"label\", \"percentage\")"
      ],
      "execution_count": null,
      "outputs": [
        {
          "output_type": "display_data",
          "data": {
            "image/png": "[encoded data removed]",
            "text/plain": [
              "<Figure size 576x576 with 1 Axes>"
            ]
          },
          "metadata": {
            "tags": [],
            "needs_background": "light"
          }
        }
      ]
    },
    {
      "cell_type": "code",
      "metadata": {
        "colab": {
          "base_uri": "https://localhost:8080/"
        },
        "id": "WyjjVRmxYy6v",
        "outputId": "3b7c0949-65db-48f1-b033-f7db2dd5b304"
      },
      "source": [
        "# First create initial train samples\n",
        "initial_train = training.sample(frac=0.0254, random_state=42)\n",
        "initial_train.reset_index(drop=True, inplace=True)\n",
        "initial_train.info()"
      ],
      "execution_count": null,
      "outputs": [
        {
          "output_type": "stream",
          "text": [
            "<class 'pandas.core.frame.DataFrame'>\n",
            "RangeIndex: 100 entries, 0 to 99\n",
            "Data columns (total 3 columns):\n",
            " #   Column              Non-Null Count  Dtype \n",
            "---  ------              --------------  ----- \n",
            " 0   category            100 non-null    object\n",
            " 1   text                100 non-null    object\n",
            " 2   encoded_categories  100 non-null    int64 \n",
            "dtypes: int64(1), object(2)\n",
            "memory usage: 2.5+ KB\n"
          ],
          "name": "stdout"
        }
      ]
    },
    {
      "cell_type": "code",
      "metadata": {
        "colab": {
          "base_uri": "https://localhost:8080/",
          "height": 204
        },
        "id": "V2-7XHSc0Lkk",
        "outputId": "c3d2dcea-b1b8-4753-cf9b-a49bcc8d6dfc"
      },
      "source": [
        "initial_train.head()"
      ],
      "execution_count": null,
      "outputs": [
        {
          "output_type": "execute_result",
          "data": {
            "text/html": [
              "<div>\n",
              "<style scoped>\n",
              "    .dataframe tbody tr th:only-of-type {\n",
              "        vertical-align: middle;\n",
              "    }\n",
              "\n",
              "    .dataframe tbody tr th {\n",
              "        vertical-align: top;\n",
              "    }\n",
              "\n",
              "    .dataframe thead th {\n",
              "        text-align: right;\n",
              "    }\n",
              "</style>\n",
              "<table border=\"1\" class=\"dataframe\">\n",
              "  <thead>\n",
              "    <tr style=\"text-align: right;\">\n",
              "      <th></th>\n",
              "      <th>category</th>\n",
              "      <th>text</th>\n",
              "      <th>encoded_categories</th>\n",
              "    </tr>\n",
              "  </thead>\n",
              "  <tbody>\n",
              "    <tr>\n",
              "      <th>0</th>\n",
              "      <td>ekonomi</td>\n",
              "      <td>hollywood  a rakip stüdyo kuruluyor mars_ent...</td>\n",
              "      <td>1</td>\n",
              "    </tr>\n",
              "    <tr>\n",
              "      <th>1</th>\n",
              "      <td>kultur</td>\n",
              "      <td>bridget aşkı internette arıyor ilerleyen yaşı...</td>\n",
              "      <td>2</td>\n",
              "    </tr>\n",
              "    <tr>\n",
              "      <th>2</th>\n",
              "      <td>spor</td>\n",
              "      <td>2013 eurobasket in maskotu açıklandı slovenya...</td>\n",
              "      <td>5</td>\n",
              "    </tr>\n",
              "    <tr>\n",
              "      <th>3</th>\n",
              "      <td>teknoloji</td>\n",
              "      <td>skype geçmişinizi silin ! microsoft kullanıcı...</td>\n",
              "      <td>6</td>\n",
              "    </tr>\n",
              "    <tr>\n",
              "      <th>4</th>\n",
              "      <td>saglik</td>\n",
              "      <td>çocuklarınızla ve eşlerinizle çok ilgilenin k...</td>\n",
              "      <td>3</td>\n",
              "    </tr>\n",
              "  </tbody>\n",
              "</table>\n",
              "</div>"
            ],
            "text/plain": [
              "     category  ... encoded_categories\n",
              "0    ekonomi   ...                  1\n",
              "1     kultur   ...                  2\n",
              "2       spor   ...                  5\n",
              "3  teknoloji   ...                  6\n",
              "4     saglik   ...                  3\n",
              "\n",
              "[5 rows x 3 columns]"
            ]
          },
          "metadata": {
            "tags": []
          },
          "execution_count": 58
        }
      ]
    },
    {
      "cell_type": "code",
      "metadata": {
        "colab": {
          "base_uri": "https://localhost:8080/"
        },
        "id": "_5kWGovpY27k",
        "outputId": "b91e567c-3b2f-419b-ed34-fc397b2c6542"
      },
      "source": [
        "initial_train.groupby('encoded_categories').size()"
      ],
      "execution_count": null,
      "outputs": [
        {
          "output_type": "execute_result",
          "data": {
            "text/plain": [
              "encoded_categories\n",
              "0    15\n",
              "1    18\n",
              "2    15\n",
              "3    15\n",
              "4    11\n",
              "5    12\n",
              "6    14\n",
              "dtype: int64"
            ]
          },
          "metadata": {
            "tags": []
          },
          "execution_count": 59
        }
      ]
    },
    {
      "cell_type": "code",
      "metadata": {
        "id": "C7DFWhVoY4uH"
      },
      "source": [
        "# then create unlabeled data pool\n",
        "pool = training[~training.index.isin(initial_train.index)]\n",
        "pool.reset_index(drop=True, inplace=True)"
      ],
      "execution_count": null,
      "outputs": []
    },
    {
      "cell_type": "code",
      "metadata": {
        "colab": {
          "base_uri": "https://localhost:8080/",
          "height": 204
        },
        "id": "QDJzYwmRzyKt",
        "outputId": "e302e0b3-6135-4e7e-d427-5aab56b275de"
      },
      "source": [
        "pool.head()"
      ],
      "execution_count": null,
      "outputs": [
        {
          "output_type": "execute_result",
          "data": {
            "text/html": [
              "<div>\n",
              "<style scoped>\n",
              "    .dataframe tbody tr th:only-of-type {\n",
              "        vertical-align: middle;\n",
              "    }\n",
              "\n",
              "    .dataframe tbody tr th {\n",
              "        vertical-align: top;\n",
              "    }\n",
              "\n",
              "    .dataframe thead th {\n",
              "        text-align: right;\n",
              "    }\n",
              "</style>\n",
              "<table border=\"1\" class=\"dataframe\">\n",
              "  <thead>\n",
              "    <tr style=\"text-align: right;\">\n",
              "      <th></th>\n",
              "      <th>category</th>\n",
              "      <th>text</th>\n",
              "      <th>encoded_categories</th>\n",
              "    </tr>\n",
              "  </thead>\n",
              "  <tbody>\n",
              "    <tr>\n",
              "      <th>0</th>\n",
              "      <td>dunya</td>\n",
              "      <td>türkiye nin yerini mısır aldı bbc türkiye nin...</td>\n",
              "      <td>0</td>\n",
              "    </tr>\n",
              "    <tr>\n",
              "      <th>1</th>\n",
              "      <td>dunya</td>\n",
              "      <td>türk israil ilişkileri sınanıyor new_york tim...</td>\n",
              "      <td>0</td>\n",
              "    </tr>\n",
              "    <tr>\n",
              "      <th>2</th>\n",
              "      <td>dunya</td>\n",
              "      <td>şehitlikte çekilen bu fotoğraf işinden etti a...</td>\n",
              "      <td>0</td>\n",
              "    </tr>\n",
              "    <tr>\n",
              "      <th>3</th>\n",
              "      <td>dunya</td>\n",
              "      <td>lübnan da çatışmalar 3 ölü lübnan ın başkenti...</td>\n",
              "      <td>0</td>\n",
              "    </tr>\n",
              "    <tr>\n",
              "      <th>4</th>\n",
              "      <td>dunya</td>\n",
              "      <td>yahudilerin torunlarına vatandaşlık hakkı isp...</td>\n",
              "      <td>0</td>\n",
              "    </tr>\n",
              "  </tbody>\n",
              "</table>\n",
              "</div>"
            ],
            "text/plain": [
              "  category  ... encoded_categories\n",
              "0   dunya   ...                  0\n",
              "1   dunya   ...                  0\n",
              "2   dunya   ...                  0\n",
              "3   dunya   ...                  0\n",
              "4   dunya   ...                  0\n",
              "\n",
              "[5 rows x 3 columns]"
            ]
          },
          "metadata": {
            "tags": []
          },
          "execution_count": 61
        }
      ]
    },
    {
      "cell_type": "code",
      "metadata": {
        "id": "8KJThHjcY6Cq"
      },
      "source": [
        "# sample selection class\n",
        "class SampleSelection:\n",
        "  def __init__(self):\n",
        "    self.scaler = scaler # normalizer to scale probas 0-1\n",
        "\n",
        "  @staticmethod\n",
        "  def random_selection(unlabeled_data: np.ndarray, num_samples: int) -> List[int]:\n",
        "    \"\"\"\n",
        "    Random selection from unlabeled data pool\n",
        "\n",
        "    Parameters:\n",
        "      num_samples: how much samples we will label in one iteration\n",
        "      unlabeled_data: samples in unlabeled pool\n",
        "\n",
        "    Returns:\n",
        "    List of data samples indexes from unlabeled dataset\n",
        "    \"\"\"\n",
        "    if unlabeled_data.shape[0] >= num_samples:\n",
        "      selection = np.random.choice(unlabeled_data.shape[0], num_samples, replace=False) # randomly choice indexes \n",
        "    else:\n",
        "      selection = np.arange(unlabeled_data.shape[0])\n",
        "    return selection\n",
        "\n",
        "  def get_hard_samples(self, class_probas: np.ndarray, num_samples:int) -> List[int]:\n",
        "    \"\"\"\n",
        "    This method takes hard sample indexes from unlabeled data pool\n",
        "\n",
        "    hard-> probability of two class is similar (diffirence is small)\n",
        "\n",
        "    Parameters:\n",
        "      class_probas: probabilities for each class for all samples\n",
        "      num_samples: how much samples we will label in one iteration\n",
        "\n",
        "    Returns:\n",
        "    List of data samples indexes from unlabeled dataset   \n",
        "    \"\"\"\n",
        "    class_probas_scaled = self.scaler.transform(class_probas) \n",
        "    differences = np.std(class_probas_scaled, axis=1) # get the varyans for each proba\n",
        "\n",
        "    if len(class_probas_scaled) >= num_samples:\n",
        "      selection = np.argsort(differences)[:num_samples] # take the sample indexes which proba for two class is very close\n",
        "    else:\n",
        "      selection = np.argsort(differences)\n",
        "    \n",
        "    return selection"
      ],
      "execution_count": null,
      "outputs": []
    },
    {
      "cell_type": "code",
      "metadata": {
        "id": "IMETXjk2Y_ix"
      },
      "source": [
        "class BertActiveLearner:\n",
        "  def __init__(self, test: pd.DataFrame,\n",
        "               initial_train: pd.DataFrame,\n",
        "               pool: pd.DataFrame,\n",
        "               batch_size: int,\n",
        "               label_col_name,\n",
        "               text_col_name):\n",
        "    self.batch_size = batch_size # number of samples to add train data in each iteration\n",
        "    self.test = test\n",
        "    self.train = initial_train.copy()\n",
        "    self.pool = pool.copy()\n",
        "    self.text_col_name = text_col_name\n",
        "    self.label_col_name = label_col_name\n",
        "    self.calculated_metrics = list()\n",
        "    self.classifier = BERT(model=model)\n",
        "    self.classifier.train(x=self.train[text_col_name].values, y=self.train[label_col_name].values)\n",
        "    prediction_scores = self.classifier.predict(x=self.test[text_col_name].values,\n",
        "                                                y=self.test[label_col_name].values)\n",
        "    self.calculated_metrics.append(f1_score(self.test[label_col_name].values, prediction_scores, average=\"macro\"))\n",
        "    \n",
        "  def active_learning(self, num_iteration: int, sampling_method):\n",
        "    for i in range(num_iteration):\n",
        "      print(f\"################### ITERATION: {i + 1} ###################\")\n",
        "      probs = self.classifier.predict_proba(x=self.pool[self.text_col_name].values, y=self.pool[self.label_col_name].values)\n",
        "\n",
        "      indexes = sampling_method(probs, self.batch_size) # get the indexes of data samples\n",
        "  \n",
        "      new = self.pool[self.pool.index.isin(indexes)] # select data samples by indexes from pool\n",
        "      self.train = pd.concat([self.train, new]) # as we already have labels, append labelled sample to train data\n",
        "      self.train.reset_index(drop=True, inplace=True)\n",
        "      self.pool.drop(indexes, inplace=True) # drop selected samples from ublabeled pool\n",
        "      self.pool.reset_index(drop=True, inplace=True) # reset indexing\n",
        "      self.classifier = BERT(model=model)\n",
        "      self.classifier.train(self.train[self.text_col_name].values, self.train[self.label_col_name].values)\n",
        "      prediction_scores = self.classifier.predict(x=self.test[self.text_col_name].values,\n",
        "                                                  y=self.test[self.label_col_name].values)\n",
        "      self.calculated_metrics.append(f1_score(self.test[self.label_col_name].values, prediction_scores, average=\"macro\"))\n",
        "      print(self.calculated_metrics)"
      ],
      "execution_count": null,
      "outputs": []
    },
    {
      "cell_type": "code",
      "metadata": {
        "id": "a1zkfy-GmDKY"
      },
      "source": [
        "iterations_num = int(pool.shape[0]/100)\n",
        "#iterations_num = 100\n",
        "batch_size = 100"
      ],
      "execution_count": null,
      "outputs": []
    },
    {
      "cell_type": "code",
      "metadata": {
        "colab": {
          "base_uri": "https://localhost:8080/"
        },
        "id": "U1tX4s-FLEPG",
        "outputId": "29a4f810-6c09-4df2-faa3-5cbdbf441f7a"
      },
      "source": [
        "iterations_num"
      ],
      "execution_count": null,
      "outputs": [
        {
          "output_type": "execute_result",
          "data": {
            "text/plain": [
              "38"
            ]
          },
          "metadata": {
            "tags": []
          },
          "execution_count": 72
        }
      ]
    },
    {
      "cell_type": "code",
      "metadata": {
        "colab": {
          "base_uri": "https://localhost:8080/"
        },
        "id": "CahFFkDQ-nnQ",
        "outputId": "85205a10-f7f9-41c6-d4bd-4fd6dfc90add"
      },
      "source": [
        "# random sampling\n",
        "random_cycle = BertActiveLearner(test=test, \n",
        "                             initial_train=initial_train, \n",
        "                             pool=pool, \n",
        "                             batch_size=batch_size,\n",
        "                             label_col_name=\"encoded_categories\",\n",
        "                             text_col_name=\"text\")\n",
        "\n",
        "random_cycle.active_learning(num_iteration = iterations_num,\n",
        "                             sampling_method=SampleSelection().random_selection)"
      ],
      "execution_count": null,
      "outputs": [
        {
          "output_type": "stream",
          "text": [
            "/usr/local/lib/python3.7/dist-packages/transformers/tokenization_utils_base.py:2079: FutureWarning: The `pad_to_max_length` argument is deprecated and will be removed in a future version, use `padding=True` or `padding='longest'` to pad to the longest sequence in the batch, or use `padding='max_length'` to pad to a max length. In this case, you can give a specific length with `max_length` (e.g. `max_length=45`) or leave max_length to None to pad to the maximal input size of the model (e.g. 512 for Bert).\n",
            "  FutureWarning,\n"
          ],
          "name": "stderr"
        },
        {
          "output_type": "stream",
          "text": [
            "======== Epoch 1 / 4 ========\n",
            "Average training loss: 0.00\n",
            "Training epoch took: 0:00:02\n",
            "======== Epoch 2 / 4 ========\n",
            "Average training loss: 0.00\n",
            "Training epoch took: 0:00:02\n",
            "======== Epoch 3 / 4 ========\n",
            "Average training loss: 0.00\n",
            "Training epoch took: 0:00:02\n",
            "======== Epoch 4 / 4 ========\n",
            "Average training loss: 0.00\n",
            "Training epoch took: 0:00:02\n",
            "Training completed in 0:00:10 (h:mm:ss)\n",
            "################### ITERATION: 1 ###################\n",
            "======== Epoch 1 / 4 ========\n",
            "Average training loss: 0.13\n",
            "Training epoch took: 0:00:05\n",
            "======== Epoch 2 / 4 ========\n",
            "Average training loss: 0.00\n",
            "Training epoch took: 0:00:05\n",
            "======== Epoch 3 / 4 ========\n",
            "Average training loss: 0.00\n",
            "Training epoch took: 0:00:05\n",
            "======== Epoch 4 / 4 ========\n",
            "Average training loss: 0.00\n",
            "Training epoch took: 0:00:05\n",
            "Training completed in 0:00:19 (h:mm:ss)\n",
            "[0.9182762803361951, 0.9197660537694433]\n",
            "################### ITERATION: 2 ###################\n",
            "======== Epoch 1 / 4 ========\n",
            "Average training loss: 0.12\n",
            "Training epoch took: 0:00:07\n",
            "======== Epoch 2 / 4 ========\n",
            "Average training loss: 0.00\n",
            "Training epoch took: 0:00:07\n",
            "======== Epoch 3 / 4 ========\n",
            "Average training loss: 0.10\n",
            "Training epoch took: 0:00:07\n",
            "======== Epoch 4 / 4 ========\n",
            "Average training loss: 0.00\n",
            "Training epoch took: 0:00:07\n",
            "Training completed in 0:00:29 (h:mm:ss)\n",
            "[0.9182762803361951, 0.9197660537694433, 0.919008752197823]\n",
            "################### ITERATION: 3 ###################\n",
            "======== Epoch 1 / 4 ========\n",
            "Average training loss: 0.30\n",
            "Training epoch took: 0:00:10\n",
            "======== Epoch 2 / 4 ========\n",
            "Average training loss: 0.12\n",
            "Training epoch took: 0:00:10\n",
            "======== Epoch 3 / 4 ========\n",
            "Average training loss: 0.05\n",
            "Training epoch took: 0:00:10\n",
            "======== Epoch 4 / 4 ========\n",
            "Average training loss: 0.03\n",
            "Training epoch took: 0:00:10\n",
            "Training completed in 0:00:38 (h:mm:ss)\n",
            "[0.9182762803361951, 0.9197660537694433, 0.919008752197823, 0.9170223856811204]\n",
            "################### ITERATION: 4 ###################\n",
            "======== Epoch 1 / 4 ========\n",
            "Average training loss: 0.10\n",
            "Training epoch took: 0:00:12\n",
            "======== Epoch 2 / 4 ========\n",
            "Average training loss: 0.06\n",
            "Training epoch took: 0:00:12\n",
            "======== Epoch 3 / 4 ========\n",
            "Average training loss: 0.01\n",
            "Training epoch took: 0:00:12\n",
            "======== Epoch 4 / 4 ========\n",
            "Average training loss: 0.00\n",
            "Training epoch took: 0:00:12\n",
            "Training completed in 0:00:48 (h:mm:ss)\n",
            "[0.9182762803361951, 0.9197660537694433, 0.919008752197823, 0.9170223856811204, 0.9222541154782407]\n",
            "################### ITERATION: 5 ###################\n",
            "======== Epoch 1 / 4 ========\n",
            "Average training loss: 0.06\n",
            "Training epoch took: 0:00:14\n",
            "======== Epoch 2 / 4 ========\n",
            "Average training loss: 0.02\n",
            "Training epoch took: 0:00:14\n",
            "======== Epoch 3 / 4 ========\n",
            "Average training loss: 0.00\n",
            "Training epoch took: 0:00:14\n",
            "======== Epoch 4 / 4 ========\n",
            "Average training loss: 0.00\n",
            "Training epoch took: 0:00:14\n",
            "Training completed in 0:00:57 (h:mm:ss)\n",
            "[0.9182762803361951, 0.9197660537694433, 0.919008752197823, 0.9170223856811204, 0.9222541154782407, 0.9189240282341543]\n",
            "################### ITERATION: 6 ###################\n",
            "======== Epoch 1 / 4 ========\n",
            "Average training loss: 0.08\n",
            "Training epoch took: 0:00:17\n",
            "======== Epoch 2 / 4 ========\n",
            "Average training loss: 0.04\n",
            "Training epoch took: 0:00:17\n",
            "======== Epoch 3 / 4 ========\n",
            "Average training loss: 0.00\n",
            "Training epoch took: 0:00:17\n",
            "======== Epoch 4 / 4 ========\n",
            "Average training loss: 0.00\n",
            "Training epoch took: 0:00:17\n",
            "Training completed in 0:01:07 (h:mm:ss)\n",
            "[0.9182762803361951, 0.9197660537694433, 0.919008752197823, 0.9170223856811204, 0.9222541154782407, 0.9189240282341543, 0.9188181580184274]\n",
            "################### ITERATION: 7 ###################\n",
            "======== Epoch 1 / 4 ========\n",
            "Average training loss: 0.06\n",
            "Training epoch took: 0:00:19\n",
            "======== Epoch 2 / 4 ========\n",
            "Average training loss: 0.01\n",
            "Training epoch took: 0:00:19\n",
            "======== Epoch 3 / 4 ========\n",
            "Average training loss: 0.00\n",
            "Training epoch took: 0:00:19\n",
            "======== Epoch 4 / 4 ========\n",
            "Average training loss: 0.00\n",
            "Training epoch took: 0:00:19\n",
            "Training completed in 0:01:17 (h:mm:ss)\n",
            "[0.9182762803361951, 0.9197660537694433, 0.919008752197823, 0.9170223856811204, 0.9222541154782407, 0.9189240282341543, 0.9188181580184274, 0.9325419464191161]\n",
            "################### ITERATION: 8 ###################\n",
            "======== Epoch 1 / 4 ========\n",
            "Average training loss: 0.05\n",
            "Training epoch took: 0:00:22\n",
            "======== Epoch 2 / 4 ========\n",
            "Average training loss: 0.02\n",
            "Training epoch took: 0:00:22\n",
            "======== Epoch 3 / 4 ========\n",
            "Average training loss: 0.01\n",
            "Training epoch took: 0:00:22\n",
            "======== Epoch 4 / 4 ========\n",
            "Average training loss: 0.00\n",
            "Training epoch took: 0:00:22\n",
            "Training completed in 0:01:26 (h:mm:ss)\n",
            "[0.9182762803361951, 0.9197660537694433, 0.919008752197823, 0.9170223856811204, 0.9222541154782407, 0.9189240282341543, 0.9188181580184274, 0.9325419464191161, 0.9188881171514236]\n",
            "################### ITERATION: 9 ###################\n",
            "======== Epoch 1 / 4 ========\n",
            "Average training loss: 0.04\n",
            "Training epoch took: 0:00:24\n",
            "======== Epoch 2 / 4 ========\n",
            "Average training loss: 0.02\n",
            "Training epoch took: 0:00:24\n",
            "======== Epoch 3 / 4 ========\n",
            "Average training loss: 0.00\n",
            "Training epoch took: 0:00:24\n",
            "======== Epoch 4 / 4 ========\n",
            "Average training loss: 0.00\n",
            "Training epoch took: 0:00:24\n",
            "Training completed in 0:01:36 (h:mm:ss)\n",
            "[0.9182762803361951, 0.9197660537694433, 0.919008752197823, 0.9170223856811204, 0.9222541154782407, 0.9189240282341543, 0.9188181580184274, 0.9325419464191161, 0.9188881171514236, 0.9154056016329991]\n",
            "################### ITERATION: 10 ###################\n",
            "======== Epoch 1 / 4 ========\n",
            "Average training loss: 0.05\n",
            "Training epoch took: 0:00:26\n",
            "======== Epoch 2 / 4 ========\n",
            "Average training loss: 0.02\n",
            "Training epoch took: 0:00:26\n",
            "======== Epoch 3 / 4 ========\n",
            "Average training loss: 0.01\n",
            "Training epoch took: 0:00:26\n",
            "======== Epoch 4 / 4 ========\n",
            "Average training loss: 0.00\n",
            "Training epoch took: 0:00:26\n",
            "Training completed in 0:01:45 (h:mm:ss)\n",
            "[0.9182762803361951, 0.9197660537694433, 0.919008752197823, 0.9170223856811204, 0.9222541154782407, 0.9189240282341543, 0.9188181580184274, 0.9325419464191161, 0.9188881171514236, 0.9154056016329991, 0.9235868360684659]\n",
            "################### ITERATION: 11 ###################\n",
            "======== Epoch 1 / 4 ========\n",
            "Average training loss: 0.04\n",
            "Training epoch took: 0:00:29\n",
            "======== Epoch 2 / 4 ========\n",
            "Average training loss: 0.00\n",
            "Training epoch took: 0:00:29\n",
            "======== Epoch 3 / 4 ========\n",
            "Average training loss: 0.00\n",
            "Training epoch took: 0:00:29\n",
            "======== Epoch 4 / 4 ========\n",
            "Average training loss: 0.00\n",
            "Training epoch took: 0:00:29\n",
            "Training completed in 0:01:55 (h:mm:ss)\n",
            "[0.9182762803361951, 0.9197660537694433, 0.919008752197823, 0.9170223856811204, 0.9222541154782407, 0.9189240282341543, 0.9188181580184274, 0.9325419464191161, 0.9188881171514236, 0.9154056016329991, 0.9235868360684659, 0.9336586262385882]\n",
            "################### ITERATION: 12 ###################\n",
            "======== Epoch 1 / 4 ========\n",
            "Average training loss: 0.02\n",
            "Training epoch took: 0:00:31\n",
            "======== Epoch 2 / 4 ========\n",
            "Average training loss: 0.02\n",
            "Training epoch took: 0:00:31\n",
            "======== Epoch 3 / 4 ========\n",
            "Average training loss: 0.00\n",
            "Training epoch took: 0:00:31\n",
            "======== Epoch 4 / 4 ========\n",
            "Average training loss: 0.00\n",
            "Training epoch took: 0:00:31\n",
            "Training completed in 0:02:04 (h:mm:ss)\n",
            "[0.9182762803361951, 0.9197660537694433, 0.919008752197823, 0.9170223856811204, 0.9222541154782407, 0.9189240282341543, 0.9188181580184274, 0.9325419464191161, 0.9188881171514236, 0.9154056016329991, 0.9235868360684659, 0.9336586262385882, 0.9280129469411591]\n",
            "################### ITERATION: 13 ###################\n",
            "======== Epoch 1 / 4 ========\n",
            "Average training loss: 0.05\n",
            "Training epoch took: 0:00:34\n",
            "======== Epoch 2 / 4 ========\n",
            "Average training loss: 0.03\n",
            "Training epoch took: 0:00:33\n",
            "======== Epoch 3 / 4 ========\n",
            "Average training loss: 0.01\n",
            "Training epoch took: 0:00:33\n",
            "======== Epoch 4 / 4 ========\n",
            "Average training loss: 0.01\n",
            "Training epoch took: 0:00:33\n",
            "Training completed in 0:02:14 (h:mm:ss)\n",
            "[0.9182762803361951, 0.9197660537694433, 0.919008752197823, 0.9170223856811204, 0.9222541154782407, 0.9189240282341543, 0.9188181580184274, 0.9325419464191161, 0.9188881171514236, 0.9154056016329991, 0.9235868360684659, 0.9336586262385882, 0.9280129469411591, 0.9285837388525842]\n",
            "################### ITERATION: 14 ###################\n",
            "======== Epoch 1 / 4 ========\n",
            "Average training loss: 0.04\n",
            "Training epoch took: 0:00:36\n",
            "======== Epoch 2 / 4 ========\n",
            "Average training loss: 0.02\n",
            "Training epoch took: 0:00:36\n",
            "======== Epoch 3 / 4 ========\n",
            "Average training loss: 0.01\n",
            "Training epoch took: 0:00:36\n",
            "======== Epoch 4 / 4 ========\n",
            "Average training loss: 0.00\n",
            "Training epoch took: 0:00:36\n",
            "Training completed in 0:02:23 (h:mm:ss)\n",
            "[0.9182762803361951, 0.9197660537694433, 0.919008752197823, 0.9170223856811204, 0.9222541154782407, 0.9189240282341543, 0.9188181580184274, 0.9325419464191161, 0.9188881171514236, 0.9154056016329991, 0.9235868360684659, 0.9336586262385882, 0.9280129469411591, 0.9285837388525842, 0.9263292828643135]\n",
            "################### ITERATION: 15 ###################\n",
            "======== Epoch 1 / 4 ========\n",
            "Average training loss: 0.04\n",
            "Training epoch took: 0:00:38\n",
            "======== Epoch 2 / 4 ========\n",
            "Average training loss: 0.02\n",
            "Training epoch took: 0:00:38\n",
            "======== Epoch 3 / 4 ========\n",
            "Average training loss: 0.01\n",
            "Training epoch took: 0:00:38\n",
            "======== Epoch 4 / 4 ========\n",
            "Average training loss: 0.00\n",
            "Training epoch took: 0:00:38\n",
            "Training completed in 0:02:33 (h:mm:ss)\n",
            "[0.9182762803361951, 0.9197660537694433, 0.919008752197823, 0.9170223856811204, 0.9222541154782407, 0.9189240282341543, 0.9188181580184274, 0.9325419464191161, 0.9188881171514236, 0.9154056016329991, 0.9235868360684659, 0.9336586262385882, 0.9280129469411591, 0.9285837388525842, 0.9263292828643135, 0.9192430629648938]\n",
            "################### ITERATION: 16 ###################\n",
            "======== Epoch 1 / 4 ========\n",
            "Average training loss: 0.03\n",
            "Training epoch took: 0:00:41\n",
            "======== Epoch 2 / 4 ========\n",
            "Average training loss: 0.01\n",
            "Training epoch took: 0:00:41\n",
            "======== Epoch 3 / 4 ========\n",
            "Average training loss: 0.00\n",
            "Training epoch took: 0:00:41\n",
            "======== Epoch 4 / 4 ========\n",
            "Average training loss: 0.01\n",
            "Training epoch took: 0:00:41\n",
            "Training completed in 0:02:43 (h:mm:ss)\n",
            "[0.9182762803361951, 0.9197660537694433, 0.919008752197823, 0.9170223856811204, 0.9222541154782407, 0.9189240282341543, 0.9188181580184274, 0.9325419464191161, 0.9188881171514236, 0.9154056016329991, 0.9235868360684659, 0.9336586262385882, 0.9280129469411591, 0.9285837388525842, 0.9263292828643135, 0.9192430629648938, 0.9270333253370339]\n",
            "################### ITERATION: 17 ###################\n",
            "======== Epoch 1 / 4 ========\n",
            "Average training loss: 0.04\n",
            "Training epoch took: 0:00:43\n",
            "======== Epoch 2 / 4 ========\n",
            "Average training loss: 0.01\n",
            "Training epoch took: 0:00:43\n",
            "======== Epoch 3 / 4 ========\n",
            "Average training loss: 0.02\n",
            "Training epoch took: 0:00:43\n",
            "======== Epoch 4 / 4 ========\n",
            "Average training loss: 0.01\n",
            "Training epoch took: 0:00:43\n",
            "Training completed in 0:02:52 (h:mm:ss)\n",
            "[0.9182762803361951, 0.9197660537694433, 0.919008752197823, 0.9170223856811204, 0.9222541154782407, 0.9189240282341543, 0.9188181580184274, 0.9325419464191161, 0.9188881171514236, 0.9154056016329991, 0.9235868360684659, 0.9336586262385882, 0.9280129469411591, 0.9285837388525842, 0.9263292828643135, 0.9192430629648938, 0.9270333253370339, 0.9177030452674898]\n",
            "################### ITERATION: 18 ###################\n",
            "======== Epoch 1 / 4 ========\n",
            "Average training loss: 0.03\n",
            "Training epoch took: 0:00:45\n",
            "======== Epoch 2 / 4 ========\n",
            "Average training loss: 0.00\n",
            "Training epoch took: 0:00:45\n",
            "======== Epoch 3 / 4 ========\n",
            "Average training loss: 0.00\n",
            "Training epoch took: 0:00:45\n",
            "======== Epoch 4 / 4 ========\n",
            "Average training loss: 0.01\n",
            "Training epoch took: 0:00:45\n",
            "Training completed in 0:03:02 (h:mm:ss)\n",
            "[0.9182762803361951, 0.9197660537694433, 0.919008752197823, 0.9170223856811204, 0.9222541154782407, 0.9189240282341543, 0.9188181580184274, 0.9325419464191161, 0.9188881171514236, 0.9154056016329991, 0.9235868360684659, 0.9336586262385882, 0.9280129469411591, 0.9285837388525842, 0.9263292828643135, 0.9192430629648938, 0.9270333253370339, 0.9177030452674898, 0.9268867464887771]\n",
            "################### ITERATION: 19 ###################\n",
            "======== Epoch 1 / 4 ========\n",
            "Average training loss: 0.04\n",
            "Training epoch took: 0:00:48\n",
            "======== Epoch 2 / 4 ========\n",
            "Average training loss: 0.02\n",
            "Training epoch took: 0:00:48\n",
            "======== Epoch 3 / 4 ========\n",
            "Average training loss: 0.01\n",
            "Training epoch took: 0:00:48\n",
            "======== Epoch 4 / 4 ========\n",
            "Average training loss: 0.00\n",
            "Training epoch took: 0:00:48\n",
            "Training completed in 0:03:11 (h:mm:ss)\n",
            "[0.9182762803361951, 0.9197660537694433, 0.919008752197823, 0.9170223856811204, 0.9222541154782407, 0.9189240282341543, 0.9188181580184274, 0.9325419464191161, 0.9188881171514236, 0.9154056016329991, 0.9235868360684659, 0.9336586262385882, 0.9280129469411591, 0.9285837388525842, 0.9263292828643135, 0.9192430629648938, 0.9270333253370339, 0.9177030452674898, 0.9268867464887771, 0.928644807697827]\n",
            "################### ITERATION: 20 ###################\n",
            "======== Epoch 1 / 4 ========\n",
            "Average training loss: 0.04\n",
            "Training epoch took: 0:00:50\n",
            "======== Epoch 2 / 4 ========\n",
            "Average training loss: 0.03\n",
            "Training epoch took: 0:00:50\n",
            "======== Epoch 3 / 4 ========\n",
            "Average training loss: 0.00\n",
            "Training epoch took: 0:00:50\n",
            "======== Epoch 4 / 4 ========\n",
            "Average training loss: 0.00\n",
            "Training epoch took: 0:00:50\n",
            "Training completed in 0:03:21 (h:mm:ss)\n",
            "[0.9182762803361951, 0.9197660537694433, 0.919008752197823, 0.9170223856811204, 0.9222541154782407, 0.9189240282341543, 0.9188181580184274, 0.9325419464191161, 0.9188881171514236, 0.9154056016329991, 0.9235868360684659, 0.9336586262385882, 0.9280129469411591, 0.9285837388525842, 0.9263292828643135, 0.9192430629648938, 0.9270333253370339, 0.9177030452674898, 0.9268867464887771, 0.928644807697827, 0.9370596880528953]\n",
            "################### ITERATION: 21 ###################\n",
            "======== Epoch 1 / 4 ========\n",
            "Average training loss: 0.05\n",
            "Training epoch took: 0:00:53\n",
            "======== Epoch 2 / 4 ========\n",
            "Average training loss: 0.01\n",
            "Training epoch took: 0:00:53\n",
            "======== Epoch 3 / 4 ========\n",
            "Average training loss: 0.00\n",
            "Training epoch took: 0:00:53\n",
            "======== Epoch 4 / 4 ========\n",
            "Average training loss: 0.00\n",
            "Training epoch took: 0:00:53\n",
            "Training completed in 0:03:31 (h:mm:ss)\n",
            "[0.9182762803361951, 0.9197660537694433, 0.919008752197823, 0.9170223856811204, 0.9222541154782407, 0.9189240282341543, 0.9188181580184274, 0.9325419464191161, 0.9188881171514236, 0.9154056016329991, 0.9235868360684659, 0.9336586262385882, 0.9280129469411591, 0.9285837388525842, 0.9263292828643135, 0.9192430629648938, 0.9270333253370339, 0.9177030452674898, 0.9268867464887771, 0.928644807697827, 0.9370596880528953, 0.9290751115329529]\n",
            "################### ITERATION: 22 ###################\n",
            "======== Epoch 1 / 4 ========\n",
            "Average training loss: 0.03\n",
            "Training epoch took: 0:00:55\n",
            "======== Epoch 2 / 4 ========\n",
            "Average training loss: 0.03\n",
            "Training epoch took: 0:00:55\n",
            "======== Epoch 3 / 4 ========\n",
            "Average training loss: 0.00\n",
            "Training epoch took: 0:00:55\n",
            "======== Epoch 4 / 4 ========\n",
            "Average training loss: 0.00\n",
            "Training epoch took: 0:00:55\n",
            "Training completed in 0:03:40 (h:mm:ss)\n",
            "[0.9182762803361951, 0.9197660537694433, 0.919008752197823, 0.9170223856811204, 0.9222541154782407, 0.9189240282341543, 0.9188181580184274, 0.9325419464191161, 0.9188881171514236, 0.9154056016329991, 0.9235868360684659, 0.9336586262385882, 0.9280129469411591, 0.9285837388525842, 0.9263292828643135, 0.9192430629648938, 0.9270333253370339, 0.9177030452674898, 0.9268867464887771, 0.928644807697827, 0.9370596880528953, 0.9290751115329529, 0.9241198104177671]\n",
            "################### ITERATION: 23 ###################\n",
            "======== Epoch 1 / 4 ========\n",
            "Average training loss: 0.05\n",
            "Training epoch took: 0:00:57\n",
            "======== Epoch 2 / 4 ========\n",
            "Average training loss: 0.01\n",
            "Training epoch took: 0:00:57\n",
            "======== Epoch 3 / 4 ========\n",
            "Average training loss: 0.01\n",
            "Training epoch took: 0:00:57\n",
            "======== Epoch 4 / 4 ========\n",
            "Average training loss: 0.00\n",
            "Training epoch took: 0:00:57\n",
            "Training completed in 0:03:50 (h:mm:ss)\n",
            "[0.9182762803361951, 0.9197660537694433, 0.919008752197823, 0.9170223856811204, 0.9222541154782407, 0.9189240282341543, 0.9188181580184274, 0.9325419464191161, 0.9188881171514236, 0.9154056016329991, 0.9235868360684659, 0.9336586262385882, 0.9280129469411591, 0.9285837388525842, 0.9263292828643135, 0.9192430629648938, 0.9270333253370339, 0.9177030452674898, 0.9268867464887771, 0.928644807697827, 0.9370596880528953, 0.9290751115329529, 0.9241198104177671, 0.9257147434529432]\n",
            "################### ITERATION: 24 ###################\n",
            "======== Epoch 1 / 4 ========\n",
            "Average training loss: 0.03\n",
            "Training epoch took: 0:01:00\n",
            "======== Epoch 2 / 4 ========\n",
            "Average training loss: 0.02\n",
            "Training epoch took: 0:01:00\n",
            "======== Epoch 3 / 4 ========\n",
            "Average training loss: 0.00\n",
            "Training epoch took: 0:01:00\n",
            "======== Epoch 4 / 4 ========\n",
            "Average training loss: 0.00\n",
            "Training epoch took: 0:01:00\n",
            "Training completed in 0:03:59 (h:mm:ss)\n",
            "[0.9182762803361951, 0.9197660537694433, 0.919008752197823, 0.9170223856811204, 0.9222541154782407, 0.9189240282341543, 0.9188181580184274, 0.9325419464191161, 0.9188881171514236, 0.9154056016329991, 0.9235868360684659, 0.9336586262385882, 0.9280129469411591, 0.9285837388525842, 0.9263292828643135, 0.9192430629648938, 0.9270333253370339, 0.9177030452674898, 0.9268867464887771, 0.928644807697827, 0.9370596880528953, 0.9290751115329529, 0.9241198104177671, 0.9257147434529432, 0.927121199326811]\n",
            "################### ITERATION: 25 ###################\n",
            "======== Epoch 1 / 4 ========\n",
            "Average training loss: 0.03\n",
            "Training epoch took: 0:01:02\n",
            "======== Epoch 2 / 4 ========\n",
            "Average training loss: 0.02\n",
            "Training epoch took: 0:01:02\n",
            "======== Epoch 3 / 4 ========\n",
            "Average training loss: 0.00\n",
            "Training epoch took: 0:01:02\n",
            "======== Epoch 4 / 4 ========\n",
            "Average training loss: 0.00\n",
            "Training epoch took: 0:01:02\n",
            "Training completed in 0:04:09 (h:mm:ss)\n",
            "[0.9182762803361951, 0.9197660537694433, 0.919008752197823, 0.9170223856811204, 0.9222541154782407, 0.9189240282341543, 0.9188181580184274, 0.9325419464191161, 0.9188881171514236, 0.9154056016329991, 0.9235868360684659, 0.9336586262385882, 0.9280129469411591, 0.9285837388525842, 0.9263292828643135, 0.9192430629648938, 0.9270333253370339, 0.9177030452674898, 0.9268867464887771, 0.928644807697827, 0.9370596880528953, 0.9290751115329529, 0.9241198104177671, 0.9257147434529432, 0.927121199326811, 0.9170661324649761]\n",
            "################### ITERATION: 26 ###################\n",
            "======== Epoch 1 / 4 ========\n",
            "Average training loss: 0.03\n",
            "Training epoch took: 0:01:05\n",
            "======== Epoch 2 / 4 ========\n",
            "Average training loss: 0.02\n",
            "Training epoch took: 0:01:05\n",
            "======== Epoch 3 / 4 ========\n",
            "Average training loss: 0.01\n",
            "Training epoch took: 0:01:05\n",
            "======== Epoch 4 / 4 ========\n",
            "Average training loss: 0.00\n",
            "Training epoch took: 0:01:05\n",
            "Training completed in 0:04:18 (h:mm:ss)\n",
            "[0.9182762803361951, 0.9197660537694433, 0.919008752197823, 0.9170223856811204, 0.9222541154782407, 0.9189240282341543, 0.9188181580184274, 0.9325419464191161, 0.9188881171514236, 0.9154056016329991, 0.9235868360684659, 0.9336586262385882, 0.9280129469411591, 0.9285837388525842, 0.9263292828643135, 0.9192430629648938, 0.9270333253370339, 0.9177030452674898, 0.9268867464887771, 0.928644807697827, 0.9370596880528953, 0.9290751115329529, 0.9241198104177671, 0.9257147434529432, 0.927121199326811, 0.9170661324649761, 0.9227329778791314]\n",
            "################### ITERATION: 27 ###################\n",
            "======== Epoch 1 / 4 ========\n",
            "Average training loss: 0.04\n",
            "Training epoch took: 0:01:07\n",
            "======== Epoch 2 / 4 ========\n",
            "Average training loss: 0.01\n",
            "Training epoch took: 0:01:07\n",
            "======== Epoch 3 / 4 ========\n",
            "Average training loss: 0.00\n",
            "Training epoch took: 0:01:07\n",
            "======== Epoch 4 / 4 ========\n",
            "Average training loss: 0.00\n",
            "Training epoch took: 0:01:07\n",
            "Training completed in 0:04:28 (h:mm:ss)\n",
            "[0.9182762803361951, 0.9197660537694433, 0.919008752197823, 0.9170223856811204, 0.9222541154782407, 0.9189240282341543, 0.9188181580184274, 0.9325419464191161, 0.9188881171514236, 0.9154056016329991, 0.9235868360684659, 0.9336586262385882, 0.9280129469411591, 0.9285837388525842, 0.9263292828643135, 0.9192430629648938, 0.9270333253370339, 0.9177030452674898, 0.9268867464887771, 0.928644807697827, 0.9370596880528953, 0.9290751115329529, 0.9241198104177671, 0.9257147434529432, 0.927121199326811, 0.9170661324649761, 0.9227329778791314, 0.9241308084126716]\n",
            "################### ITERATION: 28 ###################\n",
            "======== Epoch 1 / 4 ========\n",
            "Average training loss: 0.01\n",
            "Training epoch took: 0:01:09\n",
            "======== Epoch 2 / 4 ========\n",
            "Average training loss: 0.00\n",
            "Training epoch took: 0:01:09\n",
            "======== Epoch 3 / 4 ========\n",
            "Average training loss: 0.00\n",
            "Training epoch took: 0:01:09\n",
            "======== Epoch 4 / 4 ========\n",
            "Average training loss: 0.00\n",
            "Training epoch took: 0:01:09\n",
            "Training completed in 0:04:37 (h:mm:ss)\n",
            "[0.9182762803361951, 0.9197660537694433, 0.919008752197823, 0.9170223856811204, 0.9222541154782407, 0.9189240282341543, 0.9188181580184274, 0.9325419464191161, 0.9188881171514236, 0.9154056016329991, 0.9235868360684659, 0.9336586262385882, 0.9280129469411591, 0.9285837388525842, 0.9263292828643135, 0.9192430629648938, 0.9270333253370339, 0.9177030452674898, 0.9268867464887771, 0.928644807697827, 0.9370596880528953, 0.9290751115329529, 0.9241198104177671, 0.9257147434529432, 0.927121199326811, 0.9170661324649761, 0.9227329778791314, 0.9241308084126716, 0.9259019406060266]\n",
            "################### ITERATION: 29 ###################\n",
            "======== Epoch 1 / 4 ========\n",
            "Average training loss: 0.02\n",
            "Training epoch took: 0:01:12\n",
            "======== Epoch 2 / 4 ========\n",
            "Average training loss: 0.01\n",
            "Training epoch took: 0:01:12\n",
            "======== Epoch 3 / 4 ========\n",
            "Average training loss: 0.00\n",
            "Training epoch took: 0:01:12\n",
            "======== Epoch 4 / 4 ========\n",
            "Average training loss: 0.00\n",
            "Training epoch took: 0:01:12\n",
            "Training completed in 0:04:47 (h:mm:ss)\n",
            "[0.9182762803361951, 0.9197660537694433, 0.919008752197823, 0.9170223856811204, 0.9222541154782407, 0.9189240282341543, 0.9188181580184274, 0.9325419464191161, 0.9188881171514236, 0.9154056016329991, 0.9235868360684659, 0.9336586262385882, 0.9280129469411591, 0.9285837388525842, 0.9263292828643135, 0.9192430629648938, 0.9270333253370339, 0.9177030452674898, 0.9268867464887771, 0.928644807697827, 0.9370596880528953, 0.9290751115329529, 0.9241198104177671, 0.9257147434529432, 0.927121199326811, 0.9170661324649761, 0.9227329778791314, 0.9241308084126716, 0.9259019406060266, 0.928228291378085]\n",
            "################### ITERATION: 30 ###################\n",
            "======== Epoch 1 / 4 ========\n",
            "Average training loss: 0.02\n",
            "Training epoch took: 0:01:14\n",
            "======== Epoch 2 / 4 ========\n",
            "Average training loss: 0.01\n",
            "Training epoch took: 0:01:14\n",
            "======== Epoch 3 / 4 ========\n",
            "Average training loss: 0.00\n",
            "Training epoch took: 0:01:14\n",
            "======== Epoch 4 / 4 ========\n",
            "Average training loss: 0.00\n",
            "Training epoch took: 0:01:14\n",
            "Training completed in 0:04:56 (h:mm:ss)\n",
            "[0.9182762803361951, 0.9197660537694433, 0.919008752197823, 0.9170223856811204, 0.9222541154782407, 0.9189240282341543, 0.9188181580184274, 0.9325419464191161, 0.9188881171514236, 0.9154056016329991, 0.9235868360684659, 0.9336586262385882, 0.9280129469411591, 0.9285837388525842, 0.9263292828643135, 0.9192430629648938, 0.9270333253370339, 0.9177030452674898, 0.9268867464887771, 0.928644807697827, 0.9370596880528953, 0.9290751115329529, 0.9241198104177671, 0.9257147434529432, 0.927121199326811, 0.9170661324649761, 0.9227329778791314, 0.9241308084126716, 0.9259019406060266, 0.928228291378085, 0.9248599601530124]\n",
            "################### ITERATION: 31 ###################\n",
            "======== Epoch 1 / 4 ========\n",
            "Average training loss: 0.03\n",
            "Training epoch took: 0:01:16\n",
            "======== Epoch 2 / 4 ========\n",
            "Average training loss: 0.02\n",
            "Training epoch took: 0:01:16\n",
            "======== Epoch 3 / 4 ========\n",
            "Average training loss: 0.00\n",
            "Training epoch took: 0:01:16\n",
            "======== Epoch 4 / 4 ========\n",
            "Average training loss: 0.00\n",
            "Training epoch took: 0:01:16\n",
            "Training completed in 0:05:06 (h:mm:ss)\n",
            "[0.9182762803361951, 0.9197660537694433, 0.919008752197823, 0.9170223856811204, 0.9222541154782407, 0.9189240282341543, 0.9188181580184274, 0.9325419464191161, 0.9188881171514236, 0.9154056016329991, 0.9235868360684659, 0.9336586262385882, 0.9280129469411591, 0.9285837388525842, 0.9263292828643135, 0.9192430629648938, 0.9270333253370339, 0.9177030452674898, 0.9268867464887771, 0.928644807697827, 0.9370596880528953, 0.9290751115329529, 0.9241198104177671, 0.9257147434529432, 0.927121199326811, 0.9170661324649761, 0.9227329778791314, 0.9241308084126716, 0.9259019406060266, 0.928228291378085, 0.9248599601530124, 0.9190553356628736]\n",
            "################### ITERATION: 32 ###################\n",
            "======== Epoch 1 / 4 ========\n",
            "Average training loss: 0.04\n",
            "Training epoch took: 0:01:19\n",
            "======== Epoch 2 / 4 ========\n",
            "Average training loss: 0.01\n",
            "Training epoch took: 0:01:19\n",
            "======== Epoch 3 / 4 ========\n",
            "Average training loss: 0.01\n",
            "Training epoch took: 0:01:19\n",
            "======== Epoch 4 / 4 ========\n",
            "Average training loss: 0.00\n",
            "Training epoch took: 0:01:19\n",
            "Training completed in 0:05:16 (h:mm:ss)\n",
            "[0.9182762803361951, 0.9197660537694433, 0.919008752197823, 0.9170223856811204, 0.9222541154782407, 0.9189240282341543, 0.9188181580184274, 0.9325419464191161, 0.9188881171514236, 0.9154056016329991, 0.9235868360684659, 0.9336586262385882, 0.9280129469411591, 0.9285837388525842, 0.9263292828643135, 0.9192430629648938, 0.9270333253370339, 0.9177030452674898, 0.9268867464887771, 0.928644807697827, 0.9370596880528953, 0.9290751115329529, 0.9241198104177671, 0.9257147434529432, 0.927121199326811, 0.9170661324649761, 0.9227329778791314, 0.9241308084126716, 0.9259019406060266, 0.928228291378085, 0.9248599601530124, 0.9190553356628736, 0.9205862142856078]\n",
            "################### ITERATION: 33 ###################\n",
            "======== Epoch 1 / 4 ========\n",
            "Average training loss: 0.02\n",
            "Training epoch took: 0:01:21\n",
            "======== Epoch 2 / 4 ========\n",
            "Average training loss: 0.00\n",
            "Training epoch took: 0:01:21\n",
            "======== Epoch 3 / 4 ========\n",
            "Average training loss: 0.00\n",
            "Training epoch took: 0:01:21\n",
            "======== Epoch 4 / 4 ========\n",
            "Average training loss: 0.00\n",
            "Training epoch took: 0:01:21\n",
            "Training completed in 0:05:25 (h:mm:ss)\n",
            "[0.9182762803361951, 0.9197660537694433, 0.919008752197823, 0.9170223856811204, 0.9222541154782407, 0.9189240282341543, 0.9188181580184274, 0.9325419464191161, 0.9188881171514236, 0.9154056016329991, 0.9235868360684659, 0.9336586262385882, 0.9280129469411591, 0.9285837388525842, 0.9263292828643135, 0.9192430629648938, 0.9270333253370339, 0.9177030452674898, 0.9268867464887771, 0.928644807697827, 0.9370596880528953, 0.9290751115329529, 0.9241198104177671, 0.9257147434529432, 0.927121199326811, 0.9170661324649761, 0.9227329778791314, 0.9241308084126716, 0.9259019406060266, 0.928228291378085, 0.9248599601530124, 0.9190553356628736, 0.9205862142856078, 0.9285872967720802]\n",
            "################### ITERATION: 34 ###################\n",
            "======== Epoch 1 / 4 ========\n",
            "Average training loss: 0.02\n",
            "Training epoch took: 0:01:24\n",
            "======== Epoch 2 / 4 ========\n",
            "Average training loss: 0.01\n",
            "Training epoch took: 0:01:24\n",
            "======== Epoch 3 / 4 ========\n",
            "Average training loss: 0.00\n",
            "Training epoch took: 0:01:24\n",
            "======== Epoch 4 / 4 ========\n",
            "Average training loss: 0.00\n",
            "Training epoch took: 0:01:24\n",
            "Training completed in 0:05:35 (h:mm:ss)\n",
            "[0.9182762803361951, 0.9197660537694433, 0.919008752197823, 0.9170223856811204, 0.9222541154782407, 0.9189240282341543, 0.9188181580184274, 0.9325419464191161, 0.9188881171514236, 0.9154056016329991, 0.9235868360684659, 0.9336586262385882, 0.9280129469411591, 0.9285837388525842, 0.9263292828643135, 0.9192430629648938, 0.9270333253370339, 0.9177030452674898, 0.9268867464887771, 0.928644807697827, 0.9370596880528953, 0.9290751115329529, 0.9241198104177671, 0.9257147434529432, 0.927121199326811, 0.9170661324649761, 0.9227329778791314, 0.9241308084126716, 0.9259019406060266, 0.928228291378085, 0.9248599601530124, 0.9190553356628736, 0.9205862142856078, 0.9285872967720802, 0.9145456258236039]\n",
            "################### ITERATION: 35 ###################\n",
            "======== Epoch 1 / 4 ========\n",
            "Average training loss: 0.04\n",
            "Training epoch took: 0:01:26\n",
            "======== Epoch 2 / 4 ========\n",
            "Average training loss: 0.01\n",
            "Training epoch took: 0:01:26\n",
            "======== Epoch 3 / 4 ========\n",
            "Average training loss: 0.00\n",
            "Training epoch took: 0:01:26\n",
            "======== Epoch 4 / 4 ========\n",
            "Average training loss: 0.00\n",
            "Training epoch took: 0:01:26\n",
            "Training completed in 0:05:44 (h:mm:ss)\n",
            "[0.9182762803361951, 0.9197660537694433, 0.919008752197823, 0.9170223856811204, 0.9222541154782407, 0.9189240282341543, 0.9188181580184274, 0.9325419464191161, 0.9188881171514236, 0.9154056016329991, 0.9235868360684659, 0.9336586262385882, 0.9280129469411591, 0.9285837388525842, 0.9263292828643135, 0.9192430629648938, 0.9270333253370339, 0.9177030452674898, 0.9268867464887771, 0.928644807697827, 0.9370596880528953, 0.9290751115329529, 0.9241198104177671, 0.9257147434529432, 0.927121199326811, 0.9170661324649761, 0.9227329778791314, 0.9241308084126716, 0.9259019406060266, 0.928228291378085, 0.9248599601530124, 0.9190553356628736, 0.9205862142856078, 0.9285872967720802, 0.9145456258236039, 0.9174274450726537]\n",
            "################### ITERATION: 36 ###################\n",
            "======== Epoch 1 / 4 ========\n",
            "Average training loss: 0.04\n",
            "Training epoch took: 0:01:28\n",
            "======== Epoch 2 / 4 ========\n",
            "Average training loss: 0.01\n",
            "Training epoch took: 0:01:28\n",
            "======== Epoch 3 / 4 ========\n",
            "Average training loss: 0.00\n",
            "Training epoch took: 0:01:28\n",
            "======== Epoch 4 / 4 ========\n",
            "Average training loss: 0.00\n",
            "Training epoch took: 0:01:28\n",
            "Training completed in 0:05:54 (h:mm:ss)\n",
            "[0.9182762803361951, 0.9197660537694433, 0.919008752197823, 0.9170223856811204, 0.9222541154782407, 0.9189240282341543, 0.9188181580184274, 0.9325419464191161, 0.9188881171514236, 0.9154056016329991, 0.9235868360684659, 0.9336586262385882, 0.9280129469411591, 0.9285837388525842, 0.9263292828643135, 0.9192430629648938, 0.9270333253370339, 0.9177030452674898, 0.9268867464887771, 0.928644807697827, 0.9370596880528953, 0.9290751115329529, 0.9241198104177671, 0.9257147434529432, 0.927121199326811, 0.9170661324649761, 0.9227329778791314, 0.9241308084126716, 0.9259019406060266, 0.928228291378085, 0.9248599601530124, 0.9190553356628736, 0.9205862142856078, 0.9285872967720802, 0.9145456258236039, 0.9174274450726537, 0.9240181980977553]\n",
            "################### ITERATION: 37 ###################\n",
            "======== Epoch 1 / 4 ========\n",
            "Average training loss: 0.02\n",
            "Training epoch took: 0:01:31\n",
            "======== Epoch 2 / 4 ========\n",
            "Average training loss: 0.01\n",
            "Training epoch took: 0:01:31\n",
            "======== Epoch 3 / 4 ========\n",
            "Average training loss: 0.01\n",
            "Training epoch took: 0:01:31\n",
            "======== Epoch 4 / 4 ========\n",
            "Average training loss: 0.00\n",
            "Training epoch took: 0:01:31\n",
            "Training completed in 0:06:03 (h:mm:ss)\n",
            "[0.9182762803361951, 0.9197660537694433, 0.919008752197823, 0.9170223856811204, 0.9222541154782407, 0.9189240282341543, 0.9188181580184274, 0.9325419464191161, 0.9188881171514236, 0.9154056016329991, 0.9235868360684659, 0.9336586262385882, 0.9280129469411591, 0.9285837388525842, 0.9263292828643135, 0.9192430629648938, 0.9270333253370339, 0.9177030452674898, 0.9268867464887771, 0.928644807697827, 0.9370596880528953, 0.9290751115329529, 0.9241198104177671, 0.9257147434529432, 0.927121199326811, 0.9170661324649761, 0.9227329778791314, 0.9241308084126716, 0.9259019406060266, 0.928228291378085, 0.9248599601530124, 0.9190553356628736, 0.9205862142856078, 0.9285872967720802, 0.9145456258236039, 0.9174274450726537, 0.9240181980977553, 0.9292015119394998]\n",
            "################### ITERATION: 38 ###################\n",
            "======== Epoch 1 / 4 ========\n",
            "Average training loss: 0.01\n",
            "Training epoch took: 0:01:33\n",
            "======== Epoch 2 / 4 ========\n",
            "Average training loss: 0.01\n",
            "Training epoch took: 0:01:33\n",
            "======== Epoch 3 / 4 ========\n",
            "Average training loss: 0.00\n",
            "Training epoch took: 0:01:33\n",
            "======== Epoch 4 / 4 ========\n",
            "Average training loss: 0.00\n",
            "Training epoch took: 0:01:33\n",
            "Training completed in 0:06:13 (h:mm:ss)\n",
            "[0.9182762803361951, 0.9197660537694433, 0.919008752197823, 0.9170223856811204, 0.9222541154782407, 0.9189240282341543, 0.9188181580184274, 0.9325419464191161, 0.9188881171514236, 0.9154056016329991, 0.9235868360684659, 0.9336586262385882, 0.9280129469411591, 0.9285837388525842, 0.9263292828643135, 0.9192430629648938, 0.9270333253370339, 0.9177030452674898, 0.9268867464887771, 0.928644807697827, 0.9370596880528953, 0.9290751115329529, 0.9241198104177671, 0.9257147434529432, 0.927121199326811, 0.9170661324649761, 0.9227329778791314, 0.9241308084126716, 0.9259019406060266, 0.928228291378085, 0.9248599601530124, 0.9190553356628736, 0.9205862142856078, 0.9285872967720802, 0.9145456258236039, 0.9174274450726537, 0.9240181980977553, 0.9292015119394998, 0.9322664748169359]\n"
          ],
          "name": "stdout"
        }
      ]
    },
    {
      "cell_type": "code",
      "metadata": {
        "id": "9IyUBamM-oPx",
        "colab": {
          "base_uri": "https://localhost:8080/"
        },
        "outputId": "904a239a-efd8-4b36-8dcb-fd2e7d4e9be5"
      },
      "source": [
        "# hard sampling\n",
        "hard_cycle = BertActiveLearner(test=test, \n",
        "                           initial_train=initial_train, \n",
        "                           pool=pool, \n",
        "                           batch_size=batch_size,\n",
        "                           label_col_name=\"encoded_categories\",\n",
        "                           text_col_name=\"text\")\n",
        "\n",
        "hard_cycle.active_learning(num_iteration = iterations_num,\n",
        "                           sampling_method=SampleSelection().get_hard_samples)"
      ],
      "execution_count": null,
      "outputs": [
        {
          "output_type": "stream",
          "text": [
            "/usr/local/lib/python3.7/dist-packages/transformers/tokenization_utils_base.py:2079: FutureWarning: The `pad_to_max_length` argument is deprecated and will be removed in a future version, use `padding=True` or `padding='longest'` to pad to the longest sequence in the batch, or use `padding='max_length'` to pad to a max length. In this case, you can give a specific length with `max_length` (e.g. `max_length=45`) or leave max_length to None to pad to the maximal input size of the model (e.g. 512 for Bert).\n",
            "  FutureWarning,\n"
          ],
          "name": "stderr"
        },
        {
          "output_type": "stream",
          "text": [
            "======== Epoch 1 / 4 ========\n",
            "Average training loss: 0.00\n",
            "Training epoch took: 0:00:02\n",
            "======== Epoch 2 / 4 ========\n",
            "Average training loss: 0.00\n",
            "Training epoch took: 0:00:02\n",
            "======== Epoch 3 / 4 ========\n",
            "Average training loss: 0.00\n",
            "Training epoch took: 0:00:02\n",
            "======== Epoch 4 / 4 ========\n",
            "Average training loss: 0.00\n",
            "Training epoch took: 0:00:02\n",
            "Training completed in 0:00:10 (h:mm:ss)\n",
            "################### ITERATION: 1 ###################\n"
          ],
          "name": "stdout"
        },
        {
          "output_type": "stream",
          "text": [
            "/usr/local/lib/python3.7/dist-packages/transformers/tokenization_utils_base.py:2079: FutureWarning: The `pad_to_max_length` argument is deprecated and will be removed in a future version, use `padding=True` or `padding='longest'` to pad to the longest sequence in the batch, or use `padding='max_length'` to pad to a max length. In this case, you can give a specific length with `max_length` (e.g. `max_length=45`) or leave max_length to None to pad to the maximal input size of the model (e.g. 512 for Bert).\n",
            "  FutureWarning,\n"
          ],
          "name": "stderr"
        },
        {
          "output_type": "stream",
          "text": [
            "======== Epoch 1 / 4 ========\n",
            "Average training loss: 0.01\n",
            "Training epoch took: 0:00:05\n",
            "======== Epoch 2 / 4 ========\n",
            "Average training loss: 0.05\n",
            "Training epoch took: 0:00:05\n",
            "======== Epoch 3 / 4 ========\n",
            "Average training loss: 0.06\n",
            "Training epoch took: 0:00:05\n",
            "======== Epoch 4 / 4 ========\n",
            "Average training loss: 0.00\n",
            "Training epoch took: 0:00:05\n",
            "Training completed in 0:00:19 (h:mm:ss)\n",
            "[0.9322664748169359, 0.9279248271167642]\n",
            "################### ITERATION: 2 ###################\n"
          ],
          "name": "stdout"
        },
        {
          "output_type": "stream",
          "text": [
            "/usr/local/lib/python3.7/dist-packages/transformers/tokenization_utils_base.py:2079: FutureWarning: The `pad_to_max_length` argument is deprecated and will be removed in a future version, use `padding=True` or `padding='longest'` to pad to the longest sequence in the batch, or use `padding='max_length'` to pad to a max length. In this case, you can give a specific length with `max_length` (e.g. `max_length=45`) or leave max_length to None to pad to the maximal input size of the model (e.g. 512 for Bert).\n",
            "  FutureWarning,\n"
          ],
          "name": "stderr"
        },
        {
          "output_type": "stream",
          "text": [
            "======== Epoch 1 / 4 ========\n",
            "Average training loss: 0.01\n",
            "Training epoch took: 0:00:07\n",
            "======== Epoch 2 / 4 ========\n",
            "Average training loss: 0.01\n",
            "Training epoch took: 0:00:07\n",
            "======== Epoch 3 / 4 ========\n",
            "Average training loss: 0.01\n",
            "Training epoch took: 0:00:07\n",
            "======== Epoch 4 / 4 ========\n",
            "Average training loss: 0.00\n",
            "Training epoch took: 0:00:07\n",
            "Training completed in 0:00:29 (h:mm:ss)\n",
            "[0.9322664748169359, 0.9279248271167642, 0.9354551886657585]\n",
            "################### ITERATION: 3 ###################\n"
          ],
          "name": "stdout"
        },
        {
          "output_type": "stream",
          "text": [
            "/usr/local/lib/python3.7/dist-packages/transformers/tokenization_utils_base.py:2079: FutureWarning: The `pad_to_max_length` argument is deprecated and will be removed in a future version, use `padding=True` or `padding='longest'` to pad to the longest sequence in the batch, or use `padding='max_length'` to pad to a max length. In this case, you can give a specific length with `max_length` (e.g. `max_length=45`) or leave max_length to None to pad to the maximal input size of the model (e.g. 512 for Bert).\n",
            "  FutureWarning,\n"
          ],
          "name": "stderr"
        },
        {
          "output_type": "stream",
          "text": [
            "======== Epoch 1 / 4 ========\n",
            "Average training loss: 0.00\n",
            "Training epoch took: 0:00:10\n",
            "======== Epoch 2 / 4 ========\n",
            "Average training loss: 0.00\n",
            "Training epoch took: 0:00:10\n",
            "======== Epoch 3 / 4 ========\n",
            "Average training loss: 0.00\n",
            "Training epoch took: 0:00:10\n",
            "======== Epoch 4 / 4 ========\n",
            "Average training loss: 0.00\n",
            "Training epoch took: 0:00:10\n",
            "Training completed in 0:00:38 (h:mm:ss)\n",
            "[0.9322664748169359, 0.9279248271167642, 0.9354551886657585, 0.9331912872404876]\n",
            "################### ITERATION: 4 ###################\n"
          ],
          "name": "stdout"
        },
        {
          "output_type": "stream",
          "text": [
            "/usr/local/lib/python3.7/dist-packages/transformers/tokenization_utils_base.py:2079: FutureWarning: The `pad_to_max_length` argument is deprecated and will be removed in a future version, use `padding=True` or `padding='longest'` to pad to the longest sequence in the batch, or use `padding='max_length'` to pad to a max length. In this case, you can give a specific length with `max_length` (e.g. `max_length=45`) or leave max_length to None to pad to the maximal input size of the model (e.g. 512 for Bert).\n",
            "  FutureWarning,\n"
          ],
          "name": "stderr"
        },
        {
          "output_type": "stream",
          "text": [
            "======== Epoch 1 / 4 ========\n",
            "Average training loss: 0.00\n",
            "Training epoch took: 0:00:12\n",
            "======== Epoch 2 / 4 ========\n",
            "Average training loss: 0.00\n",
            "Training epoch took: 0:00:12\n",
            "======== Epoch 3 / 4 ========\n",
            "Average training loss: 0.00\n",
            "Training epoch took: 0:00:12\n",
            "======== Epoch 4 / 4 ========\n",
            "Average training loss: 0.00\n",
            "Training epoch took: 0:00:12\n",
            "Training completed in 0:00:48 (h:mm:ss)\n",
            "[0.9322664748169359, 0.9279248271167642, 0.9354551886657585, 0.9331912872404876, 0.9318710358807228]\n",
            "################### ITERATION: 5 ###################\n"
          ],
          "name": "stdout"
        },
        {
          "output_type": "stream",
          "text": [
            "/usr/local/lib/python3.7/dist-packages/transformers/tokenization_utils_base.py:2079: FutureWarning: The `pad_to_max_length` argument is deprecated and will be removed in a future version, use `padding=True` or `padding='longest'` to pad to the longest sequence in the batch, or use `padding='max_length'` to pad to a max length. In this case, you can give a specific length with `max_length` (e.g. `max_length=45`) or leave max_length to None to pad to the maximal input size of the model (e.g. 512 for Bert).\n",
            "  FutureWarning,\n"
          ],
          "name": "stderr"
        },
        {
          "output_type": "stream",
          "text": [
            "======== Epoch 1 / 4 ========\n",
            "Average training loss: 0.01\n",
            "Training epoch took: 0:00:14\n",
            "======== Epoch 2 / 4 ========\n",
            "Average training loss: 0.00\n",
            "Training epoch took: 0:00:14\n",
            "======== Epoch 3 / 4 ========\n",
            "Average training loss: 0.00\n",
            "Training epoch took: 0:00:14\n",
            "======== Epoch 4 / 4 ========\n",
            "Average training loss: 0.00\n",
            "Training epoch took: 0:00:14\n",
            "Training completed in 0:00:57 (h:mm:ss)\n",
            "[0.9322664748169359, 0.9279248271167642, 0.9354551886657585, 0.9331912872404876, 0.9318710358807228, 0.9290822462380371]\n",
            "################### ITERATION: 6 ###################\n"
          ],
          "name": "stdout"
        },
        {
          "output_type": "stream",
          "text": [
            "/usr/local/lib/python3.7/dist-packages/transformers/tokenization_utils_base.py:2079: FutureWarning: The `pad_to_max_length` argument is deprecated and will be removed in a future version, use `padding=True` or `padding='longest'` to pad to the longest sequence in the batch, or use `padding='max_length'` to pad to a max length. In this case, you can give a specific length with `max_length` (e.g. `max_length=45`) or leave max_length to None to pad to the maximal input size of the model (e.g. 512 for Bert).\n",
            "  FutureWarning,\n"
          ],
          "name": "stderr"
        },
        {
          "output_type": "stream",
          "text": [
            "======== Epoch 1 / 4 ========\n",
            "Average training loss: 0.00\n",
            "Training epoch took: 0:00:17\n",
            "======== Epoch 2 / 4 ========\n",
            "Average training loss: 0.00\n",
            "Training epoch took: 0:00:17\n",
            "======== Epoch 3 / 4 ========\n",
            "Average training loss: 0.00\n",
            "Training epoch took: 0:00:17\n",
            "======== Epoch 4 / 4 ========\n",
            "Average training loss: 0.00\n",
            "Training epoch took: 0:00:17\n",
            "Training completed in 0:01:07 (h:mm:ss)\n",
            "[0.9322664748169359, 0.9279248271167642, 0.9354551886657585, 0.9331912872404876, 0.9318710358807228, 0.9290822462380371, 0.9247841739756135]\n",
            "################### ITERATION: 7 ###################\n"
          ],
          "name": "stdout"
        },
        {
          "output_type": "stream",
          "text": [
            "/usr/local/lib/python3.7/dist-packages/transformers/tokenization_utils_base.py:2079: FutureWarning: The `pad_to_max_length` argument is deprecated and will be removed in a future version, use `padding=True` or `padding='longest'` to pad to the longest sequence in the batch, or use `padding='max_length'` to pad to a max length. In this case, you can give a specific length with `max_length` (e.g. `max_length=45`) or leave max_length to None to pad to the maximal input size of the model (e.g. 512 for Bert).\n",
            "  FutureWarning,\n"
          ],
          "name": "stderr"
        },
        {
          "output_type": "stream",
          "text": [
            "======== Epoch 1 / 4 ========\n",
            "Average training loss: 0.00\n",
            "Training epoch took: 0:00:19\n",
            "======== Epoch 2 / 4 ========\n",
            "Average training loss: 0.00\n",
            "Training epoch took: 0:00:19\n",
            "======== Epoch 3 / 4 ========\n",
            "Average training loss: 0.00\n",
            "Training epoch took: 0:00:19\n",
            "======== Epoch 4 / 4 ========\n",
            "Average training loss: 0.00\n",
            "Training epoch took: 0:00:19\n",
            "Training completed in 0:01:16 (h:mm:ss)\n",
            "[0.9322664748169359, 0.9279248271167642, 0.9354551886657585, 0.9331912872404876, 0.9318710358807228, 0.9290822462380371, 0.9247841739756135, 0.9261832127253298]\n",
            "################### ITERATION: 8 ###################\n"
          ],
          "name": "stdout"
        },
        {
          "output_type": "stream",
          "text": [
            "/usr/local/lib/python3.7/dist-packages/transformers/tokenization_utils_base.py:2079: FutureWarning: The `pad_to_max_length` argument is deprecated and will be removed in a future version, use `padding=True` or `padding='longest'` to pad to the longest sequence in the batch, or use `padding='max_length'` to pad to a max length. In this case, you can give a specific length with `max_length` (e.g. `max_length=45`) or leave max_length to None to pad to the maximal input size of the model (e.g. 512 for Bert).\n",
            "  FutureWarning,\n"
          ],
          "name": "stderr"
        },
        {
          "output_type": "stream",
          "text": [
            "======== Epoch 1 / 4 ========\n",
            "Average training loss: 0.00\n",
            "Training epoch took: 0:00:22\n",
            "======== Epoch 2 / 4 ========\n",
            "Average training loss: 0.02\n",
            "Training epoch took: 0:00:22\n",
            "======== Epoch 3 / 4 ========\n",
            "Average training loss: 0.00\n",
            "Training epoch took: 0:00:22\n",
            "======== Epoch 4 / 4 ========\n",
            "Average training loss: 0.00\n",
            "Training epoch took: 0:00:22\n",
            "Training completed in 0:01:26 (h:mm:ss)\n",
            "[0.9322664748169359, 0.9279248271167642, 0.9354551886657585, 0.9331912872404876, 0.9318710358807228, 0.9290822462380371, 0.9247841739756135, 0.9261832127253298, 0.9243764416889447]\n",
            "################### ITERATION: 9 ###################\n"
          ],
          "name": "stdout"
        },
        {
          "output_type": "stream",
          "text": [
            "/usr/local/lib/python3.7/dist-packages/transformers/tokenization_utils_base.py:2079: FutureWarning: The `pad_to_max_length` argument is deprecated and will be removed in a future version, use `padding=True` or `padding='longest'` to pad to the longest sequence in the batch, or use `padding='max_length'` to pad to a max length. In this case, you can give a specific length with `max_length` (e.g. `max_length=45`) or leave max_length to None to pad to the maximal input size of the model (e.g. 512 for Bert).\n",
            "  FutureWarning,\n"
          ],
          "name": "stderr"
        },
        {
          "output_type": "stream",
          "text": [
            "======== Epoch 1 / 4 ========\n",
            "Average training loss: 0.00\n",
            "Training epoch took: 0:00:24\n",
            "======== Epoch 2 / 4 ========\n",
            "Average training loss: 0.00\n",
            "Training epoch took: 0:00:24\n",
            "======== Epoch 3 / 4 ========\n",
            "Average training loss: 0.00\n",
            "Training epoch took: 0:00:24\n",
            "======== Epoch 4 / 4 ========\n",
            "Average training loss: 0.00\n",
            "Training epoch took: 0:00:24\n",
            "Training completed in 0:01:36 (h:mm:ss)\n",
            "[0.9322664748169359, 0.9279248271167642, 0.9354551886657585, 0.9331912872404876, 0.9318710358807228, 0.9290822462380371, 0.9247841739756135, 0.9261832127253298, 0.9243764416889447, 0.929605220905264]\n",
            "################### ITERATION: 10 ###################\n"
          ],
          "name": "stdout"
        },
        {
          "output_type": "stream",
          "text": [
            "/usr/local/lib/python3.7/dist-packages/transformers/tokenization_utils_base.py:2079: FutureWarning: The `pad_to_max_length` argument is deprecated and will be removed in a future version, use `padding=True` or `padding='longest'` to pad to the longest sequence in the batch, or use `padding='max_length'` to pad to a max length. In this case, you can give a specific length with `max_length` (e.g. `max_length=45`) or leave max_length to None to pad to the maximal input size of the model (e.g. 512 for Bert).\n",
            "  FutureWarning,\n"
          ],
          "name": "stderr"
        },
        {
          "output_type": "stream",
          "text": [
            "======== Epoch 1 / 4 ========\n",
            "Average training loss: 0.00\n",
            "Training epoch took: 0:00:26\n",
            "======== Epoch 2 / 4 ========\n",
            "Average training loss: 0.00\n",
            "Training epoch took: 0:00:26\n",
            "======== Epoch 3 / 4 ========\n",
            "Average training loss: 0.00\n",
            "Training epoch took: 0:00:26\n",
            "======== Epoch 4 / 4 ========\n",
            "Average training loss: 0.00\n",
            "Training epoch took: 0:00:26\n",
            "Training completed in 0:01:45 (h:mm:ss)\n",
            "[0.9322664748169359, 0.9279248271167642, 0.9354551886657585, 0.9331912872404876, 0.9318710358807228, 0.9290822462380371, 0.9247841739756135, 0.9261832127253298, 0.9243764416889447, 0.929605220905264, 0.9255376329699402]\n",
            "################### ITERATION: 11 ###################\n"
          ],
          "name": "stdout"
        },
        {
          "output_type": "stream",
          "text": [
            "/usr/local/lib/python3.7/dist-packages/transformers/tokenization_utils_base.py:2079: FutureWarning: The `pad_to_max_length` argument is deprecated and will be removed in a future version, use `padding=True` or `padding='longest'` to pad to the longest sequence in the batch, or use `padding='max_length'` to pad to a max length. In this case, you can give a specific length with `max_length` (e.g. `max_length=45`) or leave max_length to None to pad to the maximal input size of the model (e.g. 512 for Bert).\n",
            "  FutureWarning,\n"
          ],
          "name": "stderr"
        },
        {
          "output_type": "stream",
          "text": [
            "======== Epoch 1 / 4 ========\n",
            "Average training loss: 0.00\n",
            "Training epoch took: 0:00:29\n",
            "======== Epoch 2 / 4 ========\n",
            "Average training loss: 0.00\n",
            "Training epoch took: 0:00:29\n",
            "======== Epoch 3 / 4 ========\n",
            "Average training loss: 0.00\n",
            "Training epoch took: 0:00:29\n",
            "======== Epoch 4 / 4 ========\n",
            "Average training loss: 0.00\n",
            "Training epoch took: 0:00:29\n",
            "Training completed in 0:01:55 (h:mm:ss)\n",
            "[0.9322664748169359, 0.9279248271167642, 0.9354551886657585, 0.9331912872404876, 0.9318710358807228, 0.9290822462380371, 0.9247841739756135, 0.9261832127253298, 0.9243764416889447, 0.929605220905264, 0.9255376329699402, 0.9307406367257851]\n",
            "################### ITERATION: 12 ###################\n"
          ],
          "name": "stdout"
        },
        {
          "output_type": "stream",
          "text": [
            "/usr/local/lib/python3.7/dist-packages/transformers/tokenization_utils_base.py:2079: FutureWarning: The `pad_to_max_length` argument is deprecated and will be removed in a future version, use `padding=True` or `padding='longest'` to pad to the longest sequence in the batch, or use `padding='max_length'` to pad to a max length. In this case, you can give a specific length with `max_length` (e.g. `max_length=45`) or leave max_length to None to pad to the maximal input size of the model (e.g. 512 for Bert).\n",
            "  FutureWarning,\n"
          ],
          "name": "stderr"
        },
        {
          "output_type": "stream",
          "text": [
            "======== Epoch 1 / 4 ========\n",
            "Average training loss: 0.00\n",
            "Training epoch took: 0:00:31\n",
            "======== Epoch 2 / 4 ========\n",
            "Average training loss: 0.00\n",
            "Training epoch took: 0:00:31\n",
            "======== Epoch 3 / 4 ========\n",
            "Average training loss: 0.00\n",
            "Training epoch took: 0:00:31\n",
            "======== Epoch 4 / 4 ========\n",
            "Average training loss: 0.00\n",
            "Training epoch took: 0:00:31\n",
            "Training completed in 0:02:04 (h:mm:ss)\n",
            "[0.9322664748169359, 0.9279248271167642, 0.9354551886657585, 0.9331912872404876, 0.9318710358807228, 0.9290822462380371, 0.9247841739756135, 0.9261832127253298, 0.9243764416889447, 0.929605220905264, 0.9255376329699402, 0.9307406367257851, 0.9222443800124985]\n",
            "################### ITERATION: 13 ###################\n"
          ],
          "name": "stdout"
        },
        {
          "output_type": "stream",
          "text": [
            "/usr/local/lib/python3.7/dist-packages/transformers/tokenization_utils_base.py:2079: FutureWarning: The `pad_to_max_length` argument is deprecated and will be removed in a future version, use `padding=True` or `padding='longest'` to pad to the longest sequence in the batch, or use `padding='max_length'` to pad to a max length. In this case, you can give a specific length with `max_length` (e.g. `max_length=45`) or leave max_length to None to pad to the maximal input size of the model (e.g. 512 for Bert).\n",
            "  FutureWarning,\n"
          ],
          "name": "stderr"
        },
        {
          "output_type": "stream",
          "text": [
            "======== Epoch 1 / 4 ========\n",
            "Average training loss: 0.01\n",
            "Training epoch took: 0:00:33\n",
            "======== Epoch 2 / 4 ========\n",
            "Average training loss: 0.03\n",
            "Training epoch took: 0:00:33\n",
            "======== Epoch 3 / 4 ========\n",
            "Average training loss: 0.00\n",
            "Training epoch took: 0:00:34\n",
            "======== Epoch 4 / 4 ========\n",
            "Average training loss: 0.00\n",
            "Training epoch took: 0:00:33\n",
            "Training completed in 0:02:14 (h:mm:ss)\n",
            "[0.9322664748169359, 0.9279248271167642, 0.9354551886657585, 0.9331912872404876, 0.9318710358807228, 0.9290822462380371, 0.9247841739756135, 0.9261832127253298, 0.9243764416889447, 0.929605220905264, 0.9255376329699402, 0.9307406367257851, 0.9222443800124985, 0.9339043083949559]\n",
            "################### ITERATION: 14 ###################\n"
          ],
          "name": "stdout"
        },
        {
          "output_type": "stream",
          "text": [
            "/usr/local/lib/python3.7/dist-packages/transformers/tokenization_utils_base.py:2079: FutureWarning: The `pad_to_max_length` argument is deprecated and will be removed in a future version, use `padding=True` or `padding='longest'` to pad to the longest sequence in the batch, or use `padding='max_length'` to pad to a max length. In this case, you can give a specific length with `max_length` (e.g. `max_length=45`) or leave max_length to None to pad to the maximal input size of the model (e.g. 512 for Bert).\n",
            "  FutureWarning,\n"
          ],
          "name": "stderr"
        },
        {
          "output_type": "stream",
          "text": [
            "======== Epoch 1 / 4 ========\n",
            "Average training loss: 0.00\n",
            "Training epoch took: 0:00:36\n",
            "======== Epoch 2 / 4 ========\n",
            "Average training loss: 0.00\n",
            "Training epoch took: 0:00:36\n",
            "======== Epoch 3 / 4 ========\n",
            "Average training loss: 0.00\n",
            "Training epoch took: 0:00:36\n",
            "======== Epoch 4 / 4 ========\n",
            "Average training loss: 0.00\n",
            "Training epoch took: 0:00:36\n",
            "Training completed in 0:02:23 (h:mm:ss)\n",
            "[0.9322664748169359, 0.9279248271167642, 0.9354551886657585, 0.9331912872404876, 0.9318710358807228, 0.9290822462380371, 0.9247841739756135, 0.9261832127253298, 0.9243764416889447, 0.929605220905264, 0.9255376329699402, 0.9307406367257851, 0.9222443800124985, 0.9339043083949559, 0.9309875593042046]\n",
            "################### ITERATION: 15 ###################\n"
          ],
          "name": "stdout"
        },
        {
          "output_type": "stream",
          "text": [
            "/usr/local/lib/python3.7/dist-packages/transformers/tokenization_utils_base.py:2079: FutureWarning: The `pad_to_max_length` argument is deprecated and will be removed in a future version, use `padding=True` or `padding='longest'` to pad to the longest sequence in the batch, or use `padding='max_length'` to pad to a max length. In this case, you can give a specific length with `max_length` (e.g. `max_length=45`) or leave max_length to None to pad to the maximal input size of the model (e.g. 512 for Bert).\n",
            "  FutureWarning,\n"
          ],
          "name": "stderr"
        },
        {
          "output_type": "stream",
          "text": [
            "======== Epoch 1 / 4 ========\n",
            "Average training loss: 0.00\n",
            "Training epoch took: 0:00:38\n",
            "======== Epoch 2 / 4 ========\n",
            "Average training loss: 0.00\n",
            "Training epoch took: 0:00:38\n",
            "======== Epoch 3 / 4 ========\n",
            "Average training loss: 0.00\n",
            "Training epoch took: 0:00:38\n",
            "======== Epoch 4 / 4 ========\n",
            "Average training loss: 0.00\n",
            "Training epoch took: 0:00:38\n",
            "Training completed in 0:02:33 (h:mm:ss)\n",
            "[0.9322664748169359, 0.9279248271167642, 0.9354551886657585, 0.9331912872404876, 0.9318710358807228, 0.9290822462380371, 0.9247841739756135, 0.9261832127253298, 0.9243764416889447, 0.929605220905264, 0.9255376329699402, 0.9307406367257851, 0.9222443800124985, 0.9339043083949559, 0.9309875593042046, 0.9345255670550302]\n",
            "################### ITERATION: 16 ###################\n"
          ],
          "name": "stdout"
        },
        {
          "output_type": "stream",
          "text": [
            "/usr/local/lib/python3.7/dist-packages/transformers/tokenization_utils_base.py:2079: FutureWarning: The `pad_to_max_length` argument is deprecated and will be removed in a future version, use `padding=True` or `padding='longest'` to pad to the longest sequence in the batch, or use `padding='max_length'` to pad to a max length. In this case, you can give a specific length with `max_length` (e.g. `max_length=45`) or leave max_length to None to pad to the maximal input size of the model (e.g. 512 for Bert).\n",
            "  FutureWarning,\n"
          ],
          "name": "stderr"
        },
        {
          "output_type": "stream",
          "text": [
            "======== Epoch 1 / 4 ========\n",
            "Average training loss: 0.00\n",
            "Training epoch took: 0:00:41\n",
            "======== Epoch 2 / 4 ========\n",
            "Average training loss: 0.00\n",
            "Training epoch took: 0:00:41\n",
            "======== Epoch 3 / 4 ========\n",
            "Average training loss: 0.00\n",
            "Training epoch took: 0:00:41\n",
            "======== Epoch 4 / 4 ========\n",
            "Average training loss: 0.00\n",
            "Training epoch took: 0:00:41\n",
            "Training completed in 0:02:43 (h:mm:ss)\n",
            "[0.9322664748169359, 0.9279248271167642, 0.9354551886657585, 0.9331912872404876, 0.9318710358807228, 0.9290822462380371, 0.9247841739756135, 0.9261832127253298, 0.9243764416889447, 0.929605220905264, 0.9255376329699402, 0.9307406367257851, 0.9222443800124985, 0.9339043083949559, 0.9309875593042046, 0.9345255670550302, 0.9334284560007653]\n",
            "################### ITERATION: 17 ###################\n"
          ],
          "name": "stdout"
        },
        {
          "output_type": "stream",
          "text": [
            "/usr/local/lib/python3.7/dist-packages/transformers/tokenization_utils_base.py:2079: FutureWarning: The `pad_to_max_length` argument is deprecated and will be removed in a future version, use `padding=True` or `padding='longest'` to pad to the longest sequence in the batch, or use `padding='max_length'` to pad to a max length. In this case, you can give a specific length with `max_length` (e.g. `max_length=45`) or leave max_length to None to pad to the maximal input size of the model (e.g. 512 for Bert).\n",
            "  FutureWarning,\n"
          ],
          "name": "stderr"
        },
        {
          "output_type": "stream",
          "text": [
            "======== Epoch 1 / 4 ========\n",
            "Average training loss: 0.00\n",
            "Training epoch took: 0:00:43\n",
            "======== Epoch 2 / 4 ========\n",
            "Average training loss: 0.01\n",
            "Training epoch took: 0:00:43\n",
            "======== Epoch 3 / 4 ========\n",
            "Average training loss: 0.00\n",
            "Training epoch took: 0:00:43\n",
            "======== Epoch 4 / 4 ========\n",
            "Average training loss: 0.00\n",
            "Training epoch took: 0:00:43\n",
            "Training completed in 0:02:52 (h:mm:ss)\n",
            "[0.9322664748169359, 0.9279248271167642, 0.9354551886657585, 0.9331912872404876, 0.9318710358807228, 0.9290822462380371, 0.9247841739756135, 0.9261832127253298, 0.9243764416889447, 0.929605220905264, 0.9255376329699402, 0.9307406367257851, 0.9222443800124985, 0.9339043083949559, 0.9309875593042046, 0.9345255670550302, 0.9334284560007653, 0.9315643958684264]\n",
            "################### ITERATION: 18 ###################\n"
          ],
          "name": "stdout"
        },
        {
          "output_type": "stream",
          "text": [
            "/usr/local/lib/python3.7/dist-packages/transformers/tokenization_utils_base.py:2079: FutureWarning: The `pad_to_max_length` argument is deprecated and will be removed in a future version, use `padding=True` or `padding='longest'` to pad to the longest sequence in the batch, or use `padding='max_length'` to pad to a max length. In this case, you can give a specific length with `max_length` (e.g. `max_length=45`) or leave max_length to None to pad to the maximal input size of the model (e.g. 512 for Bert).\n",
            "  FutureWarning,\n"
          ],
          "name": "stderr"
        },
        {
          "output_type": "stream",
          "text": [
            "======== Epoch 1 / 4 ========\n",
            "Average training loss: 0.00\n",
            "Training epoch took: 0:00:45\n",
            "======== Epoch 2 / 4 ========\n",
            "Average training loss: 0.01\n",
            "Training epoch took: 0:00:45\n",
            "======== Epoch 3 / 4 ========\n",
            "Average training loss: 0.00\n",
            "Training epoch took: 0:00:45\n",
            "======== Epoch 4 / 4 ========\n",
            "Average training loss: 0.00\n",
            "Training epoch took: 0:00:45\n",
            "Training completed in 0:03:02 (h:mm:ss)\n",
            "[0.9322664748169359, 0.9279248271167642, 0.9354551886657585, 0.9331912872404876, 0.9318710358807228, 0.9290822462380371, 0.9247841739756135, 0.9261832127253298, 0.9243764416889447, 0.929605220905264, 0.9255376329699402, 0.9307406367257851, 0.9222443800124985, 0.9339043083949559, 0.9309875593042046, 0.9345255670550302, 0.9334284560007653, 0.9315643958684264, 0.9319303355292968]\n",
            "################### ITERATION: 19 ###################\n"
          ],
          "name": "stdout"
        },
        {
          "output_type": "stream",
          "text": [
            "/usr/local/lib/python3.7/dist-packages/transformers/tokenization_utils_base.py:2079: FutureWarning: The `pad_to_max_length` argument is deprecated and will be removed in a future version, use `padding=True` or `padding='longest'` to pad to the longest sequence in the batch, or use `padding='max_length'` to pad to a max length. In this case, you can give a specific length with `max_length` (e.g. `max_length=45`) or leave max_length to None to pad to the maximal input size of the model (e.g. 512 for Bert).\n",
            "  FutureWarning,\n"
          ],
          "name": "stderr"
        },
        {
          "output_type": "stream",
          "text": [
            "======== Epoch 1 / 4 ========\n",
            "Average training loss: 0.00\n",
            "Training epoch took: 0:00:48\n",
            "======== Epoch 2 / 4 ========\n",
            "Average training loss: 0.00\n",
            "Training epoch took: 0:00:48\n",
            "======== Epoch 3 / 4 ========\n",
            "Average training loss: 0.00\n",
            "Training epoch took: 0:00:48\n",
            "======== Epoch 4 / 4 ========\n",
            "Average training loss: 0.00\n",
            "Training epoch took: 0:00:48\n",
            "Training completed in 0:03:11 (h:mm:ss)\n",
            "[0.9322664748169359, 0.9279248271167642, 0.9354551886657585, 0.9331912872404876, 0.9318710358807228, 0.9290822462380371, 0.9247841739756135, 0.9261832127253298, 0.9243764416889447, 0.929605220905264, 0.9255376329699402, 0.9307406367257851, 0.9222443800124985, 0.9339043083949559, 0.9309875593042046, 0.9345255670550302, 0.9334284560007653, 0.9315643958684264, 0.9319303355292968, 0.9339210786428518]\n",
            "################### ITERATION: 20 ###################\n"
          ],
          "name": "stdout"
        },
        {
          "output_type": "stream",
          "text": [
            "/usr/local/lib/python3.7/dist-packages/transformers/tokenization_utils_base.py:2079: FutureWarning: The `pad_to_max_length` argument is deprecated and will be removed in a future version, use `padding=True` or `padding='longest'` to pad to the longest sequence in the batch, or use `padding='max_length'` to pad to a max length. In this case, you can give a specific length with `max_length` (e.g. `max_length=45`) or leave max_length to None to pad to the maximal input size of the model (e.g. 512 for Bert).\n",
            "  FutureWarning,\n"
          ],
          "name": "stderr"
        },
        {
          "output_type": "stream",
          "text": [
            "======== Epoch 1 / 4 ========\n",
            "Average training loss: 0.00\n",
            "Training epoch took: 0:00:50\n",
            "======== Epoch 2 / 4 ========\n",
            "Average training loss: 0.01\n",
            "Training epoch took: 0:00:50\n",
            "======== Epoch 3 / 4 ========\n",
            "Average training loss: 0.00\n",
            "Training epoch took: 0:00:50\n",
            "======== Epoch 4 / 4 ========\n",
            "Average training loss: 0.00\n",
            "Training epoch took: 0:00:50\n",
            "Training completed in 0:03:21 (h:mm:ss)\n",
            "[0.9322664748169359, 0.9279248271167642, 0.9354551886657585, 0.9331912872404876, 0.9318710358807228, 0.9290822462380371, 0.9247841739756135, 0.9261832127253298, 0.9243764416889447, 0.929605220905264, 0.9255376329699402, 0.9307406367257851, 0.9222443800124985, 0.9339043083949559, 0.9309875593042046, 0.9345255670550302, 0.9334284560007653, 0.9315643958684264, 0.9319303355292968, 0.9339210786428518, 0.9333910224201062]\n",
            "################### ITERATION: 21 ###################\n"
          ],
          "name": "stdout"
        },
        {
          "output_type": "stream",
          "text": [
            "/usr/local/lib/python3.7/dist-packages/transformers/tokenization_utils_base.py:2079: FutureWarning: The `pad_to_max_length` argument is deprecated and will be removed in a future version, use `padding=True` or `padding='longest'` to pad to the longest sequence in the batch, or use `padding='max_length'` to pad to a max length. In this case, you can give a specific length with `max_length` (e.g. `max_length=45`) or leave max_length to None to pad to the maximal input size of the model (e.g. 512 for Bert).\n",
            "  FutureWarning,\n"
          ],
          "name": "stderr"
        },
        {
          "output_type": "stream",
          "text": [
            "======== Epoch 1 / 4 ========\n",
            "Average training loss: 0.00\n",
            "Training epoch took: 0:00:53\n",
            "======== Epoch 2 / 4 ========\n",
            "Average training loss: 0.00\n",
            "Training epoch took: 0:00:53\n",
            "======== Epoch 3 / 4 ========\n",
            "Average training loss: 0.00\n",
            "Training epoch took: 0:00:53\n",
            "======== Epoch 4 / 4 ========\n",
            "Average training loss: 0.00\n",
            "Training epoch took: 0:00:53\n",
            "Training completed in 0:03:30 (h:mm:ss)\n",
            "[0.9322664748169359, 0.9279248271167642, 0.9354551886657585, 0.9331912872404876, 0.9318710358807228, 0.9290822462380371, 0.9247841739756135, 0.9261832127253298, 0.9243764416889447, 0.929605220905264, 0.9255376329699402, 0.9307406367257851, 0.9222443800124985, 0.9339043083949559, 0.9309875593042046, 0.9345255670550302, 0.9334284560007653, 0.9315643958684264, 0.9319303355292968, 0.9339210786428518, 0.9333910224201062, 0.9311675983777443]\n",
            "################### ITERATION: 22 ###################\n"
          ],
          "name": "stdout"
        },
        {
          "output_type": "stream",
          "text": [
            "/usr/local/lib/python3.7/dist-packages/transformers/tokenization_utils_base.py:2079: FutureWarning: The `pad_to_max_length` argument is deprecated and will be removed in a future version, use `padding=True` or `padding='longest'` to pad to the longest sequence in the batch, or use `padding='max_length'` to pad to a max length. In this case, you can give a specific length with `max_length` (e.g. `max_length=45`) or leave max_length to None to pad to the maximal input size of the model (e.g. 512 for Bert).\n",
            "  FutureWarning,\n"
          ],
          "name": "stderr"
        },
        {
          "output_type": "stream",
          "text": [
            "======== Epoch 1 / 4 ========\n",
            "Average training loss: 0.00\n",
            "Training epoch took: 0:00:55\n",
            "======== Epoch 2 / 4 ========\n",
            "Average training loss: 0.00\n",
            "Training epoch took: 0:00:55\n",
            "======== Epoch 3 / 4 ========\n",
            "Average training loss: 0.00\n",
            "Training epoch took: 0:00:55\n",
            "======== Epoch 4 / 4 ========\n",
            "Average training loss: 0.00\n",
            "Training epoch took: 0:00:55\n",
            "Training completed in 0:03:40 (h:mm:ss)\n",
            "[0.9322664748169359, 0.9279248271167642, 0.9354551886657585, 0.9331912872404876, 0.9318710358807228, 0.9290822462380371, 0.9247841739756135, 0.9261832127253298, 0.9243764416889447, 0.929605220905264, 0.9255376329699402, 0.9307406367257851, 0.9222443800124985, 0.9339043083949559, 0.9309875593042046, 0.9345255670550302, 0.9334284560007653, 0.9315643958684264, 0.9319303355292968, 0.9339210786428518, 0.9333910224201062, 0.9311675983777443, 0.9155736387197614]\n",
            "################### ITERATION: 23 ###################\n"
          ],
          "name": "stdout"
        },
        {
          "output_type": "stream",
          "text": [
            "/usr/local/lib/python3.7/dist-packages/transformers/tokenization_utils_base.py:2079: FutureWarning: The `pad_to_max_length` argument is deprecated and will be removed in a future version, use `padding=True` or `padding='longest'` to pad to the longest sequence in the batch, or use `padding='max_length'` to pad to a max length. In this case, you can give a specific length with `max_length` (e.g. `max_length=45`) or leave max_length to None to pad to the maximal input size of the model (e.g. 512 for Bert).\n",
            "  FutureWarning,\n"
          ],
          "name": "stderr"
        },
        {
          "output_type": "stream",
          "text": [
            "======== Epoch 1 / 4 ========\n",
            "Average training loss: 0.00\n",
            "Training epoch took: 0:00:57\n",
            "======== Epoch 2 / 4 ========\n",
            "Average training loss: 0.00\n",
            "Training epoch took: 0:00:57\n",
            "======== Epoch 3 / 4 ========\n",
            "Average training loss: 0.00\n",
            "Training epoch took: 0:00:57\n",
            "======== Epoch 4 / 4 ========\n",
            "Average training loss: 0.00\n",
            "Training epoch took: 0:00:57\n",
            "Training completed in 0:03:49 (h:mm:ss)\n",
            "[0.9322664748169359, 0.9279248271167642, 0.9354551886657585, 0.9331912872404876, 0.9318710358807228, 0.9290822462380371, 0.9247841739756135, 0.9261832127253298, 0.9243764416889447, 0.929605220905264, 0.9255376329699402, 0.9307406367257851, 0.9222443800124985, 0.9339043083949559, 0.9309875593042046, 0.9345255670550302, 0.9334284560007653, 0.9315643958684264, 0.9319303355292968, 0.9339210786428518, 0.9333910224201062, 0.9311675983777443, 0.9155736387197614, 0.9241855368876567]\n",
            "################### ITERATION: 24 ###################\n"
          ],
          "name": "stdout"
        },
        {
          "output_type": "stream",
          "text": [
            "/usr/local/lib/python3.7/dist-packages/transformers/tokenization_utils_base.py:2079: FutureWarning: The `pad_to_max_length` argument is deprecated and will be removed in a future version, use `padding=True` or `padding='longest'` to pad to the longest sequence in the batch, or use `padding='max_length'` to pad to a max length. In this case, you can give a specific length with `max_length` (e.g. `max_length=45`) or leave max_length to None to pad to the maximal input size of the model (e.g. 512 for Bert).\n",
            "  FutureWarning,\n"
          ],
          "name": "stderr"
        },
        {
          "output_type": "stream",
          "text": [
            "======== Epoch 1 / 4 ========\n",
            "Average training loss: 0.00\n",
            "Training epoch took: 0:01:00\n",
            "======== Epoch 2 / 4 ========\n",
            "Average training loss: 0.00\n",
            "Training epoch took: 0:01:00\n",
            "======== Epoch 3 / 4 ========\n",
            "Average training loss: 0.00\n",
            "Training epoch took: 0:01:00\n",
            "======== Epoch 4 / 4 ========\n",
            "Average training loss: 0.00\n",
            "Training epoch took: 0:01:00\n",
            "Training completed in 0:03:59 (h:mm:ss)\n",
            "[0.9322664748169359, 0.9279248271167642, 0.9354551886657585, 0.9331912872404876, 0.9318710358807228, 0.9290822462380371, 0.9247841739756135, 0.9261832127253298, 0.9243764416889447, 0.929605220905264, 0.9255376329699402, 0.9307406367257851, 0.9222443800124985, 0.9339043083949559, 0.9309875593042046, 0.9345255670550302, 0.9334284560007653, 0.9315643958684264, 0.9319303355292968, 0.9339210786428518, 0.9333910224201062, 0.9311675983777443, 0.9155736387197614, 0.9241855368876567, 0.922408043816319]\n",
            "################### ITERATION: 25 ###################\n"
          ],
          "name": "stdout"
        },
        {
          "output_type": "stream",
          "text": [
            "/usr/local/lib/python3.7/dist-packages/transformers/tokenization_utils_base.py:2079: FutureWarning: The `pad_to_max_length` argument is deprecated and will be removed in a future version, use `padding=True` or `padding='longest'` to pad to the longest sequence in the batch, or use `padding='max_length'` to pad to a max length. In this case, you can give a specific length with `max_length` (e.g. `max_length=45`) or leave max_length to None to pad to the maximal input size of the model (e.g. 512 for Bert).\n",
            "  FutureWarning,\n"
          ],
          "name": "stderr"
        },
        {
          "output_type": "stream",
          "text": [
            "======== Epoch 1 / 4 ========\n",
            "Average training loss: 0.00\n",
            "Training epoch took: 0:01:02\n",
            "======== Epoch 2 / 4 ========\n",
            "Average training loss: 0.00\n",
            "Training epoch took: 0:01:02\n",
            "======== Epoch 3 / 4 ========\n",
            "Average training loss: 0.00\n",
            "Training epoch took: 0:01:02\n",
            "======== Epoch 4 / 4 ========\n",
            "Average training loss: 0.00\n",
            "Training epoch took: 0:01:02\n",
            "Training completed in 0:04:09 (h:mm:ss)\n",
            "[0.9322664748169359, 0.9279248271167642, 0.9354551886657585, 0.9331912872404876, 0.9318710358807228, 0.9290822462380371, 0.9247841739756135, 0.9261832127253298, 0.9243764416889447, 0.929605220905264, 0.9255376329699402, 0.9307406367257851, 0.9222443800124985, 0.9339043083949559, 0.9309875593042046, 0.9345255670550302, 0.9334284560007653, 0.9315643958684264, 0.9319303355292968, 0.9339210786428518, 0.9333910224201062, 0.9311675983777443, 0.9155736387197614, 0.9241855368876567, 0.922408043816319, 0.9217010823863655]\n",
            "################### ITERATION: 26 ###################\n"
          ],
          "name": "stdout"
        },
        {
          "output_type": "stream",
          "text": [
            "/usr/local/lib/python3.7/dist-packages/transformers/tokenization_utils_base.py:2079: FutureWarning: The `pad_to_max_length` argument is deprecated and will be removed in a future version, use `padding=True` or `padding='longest'` to pad to the longest sequence in the batch, or use `padding='max_length'` to pad to a max length. In this case, you can give a specific length with `max_length` (e.g. `max_length=45`) or leave max_length to None to pad to the maximal input size of the model (e.g. 512 for Bert).\n",
            "  FutureWarning,\n"
          ],
          "name": "stderr"
        },
        {
          "output_type": "stream",
          "text": [
            "======== Epoch 1 / 4 ========\n",
            "Average training loss: 0.00\n",
            "Training epoch took: 0:01:05\n",
            "======== Epoch 2 / 4 ========\n",
            "Average training loss: 0.00\n",
            "Training epoch took: 0:01:05\n",
            "======== Epoch 3 / 4 ========\n",
            "Average training loss: 0.00\n",
            "Training epoch took: 0:01:05\n",
            "======== Epoch 4 / 4 ========\n",
            "Average training loss: 0.00\n",
            "Training epoch took: 0:01:05\n",
            "Training completed in 0:04:18 (h:mm:ss)\n",
            "[0.9322664748169359, 0.9279248271167642, 0.9354551886657585, 0.9331912872404876, 0.9318710358807228, 0.9290822462380371, 0.9247841739756135, 0.9261832127253298, 0.9243764416889447, 0.929605220905264, 0.9255376329699402, 0.9307406367257851, 0.9222443800124985, 0.9339043083949559, 0.9309875593042046, 0.9345255670550302, 0.9334284560007653, 0.9315643958684264, 0.9319303355292968, 0.9339210786428518, 0.9333910224201062, 0.9311675983777443, 0.9155736387197614, 0.9241855368876567, 0.922408043816319, 0.9217010823863655, 0.9233691081955981]\n",
            "################### ITERATION: 27 ###################\n"
          ],
          "name": "stdout"
        },
        {
          "output_type": "stream",
          "text": [
            "/usr/local/lib/python3.7/dist-packages/transformers/tokenization_utils_base.py:2079: FutureWarning: The `pad_to_max_length` argument is deprecated and will be removed in a future version, use `padding=True` or `padding='longest'` to pad to the longest sequence in the batch, or use `padding='max_length'` to pad to a max length. In this case, you can give a specific length with `max_length` (e.g. `max_length=45`) or leave max_length to None to pad to the maximal input size of the model (e.g. 512 for Bert).\n",
            "  FutureWarning,\n"
          ],
          "name": "stderr"
        },
        {
          "output_type": "stream",
          "text": [
            "======== Epoch 1 / 4 ========\n",
            "Average training loss: 0.00\n",
            "Training epoch took: 0:01:07\n",
            "======== Epoch 2 / 4 ========\n",
            "Average training loss: 0.00\n",
            "Training epoch took: 0:01:07\n",
            "======== Epoch 3 / 4 ========\n",
            "Average training loss: 0.00\n",
            "Training epoch took: 0:01:07\n",
            "======== Epoch 4 / 4 ========\n",
            "Average training loss: 0.00\n",
            "Training epoch took: 0:01:07\n",
            "Training completed in 0:04:28 (h:mm:ss)\n",
            "[0.9322664748169359, 0.9279248271167642, 0.9354551886657585, 0.9331912872404876, 0.9318710358807228, 0.9290822462380371, 0.9247841739756135, 0.9261832127253298, 0.9243764416889447, 0.929605220905264, 0.9255376329699402, 0.9307406367257851, 0.9222443800124985, 0.9339043083949559, 0.9309875593042046, 0.9345255670550302, 0.9334284560007653, 0.9315643958684264, 0.9319303355292968, 0.9339210786428518, 0.9333910224201062, 0.9311675983777443, 0.9155736387197614, 0.9241855368876567, 0.922408043816319, 0.9217010823863655, 0.9233691081955981, 0.9245435224567622]\n",
            "################### ITERATION: 28 ###################\n"
          ],
          "name": "stdout"
        },
        {
          "output_type": "stream",
          "text": [
            "/usr/local/lib/python3.7/dist-packages/transformers/tokenization_utils_base.py:2079: FutureWarning: The `pad_to_max_length` argument is deprecated and will be removed in a future version, use `padding=True` or `padding='longest'` to pad to the longest sequence in the batch, or use `padding='max_length'` to pad to a max length. In this case, you can give a specific length with `max_length` (e.g. `max_length=45`) or leave max_length to None to pad to the maximal input size of the model (e.g. 512 for Bert).\n",
            "  FutureWarning,\n"
          ],
          "name": "stderr"
        },
        {
          "output_type": "stream",
          "text": [
            "======== Epoch 1 / 4 ========\n",
            "Average training loss: 0.00\n",
            "Training epoch took: 0:01:09\n",
            "======== Epoch 2 / 4 ========\n",
            "Average training loss: 0.00\n",
            "Training epoch took: 0:01:09\n",
            "======== Epoch 3 / 4 ========\n",
            "Average training loss: 0.00\n",
            "Training epoch took: 0:01:09\n",
            "======== Epoch 4 / 4 ========\n",
            "Average training loss: 0.00\n",
            "Training epoch took: 0:01:09\n",
            "Training completed in 0:04:37 (h:mm:ss)\n",
            "[0.9322664748169359, 0.9279248271167642, 0.9354551886657585, 0.9331912872404876, 0.9318710358807228, 0.9290822462380371, 0.9247841739756135, 0.9261832127253298, 0.9243764416889447, 0.929605220905264, 0.9255376329699402, 0.9307406367257851, 0.9222443800124985, 0.9339043083949559, 0.9309875593042046, 0.9345255670550302, 0.9334284560007653, 0.9315643958684264, 0.9319303355292968, 0.9339210786428518, 0.9333910224201062, 0.9311675983777443, 0.9155736387197614, 0.9241855368876567, 0.922408043816319, 0.9217010823863655, 0.9233691081955981, 0.9245435224567622, 0.9204984494344506]\n",
            "################### ITERATION: 29 ###################\n"
          ],
          "name": "stdout"
        },
        {
          "output_type": "stream",
          "text": [
            "/usr/local/lib/python3.7/dist-packages/transformers/tokenization_utils_base.py:2079: FutureWarning: The `pad_to_max_length` argument is deprecated and will be removed in a future version, use `padding=True` or `padding='longest'` to pad to the longest sequence in the batch, or use `padding='max_length'` to pad to a max length. In this case, you can give a specific length with `max_length` (e.g. `max_length=45`) or leave max_length to None to pad to the maximal input size of the model (e.g. 512 for Bert).\n",
            "  FutureWarning,\n"
          ],
          "name": "stderr"
        },
        {
          "output_type": "stream",
          "text": [
            "======== Epoch 1 / 4 ========\n",
            "Average training loss: 0.00\n",
            "Training epoch took: 0:01:12\n",
            "======== Epoch 2 / 4 ========\n",
            "Average training loss: 0.01\n",
            "Training epoch took: 0:01:12\n",
            "======== Epoch 3 / 4 ========\n",
            "Average training loss: 0.02\n",
            "Training epoch took: 0:01:12\n",
            "======== Epoch 4 / 4 ========\n",
            "Average training loss: 0.01\n",
            "Training epoch took: 0:01:12\n",
            "Training completed in 0:04:47 (h:mm:ss)\n",
            "[0.9322664748169359, 0.9279248271167642, 0.9354551886657585, 0.9331912872404876, 0.9318710358807228, 0.9290822462380371, 0.9247841739756135, 0.9261832127253298, 0.9243764416889447, 0.929605220905264, 0.9255376329699402, 0.9307406367257851, 0.9222443800124985, 0.9339043083949559, 0.9309875593042046, 0.9345255670550302, 0.9334284560007653, 0.9315643958684264, 0.9319303355292968, 0.9339210786428518, 0.9333910224201062, 0.9311675983777443, 0.9155736387197614, 0.9241855368876567, 0.922408043816319, 0.9217010823863655, 0.9233691081955981, 0.9245435224567622, 0.9204984494344506, 0.9306997242874564]\n",
            "################### ITERATION: 30 ###################\n"
          ],
          "name": "stdout"
        },
        {
          "output_type": "stream",
          "text": [
            "/usr/local/lib/python3.7/dist-packages/transformers/tokenization_utils_base.py:2079: FutureWarning: The `pad_to_max_length` argument is deprecated and will be removed in a future version, use `padding=True` or `padding='longest'` to pad to the longest sequence in the batch, or use `padding='max_length'` to pad to a max length. In this case, you can give a specific length with `max_length` (e.g. `max_length=45`) or leave max_length to None to pad to the maximal input size of the model (e.g. 512 for Bert).\n",
            "  FutureWarning,\n"
          ],
          "name": "stderr"
        },
        {
          "output_type": "stream",
          "text": [
            "======== Epoch 1 / 4 ========\n",
            "Average training loss: 0.01\n",
            "Training epoch took: 0:01:14\n",
            "======== Epoch 2 / 4 ========\n",
            "Average training loss: 0.00\n",
            "Training epoch took: 0:01:14\n",
            "======== Epoch 3 / 4 ========\n",
            "Average training loss: 0.00\n",
            "Training epoch took: 0:01:14\n",
            "======== Epoch 4 / 4 ========\n",
            "Average training loss: 0.00\n",
            "Training epoch took: 0:01:14\n",
            "Training completed in 0:04:56 (h:mm:ss)\n",
            "[0.9322664748169359, 0.9279248271167642, 0.9354551886657585, 0.9331912872404876, 0.9318710358807228, 0.9290822462380371, 0.9247841739756135, 0.9261832127253298, 0.9243764416889447, 0.929605220905264, 0.9255376329699402, 0.9307406367257851, 0.9222443800124985, 0.9339043083949559, 0.9309875593042046, 0.9345255670550302, 0.9334284560007653, 0.9315643958684264, 0.9319303355292968, 0.9339210786428518, 0.9333910224201062, 0.9311675983777443, 0.9155736387197614, 0.9241855368876567, 0.922408043816319, 0.9217010823863655, 0.9233691081955981, 0.9245435224567622, 0.9204984494344506, 0.9306997242874564, 0.9294689319393191]\n",
            "################### ITERATION: 31 ###################\n"
          ],
          "name": "stdout"
        },
        {
          "output_type": "stream",
          "text": [
            "/usr/local/lib/python3.7/dist-packages/transformers/tokenization_utils_base.py:2079: FutureWarning: The `pad_to_max_length` argument is deprecated and will be removed in a future version, use `padding=True` or `padding='longest'` to pad to the longest sequence in the batch, or use `padding='max_length'` to pad to a max length. In this case, you can give a specific length with `max_length` (e.g. `max_length=45`) or leave max_length to None to pad to the maximal input size of the model (e.g. 512 for Bert).\n",
            "  FutureWarning,\n"
          ],
          "name": "stderr"
        },
        {
          "output_type": "stream",
          "text": [
            "======== Epoch 1 / 4 ========\n",
            "Average training loss: 0.00\n",
            "Training epoch took: 0:01:17\n",
            "======== Epoch 2 / 4 ========\n",
            "Average training loss: 0.00\n",
            "Training epoch took: 0:01:16\n",
            "======== Epoch 3 / 4 ========\n",
            "Average training loss: 0.00\n",
            "Training epoch took: 0:01:16\n",
            "======== Epoch 4 / 4 ========\n",
            "Average training loss: 0.00\n",
            "Training epoch took: 0:01:16\n",
            "Training completed in 0:05:06 (h:mm:ss)\n",
            "[0.9322664748169359, 0.9279248271167642, 0.9354551886657585, 0.9331912872404876, 0.9318710358807228, 0.9290822462380371, 0.9247841739756135, 0.9261832127253298, 0.9243764416889447, 0.929605220905264, 0.9255376329699402, 0.9307406367257851, 0.9222443800124985, 0.9339043083949559, 0.9309875593042046, 0.9345255670550302, 0.9334284560007653, 0.9315643958684264, 0.9319303355292968, 0.9339210786428518, 0.9333910224201062, 0.9311675983777443, 0.9155736387197614, 0.9241855368876567, 0.922408043816319, 0.9217010823863655, 0.9233691081955981, 0.9245435224567622, 0.9204984494344506, 0.9306997242874564, 0.9294689319393191, 0.9332101541479657]\n",
            "################### ITERATION: 32 ###################\n"
          ],
          "name": "stdout"
        },
        {
          "output_type": "stream",
          "text": [
            "/usr/local/lib/python3.7/dist-packages/transformers/tokenization_utils_base.py:2079: FutureWarning: The `pad_to_max_length` argument is deprecated and will be removed in a future version, use `padding=True` or `padding='longest'` to pad to the longest sequence in the batch, or use `padding='max_length'` to pad to a max length. In this case, you can give a specific length with `max_length` (e.g. `max_length=45`) or leave max_length to None to pad to the maximal input size of the model (e.g. 512 for Bert).\n",
            "  FutureWarning,\n"
          ],
          "name": "stderr"
        },
        {
          "output_type": "stream",
          "text": [
            "======== Epoch 1 / 4 ========\n",
            "Average training loss: 0.00\n",
            "Training epoch took: 0:01:19\n",
            "======== Epoch 2 / 4 ========\n",
            "Average training loss: 0.00\n",
            "Training epoch took: 0:01:19\n",
            "======== Epoch 3 / 4 ========\n",
            "Average training loss: 0.00\n",
            "Training epoch took: 0:01:19\n",
            "======== Epoch 4 / 4 ========\n",
            "Average training loss: 0.00\n",
            "Training epoch took: 0:01:19\n",
            "Training completed in 0:05:16 (h:mm:ss)\n",
            "[0.9322664748169359, 0.9279248271167642, 0.9354551886657585, 0.9331912872404876, 0.9318710358807228, 0.9290822462380371, 0.9247841739756135, 0.9261832127253298, 0.9243764416889447, 0.929605220905264, 0.9255376329699402, 0.9307406367257851, 0.9222443800124985, 0.9339043083949559, 0.9309875593042046, 0.9345255670550302, 0.9334284560007653, 0.9315643958684264, 0.9319303355292968, 0.9339210786428518, 0.9333910224201062, 0.9311675983777443, 0.9155736387197614, 0.9241855368876567, 0.922408043816319, 0.9217010823863655, 0.9233691081955981, 0.9245435224567622, 0.9204984494344506, 0.9306997242874564, 0.9294689319393191, 0.9332101541479657, 0.9320929115489358]\n",
            "################### ITERATION: 33 ###################\n"
          ],
          "name": "stdout"
        },
        {
          "output_type": "stream",
          "text": [
            "/usr/local/lib/python3.7/dist-packages/transformers/tokenization_utils_base.py:2079: FutureWarning: The `pad_to_max_length` argument is deprecated and will be removed in a future version, use `padding=True` or `padding='longest'` to pad to the longest sequence in the batch, or use `padding='max_length'` to pad to a max length. In this case, you can give a specific length with `max_length` (e.g. `max_length=45`) or leave max_length to None to pad to the maximal input size of the model (e.g. 512 for Bert).\n",
            "  FutureWarning,\n"
          ],
          "name": "stderr"
        },
        {
          "output_type": "stream",
          "text": [
            "======== Epoch 1 / 4 ========\n",
            "Average training loss: 0.00\n",
            "Training epoch took: 0:01:21\n",
            "======== Epoch 2 / 4 ========\n",
            "Average training loss: 0.00\n",
            "Training epoch took: 0:01:21\n",
            "======== Epoch 3 / 4 ========\n",
            "Average training loss: 0.00\n",
            "Training epoch took: 0:01:21\n",
            "======== Epoch 4 / 4 ========\n",
            "Average training loss: 0.00\n",
            "Training epoch took: 0:01:21\n",
            "Training completed in 0:05:25 (h:mm:ss)\n",
            "[0.9322664748169359, 0.9279248271167642, 0.9354551886657585, 0.9331912872404876, 0.9318710358807228, 0.9290822462380371, 0.9247841739756135, 0.9261832127253298, 0.9243764416889447, 0.929605220905264, 0.9255376329699402, 0.9307406367257851, 0.9222443800124985, 0.9339043083949559, 0.9309875593042046, 0.9345255670550302, 0.9334284560007653, 0.9315643958684264, 0.9319303355292968, 0.9339210786428518, 0.9333910224201062, 0.9311675983777443, 0.9155736387197614, 0.9241855368876567, 0.922408043816319, 0.9217010823863655, 0.9233691081955981, 0.9245435224567622, 0.9204984494344506, 0.9306997242874564, 0.9294689319393191, 0.9332101541479657, 0.9320929115489358, 0.9299565638870604]\n",
            "################### ITERATION: 34 ###################\n"
          ],
          "name": "stdout"
        },
        {
          "output_type": "stream",
          "text": [
            "/usr/local/lib/python3.7/dist-packages/transformers/tokenization_utils_base.py:2079: FutureWarning: The `pad_to_max_length` argument is deprecated and will be removed in a future version, use `padding=True` or `padding='longest'` to pad to the longest sequence in the batch, or use `padding='max_length'` to pad to a max length. In this case, you can give a specific length with `max_length` (e.g. `max_length=45`) or leave max_length to None to pad to the maximal input size of the model (e.g. 512 for Bert).\n",
            "  FutureWarning,\n"
          ],
          "name": "stderr"
        },
        {
          "output_type": "stream",
          "text": [
            "======== Epoch 1 / 4 ========\n",
            "Average training loss: 0.11\n",
            "Training epoch took: 0:01:24\n",
            "======== Epoch 2 / 4 ========\n",
            "Average training loss: 0.02\n",
            "Training epoch took: 0:01:24\n",
            "======== Epoch 3 / 4 ========\n",
            "Average training loss: 0.01\n",
            "Training epoch took: 0:01:24\n",
            "======== Epoch 4 / 4 ========\n",
            "Average training loss: 0.01\n",
            "Training epoch took: 0:01:24\n",
            "Training completed in 0:05:35 (h:mm:ss)\n",
            "[0.9322664748169359, 0.9279248271167642, 0.9354551886657585, 0.9331912872404876, 0.9318710358807228, 0.9290822462380371, 0.9247841739756135, 0.9261832127253298, 0.9243764416889447, 0.929605220905264, 0.9255376329699402, 0.9307406367257851, 0.9222443800124985, 0.9339043083949559, 0.9309875593042046, 0.9345255670550302, 0.9334284560007653, 0.9315643958684264, 0.9319303355292968, 0.9339210786428518, 0.9333910224201062, 0.9311675983777443, 0.9155736387197614, 0.9241855368876567, 0.922408043816319, 0.9217010823863655, 0.9233691081955981, 0.9245435224567622, 0.9204984494344506, 0.9306997242874564, 0.9294689319393191, 0.9332101541479657, 0.9320929115489358, 0.9299565638870604, 0.9254670344012077]\n",
            "################### ITERATION: 35 ###################\n"
          ],
          "name": "stdout"
        },
        {
          "output_type": "stream",
          "text": [
            "/usr/local/lib/python3.7/dist-packages/transformers/tokenization_utils_base.py:2079: FutureWarning: The `pad_to_max_length` argument is deprecated and will be removed in a future version, use `padding=True` or `padding='longest'` to pad to the longest sequence in the batch, or use `padding='max_length'` to pad to a max length. In this case, you can give a specific length with `max_length` (e.g. `max_length=45`) or leave max_length to None to pad to the maximal input size of the model (e.g. 512 for Bert).\n",
            "  FutureWarning,\n"
          ],
          "name": "stderr"
        },
        {
          "output_type": "stream",
          "text": [
            "======== Epoch 1 / 4 ========\n",
            "Average training loss: 0.02\n",
            "Training epoch took: 0:01:26\n",
            "======== Epoch 2 / 4 ========\n",
            "Average training loss: 0.01\n",
            "Training epoch took: 0:01:26\n",
            "======== Epoch 3 / 4 ========\n",
            "Average training loss: 0.01\n",
            "Training epoch took: 0:01:26\n",
            "======== Epoch 4 / 4 ========\n",
            "Average training loss: 0.01\n",
            "Training epoch took: 0:01:26\n",
            "Training completed in 0:05:44 (h:mm:ss)\n",
            "[0.9322664748169359, 0.9279248271167642, 0.9354551886657585, 0.9331912872404876, 0.9318710358807228, 0.9290822462380371, 0.9247841739756135, 0.9261832127253298, 0.9243764416889447, 0.929605220905264, 0.9255376329699402, 0.9307406367257851, 0.9222443800124985, 0.9339043083949559, 0.9309875593042046, 0.9345255670550302, 0.9334284560007653, 0.9315643958684264, 0.9319303355292968, 0.9339210786428518, 0.9333910224201062, 0.9311675983777443, 0.9155736387197614, 0.9241855368876567, 0.922408043816319, 0.9217010823863655, 0.9233691081955981, 0.9245435224567622, 0.9204984494344506, 0.9306997242874564, 0.9294689319393191, 0.9332101541479657, 0.9320929115489358, 0.9299565638870604, 0.9254670344012077, 0.9267600297636008]\n",
            "################### ITERATION: 36 ###################\n"
          ],
          "name": "stdout"
        },
        {
          "output_type": "stream",
          "text": [
            "/usr/local/lib/python3.7/dist-packages/transformers/tokenization_utils_base.py:2079: FutureWarning: The `pad_to_max_length` argument is deprecated and will be removed in a future version, use `padding=True` or `padding='longest'` to pad to the longest sequence in the batch, or use `padding='max_length'` to pad to a max length. In this case, you can give a specific length with `max_length` (e.g. `max_length=45`) or leave max_length to None to pad to the maximal input size of the model (e.g. 512 for Bert).\n",
            "  FutureWarning,\n"
          ],
          "name": "stderr"
        },
        {
          "output_type": "stream",
          "text": [
            "======== Epoch 1 / 4 ========\n",
            "Average training loss: 0.02\n",
            "Training epoch took: 0:01:29\n",
            "======== Epoch 2 / 4 ========\n",
            "Average training loss: 0.02\n",
            "Training epoch took: 0:01:29\n",
            "======== Epoch 3 / 4 ========\n",
            "Average training loss: 0.01\n",
            "Training epoch took: 0:01:28\n",
            "======== Epoch 4 / 4 ========\n",
            "Average training loss: 0.00\n",
            "Training epoch took: 0:01:29\n",
            "Training completed in 0:05:54 (h:mm:ss)\n",
            "[0.9322664748169359, 0.9279248271167642, 0.9354551886657585, 0.9331912872404876, 0.9318710358807228, 0.9290822462380371, 0.9247841739756135, 0.9261832127253298, 0.9243764416889447, 0.929605220905264, 0.9255376329699402, 0.9307406367257851, 0.9222443800124985, 0.9339043083949559, 0.9309875593042046, 0.9345255670550302, 0.9334284560007653, 0.9315643958684264, 0.9319303355292968, 0.9339210786428518, 0.9333910224201062, 0.9311675983777443, 0.9155736387197614, 0.9241855368876567, 0.922408043816319, 0.9217010823863655, 0.9233691081955981, 0.9245435224567622, 0.9204984494344506, 0.9306997242874564, 0.9294689319393191, 0.9332101541479657, 0.9320929115489358, 0.9299565638870604, 0.9254670344012077, 0.9267600297636008, 0.9199846678972643]\n",
            "################### ITERATION: 37 ###################\n"
          ],
          "name": "stdout"
        },
        {
          "output_type": "stream",
          "text": [
            "/usr/local/lib/python3.7/dist-packages/transformers/tokenization_utils_base.py:2079: FutureWarning: The `pad_to_max_length` argument is deprecated and will be removed in a future version, use `padding=True` or `padding='longest'` to pad to the longest sequence in the batch, or use `padding='max_length'` to pad to a max length. In this case, you can give a specific length with `max_length` (e.g. `max_length=45`) or leave max_length to None to pad to the maximal input size of the model (e.g. 512 for Bert).\n",
            "  FutureWarning,\n"
          ],
          "name": "stderr"
        },
        {
          "output_type": "stream",
          "text": [
            "======== Epoch 1 / 4 ========\n",
            "Average training loss: 0.02\n",
            "Training epoch took: 0:01:31\n",
            "======== Epoch 2 / 4 ========\n",
            "Average training loss: 0.01\n",
            "Training epoch took: 0:01:31\n",
            "======== Epoch 3 / 4 ========\n",
            "Average training loss: 0.00\n",
            "Training epoch took: 0:01:31\n",
            "======== Epoch 4 / 4 ========\n",
            "Average training loss: 0.01\n",
            "Training epoch took: 0:01:31\n",
            "Training completed in 0:06:03 (h:mm:ss)\n",
            "[0.9322664748169359, 0.9279248271167642, 0.9354551886657585, 0.9331912872404876, 0.9318710358807228, 0.9290822462380371, 0.9247841739756135, 0.9261832127253298, 0.9243764416889447, 0.929605220905264, 0.9255376329699402, 0.9307406367257851, 0.9222443800124985, 0.9339043083949559, 0.9309875593042046, 0.9345255670550302, 0.9334284560007653, 0.9315643958684264, 0.9319303355292968, 0.9339210786428518, 0.9333910224201062, 0.9311675983777443, 0.9155736387197614, 0.9241855368876567, 0.922408043816319, 0.9217010823863655, 0.9233691081955981, 0.9245435224567622, 0.9204984494344506, 0.9306997242874564, 0.9294689319393191, 0.9332101541479657, 0.9320929115489358, 0.9299565638870604, 0.9254670344012077, 0.9267600297636008, 0.9199846678972643, 0.9259765046624641]\n",
            "################### ITERATION: 38 ###################\n"
          ],
          "name": "stdout"
        },
        {
          "output_type": "stream",
          "text": [
            "/usr/local/lib/python3.7/dist-packages/transformers/tokenization_utils_base.py:2079: FutureWarning: The `pad_to_max_length` argument is deprecated and will be removed in a future version, use `padding=True` or `padding='longest'` to pad to the longest sequence in the batch, or use `padding='max_length'` to pad to a max length. In this case, you can give a specific length with `max_length` (e.g. `max_length=45`) or leave max_length to None to pad to the maximal input size of the model (e.g. 512 for Bert).\n",
            "  FutureWarning,\n"
          ],
          "name": "stderr"
        },
        {
          "output_type": "stream",
          "text": [
            "======== Epoch 1 / 4 ========\n",
            "Average training loss: 0.01\n",
            "Training epoch took: 0:01:33\n",
            "======== Epoch 2 / 4 ========\n",
            "Average training loss: 0.02\n",
            "Training epoch took: 0:01:33\n",
            "======== Epoch 3 / 4 ========\n",
            "Average training loss: 0.01\n",
            "Training epoch took: 0:01:33\n",
            "======== Epoch 4 / 4 ========\n",
            "Average training loss: 0.00\n",
            "Training epoch took: 0:01:33\n",
            "Training completed in 0:06:13 (h:mm:ss)\n",
            "[0.9322664748169359, 0.9279248271167642, 0.9354551886657585, 0.9331912872404876, 0.9318710358807228, 0.9290822462380371, 0.9247841739756135, 0.9261832127253298, 0.9243764416889447, 0.929605220905264, 0.9255376329699402, 0.9307406367257851, 0.9222443800124985, 0.9339043083949559, 0.9309875593042046, 0.9345255670550302, 0.9334284560007653, 0.9315643958684264, 0.9319303355292968, 0.9339210786428518, 0.9333910224201062, 0.9311675983777443, 0.9155736387197614, 0.9241855368876567, 0.922408043816319, 0.9217010823863655, 0.9233691081955981, 0.9245435224567622, 0.9204984494344506, 0.9306997242874564, 0.9294689319393191, 0.9332101541479657, 0.9320929115489358, 0.9299565638870604, 0.9254670344012077, 0.9267600297636008, 0.9199846678972643, 0.9259765046624641, 0.9252555836857838]\n"
          ],
          "name": "stdout"
        }
      ]
    },
    {
      "cell_type": "code",
      "metadata": {
        "colab": {
          "base_uri": "https://localhost:8080/",
          "height": 525
        },
        "id": "TP_4cTs2q0Q0",
        "outputId": "e236688c-b7f4-474a-ccde-e1a325e7d4b3"
      },
      "source": [
        "import matplotlib.pyplot as plt\n",
        "\n",
        "BIGGER_SIZE: int = 16\n",
        "plt.figure(figsize=(15,8))\n",
        "plt.rc('font', size=BIGGER_SIZE)          # controls default text sizes\n",
        "plt.rc('axes', titlesize=BIGGER_SIZE)     # fontsize of the axes title=\n",
        "plt.rc('axes', labelsize=BIGGER_SIZE)    # fontsize of the x and y labels\n",
        "plt.rc('xtick', labelsize=BIGGER_SIZE)    # fontsize of the tick labels\n",
        "plt.rc('ytick', labelsize=BIGGER_SIZE)    # fontsize of the tick labels\n",
        "plt.rc('legend', fontsize=BIGGER_SIZE)    # legend fontsize\n",
        "plt.rc('figure', titlesize=BIGGER_SIZE)\n",
        "\n",
        "iterations = np.arange(0, iterations_num+1, 1)\n",
        "\n",
        "plt.title (\"F1 score on test dataset by iteration\", fontsize=BIGGER_SIZE)\n",
        "plt.ylabel(\"Test F1 score\", fontsize=BIGGER_SIZE)\n",
        "plt.ylim(0.9,0.95)\n",
        "plt.xlim(-1,iterations_num+5)\n",
        "plt.xticks(np.arange(0, iterations_num+1, 5))\n",
        "plt.yticks(np.arange(0.9,0.95,0.01))\n",
        "plt.xlabel(\"Iteration number\")\n",
        "plt.plot(iterations, random_cycle.calculated_metrics, label = \"Random selection\", marker='s', markevery=10)\n",
        "plt.plot(iterations, hard_cycle.calculated_metrics, label = \"Hard sampled selection\", marker='s', markevery=10)\n",
        "plt.legend()\n",
        "plt.show()"
      ],
      "execution_count": null,
      "outputs": [
        {
          "output_type": "display_data",
          "data": {
            "image/png": "[encoded data removed]",
            "text/plain": [
              "<Figure size 1080x576 with 1 Axes>"
            ]
          },
          "metadata": {
            "tags": []
          }
        }
      ]
    }
  ]
}