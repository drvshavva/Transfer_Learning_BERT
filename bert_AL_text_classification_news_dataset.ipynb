{
  "nbformat": 4,
  "nbformat_minor": 0,
  "metadata": {
    "accelerator": "GPU",
    "colab": {
      "name": "bert_AL_text_classification_news_dataset.ipynb ",
      "provenance": [],
      "collapsed_sections": []
    },
    "kernelspec": {
      "display_name": "Python 3",
      "name": "python3"
    },
    "language_info": {
      "name": "python"
    },
    "widgets": {
      "application/vnd.jupyter.widget-state+json": {
        "90fe2723a1f04b0f9de22e3ba6d48c50": {
          "model_module": "@jupyter-widgets/controls",
          "model_name": "HBoxModel",
          "state": {
            "_view_name": "HBoxView",
            "_dom_classes": [],
            "_model_name": "HBoxModel",
            "_view_module": "@jupyter-widgets/controls",
            "_model_module_version": "1.5.0",
            "_view_count": null,
            "_view_module_version": "1.5.0",
            "box_style": "",
            "layout": "IPY_MODEL_27e784fc3767487884a1cbeb81f844a3",
            "_model_module": "@jupyter-widgets/controls",
            "children": [
              "IPY_MODEL_18cebe23579b4b04b2ba9b4161592a17",
              "IPY_MODEL_55e945c835454115aca1db49df7faa0a"
            ]
          }
        },
        "27e784fc3767487884a1cbeb81f844a3": {
          "model_module": "@jupyter-widgets/base",
          "model_name": "LayoutModel",
          "state": {
            "_view_name": "LayoutView",
            "grid_template_rows": null,
            "right": null,
            "justify_content": null,
            "_view_module": "@jupyter-widgets/base",
            "overflow": null,
            "_model_module_version": "1.2.0",
            "_view_count": null,
            "flex_flow": null,
            "width": null,
            "min_width": null,
            "border": null,
            "align_items": null,
            "bottom": null,
            "_model_module": "@jupyter-widgets/base",
            "top": null,
            "grid_column": null,
            "overflow_y": null,
            "overflow_x": null,
            "grid_auto_flow": null,
            "grid_area": null,
            "grid_template_columns": null,
            "flex": null,
            "_model_name": "LayoutModel",
            "justify_items": null,
            "grid_row": null,
            "max_height": null,
            "align_content": null,
            "visibility": null,
            "align_self": null,
            "height": null,
            "min_height": null,
            "padding": null,
            "grid_auto_rows": null,
            "grid_gap": null,
            "max_width": null,
            "order": null,
            "_view_module_version": "1.2.0",
            "grid_template_areas": null,
            "object_position": null,
            "object_fit": null,
            "grid_auto_columns": null,
            "margin": null,
            "display": null,
            "left": null
          }
        },
        "18cebe23579b4b04b2ba9b4161592a17": {
          "model_module": "@jupyter-widgets/controls",
          "model_name": "FloatProgressModel",
          "state": {
            "_view_name": "ProgressView",
            "style": "IPY_MODEL_e7baf9842f8041a6912247e3302e2b61",
            "_dom_classes": [],
            "description": "Downloading: 100%",
            "_model_name": "FloatProgressModel",
            "bar_style": "success",
            "max": 1233088,
            "_view_module": "@jupyter-widgets/controls",
            "_model_module_version": "1.5.0",
            "value": 1233088,
            "_view_count": null,
            "_view_module_version": "1.5.0",
            "orientation": "horizontal",
            "min": 0,
            "description_tooltip": null,
            "_model_module": "@jupyter-widgets/controls",
            "layout": "IPY_MODEL_ef4b267522fe4383acc7ab4f2ede8f3e"
          }
        },
        "55e945c835454115aca1db49df7faa0a": {
          "model_module": "@jupyter-widgets/controls",
          "model_name": "HTMLModel",
          "state": {
            "_view_name": "HTMLView",
            "style": "IPY_MODEL_c6dba507673548858af174128480af5a",
            "_dom_classes": [],
            "description": "",
            "_model_name": "HTMLModel",
            "placeholder": "​",
            "_view_module": "@jupyter-widgets/controls",
            "_model_module_version": "1.5.0",
            "value": " 1.23M/1.23M [00:01&lt;00:00, 618kB/s]",
            "_view_count": null,
            "_view_module_version": "1.5.0",
            "description_tooltip": null,
            "_model_module": "@jupyter-widgets/controls",
            "layout": "IPY_MODEL_f3bf2e2bbfdb4b549c4399fe7d94d49f"
          }
        },
        "e7baf9842f8041a6912247e3302e2b61": {
          "model_module": "@jupyter-widgets/controls",
          "model_name": "ProgressStyleModel",
          "state": {
            "_view_name": "StyleView",
            "_model_name": "ProgressStyleModel",
            "description_width": "initial",
            "_view_module": "@jupyter-widgets/base",
            "_model_module_version": "1.5.0",
            "_view_count": null,
            "_view_module_version": "1.2.0",
            "bar_color": null,
            "_model_module": "@jupyter-widgets/controls"
          }
        },
        "ef4b267522fe4383acc7ab4f2ede8f3e": {
          "model_module": "@jupyter-widgets/base",
          "model_name": "LayoutModel",
          "state": {
            "_view_name": "LayoutView",
            "grid_template_rows": null,
            "right": null,
            "justify_content": null,
            "_view_module": "@jupyter-widgets/base",
            "overflow": null,
            "_model_module_version": "1.2.0",
            "_view_count": null,
            "flex_flow": null,
            "width": null,
            "min_width": null,
            "border": null,
            "align_items": null,
            "bottom": null,
            "_model_module": "@jupyter-widgets/base",
            "top": null,
            "grid_column": null,
            "overflow_y": null,
            "overflow_x": null,
            "grid_auto_flow": null,
            "grid_area": null,
            "grid_template_columns": null,
            "flex": null,
            "_model_name": "LayoutModel",
            "justify_items": null,
            "grid_row": null,
            "max_height": null,
            "align_content": null,
            "visibility": null,
            "align_self": null,
            "height": null,
            "min_height": null,
            "padding": null,
            "grid_auto_rows": null,
            "grid_gap": null,
            "max_width": null,
            "order": null,
            "_view_module_version": "1.2.0",
            "grid_template_areas": null,
            "object_position": null,
            "object_fit": null,
            "grid_auto_columns": null,
            "margin": null,
            "display": null,
            "left": null
          }
        },
        "c6dba507673548858af174128480af5a": {
          "model_module": "@jupyter-widgets/controls",
          "model_name": "DescriptionStyleModel",
          "state": {
            "_view_name": "StyleView",
            "_model_name": "DescriptionStyleModel",
            "description_width": "",
            "_view_module": "@jupyter-widgets/base",
            "_model_module_version": "1.5.0",
            "_view_count": null,
            "_view_module_version": "1.2.0",
            "_model_module": "@jupyter-widgets/controls"
          }
        },
        "f3bf2e2bbfdb4b549c4399fe7d94d49f": {
          "model_module": "@jupyter-widgets/base",
          "model_name": "LayoutModel",
          "state": {
            "_view_name": "LayoutView",
            "grid_template_rows": null,
            "right": null,
            "justify_content": null,
            "_view_module": "@jupyter-widgets/base",
            "overflow": null,
            "_model_module_version": "1.2.0",
            "_view_count": null,
            "flex_flow": null,
            "width": null,
            "min_width": null,
            "border": null,
            "align_items": null,
            "bottom": null,
            "_model_module": "@jupyter-widgets/base",
            "top": null,
            "grid_column": null,
            "overflow_y": null,
            "overflow_x": null,
            "grid_auto_flow": null,
            "grid_area": null,
            "grid_template_columns": null,
            "flex": null,
            "_model_name": "LayoutModel",
            "justify_items": null,
            "grid_row": null,
            "max_height": null,
            "align_content": null,
            "visibility": null,
            "align_self": null,
            "height": null,
            "min_height": null,
            "padding": null,
            "grid_auto_rows": null,
            "grid_gap": null,
            "max_width": null,
            "order": null,
            "_view_module_version": "1.2.0",
            "grid_template_areas": null,
            "object_position": null,
            "object_fit": null,
            "grid_auto_columns": null,
            "margin": null,
            "display": null,
            "left": null
          }
        },
        "377226aa8d1a49348b56693c4665b7b6": {
          "model_module": "@jupyter-widgets/controls",
          "model_name": "HBoxModel",
          "state": {
            "_view_name": "HBoxView",
            "_dom_classes": [],
            "_model_name": "HBoxModel",
            "_view_module": "@jupyter-widgets/controls",
            "_model_module_version": "1.5.0",
            "_view_count": null,
            "_view_module_version": "1.5.0",
            "box_style": "",
            "layout": "IPY_MODEL_c3287f4f2d404703bda1de4abf31852f",
            "_model_module": "@jupyter-widgets/controls",
            "children": [
              "IPY_MODEL_651675ef66e44626b13ff5376bcbf120",
              "IPY_MODEL_9dca1a1f4b5844dd95d872b90e460954"
            ]
          }
        },
        "c3287f4f2d404703bda1de4abf31852f": {
          "model_module": "@jupyter-widgets/base",
          "model_name": "LayoutModel",
          "state": {
            "_view_name": "LayoutView",
            "grid_template_rows": null,
            "right": null,
            "justify_content": null,
            "_view_module": "@jupyter-widgets/base",
            "overflow": null,
            "_model_module_version": "1.2.0",
            "_view_count": null,
            "flex_flow": null,
            "width": null,
            "min_width": null,
            "border": null,
            "align_items": null,
            "bottom": null,
            "_model_module": "@jupyter-widgets/base",
            "top": null,
            "grid_column": null,
            "overflow_y": null,
            "overflow_x": null,
            "grid_auto_flow": null,
            "grid_area": null,
            "grid_template_columns": null,
            "flex": null,
            "_model_name": "LayoutModel",
            "justify_items": null,
            "grid_row": null,
            "max_height": null,
            "align_content": null,
            "visibility": null,
            "align_self": null,
            "height": null,
            "min_height": null,
            "padding": null,
            "grid_auto_rows": null,
            "grid_gap": null,
            "max_width": null,
            "order": null,
            "_view_module_version": "1.2.0",
            "grid_template_areas": null,
            "object_position": null,
            "object_fit": null,
            "grid_auto_columns": null,
            "margin": null,
            "display": null,
            "left": null
          }
        },
        "651675ef66e44626b13ff5376bcbf120": {
          "model_module": "@jupyter-widgets/controls",
          "model_name": "FloatProgressModel",
          "state": {
            "_view_name": "ProgressView",
            "style": "IPY_MODEL_2990a3307d1b49c9a26ad9ff77070172",
            "_dom_classes": [],
            "description": "Downloading: 100%",
            "_model_name": "FloatProgressModel",
            "bar_style": "success",
            "max": 59,
            "_view_module": "@jupyter-widgets/controls",
            "_model_module_version": "1.5.0",
            "value": 59,
            "_view_count": null,
            "_view_module_version": "1.5.0",
            "orientation": "horizontal",
            "min": 0,
            "description_tooltip": null,
            "_model_module": "@jupyter-widgets/controls",
            "layout": "IPY_MODEL_8218a204e77048a4a1231a77cfdc4f74"
          }
        },
        "9dca1a1f4b5844dd95d872b90e460954": {
          "model_module": "@jupyter-widgets/controls",
          "model_name": "HTMLModel",
          "state": {
            "_view_name": "HTMLView",
            "style": "IPY_MODEL_a0f3e959e83a4eea9cd873a27712d2bc",
            "_dom_classes": [],
            "description": "",
            "_model_name": "HTMLModel",
            "placeholder": "​",
            "_view_module": "@jupyter-widgets/controls",
            "_model_module_version": "1.5.0",
            "value": " 59.0/59.0 [00:00&lt;00:00, 146B/s]",
            "_view_count": null,
            "_view_module_version": "1.5.0",
            "description_tooltip": null,
            "_model_module": "@jupyter-widgets/controls",
            "layout": "IPY_MODEL_5dbf4ef6cb0a4a048c5e20a1ca4ec0a3"
          }
        },
        "2990a3307d1b49c9a26ad9ff77070172": {
          "model_module": "@jupyter-widgets/controls",
          "model_name": "ProgressStyleModel",
          "state": {
            "_view_name": "StyleView",
            "_model_name": "ProgressStyleModel",
            "description_width": "initial",
            "_view_module": "@jupyter-widgets/base",
            "_model_module_version": "1.5.0",
            "_view_count": null,
            "_view_module_version": "1.2.0",
            "bar_color": null,
            "_model_module": "@jupyter-widgets/controls"
          }
        },
        "8218a204e77048a4a1231a77cfdc4f74": {
          "model_module": "@jupyter-widgets/base",
          "model_name": "LayoutModel",
          "state": {
            "_view_name": "LayoutView",
            "grid_template_rows": null,
            "right": null,
            "justify_content": null,
            "_view_module": "@jupyter-widgets/base",
            "overflow": null,
            "_model_module_version": "1.2.0",
            "_view_count": null,
            "flex_flow": null,
            "width": null,
            "min_width": null,
            "border": null,
            "align_items": null,
            "bottom": null,
            "_model_module": "@jupyter-widgets/base",
            "top": null,
            "grid_column": null,
            "overflow_y": null,
            "overflow_x": null,
            "grid_auto_flow": null,
            "grid_area": null,
            "grid_template_columns": null,
            "flex": null,
            "_model_name": "LayoutModel",
            "justify_items": null,
            "grid_row": null,
            "max_height": null,
            "align_content": null,
            "visibility": null,
            "align_self": null,
            "height": null,
            "min_height": null,
            "padding": null,
            "grid_auto_rows": null,
            "grid_gap": null,
            "max_width": null,
            "order": null,
            "_view_module_version": "1.2.0",
            "grid_template_areas": null,
            "object_position": null,
            "object_fit": null,
            "grid_auto_columns": null,
            "margin": null,
            "display": null,
            "left": null
          }
        },
        "a0f3e959e83a4eea9cd873a27712d2bc": {
          "model_module": "@jupyter-widgets/controls",
          "model_name": "DescriptionStyleModel",
          "state": {
            "_view_name": "StyleView",
            "_model_name": "DescriptionStyleModel",
            "description_width": "",
            "_view_module": "@jupyter-widgets/base",
            "_model_module_version": "1.5.0",
            "_view_count": null,
            "_view_module_version": "1.2.0",
            "_model_module": "@jupyter-widgets/controls"
          }
        },
        "5dbf4ef6cb0a4a048c5e20a1ca4ec0a3": {
          "model_module": "@jupyter-widgets/base",
          "model_name": "LayoutModel",
          "state": {
            "_view_name": "LayoutView",
            "grid_template_rows": null,
            "right": null,
            "justify_content": null,
            "_view_module": "@jupyter-widgets/base",
            "overflow": null,
            "_model_module_version": "1.2.0",
            "_view_count": null,
            "flex_flow": null,
            "width": null,
            "min_width": null,
            "border": null,
            "align_items": null,
            "bottom": null,
            "_model_module": "@jupyter-widgets/base",
            "top": null,
            "grid_column": null,
            "overflow_y": null,
            "overflow_x": null,
            "grid_auto_flow": null,
            "grid_area": null,
            "grid_template_columns": null,
            "flex": null,
            "_model_name": "LayoutModel",
            "justify_items": null,
            "grid_row": null,
            "max_height": null,
            "align_content": null,
            "visibility": null,
            "align_self": null,
            "height": null,
            "min_height": null,
            "padding": null,
            "grid_auto_rows": null,
            "grid_gap": null,
            "max_width": null,
            "order": null,
            "_view_module_version": "1.2.0",
            "grid_template_areas": null,
            "object_position": null,
            "object_fit": null,
            "grid_auto_columns": null,
            "margin": null,
            "display": null,
            "left": null
          }
        },
        "2e68d39c4fc746958151aba4b78ba7b2": {
          "model_module": "@jupyter-widgets/controls",
          "model_name": "HBoxModel",
          "state": {
            "_view_name": "HBoxView",
            "_dom_classes": [],
            "_model_name": "HBoxModel",
            "_view_module": "@jupyter-widgets/controls",
            "_model_module_version": "1.5.0",
            "_view_count": null,
            "_view_module_version": "1.5.0",
            "box_style": "",
            "layout": "IPY_MODEL_c817c6d08ef64e71a037b8a943c4ebb8",
            "_model_module": "@jupyter-widgets/controls",
            "children": [
              "IPY_MODEL_fbbe11e34ab94e5a80cd8fd6134ce85d",
              "IPY_MODEL_193317ae69464eaa943168deeb92e469"
            ]
          }
        },
        "c817c6d08ef64e71a037b8a943c4ebb8": {
          "model_module": "@jupyter-widgets/base",
          "model_name": "LayoutModel",
          "state": {
            "_view_name": "LayoutView",
            "grid_template_rows": null,
            "right": null,
            "justify_content": null,
            "_view_module": "@jupyter-widgets/base",
            "overflow": null,
            "_model_module_version": "1.2.0",
            "_view_count": null,
            "flex_flow": null,
            "width": null,
            "min_width": null,
            "border": null,
            "align_items": null,
            "bottom": null,
            "_model_module": "@jupyter-widgets/base",
            "top": null,
            "grid_column": null,
            "overflow_y": null,
            "overflow_x": null,
            "grid_auto_flow": null,
            "grid_area": null,
            "grid_template_columns": null,
            "flex": null,
            "_model_name": "LayoutModel",
            "justify_items": null,
            "grid_row": null,
            "max_height": null,
            "align_content": null,
            "visibility": null,
            "align_self": null,
            "height": null,
            "min_height": null,
            "padding": null,
            "grid_auto_rows": null,
            "grid_gap": null,
            "max_width": null,
            "order": null,
            "_view_module_version": "1.2.0",
            "grid_template_areas": null,
            "object_position": null,
            "object_fit": null,
            "grid_auto_columns": null,
            "margin": null,
            "display": null,
            "left": null
          }
        },
        "fbbe11e34ab94e5a80cd8fd6134ce85d": {
          "model_module": "@jupyter-widgets/controls",
          "model_name": "FloatProgressModel",
          "state": {
            "_view_name": "ProgressView",
            "style": "IPY_MODEL_2785541286724a9b8b7fb8978353baad",
            "_dom_classes": [],
            "description": "Downloading: 100%",
            "_model_name": "FloatProgressModel",
            "bar_style": "success",
            "max": 386,
            "_view_module": "@jupyter-widgets/controls",
            "_model_module_version": "1.5.0",
            "value": 386,
            "_view_count": null,
            "_view_module_version": "1.5.0",
            "orientation": "horizontal",
            "min": 0,
            "description_tooltip": null,
            "_model_module": "@jupyter-widgets/controls",
            "layout": "IPY_MODEL_f29eec7d6e054d6cbaf1c933abcc3b42"
          }
        },
        "193317ae69464eaa943168deeb92e469": {
          "model_module": "@jupyter-widgets/controls",
          "model_name": "HTMLModel",
          "state": {
            "_view_name": "HTMLView",
            "style": "IPY_MODEL_db210b8aa17b4e7b85ece557cf928427",
            "_dom_classes": [],
            "description": "",
            "_model_name": "HTMLModel",
            "placeholder": "​",
            "_view_module": "@jupyter-widgets/controls",
            "_model_module_version": "1.5.0",
            "value": " 386/386 [00:00&lt;00:00, 1.17kB/s]",
            "_view_count": null,
            "_view_module_version": "1.5.0",
            "description_tooltip": null,
            "_model_module": "@jupyter-widgets/controls",
            "layout": "IPY_MODEL_44c2e5143dfb4637896a4c49e0079601"
          }
        },
        "2785541286724a9b8b7fb8978353baad": {
          "model_module": "@jupyter-widgets/controls",
          "model_name": "ProgressStyleModel",
          "state": {
            "_view_name": "StyleView",
            "_model_name": "ProgressStyleModel",
            "description_width": "initial",
            "_view_module": "@jupyter-widgets/base",
            "_model_module_version": "1.5.0",
            "_view_count": null,
            "_view_module_version": "1.2.0",
            "bar_color": null,
            "_model_module": "@jupyter-widgets/controls"
          }
        },
        "f29eec7d6e054d6cbaf1c933abcc3b42": {
          "model_module": "@jupyter-widgets/base",
          "model_name": "LayoutModel",
          "state": {
            "_view_name": "LayoutView",
            "grid_template_rows": null,
            "right": null,
            "justify_content": null,
            "_view_module": "@jupyter-widgets/base",
            "overflow": null,
            "_model_module_version": "1.2.0",
            "_view_count": null,
            "flex_flow": null,
            "width": null,
            "min_width": null,
            "border": null,
            "align_items": null,
            "bottom": null,
            "_model_module": "@jupyter-widgets/base",
            "top": null,
            "grid_column": null,
            "overflow_y": null,
            "overflow_x": null,
            "grid_auto_flow": null,
            "grid_area": null,
            "grid_template_columns": null,
            "flex": null,
            "_model_name": "LayoutModel",
            "justify_items": null,
            "grid_row": null,
            "max_height": null,
            "align_content": null,
            "visibility": null,
            "align_self": null,
            "height": null,
            "min_height": null,
            "padding": null,
            "grid_auto_rows": null,
            "grid_gap": null,
            "max_width": null,
            "order": null,
            "_view_module_version": "1.2.0",
            "grid_template_areas": null,
            "object_position": null,
            "object_fit": null,
            "grid_auto_columns": null,
            "margin": null,
            "display": null,
            "left": null
          }
        },
        "db210b8aa17b4e7b85ece557cf928427": {
          "model_module": "@jupyter-widgets/controls",
          "model_name": "DescriptionStyleModel",
          "state": {
            "_view_name": "StyleView",
            "_model_name": "DescriptionStyleModel",
            "description_width": "",
            "_view_module": "@jupyter-widgets/base",
            "_model_module_version": "1.5.0",
            "_view_count": null,
            "_view_module_version": "1.2.0",
            "_model_module": "@jupyter-widgets/controls"
          }
        },
        "44c2e5143dfb4637896a4c49e0079601": {
          "model_module": "@jupyter-widgets/base",
          "model_name": "LayoutModel",
          "state": {
            "_view_name": "LayoutView",
            "grid_template_rows": null,
            "right": null,
            "justify_content": null,
            "_view_module": "@jupyter-widgets/base",
            "overflow": null,
            "_model_module_version": "1.2.0",
            "_view_count": null,
            "flex_flow": null,
            "width": null,
            "min_width": null,
            "border": null,
            "align_items": null,
            "bottom": null,
            "_model_module": "@jupyter-widgets/base",
            "top": null,
            "grid_column": null,
            "overflow_y": null,
            "overflow_x": null,
            "grid_auto_flow": null,
            "grid_area": null,
            "grid_template_columns": null,
            "flex": null,
            "_model_name": "LayoutModel",
            "justify_items": null,
            "grid_row": null,
            "max_height": null,
            "align_content": null,
            "visibility": null,
            "align_self": null,
            "height": null,
            "min_height": null,
            "padding": null,
            "grid_auto_rows": null,
            "grid_gap": null,
            "max_width": null,
            "order": null,
            "_view_module_version": "1.2.0",
            "grid_template_areas": null,
            "object_position": null,
            "object_fit": null,
            "grid_auto_columns": null,
            "margin": null,
            "display": null,
            "left": null
          }
        },
        "e8445e6a5ed04d8c8cae46ba204c2024": {
          "model_module": "@jupyter-widgets/controls",
          "model_name": "HBoxModel",
          "state": {
            "_view_name": "HBoxView",
            "_dom_classes": [],
            "_model_name": "HBoxModel",
            "_view_module": "@jupyter-widgets/controls",
            "_model_module_version": "1.5.0",
            "_view_count": null,
            "_view_module_version": "1.5.0",
            "box_style": "",
            "layout": "IPY_MODEL_ccdbcc4758d0495dac3f035eed73972d",
            "_model_module": "@jupyter-widgets/controls",
            "children": [
              "IPY_MODEL_403a8f684b044a7487a4c921bc5b3a1c",
              "IPY_MODEL_b981e0e3a3624f3cb3fc77a7886c4c97"
            ]
          }
        },
        "ccdbcc4758d0495dac3f035eed73972d": {
          "model_module": "@jupyter-widgets/base",
          "model_name": "LayoutModel",
          "state": {
            "_view_name": "LayoutView",
            "grid_template_rows": null,
            "right": null,
            "justify_content": null,
            "_view_module": "@jupyter-widgets/base",
            "overflow": null,
            "_model_module_version": "1.2.0",
            "_view_count": null,
            "flex_flow": null,
            "width": null,
            "min_width": null,
            "border": null,
            "align_items": null,
            "bottom": null,
            "_model_module": "@jupyter-widgets/base",
            "top": null,
            "grid_column": null,
            "overflow_y": null,
            "overflow_x": null,
            "grid_auto_flow": null,
            "grid_area": null,
            "grid_template_columns": null,
            "flex": null,
            "_model_name": "LayoutModel",
            "justify_items": null,
            "grid_row": null,
            "max_height": null,
            "align_content": null,
            "visibility": null,
            "align_self": null,
            "height": null,
            "min_height": null,
            "padding": null,
            "grid_auto_rows": null,
            "grid_gap": null,
            "max_width": null,
            "order": null,
            "_view_module_version": "1.2.0",
            "grid_template_areas": null,
            "object_position": null,
            "object_fit": null,
            "grid_auto_columns": null,
            "margin": null,
            "display": null,
            "left": null
          }
        },
        "403a8f684b044a7487a4c921bc5b3a1c": {
          "model_module": "@jupyter-widgets/controls",
          "model_name": "FloatProgressModel",
          "state": {
            "_view_name": "ProgressView",
            "style": "IPY_MODEL_8c7a06b737b44576b0c98c2e67e3117d",
            "_dom_classes": [],
            "description": "Downloading: 100%",
            "_model_name": "FloatProgressModel",
            "bar_style": "success",
            "max": 740314769,
            "_view_module": "@jupyter-widgets/controls",
            "_model_module_version": "1.5.0",
            "value": 740314769,
            "_view_count": null,
            "_view_module_version": "1.5.0",
            "orientation": "horizontal",
            "min": 0,
            "description_tooltip": null,
            "_model_module": "@jupyter-widgets/controls",
            "layout": "IPY_MODEL_7564cf3f24fe415aba4ff0cee6ba97f2"
          }
        },
        "b981e0e3a3624f3cb3fc77a7886c4c97": {
          "model_module": "@jupyter-widgets/controls",
          "model_name": "HTMLModel",
          "state": {
            "_view_name": "HTMLView",
            "style": "IPY_MODEL_94ef0bfa92dd49edb34a96b306154e18",
            "_dom_classes": [],
            "description": "",
            "_model_name": "HTMLModel",
            "placeholder": "​",
            "_view_module": "@jupyter-widgets/controls",
            "_model_module_version": "1.5.0",
            "value": " 740M/740M [00:14&lt;00:00, 51.1MB/s]",
            "_view_count": null,
            "_view_module_version": "1.5.0",
            "description_tooltip": null,
            "_model_module": "@jupyter-widgets/controls",
            "layout": "IPY_MODEL_c8df112bb49b4a05ae1991b5eabf1fb6"
          }
        },
        "8c7a06b737b44576b0c98c2e67e3117d": {
          "model_module": "@jupyter-widgets/controls",
          "model_name": "ProgressStyleModel",
          "state": {
            "_view_name": "StyleView",
            "_model_name": "ProgressStyleModel",
            "description_width": "initial",
            "_view_module": "@jupyter-widgets/base",
            "_model_module_version": "1.5.0",
            "_view_count": null,
            "_view_module_version": "1.2.0",
            "bar_color": null,
            "_model_module": "@jupyter-widgets/controls"
          }
        },
        "7564cf3f24fe415aba4ff0cee6ba97f2": {
          "model_module": "@jupyter-widgets/base",
          "model_name": "LayoutModel",
          "state": {
            "_view_name": "LayoutView",
            "grid_template_rows": null,
            "right": null,
            "justify_content": null,
            "_view_module": "@jupyter-widgets/base",
            "overflow": null,
            "_model_module_version": "1.2.0",
            "_view_count": null,
            "flex_flow": null,
            "width": null,
            "min_width": null,
            "border": null,
            "align_items": null,
            "bottom": null,
            "_model_module": "@jupyter-widgets/base",
            "top": null,
            "grid_column": null,
            "overflow_y": null,
            "overflow_x": null,
            "grid_auto_flow": null,
            "grid_area": null,
            "grid_template_columns": null,
            "flex": null,
            "_model_name": "LayoutModel",
            "justify_items": null,
            "grid_row": null,
            "max_height": null,
            "align_content": null,
            "visibility": null,
            "align_self": null,
            "height": null,
            "min_height": null,
            "padding": null,
            "grid_auto_rows": null,
            "grid_gap": null,
            "max_width": null,
            "order": null,
            "_view_module_version": "1.2.0",
            "grid_template_areas": null,
            "object_position": null,
            "object_fit": null,
            "grid_auto_columns": null,
            "margin": null,
            "display": null,
            "left": null
          }
        },
        "94ef0bfa92dd49edb34a96b306154e18": {
          "model_module": "@jupyter-widgets/controls",
          "model_name": "DescriptionStyleModel",
          "state": {
            "_view_name": "StyleView",
            "_model_name": "DescriptionStyleModel",
            "description_width": "",
            "_view_module": "@jupyter-widgets/base",
            "_model_module_version": "1.5.0",
            "_view_count": null,
            "_view_module_version": "1.2.0",
            "_model_module": "@jupyter-widgets/controls"
          }
        },
        "c8df112bb49b4a05ae1991b5eabf1fb6": {
          "model_module": "@jupyter-widgets/base",
          "model_name": "LayoutModel",
          "state": {
            "_view_name": "LayoutView",
            "grid_template_rows": null,
            "right": null,
            "justify_content": null,
            "_view_module": "@jupyter-widgets/base",
            "overflow": null,
            "_model_module_version": "1.2.0",
            "_view_count": null,
            "flex_flow": null,
            "width": null,
            "min_width": null,
            "border": null,
            "align_items": null,
            "bottom": null,
            "_model_module": "@jupyter-widgets/base",
            "top": null,
            "grid_column": null,
            "overflow_y": null,
            "overflow_x": null,
            "grid_auto_flow": null,
            "grid_area": null,
            "grid_template_columns": null,
            "flex": null,
            "_model_name": "LayoutModel",
            "justify_items": null,
            "grid_row": null,
            "max_height": null,
            "align_content": null,
            "visibility": null,
            "align_self": null,
            "height": null,
            "min_height": null,
            "padding": null,
            "grid_auto_rows": null,
            "grid_gap": null,
            "max_width": null,
            "order": null,
            "_view_module_version": "1.2.0",
            "grid_template_areas": null,
            "object_position": null,
            "object_fit": null,
            "grid_auto_columns": null,
            "margin": null,
            "display": null,
            "left": null
          }
        }
      }
    }
  },
  "cells": [
    {
      "cell_type": "code",
      "metadata": {
        "colab": {
          "base_uri": "https://localhost:8080/"
        },
        "id": "iDzGVoD6TVwE",
        "outputId": "e8cd059d-8567-43e1-fd4c-422136148706"
      },
      "source": [
        "import pandas as pd\n",
        "import tensorflow as tf\n",
        "import torch\n",
        "import numpy as np\n",
        "import time\n",
        "import json\n",
        "import datetime\n",
        "import random\n",
        "import scipy.spatial as sp\n",
        "from typing import List\n",
        "import tensorflow_hub as hub\n",
        "import seaborn as sns\n",
        "import matplotlib.pyplot as plt\n",
        "% matplotlib inline\n",
        "\n",
        "from google.colab import drive\n",
        "\n",
        "!pip install transformers\n",
        "import transformers\n",
        "from transformers import BertTokenizer\n",
        "from torch.utils.data import TensorDataset, random_split\n",
        "from torch.utils.data import DataLoader, RandomSampler, SequentialSampler\n",
        "from transformers import BertForSequenceClassification, AdamW, BertConfig\n",
        "from transformers import get_linear_schedule_with_warmup\n",
        "\n",
        "from sklearn.metrics import f1_score\n",
        "from sklearn.preprocessing import LabelEncoder\n",
        "from sklearn.preprocessing import MinMaxScaler"
      ],
      "execution_count": 1,
      "outputs": [
        {
          "output_type": "stream",
          "text": [
            "Collecting transformers\n",
            "\u001b[?25l  Downloading https://files.pythonhosted.org/packages/d8/b2/57495b5309f09fa501866e225c84532d1fd89536ea62406b2181933fb418/transformers-4.5.1-py3-none-any.whl (2.1MB)\n",
            "\u001b[K     |████████████████████████████████| 2.1MB 10.7MB/s \n",
            "\u001b[?25hRequirement already satisfied: packaging in /usr/local/lib/python3.7/dist-packages (from transformers) (20.9)\n",
            "Collecting sacremoses\n",
            "\u001b[?25l  Downloading https://files.pythonhosted.org/packages/75/ee/67241dc87f266093c533a2d4d3d69438e57d7a90abb216fa076e7d475d4a/sacremoses-0.0.45-py3-none-any.whl (895kB)\n",
            "\u001b[K     |████████████████████████████████| 901kB 50.0MB/s \n",
            "\u001b[?25hRequirement already satisfied: numpy>=1.17 in /usr/local/lib/python3.7/dist-packages (from transformers) (1.19.5)\n",
            "Requirement already satisfied: regex!=2019.12.17 in /usr/local/lib/python3.7/dist-packages (from transformers) (2019.12.20)\n",
            "Collecting tokenizers<0.11,>=0.10.1\n",
            "\u001b[?25l  Downloading https://files.pythonhosted.org/packages/ae/04/5b870f26a858552025a62f1649c20d29d2672c02ff3c3fb4c688ca46467a/tokenizers-0.10.2-cp37-cp37m-manylinux2010_x86_64.whl (3.3MB)\n",
            "\u001b[K     |████████████████████████████████| 3.3MB 57.1MB/s \n",
            "\u001b[?25hRequirement already satisfied: tqdm>=4.27 in /usr/local/lib/python3.7/dist-packages (from transformers) (4.41.1)\n",
            "Requirement already satisfied: filelock in /usr/local/lib/python3.7/dist-packages (from transformers) (3.0.12)\n",
            "Requirement already satisfied: importlib-metadata; python_version < \"3.8\" in /usr/local/lib/python3.7/dist-packages (from transformers) (3.10.1)\n",
            "Requirement already satisfied: requests in /usr/local/lib/python3.7/dist-packages (from transformers) (2.23.0)\n",
            "Requirement already satisfied: pyparsing>=2.0.2 in /usr/local/lib/python3.7/dist-packages (from packaging->transformers) (2.4.7)\n",
            "Requirement already satisfied: click in /usr/local/lib/python3.7/dist-packages (from sacremoses->transformers) (7.1.2)\n",
            "Requirement already satisfied: joblib in /usr/local/lib/python3.7/dist-packages (from sacremoses->transformers) (1.0.1)\n",
            "Requirement already satisfied: six in /usr/local/lib/python3.7/dist-packages (from sacremoses->transformers) (1.15.0)\n",
            "Requirement already satisfied: typing-extensions>=3.6.4; python_version < \"3.8\" in /usr/local/lib/python3.7/dist-packages (from importlib-metadata; python_version < \"3.8\"->transformers) (3.7.4.3)\n",
            "Requirement already satisfied: zipp>=0.5 in /usr/local/lib/python3.7/dist-packages (from importlib-metadata; python_version < \"3.8\"->transformers) (3.4.1)\n",
            "Requirement already satisfied: idna<3,>=2.5 in /usr/local/lib/python3.7/dist-packages (from requests->transformers) (2.10)\n",
            "Requirement already satisfied: urllib3!=1.25.0,!=1.25.1,<1.26,>=1.21.1 in /usr/local/lib/python3.7/dist-packages (from requests->transformers) (1.24.3)\n",
            "Requirement already satisfied: certifi>=2017.4.17 in /usr/local/lib/python3.7/dist-packages (from requests->transformers) (2020.12.5)\n",
            "Requirement already satisfied: chardet<4,>=3.0.2 in /usr/local/lib/python3.7/dist-packages (from requests->transformers) (3.0.4)\n",
            "Installing collected packages: sacremoses, tokenizers, transformers\n",
            "Successfully installed sacremoses-0.0.45 tokenizers-0.10.2 transformers-4.5.1\n"
          ],
          "name": "stdout"
        }
      ]
    },
    {
      "cell_type": "code",
      "metadata": {
        "colab": {
          "base_uri": "https://localhost:8080/"
        },
        "id": "_PRMvEE9TzPy",
        "outputId": "4deb6be0-e712-4581-95f5-4caa8eb227a1"
      },
      "source": [
        "# check GPU\n",
        "device_name = tf.test.gpu_device_name()\n",
        "if device_name == '/device:GPU:0':\n",
        "    device = torch.device(\"cuda\")\n",
        "    print('GPU:', torch.cuda.get_device_name(0))\n",
        "else:\n",
        "    raise SystemError('GPU device not found')"
      ],
      "execution_count": 2,
      "outputs": [
        {
          "output_type": "stream",
          "text": [
            "GPU: Tesla P100-PCIE-16GB\n"
          ],
          "name": "stdout"
        }
      ]
    },
    {
      "cell_type": "markdown",
      "metadata": {
        "id": "10RQvWuET6UX"
      },
      "source": [
        "**READ DATASET (DATASET -2)** Kaynak:"
      ]
    },
    {
      "cell_type": "code",
      "metadata": {
        "colab": {
          "base_uri": "https://localhost:8080/"
        },
        "id": "lwZv1maO2pz_",
        "outputId": "a96d96cb-09e1-4d21-baaa-b8bcaf8cf22a"
      },
      "source": [
        "!unzip /content/drive/MyDrive/hesaplamalı_ödev_3/7allV03.csv.zip"
      ],
      "execution_count": 8,
      "outputs": [
        {
          "output_type": "stream",
          "text": [
            "Archive:  /content/drive/MyDrive/hesaplamalı_ödev_3/7allV03.csv.zip\n",
            "  inflating: 7allV03.csv             \n"
          ],
          "name": "stdout"
        }
      ]
    },
    {
      "cell_type": "code",
      "metadata": {
        "id": "gIOOsR_2T66x"
      },
      "source": [
        "df = pd.read_csv('/content/7allV03.csv')"
      ],
      "execution_count": 9,
      "outputs": []
    },
    {
      "cell_type": "code",
      "metadata": {
        "colab": {
          "base_uri": "https://localhost:8080/"
        },
        "id": "KofoU6xBUIY8",
        "outputId": "86ed3b7b-1243-439f-a2a6-178da2478123"
      },
      "source": [
        "df.groupby('category').size()"
      ],
      "execution_count": 10,
      "outputs": [
        {
          "output_type": "execute_result",
          "data": {
            "text/plain": [
              "category\n",
              "dunya         700\n",
              "ekonomi       700\n",
              "kultur        700\n",
              "saglik        700\n",
              "siyaset       700\n",
              "spor          700\n",
              "teknoloji     700\n",
              "dtype: int64"
            ]
          },
          "metadata": {
            "tags": []
          },
          "execution_count": 10
        }
      ]
    },
    {
      "cell_type": "code",
      "metadata": {
        "id": "NmtJmw9pUW71"
      },
      "source": [
        "df['encoded_categories'] = LabelEncoder().fit_transform(df['category'])"
      ],
      "execution_count": 11,
      "outputs": []
    },
    {
      "cell_type": "code",
      "metadata": {
        "colab": {
          "base_uri": "https://localhost:8080/"
        },
        "id": "tnbAkaR2UX3b",
        "outputId": "ea9dc102-b0b7-4b84-cece-8d9590b3ae96"
      },
      "source": [
        "df.groupby('encoded_categories').size()"
      ],
      "execution_count": 12,
      "outputs": [
        {
          "output_type": "execute_result",
          "data": {
            "text/plain": [
              "encoded_categories\n",
              "0    700\n",
              "1    700\n",
              "2    700\n",
              "3    700\n",
              "4    700\n",
              "5    700\n",
              "6    700\n",
              "dtype: int64"
            ]
          },
          "metadata": {
            "tags": []
          },
          "execution_count": 12
        }
      ]
    },
    {
      "cell_type": "code",
      "metadata": {
        "id": "ut3SpaX8Hyf0"
      },
      "source": [
        "# divide train and test\n",
        "training = df.groupby('encoded_categories').apply(lambda x : x.sample(frac = 0.8))\n",
        "test = pd.concat([df,training]).drop_duplicates(keep=False)"
      ],
      "execution_count": 13,
      "outputs": []
    },
    {
      "cell_type": "code",
      "metadata": {
        "id": "12lqLc0aUdvZ"
      },
      "source": [
        "training_texts = training.text.values\n",
        "training_labels = training.encoded_categories.values"
      ],
      "execution_count": 14,
      "outputs": []
    },
    {
      "cell_type": "code",
      "metadata": {
        "id": "KykxuTdWUed9"
      },
      "source": [
        "test_texts = test.text.values\n",
        "test_labels = test.encoded_categories.values"
      ],
      "execution_count": 15,
      "outputs": []
    },
    {
      "cell_type": "markdown",
      "metadata": {
        "id": "H8XLK0tiUgN1"
      },
      "source": [
        "**UTILITY FUNCTIONS**"
      ]
    },
    {
      "cell_type": "code",
      "metadata": {
        "id": "ddU9gNtrUmao"
      },
      "source": [
        "def plot_histogram(data, x_label, y_label):\n",
        "  BIGGER_SIZE: int = 16\n",
        "  plt.figure(figsize=(8,8))\n",
        "  plt.rc('font', size=BIGGER_SIZE)          # controls default text sizes\n",
        "  plt.rc('axes', titlesize=BIGGER_SIZE)     # fontsize of the axes title=\n",
        "  plt.rc('axes', labelsize=BIGGER_SIZE)    # fontsize of the x and y labels\n",
        "  plt.rc('xtick', labelsize=BIGGER_SIZE)    # fontsize of the tick labels\n",
        "  plt.rc('ytick', labelsize=BIGGER_SIZE)    # fontsize of the tick labels\n",
        "  plt.rc('legend', fontsize=BIGGER_SIZE)    # legend fontsize\n",
        "  plt.rc('figure', titlesize=BIGGER_SIZE)\n",
        "  sns.set_style(\"darkgrid\")\n",
        "  p = sns.barplot(x=x_label, y=y_label, data=data)"
      ],
      "execution_count": null,
      "outputs": []
    },
    {
      "cell_type": "markdown",
      "metadata": {
        "id": "zOVPJTJvUw3q"
      },
      "source": [
        "**BERT**"
      ]
    },
    {
      "cell_type": "code",
      "metadata": {
        "id": "JnBuRPxUVIgu"
      },
      "source": [
        "# HyperParameters\n",
        "class HyperParameters:\n",
        "  max_len = 50\n",
        "  batch_size = 32 # data loader batch size\n",
        "  number_of_class = 7\n",
        "  epochs = 4 # training epoch number\n",
        "  lr = 5e-5 # optimizer learning rate\n",
        "  eps = 1e-8 # optimizer eps\n",
        "  seed_val = 1903"
      ],
      "execution_count": 16,
      "outputs": []
    },
    {
      "cell_type": "code",
      "metadata": {
        "colab": {
          "base_uri": "https://localhost:8080/",
          "height": 115,
          "referenced_widgets": [
            "90fe2723a1f04b0f9de22e3ba6d48c50",
            "27e784fc3767487884a1cbeb81f844a3",
            "18cebe23579b4b04b2ba9b4161592a17",
            "55e945c835454115aca1db49df7faa0a",
            "e7baf9842f8041a6912247e3302e2b61",
            "ef4b267522fe4383acc7ab4f2ede8f3e",
            "c6dba507673548858af174128480af5a",
            "f3bf2e2bbfdb4b549c4399fe7d94d49f",
            "377226aa8d1a49348b56693c4665b7b6",
            "c3287f4f2d404703bda1de4abf31852f",
            "651675ef66e44626b13ff5376bcbf120",
            "9dca1a1f4b5844dd95d872b90e460954",
            "2990a3307d1b49c9a26ad9ff77070172",
            "8218a204e77048a4a1231a77cfdc4f74",
            "a0f3e959e83a4eea9cd873a27712d2bc",
            "5dbf4ef6cb0a4a048c5e20a1ca4ec0a3"
          ]
        },
        "id": "NWcd-3TyUqsp",
        "outputId": "5920ceae-759c-4559-cf54-68d3086d13dc"
      },
      "source": [
        "tokenizer = BertTokenizer.from_pretrained('dbmdz/bert-base-turkish-128k-uncased', do_lower_case=True)"
      ],
      "execution_count": 17,
      "outputs": [
        {
          "output_type": "display_data",
          "data": {
            "application/vnd.jupyter.widget-view+json": {
              "model_id": "90fe2723a1f04b0f9de22e3ba6d48c50",
              "version_minor": 0,
              "version_major": 2
            },
            "text/plain": [
              "HBox(children=(FloatProgress(value=0.0, description='Downloading', max=1233088.0, style=ProgressStyle(descript…"
            ]
          },
          "metadata": {
            "tags": []
          }
        },
        {
          "output_type": "stream",
          "text": [
            "\n"
          ],
          "name": "stdout"
        },
        {
          "output_type": "display_data",
          "data": {
            "application/vnd.jupyter.widget-view+json": {
              "model_id": "377226aa8d1a49348b56693c4665b7b6",
              "version_minor": 0,
              "version_major": 2
            },
            "text/plain": [
              "HBox(children=(FloatProgress(value=0.0, description='Downloading', max=59.0, style=ProgressStyle(description_w…"
            ]
          },
          "metadata": {
            "tags": []
          }
        },
        {
          "output_type": "stream",
          "text": [
            "\n"
          ],
          "name": "stdout"
        }
      ]
    },
    {
      "cell_type": "code",
      "metadata": {
        "colab": {
          "base_uri": "https://localhost:8080/",
          "height": 1000,
          "referenced_widgets": [
            "2e68d39c4fc746958151aba4b78ba7b2",
            "c817c6d08ef64e71a037b8a943c4ebb8",
            "fbbe11e34ab94e5a80cd8fd6134ce85d",
            "193317ae69464eaa943168deeb92e469",
            "2785541286724a9b8b7fb8978353baad",
            "f29eec7d6e054d6cbaf1c933abcc3b42",
            "db210b8aa17b4e7b85ece557cf928427",
            "44c2e5143dfb4637896a4c49e0079601",
            "e8445e6a5ed04d8c8cae46ba204c2024",
            "ccdbcc4758d0495dac3f035eed73972d",
            "403a8f684b044a7487a4c921bc5b3a1c",
            "b981e0e3a3624f3cb3fc77a7886c4c97",
            "8c7a06b737b44576b0c98c2e67e3117d",
            "7564cf3f24fe415aba4ff0cee6ba97f2",
            "94ef0bfa92dd49edb34a96b306154e18",
            "c8df112bb49b4a05ae1991b5eabf1fb6"
          ]
        },
        "id": "tgtYINEeVBGY",
        "outputId": "3494aefc-f56e-410e-ed22-03fce4125bfc"
      },
      "source": [
        "model = BertForSequenceClassification.from_pretrained(\n",
        "    \"dbmdz/bert-base-turkish-128k-uncased\",\n",
        "    num_labels = HyperParameters.number_of_class, \n",
        "    output_attentions = False,\n",
        "    output_hidden_states = False,\n",
        ")\n",
        "\n",
        "model.cuda()"
      ],
      "execution_count": 18,
      "outputs": [
        {
          "output_type": "display_data",
          "data": {
            "application/vnd.jupyter.widget-view+json": {
              "model_id": "2e68d39c4fc746958151aba4b78ba7b2",
              "version_minor": 0,
              "version_major": 2
            },
            "text/plain": [
              "HBox(children=(FloatProgress(value=0.0, description='Downloading', max=386.0, style=ProgressStyle(description_…"
            ]
          },
          "metadata": {
            "tags": []
          }
        },
        {
          "output_type": "stream",
          "text": [
            "\n"
          ],
          "name": "stdout"
        },
        {
          "output_type": "display_data",
          "data": {
            "application/vnd.jupyter.widget-view+json": {
              "model_id": "e8445e6a5ed04d8c8cae46ba204c2024",
              "version_minor": 0,
              "version_major": 2
            },
            "text/plain": [
              "HBox(children=(FloatProgress(value=0.0, description='Downloading', max=740314769.0, style=ProgressStyle(descri…"
            ]
          },
          "metadata": {
            "tags": []
          }
        },
        {
          "output_type": "stream",
          "text": [
            "\n"
          ],
          "name": "stdout"
        },
        {
          "output_type": "stream",
          "text": [
            "Some weights of the model checkpoint at dbmdz/bert-base-turkish-128k-uncased were not used when initializing BertForSequenceClassification: ['cls.predictions.bias', 'cls.predictions.transform.dense.weight', 'cls.predictions.transform.dense.bias', 'cls.predictions.transform.LayerNorm.weight', 'cls.predictions.transform.LayerNorm.bias', 'cls.predictions.decoder.weight', 'cls.predictions.decoder.bias', 'cls.seq_relationship.weight', 'cls.seq_relationship.bias']\n",
            "- This IS expected if you are initializing BertForSequenceClassification from the checkpoint of a model trained on another task or with another architecture (e.g. initializing a BertForSequenceClassification model from a BertForPreTraining model).\n",
            "- This IS NOT expected if you are initializing BertForSequenceClassification from the checkpoint of a model that you expect to be exactly identical (initializing a BertForSequenceClassification model from a BertForSequenceClassification model).\n",
            "Some weights of BertForSequenceClassification were not initialized from the model checkpoint at dbmdz/bert-base-turkish-128k-uncased and are newly initialized: ['classifier.weight', 'classifier.bias']\n",
            "You should probably TRAIN this model on a down-stream task to be able to use it for predictions and inference.\n"
          ],
          "name": "stderr"
        },
        {
          "output_type": "execute_result",
          "data": {
            "text/plain": [
              "BertForSequenceClassification(\n",
              "  (bert): BertModel(\n",
              "    (embeddings): BertEmbeddings(\n",
              "      (word_embeddings): Embedding(128000, 768, padding_idx=0)\n",
              "      (position_embeddings): Embedding(512, 768)\n",
              "      (token_type_embeddings): Embedding(2, 768)\n",
              "      (LayerNorm): LayerNorm((768,), eps=1e-12, elementwise_affine=True)\n",
              "      (dropout): Dropout(p=0.1, inplace=False)\n",
              "    )\n",
              "    (encoder): BertEncoder(\n",
              "      (layer): ModuleList(\n",
              "        (0): BertLayer(\n",
              "          (attention): BertAttention(\n",
              "            (self): BertSelfAttention(\n",
              "              (query): Linear(in_features=768, out_features=768, bias=True)\n",
              "              (key): Linear(in_features=768, out_features=768, bias=True)\n",
              "              (value): Linear(in_features=768, out_features=768, bias=True)\n",
              "              (dropout): Dropout(p=0.1, inplace=False)\n",
              "            )\n",
              "            (output): BertSelfOutput(\n",
              "              (dense): Linear(in_features=768, out_features=768, bias=True)\n",
              "              (LayerNorm): LayerNorm((768,), eps=1e-12, elementwise_affine=True)\n",
              "              (dropout): Dropout(p=0.1, inplace=False)\n",
              "            )\n",
              "          )\n",
              "          (intermediate): BertIntermediate(\n",
              "            (dense): Linear(in_features=768, out_features=3072, bias=True)\n",
              "          )\n",
              "          (output): BertOutput(\n",
              "            (dense): Linear(in_features=3072, out_features=768, bias=True)\n",
              "            (LayerNorm): LayerNorm((768,), eps=1e-12, elementwise_affine=True)\n",
              "            (dropout): Dropout(p=0.1, inplace=False)\n",
              "          )\n",
              "        )\n",
              "        (1): BertLayer(\n",
              "          (attention): BertAttention(\n",
              "            (self): BertSelfAttention(\n",
              "              (query): Linear(in_features=768, out_features=768, bias=True)\n",
              "              (key): Linear(in_features=768, out_features=768, bias=True)\n",
              "              (value): Linear(in_features=768, out_features=768, bias=True)\n",
              "              (dropout): Dropout(p=0.1, inplace=False)\n",
              "            )\n",
              "            (output): BertSelfOutput(\n",
              "              (dense): Linear(in_features=768, out_features=768, bias=True)\n",
              "              (LayerNorm): LayerNorm((768,), eps=1e-12, elementwise_affine=True)\n",
              "              (dropout): Dropout(p=0.1, inplace=False)\n",
              "            )\n",
              "          )\n",
              "          (intermediate): BertIntermediate(\n",
              "            (dense): Linear(in_features=768, out_features=3072, bias=True)\n",
              "          )\n",
              "          (output): BertOutput(\n",
              "            (dense): Linear(in_features=3072, out_features=768, bias=True)\n",
              "            (LayerNorm): LayerNorm((768,), eps=1e-12, elementwise_affine=True)\n",
              "            (dropout): Dropout(p=0.1, inplace=False)\n",
              "          )\n",
              "        )\n",
              "        (2): BertLayer(\n",
              "          (attention): BertAttention(\n",
              "            (self): BertSelfAttention(\n",
              "              (query): Linear(in_features=768, out_features=768, bias=True)\n",
              "              (key): Linear(in_features=768, out_features=768, bias=True)\n",
              "              (value): Linear(in_features=768, out_features=768, bias=True)\n",
              "              (dropout): Dropout(p=0.1, inplace=False)\n",
              "            )\n",
              "            (output): BertSelfOutput(\n",
              "              (dense): Linear(in_features=768, out_features=768, bias=True)\n",
              "              (LayerNorm): LayerNorm((768,), eps=1e-12, elementwise_affine=True)\n",
              "              (dropout): Dropout(p=0.1, inplace=False)\n",
              "            )\n",
              "          )\n",
              "          (intermediate): BertIntermediate(\n",
              "            (dense): Linear(in_features=768, out_features=3072, bias=True)\n",
              "          )\n",
              "          (output): BertOutput(\n",
              "            (dense): Linear(in_features=3072, out_features=768, bias=True)\n",
              "            (LayerNorm): LayerNorm((768,), eps=1e-12, elementwise_affine=True)\n",
              "            (dropout): Dropout(p=0.1, inplace=False)\n",
              "          )\n",
              "        )\n",
              "        (3): BertLayer(\n",
              "          (attention): BertAttention(\n",
              "            (self): BertSelfAttention(\n",
              "              (query): Linear(in_features=768, out_features=768, bias=True)\n",
              "              (key): Linear(in_features=768, out_features=768, bias=True)\n",
              "              (value): Linear(in_features=768, out_features=768, bias=True)\n",
              "              (dropout): Dropout(p=0.1, inplace=False)\n",
              "            )\n",
              "            (output): BertSelfOutput(\n",
              "              (dense): Linear(in_features=768, out_features=768, bias=True)\n",
              "              (LayerNorm): LayerNorm((768,), eps=1e-12, elementwise_affine=True)\n",
              "              (dropout): Dropout(p=0.1, inplace=False)\n",
              "            )\n",
              "          )\n",
              "          (intermediate): BertIntermediate(\n",
              "            (dense): Linear(in_features=768, out_features=3072, bias=True)\n",
              "          )\n",
              "          (output): BertOutput(\n",
              "            (dense): Linear(in_features=3072, out_features=768, bias=True)\n",
              "            (LayerNorm): LayerNorm((768,), eps=1e-12, elementwise_affine=True)\n",
              "            (dropout): Dropout(p=0.1, inplace=False)\n",
              "          )\n",
              "        )\n",
              "        (4): BertLayer(\n",
              "          (attention): BertAttention(\n",
              "            (self): BertSelfAttention(\n",
              "              (query): Linear(in_features=768, out_features=768, bias=True)\n",
              "              (key): Linear(in_features=768, out_features=768, bias=True)\n",
              "              (value): Linear(in_features=768, out_features=768, bias=True)\n",
              "              (dropout): Dropout(p=0.1, inplace=False)\n",
              "            )\n",
              "            (output): BertSelfOutput(\n",
              "              (dense): Linear(in_features=768, out_features=768, bias=True)\n",
              "              (LayerNorm): LayerNorm((768,), eps=1e-12, elementwise_affine=True)\n",
              "              (dropout): Dropout(p=0.1, inplace=False)\n",
              "            )\n",
              "          )\n",
              "          (intermediate): BertIntermediate(\n",
              "            (dense): Linear(in_features=768, out_features=3072, bias=True)\n",
              "          )\n",
              "          (output): BertOutput(\n",
              "            (dense): Linear(in_features=3072, out_features=768, bias=True)\n",
              "            (LayerNorm): LayerNorm((768,), eps=1e-12, elementwise_affine=True)\n",
              "            (dropout): Dropout(p=0.1, inplace=False)\n",
              "          )\n",
              "        )\n",
              "        (5): BertLayer(\n",
              "          (attention): BertAttention(\n",
              "            (self): BertSelfAttention(\n",
              "              (query): Linear(in_features=768, out_features=768, bias=True)\n",
              "              (key): Linear(in_features=768, out_features=768, bias=True)\n",
              "              (value): Linear(in_features=768, out_features=768, bias=True)\n",
              "              (dropout): Dropout(p=0.1, inplace=False)\n",
              "            )\n",
              "            (output): BertSelfOutput(\n",
              "              (dense): Linear(in_features=768, out_features=768, bias=True)\n",
              "              (LayerNorm): LayerNorm((768,), eps=1e-12, elementwise_affine=True)\n",
              "              (dropout): Dropout(p=0.1, inplace=False)\n",
              "            )\n",
              "          )\n",
              "          (intermediate): BertIntermediate(\n",
              "            (dense): Linear(in_features=768, out_features=3072, bias=True)\n",
              "          )\n",
              "          (output): BertOutput(\n",
              "            (dense): Linear(in_features=3072, out_features=768, bias=True)\n",
              "            (LayerNorm): LayerNorm((768,), eps=1e-12, elementwise_affine=True)\n",
              "            (dropout): Dropout(p=0.1, inplace=False)\n",
              "          )\n",
              "        )\n",
              "        (6): BertLayer(\n",
              "          (attention): BertAttention(\n",
              "            (self): BertSelfAttention(\n",
              "              (query): Linear(in_features=768, out_features=768, bias=True)\n",
              "              (key): Linear(in_features=768, out_features=768, bias=True)\n",
              "              (value): Linear(in_features=768, out_features=768, bias=True)\n",
              "              (dropout): Dropout(p=0.1, inplace=False)\n",
              "            )\n",
              "            (output): BertSelfOutput(\n",
              "              (dense): Linear(in_features=768, out_features=768, bias=True)\n",
              "              (LayerNorm): LayerNorm((768,), eps=1e-12, elementwise_affine=True)\n",
              "              (dropout): Dropout(p=0.1, inplace=False)\n",
              "            )\n",
              "          )\n",
              "          (intermediate): BertIntermediate(\n",
              "            (dense): Linear(in_features=768, out_features=3072, bias=True)\n",
              "          )\n",
              "          (output): BertOutput(\n",
              "            (dense): Linear(in_features=3072, out_features=768, bias=True)\n",
              "            (LayerNorm): LayerNorm((768,), eps=1e-12, elementwise_affine=True)\n",
              "            (dropout): Dropout(p=0.1, inplace=False)\n",
              "          )\n",
              "        )\n",
              "        (7): BertLayer(\n",
              "          (attention): BertAttention(\n",
              "            (self): BertSelfAttention(\n",
              "              (query): Linear(in_features=768, out_features=768, bias=True)\n",
              "              (key): Linear(in_features=768, out_features=768, bias=True)\n",
              "              (value): Linear(in_features=768, out_features=768, bias=True)\n",
              "              (dropout): Dropout(p=0.1, inplace=False)\n",
              "            )\n",
              "            (output): BertSelfOutput(\n",
              "              (dense): Linear(in_features=768, out_features=768, bias=True)\n",
              "              (LayerNorm): LayerNorm((768,), eps=1e-12, elementwise_affine=True)\n",
              "              (dropout): Dropout(p=0.1, inplace=False)\n",
              "            )\n",
              "          )\n",
              "          (intermediate): BertIntermediate(\n",
              "            (dense): Linear(in_features=768, out_features=3072, bias=True)\n",
              "          )\n",
              "          (output): BertOutput(\n",
              "            (dense): Linear(in_features=3072, out_features=768, bias=True)\n",
              "            (LayerNorm): LayerNorm((768,), eps=1e-12, elementwise_affine=True)\n",
              "            (dropout): Dropout(p=0.1, inplace=False)\n",
              "          )\n",
              "        )\n",
              "        (8): BertLayer(\n",
              "          (attention): BertAttention(\n",
              "            (self): BertSelfAttention(\n",
              "              (query): Linear(in_features=768, out_features=768, bias=True)\n",
              "              (key): Linear(in_features=768, out_features=768, bias=True)\n",
              "              (value): Linear(in_features=768, out_features=768, bias=True)\n",
              "              (dropout): Dropout(p=0.1, inplace=False)\n",
              "            )\n",
              "            (output): BertSelfOutput(\n",
              "              (dense): Linear(in_features=768, out_features=768, bias=True)\n",
              "              (LayerNorm): LayerNorm((768,), eps=1e-12, elementwise_affine=True)\n",
              "              (dropout): Dropout(p=0.1, inplace=False)\n",
              "            )\n",
              "          )\n",
              "          (intermediate): BertIntermediate(\n",
              "            (dense): Linear(in_features=768, out_features=3072, bias=True)\n",
              "          )\n",
              "          (output): BertOutput(\n",
              "            (dense): Linear(in_features=3072, out_features=768, bias=True)\n",
              "            (LayerNorm): LayerNorm((768,), eps=1e-12, elementwise_affine=True)\n",
              "            (dropout): Dropout(p=0.1, inplace=False)\n",
              "          )\n",
              "        )\n",
              "        (9): BertLayer(\n",
              "          (attention): BertAttention(\n",
              "            (self): BertSelfAttention(\n",
              "              (query): Linear(in_features=768, out_features=768, bias=True)\n",
              "              (key): Linear(in_features=768, out_features=768, bias=True)\n",
              "              (value): Linear(in_features=768, out_features=768, bias=True)\n",
              "              (dropout): Dropout(p=0.1, inplace=False)\n",
              "            )\n",
              "            (output): BertSelfOutput(\n",
              "              (dense): Linear(in_features=768, out_features=768, bias=True)\n",
              "              (LayerNorm): LayerNorm((768,), eps=1e-12, elementwise_affine=True)\n",
              "              (dropout): Dropout(p=0.1, inplace=False)\n",
              "            )\n",
              "          )\n",
              "          (intermediate): BertIntermediate(\n",
              "            (dense): Linear(in_features=768, out_features=3072, bias=True)\n",
              "          )\n",
              "          (output): BertOutput(\n",
              "            (dense): Linear(in_features=3072, out_features=768, bias=True)\n",
              "            (LayerNorm): LayerNorm((768,), eps=1e-12, elementwise_affine=True)\n",
              "            (dropout): Dropout(p=0.1, inplace=False)\n",
              "          )\n",
              "        )\n",
              "        (10): BertLayer(\n",
              "          (attention): BertAttention(\n",
              "            (self): BertSelfAttention(\n",
              "              (query): Linear(in_features=768, out_features=768, bias=True)\n",
              "              (key): Linear(in_features=768, out_features=768, bias=True)\n",
              "              (value): Linear(in_features=768, out_features=768, bias=True)\n",
              "              (dropout): Dropout(p=0.1, inplace=False)\n",
              "            )\n",
              "            (output): BertSelfOutput(\n",
              "              (dense): Linear(in_features=768, out_features=768, bias=True)\n",
              "              (LayerNorm): LayerNorm((768,), eps=1e-12, elementwise_affine=True)\n",
              "              (dropout): Dropout(p=0.1, inplace=False)\n",
              "            )\n",
              "          )\n",
              "          (intermediate): BertIntermediate(\n",
              "            (dense): Linear(in_features=768, out_features=3072, bias=True)\n",
              "          )\n",
              "          (output): BertOutput(\n",
              "            (dense): Linear(in_features=3072, out_features=768, bias=True)\n",
              "            (LayerNorm): LayerNorm((768,), eps=1e-12, elementwise_affine=True)\n",
              "            (dropout): Dropout(p=0.1, inplace=False)\n",
              "          )\n",
              "        )\n",
              "        (11): BertLayer(\n",
              "          (attention): BertAttention(\n",
              "            (self): BertSelfAttention(\n",
              "              (query): Linear(in_features=768, out_features=768, bias=True)\n",
              "              (key): Linear(in_features=768, out_features=768, bias=True)\n",
              "              (value): Linear(in_features=768, out_features=768, bias=True)\n",
              "              (dropout): Dropout(p=0.1, inplace=False)\n",
              "            )\n",
              "            (output): BertSelfOutput(\n",
              "              (dense): Linear(in_features=768, out_features=768, bias=True)\n",
              "              (LayerNorm): LayerNorm((768,), eps=1e-12, elementwise_affine=True)\n",
              "              (dropout): Dropout(p=0.1, inplace=False)\n",
              "            )\n",
              "          )\n",
              "          (intermediate): BertIntermediate(\n",
              "            (dense): Linear(in_features=768, out_features=3072, bias=True)\n",
              "          )\n",
              "          (output): BertOutput(\n",
              "            (dense): Linear(in_features=3072, out_features=768, bias=True)\n",
              "            (LayerNorm): LayerNorm((768,), eps=1e-12, elementwise_affine=True)\n",
              "            (dropout): Dropout(p=0.1, inplace=False)\n",
              "          )\n",
              "        )\n",
              "      )\n",
              "    )\n",
              "    (pooler): BertPooler(\n",
              "      (dense): Linear(in_features=768, out_features=768, bias=True)\n",
              "      (activation): Tanh()\n",
              "    )\n",
              "  )\n",
              "  (dropout): Dropout(p=0.1, inplace=False)\n",
              "  (classifier): Linear(in_features=768, out_features=7, bias=True)\n",
              ")"
            ]
          },
          "metadata": {
            "tags": []
          },
          "execution_count": 18
        }
      ]
    },
    {
      "cell_type": "code",
      "metadata": {
        "id": "_o5ZFmCUVMGb"
      },
      "source": [
        "def prepare_data_for_bert_classification(texts: List[str], labels: List[int]):\n",
        "  \"\"\"\n",
        "  This method creates input_ids, attention_masks and labels  for BERT\n",
        "\n",
        "  Parameters:\n",
        "      texts: list of strings to get input masks\n",
        "      labels: labels of the texts in type list of integers\n",
        "\n",
        "  Returns:\n",
        "      input_ids\n",
        "      attention_masks\n",
        "      labels\n",
        "  \"\"\"\n",
        "  input_ids = []\n",
        "  attention_masks = []\n",
        "  for text in texts:\n",
        "    encoded_dict = tokenizer.encode_plus(\n",
        "                        text,                     \n",
        "                        add_special_tokens = True,\n",
        "                        max_length = HyperParameters.max_len,      \n",
        "                        pad_to_max_length = True,\n",
        "                        return_attention_mask = True, \n",
        "                        return_tensors = 'pt',\n",
        "                   )\n",
        "    input_ids.append(encoded_dict['input_ids'])\n",
        "    attention_masks.append(encoded_dict['attention_mask'])\n",
        "  \n",
        "  input_ids = torch.cat(input_ids, dim=0)\n",
        "  attention_masks = torch.cat(attention_masks, dim=0)\n",
        "  labels = torch.tensor(labels)\n",
        "\n",
        "  return input_ids, attention_masks, labels"
      ],
      "execution_count": 19,
      "outputs": []
    },
    {
      "cell_type": "code",
      "metadata": {
        "id": "h2jL0-9BVYzS"
      },
      "source": [
        "def get_data_loader(input_ids, attention_masks, labels):\n",
        "  dataset = TensorDataset(input_ids, attention_masks, labels)\n",
        "  dataloader = DataLoader(\n",
        "                          dataset,  \n",
        "                          sampler = RandomSampler(dataset), \n",
        "                          batch_size = HyperParameters.batch_size \n",
        "                          )\n",
        "  return dataloader\n"
      ],
      "execution_count": 20,
      "outputs": []
    },
    {
      "cell_type": "code",
      "metadata": {
        "id": "ZCVLRlQkVjyG"
      },
      "source": [
        "def format_time(elapsed):\n",
        "    elapsed_rounded = int(round((elapsed)))\n",
        "    return str(datetime.timedelta(seconds=elapsed_rounded))"
      ],
      "execution_count": 21,
      "outputs": []
    },
    {
      "cell_type": "code",
      "metadata": {
        "id": "MrCXTJjPV4Wa"
      },
      "source": [
        "def fine_tune_BERT_for_classification(train_dataloader, model):\n",
        "  # resource https://github.com/huggingface/transformers/blob/5bfcd0485ece086ebcbed2d008813037968a9e58/examples/run_glue.py#L128\n",
        "\n",
        "  epochs = HyperParameters.epochs\n",
        "\n",
        "  optimizer = AdamW(model.parameters(),\n",
        "                  lr = HyperParameters.lr,\n",
        "                  eps = HyperParameters.eps \n",
        "                )\n",
        "\n",
        "  total_steps = len(train_dataloader) * HyperParameters.epochs\n",
        "  scheduler = get_linear_schedule_with_warmup(optimizer, \n",
        "                                              num_warmup_steps = 0,\n",
        "                                              num_training_steps = total_steps)\n",
        "\n",
        "  seed_val = HyperParameters.seed_val\n",
        "\n",
        "  random.seed(seed_val)\n",
        "  np.random.seed(seed_val)\n",
        "  torch.manual_seed(seed_val)\n",
        "  torch.cuda.manual_seed_all(seed_val)\n",
        "\n",
        "  training_stats = []\n",
        "  total_t0 = time.time()\n",
        "\n",
        "  for epoch_i in range(0, epochs):\n",
        "    print('======== Epoch {:} / {:} ========'.format(epoch_i + 1, epochs))\n",
        "    t0 = time.time()\n",
        "    total_train_loss = 0\n",
        "    model.train()\n",
        "\n",
        "    for step, batch in enumerate(train_dataloader):\n",
        "        if step % 10 == 0 and not step == 0:\n",
        "            elapsed = format_time(time.time() - t0)\n",
        "\n",
        "        b_input_ids = batch[0].to(device)\n",
        "        b_input_mask = batch[1].to(device)\n",
        "        b_labels = batch[2].to(device)\n",
        "\n",
        "        model.zero_grad()  \n",
        "        SequenceClassifierOutput =  model(b_input_ids, \n",
        "                             token_type_ids=None, \n",
        "                             attention_mask=b_input_mask, \n",
        "                             labels=b_labels)      \n",
        "        loss, logits = SequenceClassifierOutput.loss, SequenceClassifierOutput.logits\n",
        "\n",
        "        total_train_loss += loss.item()\n",
        "        loss.backward()\n",
        "        torch.nn.utils.clip_grad_norm_(model.parameters(), 1.0)\n",
        "        optimizer.step()\n",
        "        scheduler.step()\n",
        "\n",
        "    avg_train_loss = total_train_loss / len(train_dataloader)            \n",
        "    training_time = format_time(time.time() - t0)\n",
        "\n",
        "    print(\"Average training loss: {0:.2f}\".format(avg_train_loss))\n",
        "    print(\"Training epoch took: {:}\".format(training_time))\n",
        "\n",
        "    training_stats.append(\n",
        "        {\n",
        "            'epoch': epoch_i + 1,\n",
        "            'Training Loss': avg_train_loss,\n",
        "            'Training Time': training_time,\n",
        "        }\n",
        "    )\n",
        "  \n",
        "  print(\"Training completed in {:} (h:mm:ss)\".format(format_time(time.time()-total_t0)))\n",
        "\n",
        "  return training_stats, model"
      ],
      "execution_count": 22,
      "outputs": []
    },
    {
      "cell_type": "code",
      "metadata": {
        "id": "TVLMdUGaWIQ0"
      },
      "source": [
        "def get_predictions(test_texts, test_labels, model):\n",
        "  model.eval()\n",
        "\n",
        "  predictions , true_labels = [], []\n",
        "\n",
        "  input_ids, attention_masks, labels = prepare_data_for_bert_classification(test_texts, test_labels)\n",
        "  prediction_data = TensorDataset(input_ids, attention_masks, labels)\n",
        "  prediction_sampler = SequentialSampler(prediction_data)\n",
        "  prediction_dataloader = DataLoader(prediction_data, sampler=prediction_sampler, batch_size=HyperParameters.batch_size)\n",
        "\n",
        "  for batch in prediction_dataloader:\n",
        "    batch = tuple(t.to(device) for t in batch)\n",
        "    b_input_ids, b_input_mask, b_labels = batch\n",
        "\n",
        "    with torch.no_grad():\n",
        "        outputs = model(b_input_ids, token_type_ids=None, \n",
        "                        attention_mask=b_input_mask)\n",
        "\n",
        "    logits = outputs[0]\n",
        "    logits = logits.detach().cpu().numpy()\n",
        "    label_ids = b_labels.to('cpu').numpy()\n",
        "    \n",
        "    predictions.append(logits)\n",
        "    true_labels.append(label_ids)\n",
        "\n",
        "\n",
        "  return predictions, true_labels"
      ],
      "execution_count": 23,
      "outputs": []
    },
    {
      "cell_type": "code",
      "metadata": {
        "id": "MVfwOhC_Wc6X"
      },
      "source": [
        "class BERT:\n",
        "  def __init__(self, model):\n",
        "    self.predictions = None\n",
        "    self.model = model\n",
        "\n",
        "  def train(self, x, y):\n",
        "     training_texts = x\n",
        "     training_labels = y\n",
        "     \n",
        "     input_ids, attention_masks, labels = prepare_data_for_bert_classification(texts= training_texts, \n",
        "                                                                               labels= training_labels)\n",
        "     train_dataloader = get_data_loader(input_ids=input_ids,\n",
        "                                        attention_masks= attention_masks,\n",
        "                                        labels= labels)\n",
        "     \n",
        "     training_stats, self.model = fine_tune_BERT_for_classification(train_dataloader=train_dataloader,\n",
        "                                                                    model=self.model)\n",
        "\n",
        "     return self\n",
        "\n",
        "  def predict(self, x, y):\n",
        "    self.predictions, true_labels = get_predictions(test_texts=test_texts,\n",
        "                                                    test_labels= test_labels,\n",
        "                                                    model=self.model)\n",
        "    \n",
        "    prediction_set = []\n",
        "    for i in range(len(true_labels)):\n",
        "      # here we get the index of max probability values for each sample in one batch\n",
        "      pred_labels_i = np.argmax(self.predictions[i], axis=1).flatten()\n",
        "      prediction_set.append(pred_labels_i)\n",
        "\n",
        "    # for 32 batch we combine the predictions in one list\n",
        "    prediction_scores = [item for sublist in prediction_set for item in sublist]\n",
        "    return prediction_scores\n",
        "\n",
        "  def predict_proba(self, x, y):\n",
        "    predictions, true_labels = get_predictions(test_texts=x,\n",
        "                                               test_labels= y,\n",
        "                                               model=self.model)\n",
        "    return np.array([item for sublist in predictions for item in sublist])"
      ],
      "execution_count": 24,
      "outputs": []
    },
    {
      "cell_type": "markdown",
      "metadata": {
        "id": "DfIsHU7IXTjN"
      },
      "source": [
        "**TRAIN WITH ALL DATA**"
      ]
    },
    {
      "cell_type": "code",
      "metadata": {
        "id": "YOObhO3DWscB"
      },
      "source": [
        "bert = BERT(model=model)"
      ],
      "execution_count": 25,
      "outputs": []
    },
    {
      "cell_type": "code",
      "metadata": {
        "id": "kGmhLpxEIR1E"
      },
      "source": [
        "scaler = MinMaxScaler() # initialize scaler to normalize probabilities"
      ],
      "execution_count": 26,
      "outputs": []
    },
    {
      "cell_type": "code",
      "metadata": {
        "colab": {
          "base_uri": "https://localhost:8080/"
        },
        "id": "7jgcWkXoWt1b",
        "outputId": "ce943f1b-4b94-4dfc-831c-ace4643118ac"
      },
      "source": [
        "bert.train(training_texts, training_labels)"
      ],
      "execution_count": 27,
      "outputs": [
        {
          "output_type": "stream",
          "text": [
            "Truncation was not explicitly activated but `max_length` is provided a specific value, please use `truncation=True` to explicitly truncate examples to max length. Defaulting to 'longest_first' truncation strategy. If you encode pairs of sequences (GLUE-style) with the tokenizer you can select this strategy more precisely by providing a specific strategy to `truncation`.\n",
            "/usr/local/lib/python3.7/dist-packages/transformers/tokenization_utils_base.py:2079: FutureWarning: The `pad_to_max_length` argument is deprecated and will be removed in a future version, use `padding=True` or `padding='longest'` to pad to the longest sequence in the batch, or use `padding='max_length'` to pad to a max length. In this case, you can give a specific length with `max_length` (e.g. `max_length=45`) or leave max_length to None to pad to the maximal input size of the model (e.g. 512 for Bert).\n",
            "  FutureWarning,\n"
          ],
          "name": "stderr"
        },
        {
          "output_type": "stream",
          "text": [
            "======== Epoch 1 / 4 ========\n",
            "Average training loss: 0.92\n",
            "Training epoch took: 0:00:23\n",
            "======== Epoch 2 / 4 ========\n",
            "Average training loss: 0.24\n",
            "Training epoch took: 0:00:23\n",
            "======== Epoch 3 / 4 ========\n",
            "Average training loss: 0.11\n",
            "Training epoch took: 0:00:23\n",
            "======== Epoch 4 / 4 ========\n",
            "Average training loss: 0.05\n",
            "Training epoch took: 0:00:22\n",
            "Training completed in 0:01:30 (h:mm:ss)\n"
          ],
          "name": "stdout"
        },
        {
          "output_type": "execute_result",
          "data": {
            "text/plain": [
              "<__main__.BERT at 0x7fa2c80c0e50>"
            ]
          },
          "metadata": {
            "tags": []
          },
          "execution_count": 27
        }
      ]
    },
    {
      "cell_type": "code",
      "metadata": {
        "colab": {
          "base_uri": "https://localhost:8080/"
        },
        "id": "1Jkg3B0WWudS",
        "outputId": "77b2e48a-be64-4160-89f9-4565f4f73490"
      },
      "source": [
        "prediction_scores = bert.predict(training_texts, training_labels)"
      ],
      "execution_count": 28,
      "outputs": [
        {
          "output_type": "stream",
          "text": [
            "/usr/local/lib/python3.7/dist-packages/transformers/tokenization_utils_base.py:2079: FutureWarning: The `pad_to_max_length` argument is deprecated and will be removed in a future version, use `padding=True` or `padding='longest'` to pad to the longest sequence in the batch, or use `padding='max_length'` to pad to a max length. In this case, you can give a specific length with `max_length` (e.g. `max_length=45`) or leave max_length to None to pad to the maximal input size of the model (e.g. 512 for Bert).\n",
            "  FutureWarning,\n"
          ],
          "name": "stderr"
        }
      ]
    },
    {
      "cell_type": "code",
      "metadata": {
        "colab": {
          "base_uri": "https://localhost:8080/"
        },
        "id": "2lTLXz0Ip3cR",
        "outputId": "a98ad9be-6147-4b8f-c3e9-bedeade207ac"
      },
      "source": [
        "f1_score(test_labels, prediction_scores, average=\"macro\")"
      ],
      "execution_count": 29,
      "outputs": [
        {
          "output_type": "execute_result",
          "data": {
            "text/plain": [
              "0.9298072090799337"
            ]
          },
          "metadata": {
            "tags": []
          },
          "execution_count": 29
        }
      ]
    },
    {
      "cell_type": "code",
      "metadata": {
        "colab": {
          "base_uri": "https://localhost:8080/"
        },
        "id": "WA5xZwWuIU7h",
        "outputId": "319379c3-42ba-463c-9549-ee00040edc43"
      },
      "source": [
        "all_data_probabilities = bert.predict_proba(test_texts, test_labels)"
      ],
      "execution_count": 30,
      "outputs": [
        {
          "output_type": "stream",
          "text": [
            "/usr/local/lib/python3.7/dist-packages/transformers/tokenization_utils_base.py:2079: FutureWarning: The `pad_to_max_length` argument is deprecated and will be removed in a future version, use `padding=True` or `padding='longest'` to pad to the longest sequence in the batch, or use `padding='max_length'` to pad to a max length. In this case, you can give a specific length with `max_length` (e.g. `max_length=45`) or leave max_length to None to pad to the maximal input size of the model (e.g. 512 for Bert).\n",
            "  FutureWarning,\n"
          ],
          "name": "stderr"
        }
      ]
    },
    {
      "cell_type": "code",
      "metadata": {
        "colab": {
          "base_uri": "https://localhost:8080/"
        },
        "id": "h_wuHl0dIXT1",
        "outputId": "6fce94eb-bd48-4224-8cbf-9539cc397bd4"
      },
      "source": [
        "scaler.fit(all_data_probabilities)"
      ],
      "execution_count": 31,
      "outputs": [
        {
          "output_type": "execute_result",
          "data": {
            "text/plain": [
              "MinMaxScaler(copy=True, feature_range=(0, 1))"
            ]
          },
          "metadata": {
            "tags": []
          },
          "execution_count": 31
        }
      ]
    },
    {
      "cell_type": "markdown",
      "metadata": {
        "id": "cvl0OBSEYpKv"
      },
      "source": [
        "**ACTIVE LEARNING**"
      ]
    },
    {
      "cell_type": "code",
      "metadata": {
        "colab": {
          "base_uri": "https://localhost:8080/"
        },
        "id": "gwipA8K5XMeU",
        "outputId": "665bc82f-80c6-48a1-9c4f-22a46c37d22b"
      },
      "source": [
        "training.info()\n",
        "training.reset_index(drop=True, inplace=True)"
      ],
      "execution_count": 32,
      "outputs": [
        {
          "output_type": "stream",
          "text": [
            "<class 'pandas.core.frame.DataFrame'>\n",
            "MultiIndex: 3920 entries, (0, 1033) to (6, 4849)\n",
            "Data columns (total 3 columns):\n",
            " #   Column              Non-Null Count  Dtype \n",
            "---  ------              --------------  ----- \n",
            " 0   category            3920 non-null   object\n",
            " 1   text                3920 non-null   object\n",
            " 2   encoded_categories  3920 non-null   int64 \n",
            "dtypes: int64(1), object(2)\n",
            "memory usage: 294.1+ KB\n"
          ],
          "name": "stdout"
        }
      ]
    },
    {
      "cell_type": "code",
      "metadata": {
        "colab": {
          "base_uri": "https://localhost:8080/"
        },
        "id": "_hM5oijEo8NQ",
        "outputId": "bc367668-62f3-4ef6-80c9-b50ca40bddf5"
      },
      "source": [
        "test.info()\n",
        "test.reset_index(drop=True, inplace=True)"
      ],
      "execution_count": 33,
      "outputs": [
        {
          "output_type": "stream",
          "text": [
            "<class 'pandas.core.frame.DataFrame'>\n",
            "Index: 853 entries, 1 to 4898\n",
            "Data columns (total 3 columns):\n",
            " #   Column              Non-Null Count  Dtype \n",
            "---  ------              --------------  ----- \n",
            " 0   category            853 non-null    object\n",
            " 1   text                853 non-null    object\n",
            " 2   encoded_categories  853 non-null    int64 \n",
            "dtypes: int64(1), object(2)\n",
            "memory usage: 26.7+ KB\n"
          ],
          "name": "stdout"
        }
      ]
    },
    {
      "cell_type": "code",
      "metadata": {
        "id": "kCGyXez9Yuok"
      },
      "source": [
        "label_counts = (training['category']\n",
        "                .value_counts(normalize=True)\n",
        "                .rename('percentage')\n",
        "                .mul(100)\n",
        "                .reset_index()\n",
        "                .rename(columns = {\"index\":\"label\"})\n",
        "                )"
      ],
      "execution_count": 34,
      "outputs": []
    },
    {
      "cell_type": "code",
      "metadata": {
        "colab": {
          "base_uri": "https://localhost:8080/",
          "height": 507
        },
        "id": "kinDhPtaYwmC",
        "outputId": "01bee12a-e29b-46e3-c50d-c97f93a1e08f"
      },
      "source": [
        "plot_histogram(label_counts, \"label\", \"percentage\")"
      ],
      "execution_count": null,
      "outputs": [
        {
          "output_type": "display_data",
          "data": {
            "image/png": "[encoded data removed]",
            "text/plain": [
              "<Figure size 576x576 with 1 Axes>"
            ]
          },
          "metadata": {
            "tags": [],
            "needs_background": "light"
          }
        }
      ]
    },
    {
      "cell_type": "code",
      "metadata": {
        "colab": {
          "base_uri": "https://localhost:8080/"
        },
        "id": "WyjjVRmxYy6v",
        "outputId": "6e5e965b-df92-4beb-e162-6286d351ab03"
      },
      "source": [
        "# First create initial train samples\n",
        "initial_train = training.sample(frac=0.0254, random_state=42)\n",
        "initial_train.reset_index(drop=True, inplace=True)\n",
        "initial_train.info()"
      ],
      "execution_count": 35,
      "outputs": [
        {
          "output_type": "stream",
          "text": [
            "<class 'pandas.core.frame.DataFrame'>\n",
            "RangeIndex: 100 entries, 0 to 99\n",
            "Data columns (total 3 columns):\n",
            " #   Column              Non-Null Count  Dtype \n",
            "---  ------              --------------  ----- \n",
            " 0   category            100 non-null    object\n",
            " 1   text                100 non-null    object\n",
            " 2   encoded_categories  100 non-null    int64 \n",
            "dtypes: int64(1), object(2)\n",
            "memory usage: 2.5+ KB\n"
          ],
          "name": "stdout"
        }
      ]
    },
    {
      "cell_type": "code",
      "metadata": {
        "colab": {
          "base_uri": "https://localhost:8080/",
          "height": 204
        },
        "id": "V2-7XHSc0Lkk",
        "outputId": "c3d2dcea-b1b8-4753-cf9b-a49bcc8d6dfc"
      },
      "source": [
        "initial_train.head()"
      ],
      "execution_count": null,
      "outputs": [
        {
          "output_type": "execute_result",
          "data": {
            "text/html": [
              "<div>\n",
              "<style scoped>\n",
              "    .dataframe tbody tr th:only-of-type {\n",
              "        vertical-align: middle;\n",
              "    }\n",
              "\n",
              "    .dataframe tbody tr th {\n",
              "        vertical-align: top;\n",
              "    }\n",
              "\n",
              "    .dataframe thead th {\n",
              "        text-align: right;\n",
              "    }\n",
              "</style>\n",
              "<table border=\"1\" class=\"dataframe\">\n",
              "  <thead>\n",
              "    <tr style=\"text-align: right;\">\n",
              "      <th></th>\n",
              "      <th>category</th>\n",
              "      <th>text</th>\n",
              "      <th>encoded_categories</th>\n",
              "    </tr>\n",
              "  </thead>\n",
              "  <tbody>\n",
              "    <tr>\n",
              "      <th>0</th>\n",
              "      <td>ekonomi</td>\n",
              "      <td>hollywood  a rakip stüdyo kuruluyor mars_ent...</td>\n",
              "      <td>1</td>\n",
              "    </tr>\n",
              "    <tr>\n",
              "      <th>1</th>\n",
              "      <td>kultur</td>\n",
              "      <td>bridget aşkı internette arıyor ilerleyen yaşı...</td>\n",
              "      <td>2</td>\n",
              "    </tr>\n",
              "    <tr>\n",
              "      <th>2</th>\n",
              "      <td>spor</td>\n",
              "      <td>2013 eurobasket in maskotu açıklandı slovenya...</td>\n",
              "      <td>5</td>\n",
              "    </tr>\n",
              "    <tr>\n",
              "      <th>3</th>\n",
              "      <td>teknoloji</td>\n",
              "      <td>skype geçmişinizi silin ! microsoft kullanıcı...</td>\n",
              "      <td>6</td>\n",
              "    </tr>\n",
              "    <tr>\n",
              "      <th>4</th>\n",
              "      <td>saglik</td>\n",
              "      <td>çocuklarınızla ve eşlerinizle çok ilgilenin k...</td>\n",
              "      <td>3</td>\n",
              "    </tr>\n",
              "  </tbody>\n",
              "</table>\n",
              "</div>"
            ],
            "text/plain": [
              "     category  ... encoded_categories\n",
              "0    ekonomi   ...                  1\n",
              "1     kultur   ...                  2\n",
              "2       spor   ...                  5\n",
              "3  teknoloji   ...                  6\n",
              "4     saglik   ...                  3\n",
              "\n",
              "[5 rows x 3 columns]"
            ]
          },
          "metadata": {
            "tags": []
          },
          "execution_count": 58
        }
      ]
    },
    {
      "cell_type": "code",
      "metadata": {
        "colab": {
          "base_uri": "https://localhost:8080/"
        },
        "id": "_5kWGovpY27k",
        "outputId": "b91e567c-3b2f-419b-ed34-fc397b2c6542"
      },
      "source": [
        "initial_train.groupby('encoded_categories').size()"
      ],
      "execution_count": null,
      "outputs": [
        {
          "output_type": "execute_result",
          "data": {
            "text/plain": [
              "encoded_categories\n",
              "0    15\n",
              "1    18\n",
              "2    15\n",
              "3    15\n",
              "4    11\n",
              "5    12\n",
              "6    14\n",
              "dtype: int64"
            ]
          },
          "metadata": {
            "tags": []
          },
          "execution_count": 59
        }
      ]
    },
    {
      "cell_type": "code",
      "metadata": {
        "id": "C7DFWhVoY4uH"
      },
      "source": [
        "# then create unlabeled data pool\n",
        "pool = training[~training.index.isin(initial_train.index)]\n",
        "pool.reset_index(drop=True, inplace=True)"
      ],
      "execution_count": 36,
      "outputs": []
    },
    {
      "cell_type": "code",
      "metadata": {
        "colab": {
          "base_uri": "https://localhost:8080/",
          "height": 204
        },
        "id": "QDJzYwmRzyKt",
        "outputId": "e302e0b3-6135-4e7e-d427-5aab56b275de"
      },
      "source": [
        "pool.head()"
      ],
      "execution_count": null,
      "outputs": [
        {
          "output_type": "execute_result",
          "data": {
            "text/html": [
              "<div>\n",
              "<style scoped>\n",
              "    .dataframe tbody tr th:only-of-type {\n",
              "        vertical-align: middle;\n",
              "    }\n",
              "\n",
              "    .dataframe tbody tr th {\n",
              "        vertical-align: top;\n",
              "    }\n",
              "\n",
              "    .dataframe thead th {\n",
              "        text-align: right;\n",
              "    }\n",
              "</style>\n",
              "<table border=\"1\" class=\"dataframe\">\n",
              "  <thead>\n",
              "    <tr style=\"text-align: right;\">\n",
              "      <th></th>\n",
              "      <th>category</th>\n",
              "      <th>text</th>\n",
              "      <th>encoded_categories</th>\n",
              "    </tr>\n",
              "  </thead>\n",
              "  <tbody>\n",
              "    <tr>\n",
              "      <th>0</th>\n",
              "      <td>dunya</td>\n",
              "      <td>türkiye nin yerini mısır aldı bbc türkiye nin...</td>\n",
              "      <td>0</td>\n",
              "    </tr>\n",
              "    <tr>\n",
              "      <th>1</th>\n",
              "      <td>dunya</td>\n",
              "      <td>türk israil ilişkileri sınanıyor new_york tim...</td>\n",
              "      <td>0</td>\n",
              "    </tr>\n",
              "    <tr>\n",
              "      <th>2</th>\n",
              "      <td>dunya</td>\n",
              "      <td>şehitlikte çekilen bu fotoğraf işinden etti a...</td>\n",
              "      <td>0</td>\n",
              "    </tr>\n",
              "    <tr>\n",
              "      <th>3</th>\n",
              "      <td>dunya</td>\n",
              "      <td>lübnan da çatışmalar 3 ölü lübnan ın başkenti...</td>\n",
              "      <td>0</td>\n",
              "    </tr>\n",
              "    <tr>\n",
              "      <th>4</th>\n",
              "      <td>dunya</td>\n",
              "      <td>yahudilerin torunlarına vatandaşlık hakkı isp...</td>\n",
              "      <td>0</td>\n",
              "    </tr>\n",
              "  </tbody>\n",
              "</table>\n",
              "</div>"
            ],
            "text/plain": [
              "  category  ... encoded_categories\n",
              "0   dunya   ...                  0\n",
              "1   dunya   ...                  0\n",
              "2   dunya   ...                  0\n",
              "3   dunya   ...                  0\n",
              "4   dunya   ...                  0\n",
              "\n",
              "[5 rows x 3 columns]"
            ]
          },
          "metadata": {
            "tags": []
          },
          "execution_count": 61
        }
      ]
    },
    {
      "cell_type": "code",
      "metadata": {
        "id": "8KJThHjcY6Cq"
      },
      "source": [
        "# sample selection class\n",
        "class SampleSelection:\n",
        "  def __init__(self):\n",
        "    self.scaler = scaler # normalizer to scale probas 0-1\n",
        "\n",
        "  @staticmethod\n",
        "  def random_selection(unlabeled_data: np.ndarray, num_samples: int) -> List[int]:\n",
        "    \"\"\"\n",
        "    Random selection from unlabeled data pool\n",
        "\n",
        "    Parameters:\n",
        "      num_samples: how much samples we will label in one iteration\n",
        "      unlabeled_data: samples in unlabeled pool\n",
        "\n",
        "    Returns:\n",
        "    List of data samples indexes from unlabeled dataset\n",
        "    \"\"\"\n",
        "    if unlabeled_data.shape[0] >= num_samples:\n",
        "      selection = np.random.choice(unlabeled_data.shape[0], num_samples, replace=False) # randomly choice indexes \n",
        "    else:\n",
        "      selection = np.arange(unlabeled_data.shape[0])\n",
        "    return selection\n",
        "\n",
        "  def get_hard_samples(self, class_probas: np.ndarray, num_samples:int) -> List[int]:\n",
        "    \"\"\"\n",
        "    This method takes hard sample indexes from unlabeled data pool\n",
        "\n",
        "    hard-> probability of two class is similar (diffirence is small)\n",
        "\n",
        "    Parameters:\n",
        "      class_probas: probabilities for each class for all samples\n",
        "      num_samples: how much samples we will label in one iteration\n",
        "\n",
        "    Returns:\n",
        "    List of data samples indexes from unlabeled dataset   \n",
        "    \"\"\"\n",
        "    class_probas_scaled = self.scaler.transform(class_probas) \n",
        "    differences = np.std(class_probas_scaled, axis=1) # get the varyans for each proba\n",
        "\n",
        "    if len(class_probas_scaled) >= num_samples:\n",
        "      selection = np.argsort(differences)[:num_samples] # take the sample indexes which proba for two class is very close\n",
        "    else:\n",
        "      selection = np.argsort(differences)\n",
        "    \n",
        "    return selection"
      ],
      "execution_count": 37,
      "outputs": []
    },
    {
      "cell_type": "code",
      "metadata": {
        "id": "IMETXjk2Y_ix"
      },
      "source": [
        "class BertActiveLearner:\n",
        "  def __init__(self, test: pd.DataFrame,\n",
        "               initial_train: pd.DataFrame,\n",
        "               pool: pd.DataFrame,\n",
        "               batch_size: int,\n",
        "               label_col_name,\n",
        "               text_col_name):\n",
        "    self.batch_size = batch_size # number of samples to add train data in each iteration\n",
        "    self.test = test\n",
        "    self.train = initial_train.copy()\n",
        "    self.pool = pool.copy()\n",
        "    self.text_col_name = text_col_name\n",
        "    self.label_col_name = label_col_name\n",
        "    self.calculated_metrics = list()\n",
        "    self.classifier = BERT(model=model)\n",
        "    self.classifier.train(x=self.train[text_col_name].values, y=self.train[label_col_name].values)\n",
        "    prediction_scores = self.classifier.predict(x=self.test[text_col_name].values,\n",
        "                                                y=self.test[label_col_name].values)\n",
        "    self.calculated_metrics.append(f1_score(self.test[label_col_name].values, prediction_scores, average=\"macro\"))\n",
        "    \n",
        "  def active_learning(self, num_iteration: int, sampling_method):\n",
        "    for i in range(num_iteration):\n",
        "      print(f\"################### ITERATION: {i + 1} ###################\")\n",
        "      probs = self.classifier.predict_proba(x=self.pool[self.text_col_name].values, y=self.pool[self.label_col_name].values)\n",
        "\n",
        "      indexes = sampling_method(probs, self.batch_size) # get the indexes of data samples\n",
        "  \n",
        "      new = self.pool[self.pool.index.isin(indexes)] # select data samples by indexes from pool\n",
        "      self.train = pd.concat([self.train, new]) # as we already have labels, append labelled sample to train data\n",
        "      self.train.reset_index(drop=True, inplace=True)\n",
        "      self.pool.drop(indexes, inplace=True) # drop selected samples from ublabeled pool\n",
        "      self.pool.reset_index(drop=True, inplace=True) # reset indexing\n",
        "      self.classifier = BERT(model=model)\n",
        "      self.classifier.train(self.train[self.text_col_name].values, self.train[self.label_col_name].values)\n",
        "      prediction_scores = self.classifier.predict(x=self.test[self.text_col_name].values,\n",
        "                                                  y=self.test[self.label_col_name].values)\n",
        "      self.calculated_metrics.append(f1_score(self.test[self.label_col_name].values, prediction_scores, average=\"macro\"))\n",
        "      print(self.calculated_metrics)"
      ],
      "execution_count": 38,
      "outputs": []
    },
    {
      "cell_type": "code",
      "metadata": {
        "id": "a1zkfy-GmDKY"
      },
      "source": [
        "iterations_num = int(pool.shape[0]/100)\n",
        "#iterations_num = 100\n",
        "batch_size = 100"
      ],
      "execution_count": 39,
      "outputs": []
    },
    {
      "cell_type": "code",
      "metadata": {
        "colab": {
          "base_uri": "https://localhost:8080/"
        },
        "id": "U1tX4s-FLEPG",
        "outputId": "3a22c684-4f33-4873-f388-862274344790"
      },
      "source": [
        "iterations_num"
      ],
      "execution_count": 40,
      "outputs": [
        {
          "output_type": "execute_result",
          "data": {
            "text/plain": [
              "38"
            ]
          },
          "metadata": {
            "tags": []
          },
          "execution_count": 40
        }
      ]
    },
    {
      "cell_type": "code",
      "metadata": {
        "colab": {
          "base_uri": "https://localhost:8080/"
        },
        "id": "CahFFkDQ-nnQ",
        "outputId": "9ab1d51c-5aec-40ef-e3cf-b52b2b12d3a7"
      },
      "source": [
        "# random sampling\n",
        "random_cycle = BertActiveLearner(test=test, \n",
        "                             initial_train=initial_train, \n",
        "                             pool=pool, \n",
        "                             batch_size=batch_size,\n",
        "                             label_col_name=\"encoded_categories\",\n",
        "                             text_col_name=\"text\")\n",
        "\n",
        "random_cycle.active_learning(num_iteration = iterations_num,\n",
        "                             sampling_method=SampleSelection().random_selection)"
      ],
      "execution_count": 41,
      "outputs": [
        {
          "output_type": "stream",
          "text": [
            "/usr/local/lib/python3.7/dist-packages/transformers/tokenization_utils_base.py:2079: FutureWarning: The `pad_to_max_length` argument is deprecated and will be removed in a future version, use `padding=True` or `padding='longest'` to pad to the longest sequence in the batch, or use `padding='max_length'` to pad to a max length. In this case, you can give a specific length with `max_length` (e.g. `max_length=45`) or leave max_length to None to pad to the maximal input size of the model (e.g. 512 for Bert).\n",
            "  FutureWarning,\n"
          ],
          "name": "stderr"
        },
        {
          "output_type": "stream",
          "text": [
            "======== Epoch 1 / 4 ========\n",
            "Average training loss: 0.03\n",
            "Training epoch took: 0:00:01\n",
            "======== Epoch 2 / 4 ========\n",
            "Average training loss: 0.00\n",
            "Training epoch took: 0:00:01\n",
            "======== Epoch 3 / 4 ========\n",
            "Average training loss: 0.00\n",
            "Training epoch took: 0:00:01\n",
            "======== Epoch 4 / 4 ========\n",
            "Average training loss: 0.00\n",
            "Training epoch took: 0:00:01\n",
            "Training completed in 0:00:02 (h:mm:ss)\n",
            "################### ITERATION: 1 ###################\n",
            "======== Epoch 1 / 4 ========\n",
            "Average training loss: 0.03\n",
            "Training epoch took: 0:00:01\n",
            "======== Epoch 2 / 4 ========\n",
            "Average training loss: 0.03\n",
            "Training epoch took: 0:00:01\n",
            "======== Epoch 3 / 4 ========\n",
            "Average training loss: 0.00\n",
            "Training epoch took: 0:00:01\n",
            "======== Epoch 4 / 4 ========\n",
            "Average training loss: 0.00\n",
            "Training epoch took: 0:00:01\n",
            "Training completed in 0:00:05 (h:mm:ss)\n",
            "[0.9213164589865188, 0.9267204802273211]\n",
            "################### ITERATION: 2 ###################\n",
            "======== Epoch 1 / 4 ========\n",
            "Average training loss: 0.04\n",
            "Training epoch took: 0:00:02\n",
            "======== Epoch 2 / 4 ========\n",
            "Average training loss: 0.01\n",
            "Training epoch took: 0:00:02\n",
            "======== Epoch 3 / 4 ========\n",
            "Average training loss: 0.00\n",
            "Training epoch took: 0:00:02\n",
            "======== Epoch 4 / 4 ========\n",
            "Average training loss: 0.00\n",
            "Training epoch took: 0:00:02\n",
            "Training completed in 0:00:07 (h:mm:ss)\n",
            "[0.9213164589865188, 0.9267204802273211, 0.9225908900116965]\n",
            "################### ITERATION: 3 ###################\n",
            "======== Epoch 1 / 4 ========\n",
            "Average training loss: 0.08\n",
            "Training epoch took: 0:00:02\n",
            "======== Epoch 2 / 4 ========\n",
            "Average training loss: 0.08\n",
            "Training epoch took: 0:00:02\n",
            "======== Epoch 3 / 4 ========\n",
            "Average training loss: 0.02\n",
            "Training epoch took: 0:00:02\n",
            "======== Epoch 4 / 4 ========\n",
            "Average training loss: 0.01\n",
            "Training epoch took: 0:00:02\n",
            "Training completed in 0:00:09 (h:mm:ss)\n",
            "[0.9213164589865188, 0.9267204802273211, 0.9225908900116965, 0.9118087664823165]\n",
            "################### ITERATION: 4 ###################\n",
            "======== Epoch 1 / 4 ========\n",
            "Average training loss: 0.07\n",
            "Training epoch took: 0:00:03\n",
            "======== Epoch 2 / 4 ========\n",
            "Average training loss: 0.02\n",
            "Training epoch took: 0:00:03\n",
            "======== Epoch 3 / 4 ========\n",
            "Average training loss: 0.01\n",
            "Training epoch took: 0:00:03\n",
            "======== Epoch 4 / 4 ========\n",
            "Average training loss: 0.00\n",
            "Training epoch took: 0:00:03\n",
            "Training completed in 0:00:11 (h:mm:ss)\n",
            "[0.9213164589865188, 0.9267204802273211, 0.9225908900116965, 0.9118087664823165, 0.9079009323232289]\n",
            "################### ITERATION: 5 ###################\n",
            "======== Epoch 1 / 4 ========\n",
            "Average training loss: 0.01\n",
            "Training epoch took: 0:00:03\n",
            "======== Epoch 2 / 4 ========\n",
            "Average training loss: 0.01\n",
            "Training epoch took: 0:00:03\n",
            "======== Epoch 3 / 4 ========\n",
            "Average training loss: 0.00\n",
            "Training epoch took: 0:00:03\n",
            "======== Epoch 4 / 4 ========\n",
            "Average training loss: 0.00\n",
            "Training epoch took: 0:00:03\n",
            "Training completed in 0:00:14 (h:mm:ss)\n",
            "[0.9213164589865188, 0.9267204802273211, 0.9225908900116965, 0.9118087664823165, 0.9079009323232289, 0.9156184692598114]\n",
            "################### ITERATION: 6 ###################\n",
            "======== Epoch 1 / 4 ========\n",
            "Average training loss: 0.04\n",
            "Training epoch took: 0:00:04\n",
            "======== Epoch 2 / 4 ========\n",
            "Average training loss: 0.01\n",
            "Training epoch took: 0:00:04\n",
            "======== Epoch 3 / 4 ========\n",
            "Average training loss: 0.00\n",
            "Training epoch took: 0:00:04\n",
            "======== Epoch 4 / 4 ========\n",
            "Average training loss: 0.00\n",
            "Training epoch took: 0:00:04\n",
            "Training completed in 0:00:16 (h:mm:ss)\n",
            "[0.9213164589865188, 0.9267204802273211, 0.9225908900116965, 0.9118087664823165, 0.9079009323232289, 0.9156184692598114, 0.9189745366084744]\n",
            "################### ITERATION: 7 ###################\n",
            "======== Epoch 1 / 4 ========\n",
            "Average training loss: 0.05\n",
            "Training epoch took: 0:00:05\n",
            "======== Epoch 2 / 4 ========\n",
            "Average training loss: 0.03\n",
            "Training epoch took: 0:00:05\n",
            "======== Epoch 3 / 4 ========\n",
            "Average training loss: 0.01\n",
            "Training epoch took: 0:00:05\n",
            "======== Epoch 4 / 4 ========\n",
            "Average training loss: 0.01\n",
            "Training epoch took: 0:00:05\n",
            "Training completed in 0:00:18 (h:mm:ss)\n",
            "[0.9213164589865188, 0.9267204802273211, 0.9225908900116965, 0.9118087664823165, 0.9079009323232289, 0.9156184692598114, 0.9189745366084744, 0.9138291994339348]\n",
            "################### ITERATION: 8 ###################\n",
            "======== Epoch 1 / 4 ========\n",
            "Average training loss: 0.06\n",
            "Training epoch took: 0:00:05\n",
            "======== Epoch 2 / 4 ========\n",
            "Average training loss: 0.03\n",
            "Training epoch took: 0:00:05\n",
            "======== Epoch 3 / 4 ========\n",
            "Average training loss: 0.00\n",
            "Training epoch took: 0:00:05\n",
            "======== Epoch 4 / 4 ========\n",
            "Average training loss: 0.00\n",
            "Training epoch took: 0:00:05\n",
            "Training completed in 0:00:21 (h:mm:ss)\n",
            "[0.9213164589865188, 0.9267204802273211, 0.9225908900116965, 0.9118087664823165, 0.9079009323232289, 0.9156184692598114, 0.9189745366084744, 0.9138291994339348, 0.9250766788896874]\n",
            "################### ITERATION: 9 ###################\n",
            "======== Epoch 1 / 4 ========\n",
            "Average training loss: 0.05\n",
            "Training epoch took: 0:00:06\n",
            "======== Epoch 2 / 4 ========\n",
            "Average training loss: 0.03\n",
            "Training epoch took: 0:00:06\n",
            "======== Epoch 3 / 4 ========\n",
            "Average training loss: 0.01\n",
            "Training epoch took: 0:00:06\n",
            "======== Epoch 4 / 4 ========\n",
            "Average training loss: 0.00\n",
            "Training epoch took: 0:00:06\n",
            "Training completed in 0:00:23 (h:mm:ss)\n",
            "[0.9213164589865188, 0.9267204802273211, 0.9225908900116965, 0.9118087664823165, 0.9079009323232289, 0.9156184692598114, 0.9189745366084744, 0.9138291994339348, 0.9250766788896874, 0.9052009579253786]\n",
            "################### ITERATION: 10 ###################\n",
            "======== Epoch 1 / 4 ========\n",
            "Average training loss: 0.05\n",
            "Training epoch took: 0:00:06\n",
            "======== Epoch 2 / 4 ========\n",
            "Average training loss: 0.02\n",
            "Training epoch took: 0:00:06\n",
            "======== Epoch 3 / 4 ========\n",
            "Average training loss: 0.00\n",
            "Training epoch took: 0:00:06\n",
            "======== Epoch 4 / 4 ========\n",
            "Average training loss: 0.00\n",
            "Training epoch took: 0:00:06\n",
            "Training completed in 0:00:25 (h:mm:ss)\n",
            "[0.9213164589865188, 0.9267204802273211, 0.9225908900116965, 0.9118087664823165, 0.9079009323232289, 0.9156184692598114, 0.9189745366084744, 0.9138291994339348, 0.9250766788896874, 0.9052009579253786, 0.9038573598056713]\n",
            "################### ITERATION: 11 ###################\n",
            "======== Epoch 1 / 4 ========\n",
            "Average training loss: 0.05\n",
            "Training epoch took: 0:00:07\n",
            "======== Epoch 2 / 4 ========\n",
            "Average training loss: 0.01\n",
            "Training epoch took: 0:00:07\n",
            "======== Epoch 3 / 4 ========\n",
            "Average training loss: 0.00\n",
            "Training epoch took: 0:00:07\n",
            "======== Epoch 4 / 4 ========\n",
            "Average training loss: 0.00\n",
            "Training epoch took: 0:00:07\n",
            "Training completed in 0:00:27 (h:mm:ss)\n",
            "[0.9213164589865188, 0.9267204802273211, 0.9225908900116965, 0.9118087664823165, 0.9079009323232289, 0.9156184692598114, 0.9189745366084744, 0.9138291994339348, 0.9250766788896874, 0.9052009579253786, 0.9038573598056713, 0.9190557737865301]\n",
            "################### ITERATION: 12 ###################\n",
            "======== Epoch 1 / 4 ========\n",
            "Average training loss: 0.03\n",
            "Training epoch took: 0:00:07\n",
            "======== Epoch 2 / 4 ========\n",
            "Average training loss: 0.02\n",
            "Training epoch took: 0:00:07\n",
            "======== Epoch 3 / 4 ========\n",
            "Average training loss: 0.00\n",
            "Training epoch took: 0:00:07\n",
            "======== Epoch 4 / 4 ========\n",
            "Average training loss: 0.00\n",
            "Training epoch took: 0:00:07\n",
            "Training completed in 0:00:29 (h:mm:ss)\n",
            "[0.9213164589865188, 0.9267204802273211, 0.9225908900116965, 0.9118087664823165, 0.9079009323232289, 0.9156184692598114, 0.9189745366084744, 0.9138291994339348, 0.9250766788896874, 0.9052009579253786, 0.9038573598056713, 0.9190557737865301, 0.9215448431630069]\n",
            "################### ITERATION: 13 ###################\n",
            "======== Epoch 1 / 4 ========\n",
            "Average training loss: 0.02\n",
            "Training epoch took: 0:00:08\n",
            "======== Epoch 2 / 4 ========\n",
            "Average training loss: 0.00\n",
            "Training epoch took: 0:00:08\n",
            "======== Epoch 3 / 4 ========\n",
            "Average training loss: 0.00\n",
            "Training epoch took: 0:00:08\n",
            "======== Epoch 4 / 4 ========\n",
            "Average training loss: 0.00\n",
            "Training epoch took: 0:00:08\n",
            "Training completed in 0:00:32 (h:mm:ss)\n",
            "[0.9213164589865188, 0.9267204802273211, 0.9225908900116965, 0.9118087664823165, 0.9079009323232289, 0.9156184692598114, 0.9189745366084744, 0.9138291994339348, 0.9250766788896874, 0.9052009579253786, 0.9038573598056713, 0.9190557737865301, 0.9215448431630069, 0.9285349221838278]\n",
            "################### ITERATION: 14 ###################\n",
            "======== Epoch 1 / 4 ========\n",
            "Average training loss: 0.05\n",
            "Training epoch took: 0:00:08\n",
            "======== Epoch 2 / 4 ========\n",
            "Average training loss: 0.03\n",
            "Training epoch took: 0:00:08\n",
            "======== Epoch 3 / 4 ========\n",
            "Average training loss: 0.00\n",
            "Training epoch took: 0:00:08\n",
            "======== Epoch 4 / 4 ========\n",
            "Average training loss: 0.00\n",
            "Training epoch took: 0:00:08\n",
            "Training completed in 0:00:34 (h:mm:ss)\n",
            "[0.9213164589865188, 0.9267204802273211, 0.9225908900116965, 0.9118087664823165, 0.9079009323232289, 0.9156184692598114, 0.9189745366084744, 0.9138291994339348, 0.9250766788896874, 0.9052009579253786, 0.9038573598056713, 0.9190557737865301, 0.9215448431630069, 0.9285349221838278, 0.915665754099184]\n",
            "################### ITERATION: 15 ###################\n",
            "======== Epoch 1 / 4 ========\n",
            "Average training loss: 0.06\n",
            "Training epoch took: 0:00:09\n",
            "======== Epoch 2 / 4 ========\n",
            "Average training loss: 0.03\n",
            "Training epoch took: 0:00:09\n",
            "======== Epoch 3 / 4 ========\n",
            "Average training loss: 0.01\n",
            "Training epoch took: 0:00:09\n",
            "======== Epoch 4 / 4 ========\n",
            "Average training loss: 0.00\n",
            "Training epoch took: 0:00:09\n",
            "Training completed in 0:00:36 (h:mm:ss)\n",
            "[0.9213164589865188, 0.9267204802273211, 0.9225908900116965, 0.9118087664823165, 0.9079009323232289, 0.9156184692598114, 0.9189745366084744, 0.9138291994339348, 0.9250766788896874, 0.9052009579253786, 0.9038573598056713, 0.9190557737865301, 0.9215448431630069, 0.9285349221838278, 0.915665754099184, 0.9147773527751502]\n",
            "################### ITERATION: 16 ###################\n",
            "======== Epoch 1 / 4 ========\n",
            "Average training loss: 0.06\n",
            "Training epoch took: 0:00:10\n",
            "======== Epoch 2 / 4 ========\n",
            "Average training loss: 0.01\n",
            "Training epoch took: 0:00:10\n",
            "======== Epoch 3 / 4 ========\n",
            "Average training loss: 0.00\n",
            "Training epoch took: 0:00:10\n",
            "======== Epoch 4 / 4 ========\n",
            "Average training loss: 0.00\n",
            "Training epoch took: 0:00:10\n",
            "Training completed in 0:00:39 (h:mm:ss)\n",
            "[0.9213164589865188, 0.9267204802273211, 0.9225908900116965, 0.9118087664823165, 0.9079009323232289, 0.9156184692598114, 0.9189745366084744, 0.9138291994339348, 0.9250766788896874, 0.9052009579253786, 0.9038573598056713, 0.9190557737865301, 0.9215448431630069, 0.9285349221838278, 0.915665754099184, 0.9147773527751502, 0.914313145232696]\n",
            "################### ITERATION: 17 ###################\n",
            "======== Epoch 1 / 4 ========\n",
            "Average training loss: 0.02\n",
            "Training epoch took: 0:00:10\n",
            "======== Epoch 2 / 4 ========\n",
            "Average training loss: 0.01\n",
            "Training epoch took: 0:00:10\n",
            "======== Epoch 3 / 4 ========\n",
            "Average training loss: 0.01\n",
            "Training epoch took: 0:00:10\n",
            "======== Epoch 4 / 4 ========\n",
            "Average training loss: 0.00\n",
            "Training epoch took: 0:00:10\n",
            "Training completed in 0:00:41 (h:mm:ss)\n",
            "[0.9213164589865188, 0.9267204802273211, 0.9225908900116965, 0.9118087664823165, 0.9079009323232289, 0.9156184692598114, 0.9189745366084744, 0.9138291994339348, 0.9250766788896874, 0.9052009579253786, 0.9038573598056713, 0.9190557737865301, 0.9215448431630069, 0.9285349221838278, 0.915665754099184, 0.9147773527751502, 0.914313145232696, 0.9236542949905411]\n",
            "################### ITERATION: 18 ###################\n",
            "======== Epoch 1 / 4 ========\n",
            "Average training loss: 0.03\n",
            "Training epoch took: 0:00:11\n",
            "======== Epoch 2 / 4 ========\n",
            "Average training loss: 0.01\n",
            "Training epoch took: 0:00:11\n",
            "======== Epoch 3 / 4 ========\n",
            "Average training loss: 0.00\n",
            "Training epoch took: 0:00:11\n",
            "======== Epoch 4 / 4 ========\n",
            "Average training loss: 0.00\n",
            "Training epoch took: 0:00:11\n",
            "Training completed in 0:00:43 (h:mm:ss)\n",
            "[0.9213164589865188, 0.9267204802273211, 0.9225908900116965, 0.9118087664823165, 0.9079009323232289, 0.9156184692598114, 0.9189745366084744, 0.9138291994339348, 0.9250766788896874, 0.9052009579253786, 0.9038573598056713, 0.9190557737865301, 0.9215448431630069, 0.9285349221838278, 0.915665754099184, 0.9147773527751502, 0.914313145232696, 0.9236542949905411, 0.9085589461043722]\n",
            "################### ITERATION: 19 ###################\n",
            "======== Epoch 1 / 4 ========\n",
            "Average training loss: 0.05\n",
            "Training epoch took: 0:00:11\n",
            "======== Epoch 2 / 4 ========\n",
            "Average training loss: 0.01\n",
            "Training epoch took: 0:00:11\n",
            "======== Epoch 3 / 4 ========\n",
            "Average training loss: 0.00\n",
            "Training epoch took: 0:00:11\n",
            "======== Epoch 4 / 4 ========\n",
            "Average training loss: 0.00\n",
            "Training epoch took: 0:00:11\n",
            "Training completed in 0:00:45 (h:mm:ss)\n",
            "[0.9213164589865188, 0.9267204802273211, 0.9225908900116965, 0.9118087664823165, 0.9079009323232289, 0.9156184692598114, 0.9189745366084744, 0.9138291994339348, 0.9250766788896874, 0.9052009579253786, 0.9038573598056713, 0.9190557737865301, 0.9215448431630069, 0.9285349221838278, 0.915665754099184, 0.9147773527751502, 0.914313145232696, 0.9236542949905411, 0.9085589461043722, 0.9148723400761417]\n",
            "################### ITERATION: 20 ###################\n",
            "======== Epoch 1 / 4 ========\n",
            "Average training loss: 0.01\n",
            "Training epoch took: 0:00:12\n",
            "======== Epoch 2 / 4 ========\n",
            "Average training loss: 0.01\n",
            "Training epoch took: 0:00:12\n",
            "======== Epoch 3 / 4 ========\n",
            "Average training loss: 0.01\n",
            "Training epoch took: 0:00:12\n",
            "======== Epoch 4 / 4 ========\n",
            "Average training loss: 0.00\n",
            "Training epoch took: 0:00:12\n",
            "Training completed in 0:00:47 (h:mm:ss)\n",
            "[0.9213164589865188, 0.9267204802273211, 0.9225908900116965, 0.9118087664823165, 0.9079009323232289, 0.9156184692598114, 0.9189745366084744, 0.9138291994339348, 0.9250766788896874, 0.9052009579253786, 0.9038573598056713, 0.9190557737865301, 0.9215448431630069, 0.9285349221838278, 0.915665754099184, 0.9147773527751502, 0.914313145232696, 0.9236542949905411, 0.9085589461043722, 0.9148723400761417, 0.9129629329416786]\n",
            "################### ITERATION: 21 ###################\n",
            "======== Epoch 1 / 4 ========\n",
            "Average training loss: 0.02\n",
            "Training epoch took: 0:00:12\n",
            "======== Epoch 2 / 4 ========\n",
            "Average training loss: 0.03\n",
            "Training epoch took: 0:00:12\n",
            "======== Epoch 3 / 4 ========\n",
            "Average training loss: 0.01\n",
            "Training epoch took: 0:00:12\n",
            "======== Epoch 4 / 4 ========\n",
            "Average training loss: 0.00\n",
            "Training epoch took: 0:00:12\n",
            "Training completed in 0:00:50 (h:mm:ss)\n",
            "[0.9213164589865188, 0.9267204802273211, 0.9225908900116965, 0.9118087664823165, 0.9079009323232289, 0.9156184692598114, 0.9189745366084744, 0.9138291994339348, 0.9250766788896874, 0.9052009579253786, 0.9038573598056713, 0.9190557737865301, 0.9215448431630069, 0.9285349221838278, 0.915665754099184, 0.9147773527751502, 0.914313145232696, 0.9236542949905411, 0.9085589461043722, 0.9148723400761417, 0.9129629329416786, 0.9171101066256773]\n",
            "################### ITERATION: 22 ###################\n",
            "======== Epoch 1 / 4 ========\n",
            "Average training loss: 0.02\n",
            "Training epoch took: 0:00:13\n",
            "======== Epoch 2 / 4 ========\n",
            "Average training loss: 0.00\n",
            "Training epoch took: 0:00:13\n",
            "======== Epoch 3 / 4 ========\n",
            "Average training loss: 0.01\n",
            "Training epoch took: 0:00:13\n",
            "======== Epoch 4 / 4 ========\n",
            "Average training loss: 0.00\n",
            "Training epoch took: 0:00:13\n",
            "Training completed in 0:00:52 (h:mm:ss)\n",
            "[0.9213164589865188, 0.9267204802273211, 0.9225908900116965, 0.9118087664823165, 0.9079009323232289, 0.9156184692598114, 0.9189745366084744, 0.9138291994339348, 0.9250766788896874, 0.9052009579253786, 0.9038573598056713, 0.9190557737865301, 0.9215448431630069, 0.9285349221838278, 0.915665754099184, 0.9147773527751502, 0.914313145232696, 0.9236542949905411, 0.9085589461043722, 0.9148723400761417, 0.9129629329416786, 0.9171101066256773, 0.9135400952955331]\n",
            "################### ITERATION: 23 ###################\n",
            "======== Epoch 1 / 4 ========\n",
            "Average training loss: 0.01\n",
            "Training epoch took: 0:00:14\n",
            "======== Epoch 2 / 4 ========\n",
            "Average training loss: 0.00\n",
            "Training epoch took: 0:00:14\n",
            "======== Epoch 3 / 4 ========\n",
            "Average training loss: 0.01\n",
            "Training epoch took: 0:00:14\n",
            "======== Epoch 4 / 4 ========\n",
            "Average training loss: 0.00\n",
            "Training epoch took: 0:00:14\n",
            "Training completed in 0:00:54 (h:mm:ss)\n",
            "[0.9213164589865188, 0.9267204802273211, 0.9225908900116965, 0.9118087664823165, 0.9079009323232289, 0.9156184692598114, 0.9189745366084744, 0.9138291994339348, 0.9250766788896874, 0.9052009579253786, 0.9038573598056713, 0.9190557737865301, 0.9215448431630069, 0.9285349221838278, 0.915665754099184, 0.9147773527751502, 0.914313145232696, 0.9236542949905411, 0.9085589461043722, 0.9148723400761417, 0.9129629329416786, 0.9171101066256773, 0.9135400952955331, 0.9273312726500947]\n",
            "################### ITERATION: 24 ###################\n",
            "======== Epoch 1 / 4 ========\n",
            "Average training loss: 0.04\n",
            "Training epoch took: 0:00:14\n",
            "======== Epoch 2 / 4 ========\n",
            "Average training loss: 0.03\n",
            "Training epoch took: 0:00:14\n",
            "======== Epoch 3 / 4 ========\n",
            "Average training loss: 0.01\n",
            "Training epoch took: 0:00:14\n",
            "======== Epoch 4 / 4 ========\n",
            "Average training loss: 0.00\n",
            "Training epoch took: 0:00:14\n",
            "Training completed in 0:00:57 (h:mm:ss)\n",
            "[0.9213164589865188, 0.9267204802273211, 0.9225908900116965, 0.9118087664823165, 0.9079009323232289, 0.9156184692598114, 0.9189745366084744, 0.9138291994339348, 0.9250766788896874, 0.9052009579253786, 0.9038573598056713, 0.9190557737865301, 0.9215448431630069, 0.9285349221838278, 0.915665754099184, 0.9147773527751502, 0.914313145232696, 0.9236542949905411, 0.9085589461043722, 0.9148723400761417, 0.9129629329416786, 0.9171101066256773, 0.9135400952955331, 0.9273312726500947, 0.9149267164514926]\n",
            "################### ITERATION: 25 ###################\n",
            "======== Epoch 1 / 4 ========\n",
            "Average training loss: 0.06\n",
            "Training epoch took: 0:00:15\n",
            "======== Epoch 2 / 4 ========\n",
            "Average training loss: 0.00\n",
            "Training epoch took: 0:00:15\n",
            "======== Epoch 3 / 4 ========\n",
            "Average training loss: 0.00\n",
            "Training epoch took: 0:00:15\n",
            "======== Epoch 4 / 4 ========\n",
            "Average training loss: 0.00\n",
            "Training epoch took: 0:00:15\n",
            "Training completed in 0:00:59 (h:mm:ss)\n",
            "[0.9213164589865188, 0.9267204802273211, 0.9225908900116965, 0.9118087664823165, 0.9079009323232289, 0.9156184692598114, 0.9189745366084744, 0.9138291994339348, 0.9250766788896874, 0.9052009579253786, 0.9038573598056713, 0.9190557737865301, 0.9215448431630069, 0.9285349221838278, 0.915665754099184, 0.9147773527751502, 0.914313145232696, 0.9236542949905411, 0.9085589461043722, 0.9148723400761417, 0.9129629329416786, 0.9171101066256773, 0.9135400952955331, 0.9273312726500947, 0.9149267164514926, 0.8985556111002746]\n",
            "################### ITERATION: 26 ###################\n",
            "======== Epoch 1 / 4 ========\n",
            "Average training loss: 0.03\n",
            "Training epoch took: 0:00:15\n",
            "======== Epoch 2 / 4 ========\n",
            "Average training loss: 0.01\n",
            "Training epoch took: 0:00:15\n",
            "======== Epoch 3 / 4 ========\n",
            "Average training loss: 0.00\n",
            "Training epoch took: 0:00:15\n",
            "======== Epoch 4 / 4 ========\n",
            "Average training loss: 0.00\n",
            "Training epoch took: 0:00:15\n",
            "Training completed in 0:01:01 (h:mm:ss)\n",
            "[0.9213164589865188, 0.9267204802273211, 0.9225908900116965, 0.9118087664823165, 0.9079009323232289, 0.9156184692598114, 0.9189745366084744, 0.9138291994339348, 0.9250766788896874, 0.9052009579253786, 0.9038573598056713, 0.9190557737865301, 0.9215448431630069, 0.9285349221838278, 0.915665754099184, 0.9147773527751502, 0.914313145232696, 0.9236542949905411, 0.9085589461043722, 0.9148723400761417, 0.9129629329416786, 0.9171101066256773, 0.9135400952955331, 0.9273312726500947, 0.9149267164514926, 0.8985556111002746, 0.910484840749127]\n",
            "################### ITERATION: 27 ###################\n",
            "======== Epoch 1 / 4 ========\n",
            "Average training loss: 0.03\n",
            "Training epoch took: 0:00:16\n",
            "======== Epoch 2 / 4 ========\n",
            "Average training loss: 0.01\n",
            "Training epoch took: 0:00:16\n",
            "======== Epoch 3 / 4 ========\n",
            "Average training loss: 0.00\n",
            "Training epoch took: 0:00:16\n",
            "======== Epoch 4 / 4 ========\n",
            "Average training loss: 0.00\n",
            "Training epoch took: 0:00:16\n",
            "Training completed in 0:01:03 (h:mm:ss)\n",
            "[0.9213164589865188, 0.9267204802273211, 0.9225908900116965, 0.9118087664823165, 0.9079009323232289, 0.9156184692598114, 0.9189745366084744, 0.9138291994339348, 0.9250766788896874, 0.9052009579253786, 0.9038573598056713, 0.9190557737865301, 0.9215448431630069, 0.9285349221838278, 0.915665754099184, 0.9147773527751502, 0.914313145232696, 0.9236542949905411, 0.9085589461043722, 0.9148723400761417, 0.9129629329416786, 0.9171101066256773, 0.9135400952955331, 0.9273312726500947, 0.9149267164514926, 0.8985556111002746, 0.910484840749127, 0.9113516808000828]\n",
            "################### ITERATION: 28 ###################\n",
            "======== Epoch 1 / 4 ========\n",
            "Average training loss: 0.04\n",
            "Training epoch took: 0:00:16\n",
            "======== Epoch 2 / 4 ========\n",
            "Average training loss: 0.02\n",
            "Training epoch took: 0:00:16\n",
            "======== Epoch 3 / 4 ========\n",
            "Average training loss: 0.01\n",
            "Training epoch took: 0:00:16\n",
            "======== Epoch 4 / 4 ========\n",
            "Average training loss: 0.01\n",
            "Training epoch took: 0:00:16\n",
            "Training completed in 0:01:06 (h:mm:ss)\n",
            "[0.9213164589865188, 0.9267204802273211, 0.9225908900116965, 0.9118087664823165, 0.9079009323232289, 0.9156184692598114, 0.9189745366084744, 0.9138291994339348, 0.9250766788896874, 0.9052009579253786, 0.9038573598056713, 0.9190557737865301, 0.9215448431630069, 0.9285349221838278, 0.915665754099184, 0.9147773527751502, 0.914313145232696, 0.9236542949905411, 0.9085589461043722, 0.9148723400761417, 0.9129629329416786, 0.9171101066256773, 0.9135400952955331, 0.9273312726500947, 0.9149267164514926, 0.8985556111002746, 0.910484840749127, 0.9113516808000828, 0.9159924122818283]\n",
            "################### ITERATION: 29 ###################\n",
            "======== Epoch 1 / 4 ========\n",
            "Average training loss: 0.04\n",
            "Training epoch took: 0:00:17\n",
            "======== Epoch 2 / 4 ========\n",
            "Average training loss: 0.02\n",
            "Training epoch took: 0:00:17\n",
            "======== Epoch 3 / 4 ========\n",
            "Average training loss: 0.01\n",
            "Training epoch took: 0:00:17\n",
            "======== Epoch 4 / 4 ========\n",
            "Average training loss: 0.01\n",
            "Training epoch took: 0:00:17\n",
            "Training completed in 0:01:08 (h:mm:ss)\n",
            "[0.9213164589865188, 0.9267204802273211, 0.9225908900116965, 0.9118087664823165, 0.9079009323232289, 0.9156184692598114, 0.9189745366084744, 0.9138291994339348, 0.9250766788896874, 0.9052009579253786, 0.9038573598056713, 0.9190557737865301, 0.9215448431630069, 0.9285349221838278, 0.915665754099184, 0.9147773527751502, 0.914313145232696, 0.9236542949905411, 0.9085589461043722, 0.9148723400761417, 0.9129629329416786, 0.9171101066256773, 0.9135400952955331, 0.9273312726500947, 0.9149267164514926, 0.8985556111002746, 0.910484840749127, 0.9113516808000828, 0.9159924122818283, 0.9101479443813426]\n",
            "################### ITERATION: 30 ###################\n",
            "======== Epoch 1 / 4 ========\n",
            "Average training loss: 0.03\n",
            "Training epoch took: 0:00:17\n",
            "======== Epoch 2 / 4 ========\n",
            "Average training loss: 0.02\n",
            "Training epoch took: 0:00:18\n",
            "======== Epoch 3 / 4 ========\n",
            "Average training loss: 0.00\n",
            "Training epoch took: 0:00:17\n",
            "======== Epoch 4 / 4 ========\n",
            "Average training loss: 0.00\n",
            "Training epoch took: 0:00:17\n",
            "Training completed in 0:01:10 (h:mm:ss)\n",
            "[0.9213164589865188, 0.9267204802273211, 0.9225908900116965, 0.9118087664823165, 0.9079009323232289, 0.9156184692598114, 0.9189745366084744, 0.9138291994339348, 0.9250766788896874, 0.9052009579253786, 0.9038573598056713, 0.9190557737865301, 0.9215448431630069, 0.9285349221838278, 0.915665754099184, 0.9147773527751502, 0.914313145232696, 0.9236542949905411, 0.9085589461043722, 0.9148723400761417, 0.9129629329416786, 0.9171101066256773, 0.9135400952955331, 0.9273312726500947, 0.9149267164514926, 0.8985556111002746, 0.910484840749127, 0.9113516808000828, 0.9159924122818283, 0.9101479443813426, 0.9251603275274995]\n",
            "################### ITERATION: 31 ###################\n",
            "======== Epoch 1 / 4 ========\n",
            "Average training loss: 0.03\n",
            "Training epoch took: 0:00:18\n",
            "======== Epoch 2 / 4 ========\n",
            "Average training loss: 0.01\n",
            "Training epoch took: 0:00:18\n",
            "======== Epoch 3 / 4 ========\n",
            "Average training loss: 0.01\n",
            "Training epoch took: 0:00:18\n",
            "======== Epoch 4 / 4 ========\n",
            "Average training loss: 0.00\n",
            "Training epoch took: 0:00:18\n",
            "Training completed in 0:01:12 (h:mm:ss)\n",
            "[0.9213164589865188, 0.9267204802273211, 0.9225908900116965, 0.9118087664823165, 0.9079009323232289, 0.9156184692598114, 0.9189745366084744, 0.9138291994339348, 0.9250766788896874, 0.9052009579253786, 0.9038573598056713, 0.9190557737865301, 0.9215448431630069, 0.9285349221838278, 0.915665754099184, 0.9147773527751502, 0.914313145232696, 0.9236542949905411, 0.9085589461043722, 0.9148723400761417, 0.9129629329416786, 0.9171101066256773, 0.9135400952955331, 0.9273312726500947, 0.9149267164514926, 0.8985556111002746, 0.910484840749127, 0.9113516808000828, 0.9159924122818283, 0.9101479443813426, 0.9251603275274995, 0.9124870392279816]\n",
            "################### ITERATION: 32 ###################\n",
            "======== Epoch 1 / 4 ========\n",
            "Average training loss: 0.04\n",
            "Training epoch took: 0:00:19\n",
            "======== Epoch 2 / 4 ========\n",
            "Average training loss: 0.02\n",
            "Training epoch took: 0:00:19\n",
            "======== Epoch 3 / 4 ========\n",
            "Average training loss: 0.01\n",
            "Training epoch took: 0:00:19\n",
            "======== Epoch 4 / 4 ========\n",
            "Average training loss: 0.01\n",
            "Training epoch took: 0:00:19\n",
            "Training completed in 0:01:15 (h:mm:ss)\n",
            "[0.9213164589865188, 0.9267204802273211, 0.9225908900116965, 0.9118087664823165, 0.9079009323232289, 0.9156184692598114, 0.9189745366084744, 0.9138291994339348, 0.9250766788896874, 0.9052009579253786, 0.9038573598056713, 0.9190557737865301, 0.9215448431630069, 0.9285349221838278, 0.915665754099184, 0.9147773527751502, 0.914313145232696, 0.9236542949905411, 0.9085589461043722, 0.9148723400761417, 0.9129629329416786, 0.9171101066256773, 0.9135400952955331, 0.9273312726500947, 0.9149267164514926, 0.8985556111002746, 0.910484840749127, 0.9113516808000828, 0.9159924122818283, 0.9101479443813426, 0.9251603275274995, 0.9124870392279816, 0.9139099287558768]\n",
            "################### ITERATION: 33 ###################\n",
            "======== Epoch 1 / 4 ========\n",
            "Average training loss: 0.03\n",
            "Training epoch took: 0:00:19\n",
            "======== Epoch 2 / 4 ========\n",
            "Average training loss: 0.03\n",
            "Training epoch took: 0:00:19\n",
            "======== Epoch 3 / 4 ========\n",
            "Average training loss: 0.01\n",
            "Training epoch took: 0:00:19\n",
            "======== Epoch 4 / 4 ========\n",
            "Average training loss: 0.01\n",
            "Training epoch took: 0:00:19\n",
            "Training completed in 0:01:17 (h:mm:ss)\n",
            "[0.9213164589865188, 0.9267204802273211, 0.9225908900116965, 0.9118087664823165, 0.9079009323232289, 0.9156184692598114, 0.9189745366084744, 0.9138291994339348, 0.9250766788896874, 0.9052009579253786, 0.9038573598056713, 0.9190557737865301, 0.9215448431630069, 0.9285349221838278, 0.915665754099184, 0.9147773527751502, 0.914313145232696, 0.9236542949905411, 0.9085589461043722, 0.9148723400761417, 0.9129629329416786, 0.9171101066256773, 0.9135400952955331, 0.9273312726500947, 0.9149267164514926, 0.8985556111002746, 0.910484840749127, 0.9113516808000828, 0.9159924122818283, 0.9101479443813426, 0.9251603275274995, 0.9124870392279816, 0.9139099287558768, 0.9236555595648843]\n",
            "################### ITERATION: 34 ###################\n",
            "======== Epoch 1 / 4 ========\n",
            "Average training loss: 0.04\n",
            "Training epoch took: 0:00:20\n",
            "======== Epoch 2 / 4 ========\n",
            "Average training loss: 0.02\n",
            "Training epoch took: 0:00:20\n",
            "======== Epoch 3 / 4 ========\n",
            "Average training loss: 0.01\n",
            "Training epoch took: 0:00:20\n",
            "======== Epoch 4 / 4 ========\n",
            "Average training loss: 0.01\n",
            "Training epoch took: 0:00:20\n",
            "Training completed in 0:01:19 (h:mm:ss)\n",
            "[0.9213164589865188, 0.9267204802273211, 0.9225908900116965, 0.9118087664823165, 0.9079009323232289, 0.9156184692598114, 0.9189745366084744, 0.9138291994339348, 0.9250766788896874, 0.9052009579253786, 0.9038573598056713, 0.9190557737865301, 0.9215448431630069, 0.9285349221838278, 0.915665754099184, 0.9147773527751502, 0.914313145232696, 0.9236542949905411, 0.9085589461043722, 0.9148723400761417, 0.9129629329416786, 0.9171101066256773, 0.9135400952955331, 0.9273312726500947, 0.9149267164514926, 0.8985556111002746, 0.910484840749127, 0.9113516808000828, 0.9159924122818283, 0.9101479443813426, 0.9251603275274995, 0.9124870392279816, 0.9139099287558768, 0.9236555595648843, 0.9067570790087889]\n",
            "################### ITERATION: 35 ###################\n",
            "======== Epoch 1 / 4 ========\n",
            "Average training loss: 0.03\n",
            "Training epoch took: 0:00:20\n",
            "======== Epoch 2 / 4 ========\n",
            "Average training loss: 0.02\n",
            "Training epoch took: 0:00:20\n",
            "======== Epoch 3 / 4 ========\n",
            "Average training loss: 0.01\n",
            "Training epoch took: 0:00:20\n",
            "======== Epoch 4 / 4 ========\n",
            "Average training loss: 0.00\n",
            "Training epoch took: 0:00:20\n",
            "Training completed in 0:01:21 (h:mm:ss)\n",
            "[0.9213164589865188, 0.9267204802273211, 0.9225908900116965, 0.9118087664823165, 0.9079009323232289, 0.9156184692598114, 0.9189745366084744, 0.9138291994339348, 0.9250766788896874, 0.9052009579253786, 0.9038573598056713, 0.9190557737865301, 0.9215448431630069, 0.9285349221838278, 0.915665754099184, 0.9147773527751502, 0.914313145232696, 0.9236542949905411, 0.9085589461043722, 0.9148723400761417, 0.9129629329416786, 0.9171101066256773, 0.9135400952955331, 0.9273312726500947, 0.9149267164514926, 0.8985556111002746, 0.910484840749127, 0.9113516808000828, 0.9159924122818283, 0.9101479443813426, 0.9251603275274995, 0.9124870392279816, 0.9139099287558768, 0.9236555595648843, 0.9067570790087889, 0.9062621512691544]\n",
            "################### ITERATION: 36 ###################\n",
            "======== Epoch 1 / 4 ========\n",
            "Average training loss: 0.03\n",
            "Training epoch took: 0:00:21\n",
            "======== Epoch 2 / 4 ========\n",
            "Average training loss: 0.01\n",
            "Training epoch took: 0:00:21\n",
            "======== Epoch 3 / 4 ========\n",
            "Average training loss: 0.01\n",
            "Training epoch took: 0:00:21\n",
            "======== Epoch 4 / 4 ========\n",
            "Average training loss: 0.00\n",
            "Training epoch took: 0:00:21\n",
            "Training completed in 0:01:23 (h:mm:ss)\n",
            "[0.9213164589865188, 0.9267204802273211, 0.9225908900116965, 0.9118087664823165, 0.9079009323232289, 0.9156184692598114, 0.9189745366084744, 0.9138291994339348, 0.9250766788896874, 0.9052009579253786, 0.9038573598056713, 0.9190557737865301, 0.9215448431630069, 0.9285349221838278, 0.915665754099184, 0.9147773527751502, 0.914313145232696, 0.9236542949905411, 0.9085589461043722, 0.9148723400761417, 0.9129629329416786, 0.9171101066256773, 0.9135400952955331, 0.9273312726500947, 0.9149267164514926, 0.8985556111002746, 0.910484840749127, 0.9113516808000828, 0.9159924122818283, 0.9101479443813426, 0.9251603275274995, 0.9124870392279816, 0.9139099287558768, 0.9236555595648843, 0.9067570790087889, 0.9062621512691544, 0.9183482883625745]\n",
            "################### ITERATION: 37 ###################\n",
            "======== Epoch 1 / 4 ========\n",
            "Average training loss: 0.03\n",
            "Training epoch took: 0:00:21\n",
            "======== Epoch 2 / 4 ========\n",
            "Average training loss: 0.02\n",
            "Training epoch took: 0:00:21\n",
            "======== Epoch 3 / 4 ========\n",
            "Average training loss: 0.01\n",
            "Training epoch took: 0:00:21\n",
            "======== Epoch 4 / 4 ========\n",
            "Average training loss: 0.00\n",
            "Training epoch took: 0:00:21\n",
            "Training completed in 0:01:26 (h:mm:ss)\n",
            "[0.9213164589865188, 0.9267204802273211, 0.9225908900116965, 0.9118087664823165, 0.9079009323232289, 0.9156184692598114, 0.9189745366084744, 0.9138291994339348, 0.9250766788896874, 0.9052009579253786, 0.9038573598056713, 0.9190557737865301, 0.9215448431630069, 0.9285349221838278, 0.915665754099184, 0.9147773527751502, 0.914313145232696, 0.9236542949905411, 0.9085589461043722, 0.9148723400761417, 0.9129629329416786, 0.9171101066256773, 0.9135400952955331, 0.9273312726500947, 0.9149267164514926, 0.8985556111002746, 0.910484840749127, 0.9113516808000828, 0.9159924122818283, 0.9101479443813426, 0.9251603275274995, 0.9124870392279816, 0.9139099287558768, 0.9236555595648843, 0.9067570790087889, 0.9062621512691544, 0.9183482883625745, 0.9092853387052291]\n",
            "################### ITERATION: 38 ###################\n",
            "======== Epoch 1 / 4 ========\n",
            "Average training loss: 0.03\n",
            "Training epoch took: 0:00:22\n",
            "======== Epoch 2 / 4 ========\n",
            "Average training loss: 0.01\n",
            "Training epoch took: 0:00:22\n",
            "======== Epoch 3 / 4 ========\n",
            "Average training loss: 0.00\n",
            "Training epoch took: 0:00:22\n",
            "======== Epoch 4 / 4 ========\n",
            "Average training loss: 0.00\n",
            "Training epoch took: 0:00:22\n",
            "Training completed in 0:01:28 (h:mm:ss)\n",
            "[0.9213164589865188, 0.9267204802273211, 0.9225908900116965, 0.9118087664823165, 0.9079009323232289, 0.9156184692598114, 0.9189745366084744, 0.9138291994339348, 0.9250766788896874, 0.9052009579253786, 0.9038573598056713, 0.9190557737865301, 0.9215448431630069, 0.9285349221838278, 0.915665754099184, 0.9147773527751502, 0.914313145232696, 0.9236542949905411, 0.9085589461043722, 0.9148723400761417, 0.9129629329416786, 0.9171101066256773, 0.9135400952955331, 0.9273312726500947, 0.9149267164514926, 0.8985556111002746, 0.910484840749127, 0.9113516808000828, 0.9159924122818283, 0.9101479443813426, 0.9251603275274995, 0.9124870392279816, 0.9139099287558768, 0.9236555595648843, 0.9067570790087889, 0.9062621512691544, 0.9183482883625745, 0.9092853387052291, 0.9132715056629851]\n"
          ],
          "name": "stdout"
        }
      ]
    },
    {
      "cell_type": "code",
      "metadata": {
        "id": "9IyUBamM-oPx",
        "colab": {
          "base_uri": "https://localhost:8080/"
        },
        "outputId": "7a7443cf-e151-43d0-feef-fb417029314f"
      },
      "source": [
        "# hard sampling\n",
        "hard_cycle = BertActiveLearner(test=test, \n",
        "                           initial_train=initial_train, \n",
        "                           pool=pool, \n",
        "                           batch_size=batch_size,\n",
        "                           label_col_name=\"encoded_categories\",\n",
        "                           text_col_name=\"text\")\n",
        "\n",
        "hard_cycle.active_learning(num_iteration = iterations_num,\n",
        "                           sampling_method=SampleSelection().get_hard_samples)"
      ],
      "execution_count": null,
      "outputs": [
        {
          "output_type": "stream",
          "text": [
            "/usr/local/lib/python3.7/dist-packages/transformers/tokenization_utils_base.py:2079: FutureWarning: The `pad_to_max_length` argument is deprecated and will be removed in a future version, use `padding=True` or `padding='longest'` to pad to the longest sequence in the batch, or use `padding='max_length'` to pad to a max length. In this case, you can give a specific length with `max_length` (e.g. `max_length=45`) or leave max_length to None to pad to the maximal input size of the model (e.g. 512 for Bert).\n",
            "  FutureWarning,\n"
          ],
          "name": "stderr"
        },
        {
          "output_type": "stream",
          "text": [
            "======== Epoch 1 / 4 ========\n",
            "Average training loss: 0.00\n",
            "Training epoch took: 0:00:01\n",
            "======== Epoch 2 / 4 ========\n",
            "Average training loss: 0.00\n",
            "Training epoch took: 0:00:01\n",
            "======== Epoch 3 / 4 ========\n",
            "Average training loss: 0.00\n",
            "Training epoch took: 0:00:01\n",
            "======== Epoch 4 / 4 ========\n",
            "Average training loss: 0.00\n",
            "Training epoch took: 0:00:01\n",
            "Training completed in 0:00:02 (h:mm:ss)\n",
            "################### ITERATION: 1 ###################\n"
          ],
          "name": "stdout"
        },
        {
          "output_type": "stream",
          "text": [
            "/usr/local/lib/python3.7/dist-packages/transformers/tokenization_utils_base.py:2079: FutureWarning: The `pad_to_max_length` argument is deprecated and will be removed in a future version, use `padding=True` or `padding='longest'` to pad to the longest sequence in the batch, or use `padding='max_length'` to pad to a max length. In this case, you can give a specific length with `max_length` (e.g. `max_length=45`) or leave max_length to None to pad to the maximal input size of the model (e.g. 512 for Bert).\n",
            "  FutureWarning,\n"
          ],
          "name": "stderr"
        },
        {
          "output_type": "stream",
          "text": [
            "======== Epoch 1 / 4 ========\n",
            "Average training loss: 0.04\n",
            "Training epoch took: 0:00:01\n",
            "======== Epoch 2 / 4 ========\n",
            "Average training loss: 0.01\n",
            "Training epoch took: 0:00:01\n",
            "======== Epoch 3 / 4 ========\n",
            "Average training loss: 0.01\n",
            "Training epoch took: 0:00:01\n",
            "======== Epoch 4 / 4 ========\n",
            "Average training loss: 0.01\n",
            "Training epoch took: 0:00:01\n",
            "Training completed in 0:00:05 (h:mm:ss)\n",
            "[0.9142290187306935, 0.8940290467039408]\n",
            "################### ITERATION: 2 ###################\n"
          ],
          "name": "stdout"
        },
        {
          "output_type": "stream",
          "text": [
            "/usr/local/lib/python3.7/dist-packages/transformers/tokenization_utils_base.py:2079: FutureWarning: The `pad_to_max_length` argument is deprecated and will be removed in a future version, use `padding=True` or `padding='longest'` to pad to the longest sequence in the batch, or use `padding='max_length'` to pad to a max length. In this case, you can give a specific length with `max_length` (e.g. `max_length=45`) or leave max_length to None to pad to the maximal input size of the model (e.g. 512 for Bert).\n",
            "  FutureWarning,\n"
          ],
          "name": "stderr"
        },
        {
          "output_type": "stream",
          "text": [
            "======== Epoch 1 / 4 ========\n",
            "Average training loss: 0.11\n",
            "Training epoch took: 0:00:02\n",
            "======== Epoch 2 / 4 ========\n",
            "Average training loss: 0.00\n",
            "Training epoch took: 0:00:02\n",
            "======== Epoch 3 / 4 ========\n",
            "Average training loss: 0.01\n",
            "Training epoch took: 0:00:02\n",
            "======== Epoch 4 / 4 ========\n",
            "Average training loss: 0.01\n",
            "Training epoch took: 0:00:02\n",
            "Training completed in 0:00:07 (h:mm:ss)\n",
            "[0.9142290187306935, 0.8940290467039408, 0.916639229670028]\n",
            "################### ITERATION: 3 ###################\n"
          ],
          "name": "stdout"
        },
        {
          "output_type": "stream",
          "text": [
            "/usr/local/lib/python3.7/dist-packages/transformers/tokenization_utils_base.py:2079: FutureWarning: The `pad_to_max_length` argument is deprecated and will be removed in a future version, use `padding=True` or `padding='longest'` to pad to the longest sequence in the batch, or use `padding='max_length'` to pad to a max length. In this case, you can give a specific length with `max_length` (e.g. `max_length=45`) or leave max_length to None to pad to the maximal input size of the model (e.g. 512 for Bert).\n",
            "  FutureWarning,\n"
          ],
          "name": "stderr"
        },
        {
          "output_type": "stream",
          "text": [
            "======== Epoch 1 / 4 ========\n",
            "Average training loss: 0.03\n",
            "Training epoch took: 0:00:02\n",
            "======== Epoch 2 / 4 ========\n",
            "Average training loss: 0.01\n",
            "Training epoch took: 0:00:02\n",
            "======== Epoch 3 / 4 ========\n",
            "Average training loss: 0.00\n",
            "Training epoch took: 0:00:02\n",
            "======== Epoch 4 / 4 ========\n",
            "Average training loss: 0.00\n",
            "Training epoch took: 0:00:02\n",
            "Training completed in 0:00:09 (h:mm:ss)\n",
            "[0.9142290187306935, 0.8940290467039408, 0.916639229670028, 0.9127326805142469]\n",
            "################### ITERATION: 4 ###################\n"
          ],
          "name": "stdout"
        },
        {
          "output_type": "stream",
          "text": [
            "/usr/local/lib/python3.7/dist-packages/transformers/tokenization_utils_base.py:2079: FutureWarning: The `pad_to_max_length` argument is deprecated and will be removed in a future version, use `padding=True` or `padding='longest'` to pad to the longest sequence in the batch, or use `padding='max_length'` to pad to a max length. In this case, you can give a specific length with `max_length` (e.g. `max_length=45`) or leave max_length to None to pad to the maximal input size of the model (e.g. 512 for Bert).\n",
            "  FutureWarning,\n"
          ],
          "name": "stderr"
        },
        {
          "output_type": "stream",
          "text": [
            "======== Epoch 1 / 4 ========\n",
            "Average training loss: 0.00\n",
            "Training epoch took: 0:00:03\n",
            "======== Epoch 2 / 4 ========\n",
            "Average training loss: 0.00\n",
            "Training epoch took: 0:00:03\n",
            "======== Epoch 3 / 4 ========\n",
            "Average training loss: 0.00\n",
            "Training epoch took: 0:00:03\n",
            "======== Epoch 4 / 4 ========\n",
            "Average training loss: 0.00\n",
            "Training epoch took: 0:00:03\n",
            "Training completed in 0:00:11 (h:mm:ss)\n",
            "[0.9142290187306935, 0.8940290467039408, 0.916639229670028, 0.9127326805142469, 0.9128348599558829]\n",
            "################### ITERATION: 5 ###################\n"
          ],
          "name": "stdout"
        },
        {
          "output_type": "stream",
          "text": [
            "/usr/local/lib/python3.7/dist-packages/transformers/tokenization_utils_base.py:2079: FutureWarning: The `pad_to_max_length` argument is deprecated and will be removed in a future version, use `padding=True` or `padding='longest'` to pad to the longest sequence in the batch, or use `padding='max_length'` to pad to a max length. In this case, you can give a specific length with `max_length` (e.g. `max_length=45`) or leave max_length to None to pad to the maximal input size of the model (e.g. 512 for Bert).\n",
            "  FutureWarning,\n"
          ],
          "name": "stderr"
        },
        {
          "output_type": "stream",
          "text": [
            "======== Epoch 1 / 4 ========\n",
            "Average training loss: 0.00\n",
            "Training epoch took: 0:00:03\n",
            "======== Epoch 2 / 4 ========\n",
            "Average training loss: 0.00\n",
            "Training epoch took: 0:00:03\n",
            "======== Epoch 3 / 4 ========\n",
            "Average training loss: 0.02\n",
            "Training epoch took: 0:00:03\n",
            "======== Epoch 4 / 4 ========\n",
            "Average training loss: 0.00\n",
            "Training epoch took: 0:00:03\n",
            "Training completed in 0:00:14 (h:mm:ss)\n",
            "[0.9142290187306935, 0.8940290467039408, 0.916639229670028, 0.9127326805142469, 0.9128348599558829, 0.9065177069381224]\n",
            "################### ITERATION: 6 ###################\n"
          ],
          "name": "stdout"
        },
        {
          "output_type": "stream",
          "text": [
            "/usr/local/lib/python3.7/dist-packages/transformers/tokenization_utils_base.py:2079: FutureWarning: The `pad_to_max_length` argument is deprecated and will be removed in a future version, use `padding=True` or `padding='longest'` to pad to the longest sequence in the batch, or use `padding='max_length'` to pad to a max length. In this case, you can give a specific length with `max_length` (e.g. `max_length=45`) or leave max_length to None to pad to the maximal input size of the model (e.g. 512 for Bert).\n",
            "  FutureWarning,\n"
          ],
          "name": "stderr"
        },
        {
          "output_type": "stream",
          "text": [
            "======== Epoch 1 / 4 ========\n",
            "Average training loss: 0.00\n",
            "Training epoch took: 0:00:04\n",
            "======== Epoch 2 / 4 ========\n",
            "Average training loss: 0.00\n",
            "Training epoch took: 0:00:04\n",
            "======== Epoch 3 / 4 ========\n",
            "Average training loss: 0.00\n",
            "Training epoch took: 0:00:04\n",
            "======== Epoch 4 / 4 ========\n",
            "Average training loss: 0.00\n",
            "Training epoch took: 0:00:04\n",
            "Training completed in 0:00:16 (h:mm:ss)\n",
            "[0.9142290187306935, 0.8940290467039408, 0.916639229670028, 0.9127326805142469, 0.9128348599558829, 0.9065177069381224, 0.9092462669207556]\n",
            "################### ITERATION: 7 ###################\n"
          ],
          "name": "stdout"
        },
        {
          "output_type": "stream",
          "text": [
            "/usr/local/lib/python3.7/dist-packages/transformers/tokenization_utils_base.py:2079: FutureWarning: The `pad_to_max_length` argument is deprecated and will be removed in a future version, use `padding=True` or `padding='longest'` to pad to the longest sequence in the batch, or use `padding='max_length'` to pad to a max length. In this case, you can give a specific length with `max_length` (e.g. `max_length=45`) or leave max_length to None to pad to the maximal input size of the model (e.g. 512 for Bert).\n",
            "  FutureWarning,\n"
          ],
          "name": "stderr"
        },
        {
          "output_type": "stream",
          "text": [
            "======== Epoch 1 / 4 ========\n",
            "Average training loss: 0.00\n",
            "Training epoch took: 0:00:05\n",
            "======== Epoch 2 / 4 ========\n",
            "Average training loss: 0.00\n",
            "Training epoch took: 0:00:05\n",
            "======== Epoch 3 / 4 ========\n",
            "Average training loss: 0.00\n",
            "Training epoch took: 0:00:04\n",
            "======== Epoch 4 / 4 ========\n",
            "Average training loss: 0.00\n",
            "Training epoch took: 0:00:05\n",
            "Training completed in 0:00:18 (h:mm:ss)\n",
            "[0.9142290187306935, 0.8940290467039408, 0.916639229670028, 0.9127326805142469, 0.9128348599558829, 0.9065177069381224, 0.9092462669207556, 0.9125506377788953]\n",
            "################### ITERATION: 8 ###################\n"
          ],
          "name": "stdout"
        },
        {
          "output_type": "stream",
          "text": [
            "/usr/local/lib/python3.7/dist-packages/transformers/tokenization_utils_base.py:2079: FutureWarning: The `pad_to_max_length` argument is deprecated and will be removed in a future version, use `padding=True` or `padding='longest'` to pad to the longest sequence in the batch, or use `padding='max_length'` to pad to a max length. In this case, you can give a specific length with `max_length` (e.g. `max_length=45`) or leave max_length to None to pad to the maximal input size of the model (e.g. 512 for Bert).\n",
            "  FutureWarning,\n"
          ],
          "name": "stderr"
        },
        {
          "output_type": "stream",
          "text": [
            "======== Epoch 1 / 4 ========\n",
            "Average training loss: 0.00\n",
            "Training epoch took: 0:00:05\n",
            "======== Epoch 2 / 4 ========\n",
            "Average training loss: 0.01\n",
            "Training epoch took: 0:00:05\n",
            "======== Epoch 3 / 4 ========\n",
            "Average training loss: 0.00\n",
            "Training epoch took: 0:00:05\n",
            "======== Epoch 4 / 4 ========\n",
            "Average training loss: 0.00\n",
            "Training epoch took: 0:00:05\n",
            "Training completed in 0:00:20 (h:mm:ss)\n",
            "[0.9142290187306935, 0.8940290467039408, 0.916639229670028, 0.9127326805142469, 0.9128348599558829, 0.9065177069381224, 0.9092462669207556, 0.9125506377788953, 0.9163778114826846]\n",
            "################### ITERATION: 9 ###################\n"
          ],
          "name": "stdout"
        },
        {
          "output_type": "stream",
          "text": [
            "/usr/local/lib/python3.7/dist-packages/transformers/tokenization_utils_base.py:2079: FutureWarning: The `pad_to_max_length` argument is deprecated and will be removed in a future version, use `padding=True` or `padding='longest'` to pad to the longest sequence in the batch, or use `padding='max_length'` to pad to a max length. In this case, you can give a specific length with `max_length` (e.g. `max_length=45`) or leave max_length to None to pad to the maximal input size of the model (e.g. 512 for Bert).\n",
            "  FutureWarning,\n"
          ],
          "name": "stderr"
        },
        {
          "output_type": "stream",
          "text": [
            "======== Epoch 1 / 4 ========\n",
            "Average training loss: 0.00\n",
            "Training epoch took: 0:00:06\n",
            "======== Epoch 2 / 4 ========\n",
            "Average training loss: 0.00\n",
            "Training epoch took: 0:00:06\n",
            "======== Epoch 3 / 4 ========\n",
            "Average training loss: 0.00\n",
            "Training epoch took: 0:00:06\n",
            "======== Epoch 4 / 4 ========\n",
            "Average training loss: 0.00\n",
            "Training epoch took: 0:00:06\n",
            "Training completed in 0:00:23 (h:mm:ss)\n",
            "[0.9142290187306935, 0.8940290467039408, 0.916639229670028, 0.9127326805142469, 0.9128348599558829, 0.9065177069381224, 0.9092462669207556, 0.9125506377788953, 0.9163778114826846, 0.9153290648593149]\n",
            "################### ITERATION: 10 ###################\n"
          ],
          "name": "stdout"
        },
        {
          "output_type": "stream",
          "text": [
            "/usr/local/lib/python3.7/dist-packages/transformers/tokenization_utils_base.py:2079: FutureWarning: The `pad_to_max_length` argument is deprecated and will be removed in a future version, use `padding=True` or `padding='longest'` to pad to the longest sequence in the batch, or use `padding='max_length'` to pad to a max length. In this case, you can give a specific length with `max_length` (e.g. `max_length=45`) or leave max_length to None to pad to the maximal input size of the model (e.g. 512 for Bert).\n",
            "  FutureWarning,\n"
          ],
          "name": "stderr"
        },
        {
          "output_type": "stream",
          "text": [
            "======== Epoch 1 / 4 ========\n",
            "Average training loss: 0.00\n",
            "Training epoch took: 0:00:06\n",
            "======== Epoch 2 / 4 ========\n",
            "Average training loss: 0.00\n",
            "Training epoch took: 0:00:06\n",
            "======== Epoch 3 / 4 ========\n",
            "Average training loss: 0.00\n",
            "Training epoch took: 0:00:06\n",
            "======== Epoch 4 / 4 ========\n",
            "Average training loss: 0.00\n",
            "Training epoch took: 0:00:06\n",
            "Training completed in 0:00:25 (h:mm:ss)\n",
            "[0.9142290187306935, 0.8940290467039408, 0.916639229670028, 0.9127326805142469, 0.9128348599558829, 0.9065177069381224, 0.9092462669207556, 0.9125506377788953, 0.9163778114826846, 0.9153290648593149, 0.9153989779530948]\n",
            "################### ITERATION: 11 ###################\n"
          ],
          "name": "stdout"
        },
        {
          "output_type": "stream",
          "text": [
            "/usr/local/lib/python3.7/dist-packages/transformers/tokenization_utils_base.py:2079: FutureWarning: The `pad_to_max_length` argument is deprecated and will be removed in a future version, use `padding=True` or `padding='longest'` to pad to the longest sequence in the batch, or use `padding='max_length'` to pad to a max length. In this case, you can give a specific length with `max_length` (e.g. `max_length=45`) or leave max_length to None to pad to the maximal input size of the model (e.g. 512 for Bert).\n",
            "  FutureWarning,\n"
          ],
          "name": "stderr"
        },
        {
          "output_type": "stream",
          "text": [
            "======== Epoch 1 / 4 ========\n",
            "Average training loss: 0.00\n",
            "Training epoch took: 0:00:07\n",
            "======== Epoch 2 / 4 ========\n",
            "Average training loss: 0.00\n",
            "Training epoch took: 0:00:07\n",
            "======== Epoch 3 / 4 ========\n",
            "Average training loss: 0.00\n",
            "Training epoch took: 0:00:07\n",
            "======== Epoch 4 / 4 ========\n",
            "Average training loss: 0.00\n",
            "Training epoch took: 0:00:07\n",
            "Training completed in 0:00:27 (h:mm:ss)\n",
            "[0.9142290187306935, 0.8940290467039408, 0.916639229670028, 0.9127326805142469, 0.9128348599558829, 0.9065177069381224, 0.9092462669207556, 0.9125506377788953, 0.9163778114826846, 0.9153290648593149, 0.9153989779530948, 0.9142645872329248]\n",
            "################### ITERATION: 12 ###################\n"
          ],
          "name": "stdout"
        },
        {
          "output_type": "stream",
          "text": [
            "/usr/local/lib/python3.7/dist-packages/transformers/tokenization_utils_base.py:2079: FutureWarning: The `pad_to_max_length` argument is deprecated and will be removed in a future version, use `padding=True` or `padding='longest'` to pad to the longest sequence in the batch, or use `padding='max_length'` to pad to a max length. In this case, you can give a specific length with `max_length` (e.g. `max_length=45`) or leave max_length to None to pad to the maximal input size of the model (e.g. 512 for Bert).\n",
            "  FutureWarning,\n"
          ],
          "name": "stderr"
        },
        {
          "output_type": "stream",
          "text": [
            "======== Epoch 1 / 4 ========\n",
            "Average training loss: 0.00\n",
            "Training epoch took: 0:00:07\n",
            "======== Epoch 2 / 4 ========\n",
            "Average training loss: 0.00\n",
            "Training epoch took: 0:00:07\n",
            "======== Epoch 3 / 4 ========\n",
            "Average training loss: 0.00\n",
            "Training epoch took: 0:00:07\n",
            "======== Epoch 4 / 4 ========\n",
            "Average training loss: 0.00\n",
            "Training epoch took: 0:00:07\n",
            "Training completed in 0:00:29 (h:mm:ss)\n",
            "[0.9142290187306935, 0.8940290467039408, 0.916639229670028, 0.9127326805142469, 0.9128348599558829, 0.9065177069381224, 0.9092462669207556, 0.9125506377788953, 0.9163778114826846, 0.9153290648593149, 0.9153989779530948, 0.9142645872329248, 0.9184200758793055]\n",
            "################### ITERATION: 13 ###################\n"
          ],
          "name": "stdout"
        },
        {
          "output_type": "stream",
          "text": [
            "/usr/local/lib/python3.7/dist-packages/transformers/tokenization_utils_base.py:2079: FutureWarning: The `pad_to_max_length` argument is deprecated and will be removed in a future version, use `padding=True` or `padding='longest'` to pad to the longest sequence in the batch, or use `padding='max_length'` to pad to a max length. In this case, you can give a specific length with `max_length` (e.g. `max_length=45`) or leave max_length to None to pad to the maximal input size of the model (e.g. 512 for Bert).\n",
            "  FutureWarning,\n"
          ],
          "name": "stderr"
        },
        {
          "output_type": "stream",
          "text": [
            "======== Epoch 1 / 4 ========\n",
            "Average training loss: 0.00\n",
            "Training epoch took: 0:00:08\n",
            "======== Epoch 2 / 4 ========\n",
            "Average training loss: 0.00\n",
            "Training epoch took: 0:00:08\n",
            "======== Epoch 3 / 4 ========\n",
            "Average training loss: 0.00\n",
            "Training epoch took: 0:00:08\n",
            "======== Epoch 4 / 4 ========\n",
            "Average training loss: 0.00\n",
            "Training epoch took: 0:00:08\n",
            "Training completed in 0:00:32 (h:mm:ss)\n",
            "[0.9142290187306935, 0.8940290467039408, 0.916639229670028, 0.9127326805142469, 0.9128348599558829, 0.9065177069381224, 0.9092462669207556, 0.9125506377788953, 0.9163778114826846, 0.9153290648593149, 0.9153989779530948, 0.9142645872329248, 0.9184200758793055, 0.917066968180843]\n",
            "################### ITERATION: 14 ###################\n"
          ],
          "name": "stdout"
        },
        {
          "output_type": "stream",
          "text": [
            "/usr/local/lib/python3.7/dist-packages/transformers/tokenization_utils_base.py:2079: FutureWarning: The `pad_to_max_length` argument is deprecated and will be removed in a future version, use `padding=True` or `padding='longest'` to pad to the longest sequence in the batch, or use `padding='max_length'` to pad to a max length. In this case, you can give a specific length with `max_length` (e.g. `max_length=45`) or leave max_length to None to pad to the maximal input size of the model (e.g. 512 for Bert).\n",
            "  FutureWarning,\n"
          ],
          "name": "stderr"
        },
        {
          "output_type": "stream",
          "text": [
            "======== Epoch 1 / 4 ========\n",
            "Average training loss: 0.00\n",
            "Training epoch took: 0:00:08\n",
            "======== Epoch 2 / 4 ========\n",
            "Average training loss: 0.00\n",
            "Training epoch took: 0:00:08\n",
            "======== Epoch 3 / 4 ========\n",
            "Average training loss: 0.00\n",
            "Training epoch took: 0:00:08\n",
            "======== Epoch 4 / 4 ========\n",
            "Average training loss: 0.00\n",
            "Training epoch took: 0:00:08\n",
            "Training completed in 0:00:34 (h:mm:ss)\n",
            "[0.9142290187306935, 0.8940290467039408, 0.916639229670028, 0.9127326805142469, 0.9128348599558829, 0.9065177069381224, 0.9092462669207556, 0.9125506377788953, 0.9163778114826846, 0.9153290648593149, 0.9153989779530948, 0.9142645872329248, 0.9184200758793055, 0.917066968180843, 0.9129446552792526]\n",
            "################### ITERATION: 15 ###################\n"
          ],
          "name": "stdout"
        },
        {
          "output_type": "stream",
          "text": [
            "/usr/local/lib/python3.7/dist-packages/transformers/tokenization_utils_base.py:2079: FutureWarning: The `pad_to_max_length` argument is deprecated and will be removed in a future version, use `padding=True` or `padding='longest'` to pad to the longest sequence in the batch, or use `padding='max_length'` to pad to a max length. In this case, you can give a specific length with `max_length` (e.g. `max_length=45`) or leave max_length to None to pad to the maximal input size of the model (e.g. 512 for Bert).\n",
            "  FutureWarning,\n"
          ],
          "name": "stderr"
        },
        {
          "output_type": "stream",
          "text": [
            "======== Epoch 1 / 4 ========\n",
            "Average training loss: 0.00\n",
            "Training epoch took: 0:00:09\n",
            "======== Epoch 2 / 4 ========\n",
            "Average training loss: 0.00\n",
            "Training epoch took: 0:00:09\n",
            "======== Epoch 3 / 4 ========\n",
            "Average training loss: 0.00\n",
            "Training epoch took: 0:00:09\n",
            "======== Epoch 4 / 4 ========\n",
            "Average training loss: 0.00\n",
            "Training epoch took: 0:00:09\n",
            "Training completed in 0:00:36 (h:mm:ss)\n",
            "[0.9142290187306935, 0.8940290467039408, 0.916639229670028, 0.9127326805142469, 0.9128348599558829, 0.9065177069381224, 0.9092462669207556, 0.9125506377788953, 0.9163778114826846, 0.9153290648593149, 0.9153989779530948, 0.9142645872329248, 0.9184200758793055, 0.917066968180843, 0.9129446552792526, 0.9129294628876957]\n",
            "################### ITERATION: 16 ###################\n"
          ],
          "name": "stdout"
        },
        {
          "output_type": "stream",
          "text": [
            "/usr/local/lib/python3.7/dist-packages/transformers/tokenization_utils_base.py:2079: FutureWarning: The `pad_to_max_length` argument is deprecated and will be removed in a future version, use `padding=True` or `padding='longest'` to pad to the longest sequence in the batch, or use `padding='max_length'` to pad to a max length. In this case, you can give a specific length with `max_length` (e.g. `max_length=45`) or leave max_length to None to pad to the maximal input size of the model (e.g. 512 for Bert).\n",
            "  FutureWarning,\n"
          ],
          "name": "stderr"
        },
        {
          "output_type": "stream",
          "text": [
            "======== Epoch 1 / 4 ========\n",
            "Average training loss: 0.00\n",
            "Training epoch took: 0:00:10\n",
            "======== Epoch 2 / 4 ========\n",
            "Average training loss: 0.00\n",
            "Training epoch took: 0:00:10\n",
            "======== Epoch 3 / 4 ========\n",
            "Average training loss: 0.00\n",
            "Training epoch took: 0:00:10\n",
            "======== Epoch 4 / 4 ========\n",
            "Average training loss: 0.00\n",
            "Training epoch took: 0:00:10\n",
            "Training completed in 0:00:38 (h:mm:ss)\n",
            "[0.9142290187306935, 0.8940290467039408, 0.916639229670028, 0.9127326805142469, 0.9128348599558829, 0.9065177069381224, 0.9092462669207556, 0.9125506377788953, 0.9163778114826846, 0.9153290648593149, 0.9153989779530948, 0.9142645872329248, 0.9184200758793055, 0.917066968180843, 0.9129446552792526, 0.9129294628876957, 0.9027855777460972]\n",
            "################### ITERATION: 17 ###################\n"
          ],
          "name": "stdout"
        },
        {
          "output_type": "stream",
          "text": [
            "/usr/local/lib/python3.7/dist-packages/transformers/tokenization_utils_base.py:2079: FutureWarning: The `pad_to_max_length` argument is deprecated and will be removed in a future version, use `padding=True` or `padding='longest'` to pad to the longest sequence in the batch, or use `padding='max_length'` to pad to a max length. In this case, you can give a specific length with `max_length` (e.g. `max_length=45`) or leave max_length to None to pad to the maximal input size of the model (e.g. 512 for Bert).\n",
            "  FutureWarning,\n"
          ],
          "name": "stderr"
        },
        {
          "output_type": "stream",
          "text": [
            "======== Epoch 1 / 4 ========\n",
            "Average training loss: 0.00\n",
            "Training epoch took: 0:00:10\n",
            "======== Epoch 2 / 4 ========\n",
            "Average training loss: 0.00\n",
            "Training epoch took: 0:00:10\n",
            "======== Epoch 3 / 4 ========\n",
            "Average training loss: 0.00\n",
            "Training epoch took: 0:00:10\n",
            "======== Epoch 4 / 4 ========\n",
            "Average training loss: 0.00\n",
            "Training epoch took: 0:00:10\n",
            "Training completed in 0:00:41 (h:mm:ss)\n",
            "[0.9142290187306935, 0.8940290467039408, 0.916639229670028, 0.9127326805142469, 0.9128348599558829, 0.9065177069381224, 0.9092462669207556, 0.9125506377788953, 0.9163778114826846, 0.9153290648593149, 0.9153989779530948, 0.9142645872329248, 0.9184200758793055, 0.917066968180843, 0.9129446552792526, 0.9129294628876957, 0.9027855777460972, 0.9105729161042465]\n",
            "################### ITERATION: 18 ###################\n"
          ],
          "name": "stdout"
        },
        {
          "output_type": "stream",
          "text": [
            "/usr/local/lib/python3.7/dist-packages/transformers/tokenization_utils_base.py:2079: FutureWarning: The `pad_to_max_length` argument is deprecated and will be removed in a future version, use `padding=True` or `padding='longest'` to pad to the longest sequence in the batch, or use `padding='max_length'` to pad to a max length. In this case, you can give a specific length with `max_length` (e.g. `max_length=45`) or leave max_length to None to pad to the maximal input size of the model (e.g. 512 for Bert).\n",
            "  FutureWarning,\n"
          ],
          "name": "stderr"
        },
        {
          "output_type": "stream",
          "text": [
            "======== Epoch 1 / 4 ========\n",
            "Average training loss: 0.01\n",
            "Training epoch took: 0:00:11\n",
            "======== Epoch 2 / 4 ========\n",
            "Average training loss: 0.01\n",
            "Training epoch took: 0:00:11\n",
            "======== Epoch 3 / 4 ========\n",
            "Average training loss: 0.00\n",
            "Training epoch took: 0:00:11\n",
            "======== Epoch 4 / 4 ========\n",
            "Average training loss: 0.00\n",
            "Training epoch took: 0:00:11\n",
            "Training completed in 0:00:43 (h:mm:ss)\n",
            "[0.9142290187306935, 0.8940290467039408, 0.916639229670028, 0.9127326805142469, 0.9128348599558829, 0.9065177069381224, 0.9092462669207556, 0.9125506377788953, 0.9163778114826846, 0.9153290648593149, 0.9153989779530948, 0.9142645872329248, 0.9184200758793055, 0.917066968180843, 0.9129446552792526, 0.9129294628876957, 0.9027855777460972, 0.9105729161042465, 0.9142996968991258]\n",
            "################### ITERATION: 19 ###################\n"
          ],
          "name": "stdout"
        },
        {
          "output_type": "stream",
          "text": [
            "/usr/local/lib/python3.7/dist-packages/transformers/tokenization_utils_base.py:2079: FutureWarning: The `pad_to_max_length` argument is deprecated and will be removed in a future version, use `padding=True` or `padding='longest'` to pad to the longest sequence in the batch, or use `padding='max_length'` to pad to a max length. In this case, you can give a specific length with `max_length` (e.g. `max_length=45`) or leave max_length to None to pad to the maximal input size of the model (e.g. 512 for Bert).\n",
            "  FutureWarning,\n"
          ],
          "name": "stderr"
        },
        {
          "output_type": "stream",
          "text": [
            "======== Epoch 1 / 4 ========\n",
            "Average training loss: 0.00\n",
            "Training epoch took: 0:00:11\n",
            "======== Epoch 2 / 4 ========\n",
            "Average training loss: 0.00\n",
            "Training epoch took: 0:00:11\n",
            "======== Epoch 3 / 4 ========\n",
            "Average training loss: 0.00\n",
            "Training epoch took: 0:00:11\n",
            "======== Epoch 4 / 4 ========\n",
            "Average training loss: 0.00\n",
            "Training epoch took: 0:00:11\n",
            "Training completed in 0:00:45 (h:mm:ss)\n",
            "[0.9142290187306935, 0.8940290467039408, 0.916639229670028, 0.9127326805142469, 0.9128348599558829, 0.9065177069381224, 0.9092462669207556, 0.9125506377788953, 0.9163778114826846, 0.9153290648593149, 0.9153989779530948, 0.9142645872329248, 0.9184200758793055, 0.917066968180843, 0.9129446552792526, 0.9129294628876957, 0.9027855777460972, 0.9105729161042465, 0.9142996968991258, 0.9124282891606122]\n",
            "################### ITERATION: 20 ###################\n"
          ],
          "name": "stdout"
        },
        {
          "output_type": "stream",
          "text": [
            "/usr/local/lib/python3.7/dist-packages/transformers/tokenization_utils_base.py:2079: FutureWarning: The `pad_to_max_length` argument is deprecated and will be removed in a future version, use `padding=True` or `padding='longest'` to pad to the longest sequence in the batch, or use `padding='max_length'` to pad to a max length. In this case, you can give a specific length with `max_length` (e.g. `max_length=45`) or leave max_length to None to pad to the maximal input size of the model (e.g. 512 for Bert).\n",
            "  FutureWarning,\n"
          ],
          "name": "stderr"
        },
        {
          "output_type": "stream",
          "text": [
            "======== Epoch 1 / 4 ========\n",
            "Average training loss: 0.00\n",
            "Training epoch took: 0:00:12\n",
            "======== Epoch 2 / 4 ========\n",
            "Average training loss: 0.00\n",
            "Training epoch took: 0:00:12\n",
            "======== Epoch 3 / 4 ========\n",
            "Average training loss: 0.00\n",
            "Training epoch took: 0:00:12\n",
            "======== Epoch 4 / 4 ========\n",
            "Average training loss: 0.00\n",
            "Training epoch took: 0:00:12\n",
            "Training completed in 0:00:47 (h:mm:ss)\n",
            "[0.9142290187306935, 0.8940290467039408, 0.916639229670028, 0.9127326805142469, 0.9128348599558829, 0.9065177069381224, 0.9092462669207556, 0.9125506377788953, 0.9163778114826846, 0.9153290648593149, 0.9153989779530948, 0.9142645872329248, 0.9184200758793055, 0.917066968180843, 0.9129446552792526, 0.9129294628876957, 0.9027855777460972, 0.9105729161042465, 0.9142996968991258, 0.9124282891606122, 0.9102960760916845]\n",
            "################### ITERATION: 21 ###################\n"
          ],
          "name": "stdout"
        },
        {
          "output_type": "stream",
          "text": [
            "/usr/local/lib/python3.7/dist-packages/transformers/tokenization_utils_base.py:2079: FutureWarning: The `pad_to_max_length` argument is deprecated and will be removed in a future version, use `padding=True` or `padding='longest'` to pad to the longest sequence in the batch, or use `padding='max_length'` to pad to a max length. In this case, you can give a specific length with `max_length` (e.g. `max_length=45`) or leave max_length to None to pad to the maximal input size of the model (e.g. 512 for Bert).\n",
            "  FutureWarning,\n"
          ],
          "name": "stderr"
        },
        {
          "output_type": "stream",
          "text": [
            "======== Epoch 1 / 4 ========\n",
            "Average training loss: 0.00\n",
            "Training epoch took: 0:00:12\n",
            "======== Epoch 2 / 4 ========\n",
            "Average training loss: 0.00\n",
            "Training epoch took: 0:00:12\n",
            "======== Epoch 3 / 4 ========\n",
            "Average training loss: 0.00\n",
            "Training epoch took: 0:00:12\n",
            "======== Epoch 4 / 4 ========\n",
            "Average training loss: 0.00\n",
            "Training epoch took: 0:00:12\n",
            "Training completed in 0:00:50 (h:mm:ss)\n",
            "[0.9142290187306935, 0.8940290467039408, 0.916639229670028, 0.9127326805142469, 0.9128348599558829, 0.9065177069381224, 0.9092462669207556, 0.9125506377788953, 0.9163778114826846, 0.9153290648593149, 0.9153989779530948, 0.9142645872329248, 0.9184200758793055, 0.917066968180843, 0.9129446552792526, 0.9129294628876957, 0.9027855777460972, 0.9105729161042465, 0.9142996968991258, 0.9124282891606122, 0.9102960760916845, 0.9114457323921724]\n",
            "################### ITERATION: 22 ###################\n"
          ],
          "name": "stdout"
        },
        {
          "output_type": "stream",
          "text": [
            "/usr/local/lib/python3.7/dist-packages/transformers/tokenization_utils_base.py:2079: FutureWarning: The `pad_to_max_length` argument is deprecated and will be removed in a future version, use `padding=True` or `padding='longest'` to pad to the longest sequence in the batch, or use `padding='max_length'` to pad to a max length. In this case, you can give a specific length with `max_length` (e.g. `max_length=45`) or leave max_length to None to pad to the maximal input size of the model (e.g. 512 for Bert).\n",
            "  FutureWarning,\n"
          ],
          "name": "stderr"
        },
        {
          "output_type": "stream",
          "text": [
            "======== Epoch 1 / 4 ========\n",
            "Average training loss: 0.00\n",
            "Training epoch took: 0:00:13\n",
            "======== Epoch 2 / 4 ========\n",
            "Average training loss: 0.00\n",
            "Training epoch took: 0:00:13\n",
            "======== Epoch 3 / 4 ========\n",
            "Average training loss: 0.00\n",
            "Training epoch took: 0:00:13\n",
            "======== Epoch 4 / 4 ========\n",
            "Average training loss: 0.00\n",
            "Training epoch took: 0:00:13\n",
            "Training completed in 0:00:52 (h:mm:ss)\n",
            "[0.9142290187306935, 0.8940290467039408, 0.916639229670028, 0.9127326805142469, 0.9128348599558829, 0.9065177069381224, 0.9092462669207556, 0.9125506377788953, 0.9163778114826846, 0.9153290648593149, 0.9153989779530948, 0.9142645872329248, 0.9184200758793055, 0.917066968180843, 0.9129446552792526, 0.9129294628876957, 0.9027855777460972, 0.9105729161042465, 0.9142996968991258, 0.9124282891606122, 0.9102960760916845, 0.9114457323921724, 0.9114995942401657]\n",
            "################### ITERATION: 23 ###################\n"
          ],
          "name": "stdout"
        },
        {
          "output_type": "stream",
          "text": [
            "/usr/local/lib/python3.7/dist-packages/transformers/tokenization_utils_base.py:2079: FutureWarning: The `pad_to_max_length` argument is deprecated and will be removed in a future version, use `padding=True` or `padding='longest'` to pad to the longest sequence in the batch, or use `padding='max_length'` to pad to a max length. In this case, you can give a specific length with `max_length` (e.g. `max_length=45`) or leave max_length to None to pad to the maximal input size of the model (e.g. 512 for Bert).\n",
            "  FutureWarning,\n"
          ],
          "name": "stderr"
        },
        {
          "output_type": "stream",
          "text": [
            "======== Epoch 1 / 4 ========\n",
            "Average training loss: 0.00\n",
            "Training epoch took: 0:00:14\n",
            "======== Epoch 2 / 4 ========\n",
            "Average training loss: 0.00\n",
            "Training epoch took: 0:00:14\n",
            "======== Epoch 3 / 4 ========\n",
            "Average training loss: 0.00\n",
            "Training epoch took: 0:00:14\n",
            "======== Epoch 4 / 4 ========\n",
            "Average training loss: 0.00\n",
            "Training epoch took: 0:00:14\n",
            "Training completed in 0:00:54 (h:mm:ss)\n",
            "[0.9142290187306935, 0.8940290467039408, 0.916639229670028, 0.9127326805142469, 0.9128348599558829, 0.9065177069381224, 0.9092462669207556, 0.9125506377788953, 0.9163778114826846, 0.9153290648593149, 0.9153989779530948, 0.9142645872329248, 0.9184200758793055, 0.917066968180843, 0.9129446552792526, 0.9129294628876957, 0.9027855777460972, 0.9105729161042465, 0.9142996968991258, 0.9124282891606122, 0.9102960760916845, 0.9114457323921724, 0.9114995942401657, 0.9079553372348546]\n",
            "################### ITERATION: 24 ###################\n"
          ],
          "name": "stdout"
        },
        {
          "output_type": "stream",
          "text": [
            "/usr/local/lib/python3.7/dist-packages/transformers/tokenization_utils_base.py:2079: FutureWarning: The `pad_to_max_length` argument is deprecated and will be removed in a future version, use `padding=True` or `padding='longest'` to pad to the longest sequence in the batch, or use `padding='max_length'` to pad to a max length. In this case, you can give a specific length with `max_length` (e.g. `max_length=45`) or leave max_length to None to pad to the maximal input size of the model (e.g. 512 for Bert).\n",
            "  FutureWarning,\n"
          ],
          "name": "stderr"
        },
        {
          "output_type": "stream",
          "text": [
            "======== Epoch 1 / 4 ========\n",
            "Average training loss: 0.00\n",
            "Training epoch took: 0:00:14\n",
            "======== Epoch 2 / 4 ========\n",
            "Average training loss: 0.00\n",
            "Training epoch took: 0:00:14\n",
            "======== Epoch 3 / 4 ========\n",
            "Average training loss: 0.00\n",
            "Training epoch took: 0:00:14\n",
            "======== Epoch 4 / 4 ========\n",
            "Average training loss: 0.00\n",
            "Training epoch took: 0:00:14\n",
            "Training completed in 0:00:56 (h:mm:ss)\n",
            "[0.9142290187306935, 0.8940290467039408, 0.916639229670028, 0.9127326805142469, 0.9128348599558829, 0.9065177069381224, 0.9092462669207556, 0.9125506377788953, 0.9163778114826846, 0.9153290648593149, 0.9153989779530948, 0.9142645872329248, 0.9184200758793055, 0.917066968180843, 0.9129446552792526, 0.9129294628876957, 0.9027855777460972, 0.9105729161042465, 0.9142996968991258, 0.9124282891606122, 0.9102960760916845, 0.9114457323921724, 0.9114995942401657, 0.9079553372348546, 0.9070687728643646]\n",
            "################### ITERATION: 25 ###################\n"
          ],
          "name": "stdout"
        },
        {
          "output_type": "stream",
          "text": [
            "/usr/local/lib/python3.7/dist-packages/transformers/tokenization_utils_base.py:2079: FutureWarning: The `pad_to_max_length` argument is deprecated and will be removed in a future version, use `padding=True` or `padding='longest'` to pad to the longest sequence in the batch, or use `padding='max_length'` to pad to a max length. In this case, you can give a specific length with `max_length` (e.g. `max_length=45`) or leave max_length to None to pad to the maximal input size of the model (e.g. 512 for Bert).\n",
            "  FutureWarning,\n"
          ],
          "name": "stderr"
        },
        {
          "output_type": "stream",
          "text": [
            "======== Epoch 1 / 4 ========\n"
          ],
          "name": "stdout"
        }
      ]
    },
    {
      "cell_type": "code",
      "metadata": {
        "colab": {
          "base_uri": "https://localhost:8080/",
          "height": 525
        },
        "id": "TP_4cTs2q0Q0",
        "outputId": "1a50e84a-13ba-4ff3-8f82-0f8ecf016fe8"
      },
      "source": [
        "import matplotlib.pyplot as plt\n",
        "\n",
        "BIGGER_SIZE: int = 16\n",
        "plt.figure(figsize=(15,8))\n",
        "plt.rc('font', size=BIGGER_SIZE)          # controls default text sizes\n",
        "plt.rc('axes', titlesize=BIGGER_SIZE)     # fontsize of the axes title=\n",
        "plt.rc('axes', labelsize=BIGGER_SIZE)    # fontsize of the x and y labels\n",
        "plt.rc('xtick', labelsize=BIGGER_SIZE)    # fontsize of the tick labels\n",
        "plt.rc('ytick', labelsize=BIGGER_SIZE)    # fontsize of the tick labels\n",
        "plt.rc('legend', fontsize=BIGGER_SIZE)    # legend fontsize\n",
        "plt.rc('figure', titlesize=BIGGER_SIZE)\n",
        "\n",
        "iterations = np.arange(0, iterations_num+1, 1)\n",
        "\n",
        "plt.title (\"F1 score on test dataset by iteration\", fontsize=BIGGER_SIZE)\n",
        "plt.ylabel(\"Test F1 score\", fontsize=BIGGER_SIZE)\n",
        "plt.ylim(0.9,1.1)\n",
        "plt.xlim(-1,iterations_num+10)\n",
        "plt.xticks(np.arange(0, iterations_num+1, 10))\n",
        "plt.yticks(np.arange(0.9,1.1,0.1))\n",
        "plt.xlabel(\"Iteration number (100  data samples per iterations)\")\n",
        "plt.plot(iterations, random_cycle.calculated_metrics, label = \"Random selection\", marker='s', markevery=10)\n",
        "plt.plot(iterations, hard_cycle.calculated_metrics, label = \"Hard sampled selection\", marker='s', markevery=10)\n",
        "plt.legend()\n",
        "plt.show()"
      ],
      "execution_count": null,
      "outputs": [
        {
          "output_type": "display_data",
          "data": {
            "image/png": "[encoded data removed]",
            "text/plain": [
              "<Figure size 1080x576 with 1 Axes>"
            ]
          },
          "metadata": {
            "tags": [],
            "needs_background": "light"
          }
        }
      ]
    }
  ]
}